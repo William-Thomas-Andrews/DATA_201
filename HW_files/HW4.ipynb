{
 "cells": [
  {
   "cell_type": "code",
   "execution_count": 42,
   "id": "4080a550-09f2-4dca-97bb-49aaca77051b",
   "metadata": {},
   "outputs": [],
   "source": [
    "from sklearn.linear_model import LinearRegression as LR\n",
    "from sklearn.linear_model import Lasso\n",
    "from sklearn.model_selection import train_test_split as tts\n",
    "from sklearn.preprocessing import StandardScaler as SS\n",
    "import pandas as pd\n",
    "import numpy as np\n",
    "import matplotlib.pyplot as plt\n",
    "import seaborn as sns"
   ]
  },
  {
   "cell_type": "code",
   "execution_count": 43,
   "id": "8553ebb1-a08f-49fc-bc82-dbbb42c4c459",
   "metadata": {},
   "outputs": [],
   "source": [
    "from sklearn.model_selection import train_test_split"
   ]
  },
  {
   "cell_type": "markdown",
   "id": "f782d6a8-e596-48ce-b78b-625489a89873",
   "metadata": {},
   "source": [
    "## Question 1"
   ]
  },
  {
   "cell_type": "markdown",
   "id": "788c2d30-77c1-4941-a209-1103b94101d1",
   "metadata": {},
   "source": [
    "You create an OLS model using the price of a car to predict how many miles it will be driven before it is sold or traded in for the first time. For example, maybe a car costs $40,000 and \n",
    "it is driven 98012 miles before it is traded in to a dealership. The price is the only predictor. \n",
    "Your model has an R2 value of 0.92 for the testing data and 0.92 for the training data. What can we \n",
    "determine based on these values of R2? Select only one answer."
   ]
  },
  {
   "cell_type": "code",
   "execution_count": 4,
   "id": "ff6ba77d-673f-4cc0-ab69-c4aa68e71dc8",
   "metadata": {},
   "outputs": [],
   "source": [
    "# True # If we consider just the training data, we would expect a scatterplot to show a line \n",
    "# (or something very close to it)\n",
    "\n",
    "## this is because the R2 value here tells us that 92% of the variance in the target variable (miles driven), \n",
    "## can be explained by the predictors (just price) of the model. The model is well fit so some line-looking thing\n",
    "## must be the model. Also there are only two dimensions so this is a line, not a plane."
   ]
  },
  {
   "cell_type": "code",
   "execution_count": null,
   "id": "4af163c6-a4c6-43e1-a814-d8b1d947a8b1",
   "metadata": {},
   "outputs": [],
   "source": []
  },
  {
   "cell_type": "code",
   "execution_count": null,
   "id": "86dcfc17-cb24-4072-bb07-50d58fd84078",
   "metadata": {},
   "outputs": [],
   "source": []
  },
  {
   "cell_type": "markdown",
   "id": "1c5b34e1-eb87-4bc2-ac6f-65ac908d0544",
   "metadata": {},
   "source": [
    "## Question 2"
   ]
  },
  {
   "cell_type": "markdown",
   "id": "2f730d56-a247-4e62-a17a-0e9b1fdb74e0",
   "metadata": {},
   "source": [
    "When performing model validation according to what we discussed in class,\n",
    "we build the model using all of the data we have available, and then separate out a subset \n",
    "of test data and score it"
   ]
  },
  {
   "cell_type": "code",
   "execution_count": null,
   "id": "8947c493-84b0-4daa-8e88-9337c65362dc",
   "metadata": {},
   "outputs": [],
   "source": [
    "# False\n",
    "\n",
    "## This is false. We subset data to train and test, and use the training data to build the model. Then we test\n",
    "## it against the training and testing data."
   ]
  },
  {
   "cell_type": "code",
   "execution_count": null,
   "id": "744d1c0f-e4d8-4b5d-9455-bb3039b27f2b",
   "metadata": {},
   "outputs": [],
   "source": []
  },
  {
   "cell_type": "code",
   "execution_count": null,
   "id": "c87c4b57-5a9a-41e3-b3ad-44c6225a5cd2",
   "metadata": {},
   "outputs": [],
   "source": []
  },
  {
   "cell_type": "markdown",
   "id": "e57a9ab9-ea2e-4cea-9ed3-3f65f9573f35",
   "metadata": {},
   "source": [
    "## Question 3"
   ]
  },
  {
   "cell_type": "markdown",
   "id": "9f90d189-4a8d-4b54-971b-a298a71d55fc",
   "metadata": {},
   "source": [
    "Suppose you have a data set with 2000 observations. You decide to perform k-fold validation \n",
    "with k = 20. Fill in the blanks below based on this. All of your answers should be integers."
   ]
  },
  {
   "cell_type": "code",
   "execution_count": null,
   "id": "2d7c5d87-eff4-46cf-b3ef-545e7bfe9d4e",
   "metadata": {},
   "outputs": [],
   "source": [
    "# Each fold will have # 100 # observations in it\n",
    "\n",
    "# Each training set will have # 1900 # observations in it\n",
    "\n",
    "# Each test set will have # 100 # observations in it\n",
    "\n",
    "# Each observation in the data will be part of a test set # 1 # time(s)"
   ]
  },
  {
   "cell_type": "code",
   "execution_count": null,
   "id": "2b30fd2a-987c-48c4-81f6-384b4ef9de88",
   "metadata": {},
   "outputs": [],
   "source": []
  },
  {
   "cell_type": "code",
   "execution_count": null,
   "id": "5a970b8e-ba86-4554-9b1d-fedcb309091c",
   "metadata": {},
   "outputs": [],
   "source": []
  },
  {
   "cell_type": "code",
   "execution_count": null,
   "id": "bdc3d3f3-9a7f-40ab-aa5e-9cf68932a6c3",
   "metadata": {},
   "outputs": [],
   "source": []
  },
  {
   "cell_type": "markdown",
   "id": "05ac9ba2-e3ee-4692-a9d1-fb59da1f90dd",
   "metadata": {},
   "source": [
    "## Question 4"
   ]
  },
  {
   "cell_type": "markdown",
   "id": "6a781b51-ba92-4b47-8415-015ececff3d0",
   "metadata": {},
   "source": [
    "We created a function in class called do_Kfold which is given below. What is the purpose of the lines shown in bold?\n",
    "\n",
    "def do_Kfold(model,X,y,k,scaler = None, random_state = 146):\n",
    "\n",
    "    from sklearn.model_selection import KFold\n",
    "    \n",
    " __kf = KFold(n_splits=k, random_state = random_state, shuffle=True)__\n",
    "\n",
    " train_scores = []\n",
    " \n",
    " test_scores = []\n",
    "\n",
    " for idxTrain, idxTest in kf.split(X):\n",
    " \n",
    "      Xtrain = X[idxTrain, :]\n",
    "      \n",
    "      Xtest = X[idxTest, :]\n",
    "      \n",
    "      ytrain = y[idxTrain]\n",
    "      \n",
    "      ytest = y[idxTest]\n",
    "\n",
    " if scaler != None:\n",
    " \n",
    "     Xtrain = scaler.fit_transform(Xtrain)\n",
    "     \n",
    "     Xtest = scaler.transform(Xtest)\n",
    "\n",
    "     model.fit(Xtrain,ytrain)\n",
    "\n",
    "     train_scores.append(model.score(Xtrain,ytrain))\n",
    "     \n",
    "     test_scores.append(model.score(Xtest,ytest))\n",
    "        \n",
    " return train_scores, test_scores"
   ]
  },
  {
   "cell_type": "code",
   "execution_count": 5,
   "id": "73bd5da8-b091-4c92-93c4-ed80ca276994",
   "metadata": {},
   "outputs": [],
   "source": [
    "# To create an object which can determine how to divide the data into testing and training sets #"
   ]
  },
  {
   "cell_type": "code",
   "execution_count": null,
   "id": "d545e37a-8cbb-427a-90f6-9f2f34e288a0",
   "metadata": {},
   "outputs": [],
   "source": []
  },
  {
   "cell_type": "code",
   "execution_count": null,
   "id": "256c1d3b-b1de-4686-a3a7-cb4615a6f9bc",
   "metadata": {},
   "outputs": [],
   "source": []
  },
  {
   "cell_type": "code",
   "execution_count": null,
   "id": "17d2e414-3d0c-4ce5-93f7-6ee510b09dc9",
   "metadata": {},
   "outputs": [],
   "source": []
  },
  {
   "cell_type": "code",
   "execution_count": null,
   "id": "eab30825-6aa5-47a6-ab0b-01bcbb8deba8",
   "metadata": {},
   "outputs": [],
   "source": []
  },
  {
   "cell_type": "code",
   "execution_count": null,
   "id": "0b1eae6d-d22e-4e01-b98d-278cbd3b14f8",
   "metadata": {},
   "outputs": [],
   "source": []
  },
  {
   "cell_type": "code",
   "execution_count": null,
   "id": "838313a8-95a2-4d6e-a2ea-e3a066bab36b",
   "metadata": {},
   "outputs": [],
   "source": []
  },
  {
   "cell_type": "markdown",
   "id": "9ef51148-1289-49fb-a618-af674e9c3096",
   "metadata": {},
   "source": [
    "## Question 5"
   ]
  },
  {
   "cell_type": "markdown",
   "id": "057a3fed-3357-4ea3-8550-7408b34405a2",
   "metadata": {},
   "source": [
    "We've been using the term regularization a lot. Which of the following statements applies (is true) when we talk about regularization?"
   ]
  },
  {
   "cell_type": "code",
   "execution_count": 6,
   "id": "f2e6a67b-6d70-4eb1-80ca-a3bd432ac592",
   "metadata": {},
   "outputs": [],
   "source": [
    "# The goal of regularization is to prevent models from being overfit #"
   ]
  },
  {
   "cell_type": "code",
   "execution_count": null,
   "id": "c04f7673-4843-43a9-a620-fa5970a269e3",
   "metadata": {},
   "outputs": [],
   "source": []
  },
  {
   "cell_type": "code",
   "execution_count": null,
   "id": "902e23bc-a9a1-4687-adcc-1e62d5aaa1ac",
   "metadata": {},
   "outputs": [],
   "source": []
  },
  {
   "cell_type": "code",
   "execution_count": null,
   "id": "fcf6bf8b-6f66-4c19-95ec-b62013dbaef2",
   "metadata": {},
   "outputs": [],
   "source": []
  },
  {
   "cell_type": "code",
   "execution_count": null,
   "id": "c0cbe811-faad-4de0-a974-9a71ca8c9dde",
   "metadata": {},
   "outputs": [],
   "source": []
  },
  {
   "cell_type": "code",
   "execution_count": null,
   "id": "057f70d1-3abd-42ff-bdf9-8ec9c4185aa0",
   "metadata": {},
   "outputs": [],
   "source": []
  },
  {
   "cell_type": "code",
   "execution_count": null,
   "id": "ac7f9420-6a93-40e6-a506-e4c46e6606c0",
   "metadata": {},
   "outputs": [],
   "source": []
  },
  {
   "cell_type": "code",
   "execution_count": null,
   "id": "453ecffd-e60b-4f14-98b2-91568de2b1d9",
   "metadata": {},
   "outputs": [],
   "source": []
  },
  {
   "cell_type": "markdown",
   "id": "472d9d9d-cdef-425d-bdea-0b3872bb5cff",
   "metadata": {},
   "source": [
    "## Question 6"
   ]
  },
  {
   "cell_type": "markdown",
   "id": "1f543b3a-ef00-4317-84d4-8da7445fde18",
   "metadata": {},
   "source": [
    "You perform Ridge regression and the training score for your model is slightly lower than it was for \n",
    "the regular OLS model (e.g. it goes from 0.62 to 0.59). This means the regularization was not useful \n",
    "since the goal of regularization is to increase the training score.\n",
    "\n"
   ]
  },
  {
   "cell_type": "code",
   "execution_count": 9,
   "id": "d1dc1e0d-30fd-4240-858e-4632803ac951",
   "metadata": {},
   "outputs": [],
   "source": [
    "# False\n",
    "\n",
    "## Ridge regression is supposed to increase the score (the R2) the model has for the TESTING data, not the\n",
    "## training score. Also the lower training score sometimes indicates a higher testing score, so this new model\n",
    "## could very well be beneficial."
   ]
  },
  {
   "cell_type": "code",
   "execution_count": null,
   "id": "e77558ce-a545-4708-ab7c-8b252ca0c9ea",
   "metadata": {},
   "outputs": [],
   "source": []
  },
  {
   "cell_type": "code",
   "execution_count": null,
   "id": "ff9dfe7a-ccab-44c6-b8ff-52f7572d4e97",
   "metadata": {},
   "outputs": [],
   "source": []
  },
  {
   "cell_type": "code",
   "execution_count": null,
   "id": "7453eba2-d438-45f1-be09-efb4535da0f6",
   "metadata": {},
   "outputs": [],
   "source": []
  },
  {
   "cell_type": "code",
   "execution_count": null,
   "id": "0bb76a9a-13a8-4c9f-990f-c672901aa038",
   "metadata": {},
   "outputs": [],
   "source": []
  },
  {
   "cell_type": "markdown",
   "id": "c09496d4-8c64-4780-a850-b15409fd7ef7",
   "metadata": {},
   "source": [
    "## Question 7"
   ]
  },
  {
   "cell_type": "markdown",
   "id": "1c1ac100-ae51-4833-9928-a6d7f14ca070",
   "metadata": {},
   "source": [
    "For both Lasso and Ridge regression we expect at least some of the coefficient values will be smaller (this means in theory based on how it works)."
   ]
  },
  {
   "cell_type": "code",
   "execution_count": 10,
   "id": "11ab18ae-a191-44b7-bc95-c6593a75e298",
   "metadata": {},
   "outputs": [],
   "source": [
    "# True\n",
    "\n",
    "## As you increase the alpha, then the coefficients fall"
   ]
  },
  {
   "cell_type": "code",
   "execution_count": null,
   "id": "10cccd92-acd0-4af5-ab1f-0c67fb85f871",
   "metadata": {},
   "outputs": [],
   "source": []
  },
  {
   "cell_type": "code",
   "execution_count": null,
   "id": "fc339112-321b-439d-afb9-5ac0661deb14",
   "metadata": {},
   "outputs": [],
   "source": []
  },
  {
   "cell_type": "code",
   "execution_count": null,
   "id": "1a5b18fa-5b38-468d-b3e7-ccb04fcad255",
   "metadata": {},
   "outputs": [],
   "source": []
  },
  {
   "cell_type": "code",
   "execution_count": null,
   "id": "0b0784e2-534c-466e-8f28-f3912d3f055f",
   "metadata": {},
   "outputs": [],
   "source": []
  },
  {
   "cell_type": "markdown",
   "id": "af8fddbc-c6a2-4140-b9ff-34ff8de7372d",
   "metadata": {},
   "source": [
    "## Question 8"
   ]
  },
  {
   "cell_type": "code",
   "execution_count": 11,
   "id": "0d4e98e2-c81e-4b86-aba0-bc6c77ad6a66",
   "metadata": {},
   "outputs": [
    {
     "data": {
      "text/html": [
       "<div>\n",
       "<style scoped>\n",
       "    .dataframe tbody tr th:only-of-type {\n",
       "        vertical-align: middle;\n",
       "    }\n",
       "\n",
       "    .dataframe tbody tr th {\n",
       "        vertical-align: top;\n",
       "    }\n",
       "\n",
       "    .dataframe thead th {\n",
       "        text-align: right;\n",
       "    }\n",
       "</style>\n",
       "<table border=\"1\" class=\"dataframe\">\n",
       "  <thead>\n",
       "    <tr style=\"text-align: right;\">\n",
       "      <th></th>\n",
       "      <th>PATIENT_ID</th>\n",
       "      <th>SEX</th>\n",
       "      <th>AGE_AT_SURGERY</th>\n",
       "      <th>SMOKING_HISTORY</th>\n",
       "      <th>SMOKING_PACK_YEARS</th>\n",
       "      <th>SUV</th>\n",
       "      <th>CT_SIZE</th>\n",
       "      <th>CN_STATUS</th>\n",
       "      <th>DLCO</th>\n",
       "      <th>FEV1</th>\n",
       "      <th>RFS_STATUS</th>\n",
       "      <th>RFS_MONTHS</th>\n",
       "      <th>OS_MONTHS</th>\n",
       "      <th>OS_STATUS</th>\n",
       "    </tr>\n",
       "  </thead>\n",
       "  <tbody>\n",
       "    <tr>\n",
       "      <th>0</th>\n",
       "      <td>P-0000219</td>\n",
       "      <td>Female</td>\n",
       "      <td>52</td>\n",
       "      <td>Ever Smoker</td>\n",
       "      <td>5.00</td>\n",
       "      <td>10.3</td>\n",
       "      <td>3.4</td>\n",
       "      <td>Negative</td>\n",
       "      <td>88.0</td>\n",
       "      <td>108.0</td>\n",
       "      <td>1:Recurrence</td>\n",
       "      <td>24.566667</td>\n",
       "      <td>83.800000</td>\n",
       "      <td>0:LIVING</td>\n",
       "    </tr>\n",
       "    <tr>\n",
       "      <th>1</th>\n",
       "      <td>P-0000280</td>\n",
       "      <td>Female</td>\n",
       "      <td>62</td>\n",
       "      <td>Never Smoker</td>\n",
       "      <td>0.00</td>\n",
       "      <td>2.6</td>\n",
       "      <td>2.1</td>\n",
       "      <td>Negative</td>\n",
       "      <td>61.0</td>\n",
       "      <td>76.0</td>\n",
       "      <td>1:Recurrence</td>\n",
       "      <td>14.866667</td>\n",
       "      <td>77.433333</td>\n",
       "      <td>0:LIVING</td>\n",
       "    </tr>\n",
       "    <tr>\n",
       "      <th>2</th>\n",
       "      <td>P-0000627</td>\n",
       "      <td>Female</td>\n",
       "      <td>68</td>\n",
       "      <td>Ever Smoker</td>\n",
       "      <td>30.00</td>\n",
       "      <td>1.1</td>\n",
       "      <td>1.3</td>\n",
       "      <td>Negative</td>\n",
       "      <td>47.0</td>\n",
       "      <td>90.0</td>\n",
       "      <td>0:No recurrence</td>\n",
       "      <td>37.366667</td>\n",
       "      <td>37.366667</td>\n",
       "      <td>1:DECEASED</td>\n",
       "    </tr>\n",
       "    <tr>\n",
       "      <th>3</th>\n",
       "      <td>P-0000867</td>\n",
       "      <td>Male</td>\n",
       "      <td>64</td>\n",
       "      <td>Ever Smoker</td>\n",
       "      <td>10.00</td>\n",
       "      <td>10.2</td>\n",
       "      <td>3.6</td>\n",
       "      <td>Negative</td>\n",
       "      <td>85.0</td>\n",
       "      <td>89.0</td>\n",
       "      <td>1:Recurrence</td>\n",
       "      <td>11.433333</td>\n",
       "      <td>34.800000</td>\n",
       "      <td>1:DECEASED</td>\n",
       "    </tr>\n",
       "    <tr>\n",
       "      <th>4</th>\n",
       "      <td>P-0002534</td>\n",
       "      <td>Female</td>\n",
       "      <td>73</td>\n",
       "      <td>Never Smoker</td>\n",
       "      <td>0.00</td>\n",
       "      <td>10.5</td>\n",
       "      <td>3.4</td>\n",
       "      <td>Negative</td>\n",
       "      <td>96.0</td>\n",
       "      <td>102.0</td>\n",
       "      <td>1:Recurrence</td>\n",
       "      <td>10.166667</td>\n",
       "      <td>52.966667</td>\n",
       "      <td>0:LIVING</td>\n",
       "    </tr>\n",
       "    <tr>\n",
       "      <th>...</th>\n",
       "      <td>...</td>\n",
       "      <td>...</td>\n",
       "      <td>...</td>\n",
       "      <td>...</td>\n",
       "      <td>...</td>\n",
       "      <td>...</td>\n",
       "      <td>...</td>\n",
       "      <td>...</td>\n",
       "      <td>...</td>\n",
       "      <td>...</td>\n",
       "      <td>...</td>\n",
       "      <td>...</td>\n",
       "      <td>...</td>\n",
       "      <td>...</td>\n",
       "    </tr>\n",
       "    <tr>\n",
       "      <th>513</th>\n",
       "      <td>P-0036744</td>\n",
       "      <td>Male</td>\n",
       "      <td>69</td>\n",
       "      <td>Ever Smoker</td>\n",
       "      <td>40.00</td>\n",
       "      <td>6.3</td>\n",
       "      <td>2.8</td>\n",
       "      <td>Negative</td>\n",
       "      <td>93.0</td>\n",
       "      <td>88.0</td>\n",
       "      <td>0:No recurrence</td>\n",
       "      <td>6.333333</td>\n",
       "      <td>6.333333</td>\n",
       "      <td>0:LIVING</td>\n",
       "    </tr>\n",
       "    <tr>\n",
       "      <th>514</th>\n",
       "      <td>P-0036810</td>\n",
       "      <td>Male</td>\n",
       "      <td>73</td>\n",
       "      <td>Ever Smoker</td>\n",
       "      <td>46.00</td>\n",
       "      <td>7.3</td>\n",
       "      <td>2.7</td>\n",
       "      <td>Negative</td>\n",
       "      <td>105.0</td>\n",
       "      <td>84.0</td>\n",
       "      <td>0:No recurrence</td>\n",
       "      <td>3.566667</td>\n",
       "      <td>3.566667</td>\n",
       "      <td>0:LIVING</td>\n",
       "    </tr>\n",
       "    <tr>\n",
       "      <th>515</th>\n",
       "      <td>P-0037833</td>\n",
       "      <td>Female</td>\n",
       "      <td>72</td>\n",
       "      <td>Ever Smoker</td>\n",
       "      <td>33.75</td>\n",
       "      <td>0.0</td>\n",
       "      <td>0.9</td>\n",
       "      <td>Negative</td>\n",
       "      <td>71.0</td>\n",
       "      <td>102.0</td>\n",
       "      <td>0:No recurrence</td>\n",
       "      <td>4.400000</td>\n",
       "      <td>4.400000</td>\n",
       "      <td>0:LIVING</td>\n",
       "    </tr>\n",
       "    <tr>\n",
       "      <th>516</th>\n",
       "      <td>P-0038206</td>\n",
       "      <td>Male</td>\n",
       "      <td>56</td>\n",
       "      <td>Never Smoker</td>\n",
       "      <td>0.00</td>\n",
       "      <td>1.6</td>\n",
       "      <td>1.5</td>\n",
       "      <td>Negative</td>\n",
       "      <td>108.0</td>\n",
       "      <td>122.0</td>\n",
       "      <td>0:No recurrence</td>\n",
       "      <td>0.533333</td>\n",
       "      <td>0.533333</td>\n",
       "      <td>0:LIVING</td>\n",
       "    </tr>\n",
       "    <tr>\n",
       "      <th>517</th>\n",
       "      <td>P-0038834</td>\n",
       "      <td>Female</td>\n",
       "      <td>70</td>\n",
       "      <td>Ever Smoker</td>\n",
       "      <td>15.00</td>\n",
       "      <td>1.8</td>\n",
       "      <td>2.4</td>\n",
       "      <td>Negative</td>\n",
       "      <td>100.0</td>\n",
       "      <td>117.0</td>\n",
       "      <td>0:No recurrence</td>\n",
       "      <td>6.300000</td>\n",
       "      <td>6.300000</td>\n",
       "      <td>0:LIVING</td>\n",
       "    </tr>\n",
       "  </tbody>\n",
       "</table>\n",
       "<p>518 rows × 14 columns</p>\n",
       "</div>"
      ],
      "text/plain": [
       "    PATIENT_ID     SEX  AGE_AT_SURGERY SMOKING_HISTORY  SMOKING_PACK_YEARS  \\\n",
       "0    P-0000219  Female              52     Ever Smoker                5.00   \n",
       "1    P-0000280  Female              62    Never Smoker                0.00   \n",
       "2    P-0000627  Female              68     Ever Smoker               30.00   \n",
       "3    P-0000867    Male              64     Ever Smoker               10.00   \n",
       "4    P-0002534  Female              73    Never Smoker                0.00   \n",
       "..         ...     ...             ...             ...                 ...   \n",
       "513  P-0036744    Male              69     Ever Smoker               40.00   \n",
       "514  P-0036810    Male              73     Ever Smoker               46.00   \n",
       "515  P-0037833  Female              72     Ever Smoker               33.75   \n",
       "516  P-0038206    Male              56    Never Smoker                0.00   \n",
       "517  P-0038834  Female              70     Ever Smoker               15.00   \n",
       "\n",
       "      SUV  CT_SIZE CN_STATUS   DLCO   FEV1       RFS_STATUS  RFS_MONTHS  \\\n",
       "0    10.3      3.4  Negative   88.0  108.0     1:Recurrence   24.566667   \n",
       "1     2.6      2.1  Negative   61.0   76.0     1:Recurrence   14.866667   \n",
       "2     1.1      1.3  Negative   47.0   90.0  0:No recurrence   37.366667   \n",
       "3    10.2      3.6  Negative   85.0   89.0     1:Recurrence   11.433333   \n",
       "4    10.5      3.4  Negative   96.0  102.0     1:Recurrence   10.166667   \n",
       "..    ...      ...       ...    ...    ...              ...         ...   \n",
       "513   6.3      2.8  Negative   93.0   88.0  0:No recurrence    6.333333   \n",
       "514   7.3      2.7  Negative  105.0   84.0  0:No recurrence    3.566667   \n",
       "515   0.0      0.9  Negative   71.0  102.0  0:No recurrence    4.400000   \n",
       "516   1.6      1.5  Negative  108.0  122.0  0:No recurrence    0.533333   \n",
       "517   1.8      2.4  Negative  100.0  117.0  0:No recurrence    6.300000   \n",
       "\n",
       "     OS_MONTHS   OS_STATUS  \n",
       "0    83.800000    0:LIVING  \n",
       "1    77.433333    0:LIVING  \n",
       "2    37.366667  1:DECEASED  \n",
       "3    34.800000  1:DECEASED  \n",
       "4    52.966667    0:LIVING  \n",
       "..         ...         ...  \n",
       "513   6.333333    0:LIVING  \n",
       "514   3.566667    0:LIVING  \n",
       "515   4.400000    0:LIVING  \n",
       "516   0.533333    0:LIVING  \n",
       "517   6.300000    0:LIVING  \n",
       "\n",
       "[518 rows x 14 columns]"
      ]
     },
     "execution_count": 11,
     "metadata": {},
     "output_type": "execute_result"
    }
   ],
   "source": [
    "lung = pd.read_csv(\"./data-Copy1/lung.txt\", sep=\"\\t\", on_bad_lines='warn')\n",
    "lung"
   ]
  },
  {
   "cell_type": "code",
   "execution_count": 12,
   "id": "3e4abe74-d5d3-4b36-a31b-5985c3915481",
   "metadata": {},
   "outputs": [
    {
     "data": {
      "text/plain": [
       "count    518.000000\n",
       "mean      20.623938\n",
       "std       12.387363\n",
       "min        0.400000\n",
       "25%       10.658333\n",
       "50%       19.900000\n",
       "75%       28.700000\n",
       "max       89.366667\n",
       "Name: RFS_MONTHS, dtype: float64"
      ]
     },
     "execution_count": 12,
     "metadata": {},
     "output_type": "execute_result"
    }
   ],
   "source": [
    "lung['RFS_MONTHS'].describe()"
   ]
  },
  {
   "cell_type": "markdown",
   "id": "f7701627-0bf2-4ff3-85bc-caa574eacce9",
   "metadata": {},
   "source": [
    "The questions that follow will make use of the lung adenocarcinoma data file. Be sure to read the information provided with the data file carefully.\n",
    "\n",
    "We should always take a look at our data prior to creating models. We won't do that exhaustively since this is an assignment, but we can at least make sure we understand how. Take a look of at the distribution of RFS_MONTHS  - this should be by making a plot and/or calculating descriptive statistics. Which statement below accurately describes this variable?"
   ]
  },
  {
   "cell_type": "code",
   "execution_count": 13,
   "id": "54f08969-fb28-441b-badf-cf242c1b8f8f",
   "metadata": {},
   "outputs": [
    {
     "data": {
      "text/plain": [
       "18.041666999999997"
      ]
     },
     "execution_count": 13,
     "metadata": {},
     "output_type": "execute_result"
    }
   ],
   "source": [
    "# The IQR for the data set is approximately 27\n",
    "\n",
    "# False #\n",
    "\n",
    "## IQR for RFS_MONTHS is rather,\n",
    "28.700000 - 10.658333\n",
    "# 18.041666999999997"
   ]
  },
  {
   "cell_type": "code",
   "execution_count": 14,
   "id": "d2a387bc-a60c-4ee2-96b2-bfe6cfaa5ce3",
   "metadata": {},
   "outputs": [
    {
     "name": "stdout",
     "output_type": "stream",
     "text": [
      "19.9\n",
      "20.6239382238861\n"
     ]
    }
   ],
   "source": [
    "# A typical individual in this data set had about 12 months relapse free\n",
    "\n",
    "# False #\n",
    "\n",
    "print(lung['RFS_MONTHS'].median())\n",
    "print(lung['RFS_MONTHS'].mean())\n",
    "\n",
    "## Both the mean and the medians are far from 12"
   ]
  },
  {
   "cell_type": "code",
   "execution_count": 15,
   "id": "8ab51054-90a2-45da-8c5c-c4427ec0f331",
   "metadata": {},
   "outputs": [
    {
     "data": {
      "text/plain": [
       "89.36666667"
      ]
     },
     "execution_count": 15,
     "metadata": {},
     "output_type": "execute_result"
    }
   ],
   "source": [
    "# The largest number of months relapse free in the data set is slightly less than 90\n",
    "\n",
    "# True #\n",
    "\n",
    "lung['RFS_MONTHS'].max()\n",
    "## 89.36666667"
   ]
  },
  {
   "cell_type": "code",
   "execution_count": 16,
   "id": "28084978-5e2d-43a1-93cd-59ca4a747a24",
   "metadata": {},
   "outputs": [
    {
     "data": {
      "text/plain": [
       "(array([114., 121., 131.,  93.,  43.,  13.,   1.,   0.,   0.,   2.]),\n",
       " array([ 0.4       ,  9.29666667, 18.19333333, 27.09      , 35.98666667,\n",
       "        44.88333333, 53.78      , 62.67666667, 71.57333334, 80.47      ,\n",
       "        89.36666667]),\n",
       " <BarContainer object of 10 artists>)"
      ]
     },
     "execution_count": 16,
     "metadata": {},
     "output_type": "execute_result"
    },
    {
     "data": {
      "image/png": "[encoded data removed]",
      "text/plain": [
       "<Figure size 640x480 with 1 Axes>"
      ]
     },
     "metadata": {},
     "output_type": "display_data"
    }
   ],
   "source": [
    "# The distribution is skewed left as most (>50%) individuals maintained relapse free status for\n",
    "# more than 40 months\n",
    "\n",
    "plt.hist(lung['RFS_MONTHS'])\n",
    "\n",
    "# False #\n",
    "\n",
    "## This is skewed right, rather. Also most individuals did infact not maintain that for more than 40 months"
   ]
  },
  {
   "cell_type": "code",
   "execution_count": null,
   "id": "21b553e1-ffad-4163-a7b4-d8d1917c3dcb",
   "metadata": {},
   "outputs": [],
   "source": []
  },
  {
   "cell_type": "code",
   "execution_count": null,
   "id": "4e2685d2-b2c9-49b4-b0e8-014f6489a1b3",
   "metadata": {},
   "outputs": [],
   "source": []
  },
  {
   "cell_type": "code",
   "execution_count": null,
   "id": "7a539d75-0beb-4c8f-a001-64ab191e83c2",
   "metadata": {},
   "outputs": [],
   "source": []
  },
  {
   "cell_type": "code",
   "execution_count": null,
   "id": "269f578c-037f-48f4-9c2e-6002c0a3fd2b",
   "metadata": {},
   "outputs": [],
   "source": []
  },
  {
   "cell_type": "code",
   "execution_count": null,
   "id": "2b62b6b2-7dcd-4fd9-a978-7f57e575a0d7",
   "metadata": {},
   "outputs": [],
   "source": []
  },
  {
   "cell_type": "code",
   "execution_count": null,
   "id": "2dae7b55-7771-4ac4-95f0-4779a8139b13",
   "metadata": {},
   "outputs": [],
   "source": []
  },
  {
   "cell_type": "markdown",
   "id": "95b23f64-f504-496c-94c4-b677d29b3045",
   "metadata": {},
   "source": [
    "## Question 9"
   ]
  },
  {
   "cell_type": "code",
   "execution_count": 17,
   "id": "ed0c755b-f6e6-419e-813d-3cb87155574c",
   "metadata": {},
   "outputs": [],
   "source": [
    "def do_Kfold(model,X,y,k,scaler = None, random_state = 146):\n",
    "    from sklearn.model_selection import KFold\n",
    "    \n",
    "    kf = KFold(n_splits=k, random_state = random_state, shuffle=True)\n",
    "\n",
    "    train_scores = []\n",
    "    test_scores = []\n",
    "\n",
    "    for idxTrain, idxTest in kf.split(X): \n",
    "        Xtrain = X[idxTrain, :] \n",
    "            Xtrain = scaler.fit_transform(Xtrain)\n",
    "            Xtest = scaler.transform(Xtest)\n",
    "\n",
    "        model.fit(Xtrain,ytrain)\n",
    "\n",
    "        train_scores.append(model.score(Xtrain,ytrain))\n",
    "        test_scores.append(model.score(Xtest,ytest)) \n",
    "        \n",
    "    return train_scores, test_scores"
   ]
  },
  {
   "cell_type": "code",
   "execution_count": 18,
   "id": "30c4deb3-4917-4453-ac9d-15706e7d02ea",
   "metadata": {},
   "outputs": [],
   "source": [
    "lung_cleaned = lung.drop(columns = ['PATIENT_ID', 'SEX', 'SMOKING_HISTORY', 'CN_STATUS', 'RFS_STATUS', 'OS_STATUS'])"
   ]
  },
  {
   "cell_type": "code",
   "execution_count": 19,
   "id": "1c074905-e1e3-474e-a7e2-cb3ca00522a8",
   "metadata": {},
   "outputs": [
    {
     "data": {
      "text/html": [
       "<div>\n",
       "<style scoped>\n",
       "    .dataframe tbody tr th:only-of-type {\n",
       "        vertical-align: middle;\n",
       "    }\n",
       "\n",
       "    .dataframe tbody tr th {\n",
       "        vertical-align: top;\n",
       "    }\n",
       "\n",
       "    .dataframe thead th {\n",
       "        text-align: right;\n",
       "    }\n",
       "</style>\n",
       "<table border=\"1\" class=\"dataframe\">\n",
       "  <thead>\n",
       "    <tr style=\"text-align: right;\">\n",
       "      <th></th>\n",
       "      <th>AGE_AT_SURGERY</th>\n",
       "      <th>SMOKING_PACK_YEARS</th>\n",
       "      <th>SUV</th>\n",
       "      <th>CT_SIZE</th>\n",
       "      <th>DLCO</th>\n",
       "      <th>FEV1</th>\n",
       "      <th>RFS_MONTHS</th>\n",
       "      <th>OS_MONTHS</th>\n",
       "    </tr>\n",
       "  </thead>\n",
       "  <tbody>\n",
       "    <tr>\n",
       "      <th>0</th>\n",
       "      <td>52</td>\n",
       "      <td>5.00</td>\n",
       "      <td>10.3</td>\n",
       "      <td>3.4</td>\n",
       "      <td>88.0</td>\n",
       "      <td>108.0</td>\n",
       "      <td>24.566667</td>\n",
       "      <td>83.800000</td>\n",
       "    </tr>\n",
       "    <tr>\n",
       "      <th>1</th>\n",
       "      <td>62</td>\n",
       "      <td>0.00</td>\n",
       "      <td>2.6</td>\n",
       "      <td>2.1</td>\n",
       "      <td>61.0</td>\n",
       "      <td>76.0</td>\n",
       "      <td>14.866667</td>\n",
       "      <td>77.433333</td>\n",
       "    </tr>\n",
       "    <tr>\n",
       "      <th>2</th>\n",
       "      <td>68</td>\n",
       "      <td>30.00</td>\n",
       "      <td>1.1</td>\n",
       "      <td>1.3</td>\n",
       "      <td>47.0</td>\n",
       "      <td>90.0</td>\n",
       "      <td>37.366667</td>\n",
       "      <td>37.366667</td>\n",
       "    </tr>\n",
       "    <tr>\n",
       "      <th>3</th>\n",
       "      <td>64</td>\n",
       "      <td>10.00</td>\n",
       "      <td>10.2</td>\n",
       "      <td>3.6</td>\n",
       "      <td>85.0</td>\n",
       "      <td>89.0</td>\n",
       "      <td>11.433333</td>\n",
       "      <td>34.800000</td>\n",
       "    </tr>\n",
       "    <tr>\n",
       "      <th>4</th>\n",
       "      <td>73</td>\n",
       "      <td>0.00</td>\n",
       "      <td>10.5</td>\n",
       "      <td>3.4</td>\n",
       "      <td>96.0</td>\n",
       "      <td>102.0</td>\n",
       "      <td>10.166667</td>\n",
       "      <td>52.966667</td>\n",
       "    </tr>\n",
       "    <tr>\n",
       "      <th>...</th>\n",
       "      <td>...</td>\n",
       "      <td>...</td>\n",
       "      <td>...</td>\n",
       "      <td>...</td>\n",
       "      <td>...</td>\n",
       "      <td>...</td>\n",
       "      <td>...</td>\n",
       "      <td>...</td>\n",
       "    </tr>\n",
       "    <tr>\n",
       "      <th>513</th>\n",
       "      <td>69</td>\n",
       "      <td>40.00</td>\n",
       "      <td>6.3</td>\n",
       "      <td>2.8</td>\n",
       "      <td>93.0</td>\n",
       "      <td>88.0</td>\n",
       "      <td>6.333333</td>\n",
       "      <td>6.333333</td>\n",
       "    </tr>\n",
       "    <tr>\n",
       "      <th>514</th>\n",
       "      <td>73</td>\n",
       "      <td>46.00</td>\n",
       "      <td>7.3</td>\n",
       "      <td>2.7</td>\n",
       "      <td>105.0</td>\n",
       "      <td>84.0</td>\n",
       "      <td>3.566667</td>\n",
       "      <td>3.566667</td>\n",
       "    </tr>\n",
       "    <tr>\n",
       "      <th>515</th>\n",
       "      <td>72</td>\n",
       "      <td>33.75</td>\n",
       "      <td>0.0</td>\n",
       "      <td>0.9</td>\n",
       "      <td>71.0</td>\n",
       "      <td>102.0</td>\n",
       "      <td>4.400000</td>\n",
       "      <td>4.400000</td>\n",
       "    </tr>\n",
       "    <tr>\n",
       "      <th>516</th>\n",
       "      <td>56</td>\n",
       "      <td>0.00</td>\n",
       "      <td>1.6</td>\n",
       "      <td>1.5</td>\n",
       "      <td>108.0</td>\n",
       "      <td>122.0</td>\n",
       "      <td>0.533333</td>\n",
       "      <td>0.533333</td>\n",
       "    </tr>\n",
       "    <tr>\n",
       "      <th>517</th>\n",
       "      <td>70</td>\n",
       "      <td>15.00</td>\n",
       "      <td>1.8</td>\n",
       "      <td>2.4</td>\n",
       "      <td>100.0</td>\n",
       "      <td>117.0</td>\n",
       "      <td>6.300000</td>\n",
       "      <td>6.300000</td>\n",
       "    </tr>\n",
       "  </tbody>\n",
       "</table>\n",
       "<p>518 rows × 8 columns</p>\n",
       "</div>"
      ],
      "text/plain": [
       "     AGE_AT_SURGERY  SMOKING_PACK_YEARS   SUV  CT_SIZE   DLCO   FEV1  \\\n",
       "0                52                5.00  10.3      3.4   88.0  108.0   \n",
       "1                62                0.00   2.6      2.1   61.0   76.0   \n",
       "2                68               30.00   1.1      1.3   47.0   90.0   \n",
       "3                64               10.00  10.2      3.6   85.0   89.0   \n",
       "4                73                0.00  10.5      3.4   96.0  102.0   \n",
       "..              ...                 ...   ...      ...    ...    ...   \n",
       "513              69               40.00   6.3      2.8   93.0   88.0   \n",
       "514              73               46.00   7.3      2.7  105.0   84.0   \n",
       "515              72               33.75   0.0      0.9   71.0  102.0   \n",
       "516              56                0.00   1.6      1.5  108.0  122.0   \n",
       "517              70               15.00   1.8      2.4  100.0  117.0   \n",
       "\n",
       "     RFS_MONTHS  OS_MONTHS  \n",
       "0     24.566667  83.800000  \n",
       "1     14.866667  77.433333  \n",
       "2     37.366667  37.366667  \n",
       "3     11.433333  34.800000  \n",
       "4     10.166667  52.966667  \n",
       "..          ...        ...  \n",
       "513    6.333333   6.333333  \n",
       "514    3.566667   3.566667  \n",
       "515    4.400000   4.400000  \n",
       "516    0.533333   0.533333  \n",
       "517    6.300000   6.300000  \n",
       "\n",
       "[518 rows x 8 columns]"
      ]
     },
     "execution_count": 19,
     "metadata": {},
     "output_type": "execute_result"
    }
   ],
   "source": [
    "lung_cleaned"
   ]
  },
  {
   "cell_type": "code",
   "execution_count": 20,
   "id": "986c5d8c-f029-4dbc-885d-6ee8b57d7127",
   "metadata": {},
   "outputs": [
    {
     "data": {
      "text/html": [
       "<div>\n",
       "<style scoped>\n",
       "    .dataframe tbody tr th:only-of-type {\n",
       "        vertical-align: middle;\n",
       "    }\n",
       "\n",
       "    .dataframe tbody tr th {\n",
       "        vertical-align: top;\n",
       "    }\n",
       "\n",
       "    .dataframe thead th {\n",
       "        text-align: right;\n",
       "    }\n",
       "</style>\n",
       "<table border=\"1\" class=\"dataframe\">\n",
       "  <thead>\n",
       "    <tr style=\"text-align: right;\">\n",
       "      <th></th>\n",
       "      <th>RFS_MONTHS</th>\n",
       "    </tr>\n",
       "  </thead>\n",
       "  <tbody>\n",
       "    <tr>\n",
       "      <th>0</th>\n",
       "      <td>24.566667</td>\n",
       "    </tr>\n",
       "    <tr>\n",
       "      <th>1</th>\n",
       "      <td>14.866667</td>\n",
       "    </tr>\n",
       "    <tr>\n",
       "      <th>2</th>\n",
       "      <td>37.366667</td>\n",
       "    </tr>\n",
       "    <tr>\n",
       "      <th>3</th>\n",
       "      <td>11.433333</td>\n",
       "    </tr>\n",
       "    <tr>\n",
       "      <th>4</th>\n",
       "      <td>10.166667</td>\n",
       "    </tr>\n",
       "    <tr>\n",
       "      <th>...</th>\n",
       "      <td>...</td>\n",
       "    </tr>\n",
       "    <tr>\n",
       "      <th>513</th>\n",
       "      <td>6.333333</td>\n",
       "    </tr>\n",
       "    <tr>\n",
       "      <th>514</th>\n",
       "      <td>3.566667</td>\n",
       "    </tr>\n",
       "    <tr>\n",
       "      <th>515</th>\n",
       "      <td>4.400000</td>\n",
       "    </tr>\n",
       "    <tr>\n",
       "      <th>516</th>\n",
       "      <td>0.533333</td>\n",
       "    </tr>\n",
       "    <tr>\n",
       "      <th>517</th>\n",
       "      <td>6.300000</td>\n",
       "    </tr>\n",
       "  </tbody>\n",
       "</table>\n",
       "<p>518 rows × 1 columns</p>\n",
       "</div>"
      ],
      "text/plain": [
       "     RFS_MONTHS\n",
       "0     24.566667\n",
       "1     14.866667\n",
       "2     37.366667\n",
       "3     11.433333\n",
       "4     10.166667\n",
       "..          ...\n",
       "513    6.333333\n",
       "514    3.566667\n",
       "515    4.400000\n",
       "516    0.533333\n",
       "517    6.300000\n",
       "\n",
       "[518 rows x 1 columns]"
      ]
     },
     "execution_count": 20,
     "metadata": {},
     "output_type": "execute_result"
    }
   ],
   "source": [
    "lung_target = lung_cleaned.drop(columns = ['AGE_AT_SURGERY', 'SMOKING_PACK_YEARS', 'SUV', 'CT_SIZE', 'DLCO', 'FEV1', 'OS_MONTHS'])\n",
    "lung_target"
   ]
  },
  {
   "cell_type": "code",
   "execution_count": 21,
   "id": "5278a71b-0822-41ab-aeb8-b19d26f8c385",
   "metadata": {},
   "outputs": [
    {
     "data": {
      "text/html": [
       "<div>\n",
       "<style scoped>\n",
       "    .dataframe tbody tr th:only-of-type {\n",
       "        vertical-align: middle;\n",
       "    }\n",
       "\n",
       "    .dataframe tbody tr th {\n",
       "        vertical-align: top;\n",
       "    }\n",
       "\n",
       "    .dataframe thead th {\n",
       "        text-align: right;\n",
       "    }\n",
       "</style>\n",
       "<table border=\"1\" class=\"dataframe\">\n",
       "  <thead>\n",
       "    <tr style=\"text-align: right;\">\n",
       "      <th></th>\n",
       "      <th>AGE_AT_SURGERY</th>\n",
       "      <th>SMOKING_PACK_YEARS</th>\n",
       "      <th>SUV</th>\n",
       "      <th>CT_SIZE</th>\n",
       "      <th>DLCO</th>\n",
       "      <th>FEV1</th>\n",
       "      <th>OS_MONTHS</th>\n",
       "    </tr>\n",
       "  </thead>\n",
       "  <tbody>\n",
       "    <tr>\n",
       "      <th>0</th>\n",
       "      <td>52</td>\n",
       "      <td>5.00</td>\n",
       "      <td>10.3</td>\n",
       "      <td>3.4</td>\n",
       "      <td>88.0</td>\n",
       "      <td>108.0</td>\n",
       "      <td>83.800000</td>\n",
       "    </tr>\n",
       "    <tr>\n",
       "      <th>1</th>\n",
       "      <td>62</td>\n",
       "      <td>0.00</td>\n",
       "      <td>2.6</td>\n",
       "      <td>2.1</td>\n",
       "      <td>61.0</td>\n",
       "      <td>76.0</td>\n",
       "      <td>77.433333</td>\n",
       "    </tr>\n",
       "    <tr>\n",
       "      <th>2</th>\n",
       "      <td>68</td>\n",
       "      <td>30.00</td>\n",
       "      <td>1.1</td>\n",
       "      <td>1.3</td>\n",
       "      <td>47.0</td>\n",
       "      <td>90.0</td>\n",
       "      <td>37.366667</td>\n",
       "    </tr>\n",
       "    <tr>\n",
       "      <th>3</th>\n",
       "      <td>64</td>\n",
       "      <td>10.00</td>\n",
       "      <td>10.2</td>\n",
       "      <td>3.6</td>\n",
       "      <td>85.0</td>\n",
       "      <td>89.0</td>\n",
       "      <td>34.800000</td>\n",
       "    </tr>\n",
       "    <tr>\n",
       "      <th>4</th>\n",
       "      <td>73</td>\n",
       "      <td>0.00</td>\n",
       "      <td>10.5</td>\n",
       "      <td>3.4</td>\n",
       "      <td>96.0</td>\n",
       "      <td>102.0</td>\n",
       "      <td>52.966667</td>\n",
       "    </tr>\n",
       "    <tr>\n",
       "      <th>...</th>\n",
       "      <td>...</td>\n",
       "      <td>...</td>\n",
       "      <td>...</td>\n",
       "      <td>...</td>\n",
       "      <td>...</td>\n",
       "      <td>...</td>\n",
       "      <td>...</td>\n",
       "    </tr>\n",
       "    <tr>\n",
       "      <th>513</th>\n",
       "      <td>69</td>\n",
       "      <td>40.00</td>\n",
       "      <td>6.3</td>\n",
       "      <td>2.8</td>\n",
       "      <td>93.0</td>\n",
       "      <td>88.0</td>\n",
       "      <td>6.333333</td>\n",
       "    </tr>\n",
       "    <tr>\n",
       "      <th>514</th>\n",
       "      <td>73</td>\n",
       "      <td>46.00</td>\n",
       "      <td>7.3</td>\n",
       "      <td>2.7</td>\n",
       "      <td>105.0</td>\n",
       "      <td>84.0</td>\n",
       "      <td>3.566667</td>\n",
       "    </tr>\n",
       "    <tr>\n",
       "      <th>515</th>\n",
       "      <td>72</td>\n",
       "      <td>33.75</td>\n",
       "      <td>0.0</td>\n",
       "      <td>0.9</td>\n",
       "      <td>71.0</td>\n",
       "      <td>102.0</td>\n",
       "      <td>4.400000</td>\n",
       "    </tr>\n",
       "    <tr>\n",
       "      <th>516</th>\n",
       "      <td>56</td>\n",
       "      <td>0.00</td>\n",
       "      <td>1.6</td>\n",
       "      <td>1.5</td>\n",
       "      <td>108.0</td>\n",
       "      <td>122.0</td>\n",
       "      <td>0.533333</td>\n",
       "    </tr>\n",
       "    <tr>\n",
       "      <th>517</th>\n",
       "      <td>70</td>\n",
       "      <td>15.00</td>\n",
       "      <td>1.8</td>\n",
       "      <td>2.4</td>\n",
       "      <td>100.0</td>\n",
       "      <td>117.0</td>\n",
       "      <td>6.300000</td>\n",
       "    </tr>\n",
       "  </tbody>\n",
       "</table>\n",
       "<p>518 rows × 7 columns</p>\n",
       "</div>"
      ],
      "text/plain": [
       "     AGE_AT_SURGERY  SMOKING_PACK_YEARS   SUV  CT_SIZE   DLCO   FEV1  \\\n",
       "0                52                5.00  10.3      3.4   88.0  108.0   \n",
       "1                62                0.00   2.6      2.1   61.0   76.0   \n",
       "2                68               30.00   1.1      1.3   47.0   90.0   \n",
       "3                64               10.00  10.2      3.6   85.0   89.0   \n",
       "4                73                0.00  10.5      3.4   96.0  102.0   \n",
       "..              ...                 ...   ...      ...    ...    ...   \n",
       "513              69               40.00   6.3      2.8   93.0   88.0   \n",
       "514              73               46.00   7.3      2.7  105.0   84.0   \n",
       "515              72               33.75   0.0      0.9   71.0  102.0   \n",
       "516              56                0.00   1.6      1.5  108.0  122.0   \n",
       "517              70               15.00   1.8      2.4  100.0  117.0   \n",
       "\n",
       "     OS_MONTHS  \n",
       "0    83.800000  \n",
       "1    77.433333  \n",
       "2    37.366667  \n",
       "3    34.800000  \n",
       "4    52.966667  \n",
       "..         ...  \n",
       "513   6.333333  \n",
       "514   3.566667  \n",
       "515   4.400000  \n",
       "516   0.533333  \n",
       "517   6.300000  \n",
       "\n",
       "[518 rows x 7 columns]"
      ]
     },
     "execution_count": 21,
     "metadata": {},
     "output_type": "execute_result"
    }
   ],
   "source": [
    "lung_predictors = lung_cleaned.drop(columns = ['RFS_MONTHS'])\n",
    "lung_predictors"
   ]
  },
  {
   "cell_type": "code",
   "execution_count": 22,
   "id": "5c506bce-8d94-4adc-9637-732ebccf42a2",
   "metadata": {},
   "outputs": [
    {
     "data": {
      "text/html": [
       "<div>\n",
       "<style scoped>\n",
       "    .dataframe tbody tr th:only-of-type {\n",
       "        vertical-align: middle;\n",
       "    }\n",
       "\n",
       "    .dataframe tbody tr th {\n",
       "        vertical-align: top;\n",
       "    }\n",
       "\n",
       "    .dataframe thead th {\n",
       "        text-align: right;\n",
       "    }\n",
       "</style>\n",
       "<table border=\"1\" class=\"dataframe\">\n",
       "  <thead>\n",
       "    <tr style=\"text-align: right;\">\n",
       "      <th></th>\n",
       "      <th>AGE_AT_SURGERY</th>\n",
       "      <th>SMOKING_PACK_YEARS</th>\n",
       "      <th>SUV</th>\n",
       "      <th>CT_SIZE</th>\n",
       "      <th>DLCO</th>\n",
       "      <th>FEV1</th>\n",
       "      <th>RFS_MONTHS</th>\n",
       "      <th>OS_MONTHS</th>\n",
       "    </tr>\n",
       "  </thead>\n",
       "  <tbody>\n",
       "    <tr>\n",
       "      <th>0</th>\n",
       "      <td>52</td>\n",
       "      <td>5.00</td>\n",
       "      <td>10.3</td>\n",
       "      <td>3.4</td>\n",
       "      <td>88.0</td>\n",
       "      <td>108.0</td>\n",
       "      <td>24.566667</td>\n",
       "      <td>83.800000</td>\n",
       "    </tr>\n",
       "    <tr>\n",
       "      <th>1</th>\n",
       "      <td>62</td>\n",
       "      <td>0.00</td>\n",
       "      <td>2.6</td>\n",
       "      <td>2.1</td>\n",
       "      <td>61.0</td>\n",
       "      <td>76.0</td>\n",
       "      <td>14.866667</td>\n",
       "      <td>77.433333</td>\n",
       "    </tr>\n",
       "    <tr>\n",
       "      <th>2</th>\n",
       "      <td>68</td>\n",
       "      <td>30.00</td>\n",
       "      <td>1.1</td>\n",
       "      <td>1.3</td>\n",
       "      <td>47.0</td>\n",
       "      <td>90.0</td>\n",
       "      <td>37.366667</td>\n",
       "      <td>37.366667</td>\n",
       "    </tr>\n",
       "    <tr>\n",
       "      <th>3</th>\n",
       "      <td>64</td>\n",
       "      <td>10.00</td>\n",
       "      <td>10.2</td>\n",
       "      <td>3.6</td>\n",
       "      <td>85.0</td>\n",
       "      <td>89.0</td>\n",
       "      <td>11.433333</td>\n",
       "      <td>34.800000</td>\n",
       "    </tr>\n",
       "    <tr>\n",
       "      <th>4</th>\n",
       "      <td>73</td>\n",
       "      <td>0.00</td>\n",
       "      <td>10.5</td>\n",
       "      <td>3.4</td>\n",
       "      <td>96.0</td>\n",
       "      <td>102.0</td>\n",
       "      <td>10.166667</td>\n",
       "      <td>52.966667</td>\n",
       "    </tr>\n",
       "    <tr>\n",
       "      <th>...</th>\n",
       "      <td>...</td>\n",
       "      <td>...</td>\n",
       "      <td>...</td>\n",
       "      <td>...</td>\n",
       "      <td>...</td>\n",
       "      <td>...</td>\n",
       "      <td>...</td>\n",
       "      <td>...</td>\n",
       "    </tr>\n",
       "    <tr>\n",
       "      <th>513</th>\n",
       "      <td>69</td>\n",
       "      <td>40.00</td>\n",
       "      <td>6.3</td>\n",
       "      <td>2.8</td>\n",
       "      <td>93.0</td>\n",
       "      <td>88.0</td>\n",
       "      <td>6.333333</td>\n",
       "      <td>6.333333</td>\n",
       "    </tr>\n",
       "    <tr>\n",
       "      <th>514</th>\n",
       "      <td>73</td>\n",
       "      <td>46.00</td>\n",
       "      <td>7.3</td>\n",
       "      <td>2.7</td>\n",
       "      <td>105.0</td>\n",
       "      <td>84.0</td>\n",
       "      <td>3.566667</td>\n",
       "      <td>3.566667</td>\n",
       "    </tr>\n",
       "    <tr>\n",
       "      <th>515</th>\n",
       "      <td>72</td>\n",
       "      <td>33.75</td>\n",
       "      <td>0.0</td>\n",
       "      <td>0.9</td>\n",
       "      <td>71.0</td>\n",
       "      <td>102.0</td>\n",
       "      <td>4.400000</td>\n",
       "      <td>4.400000</td>\n",
       "    </tr>\n",
       "    <tr>\n",
       "      <th>516</th>\n",
       "      <td>56</td>\n",
       "      <td>0.00</td>\n",
       "      <td>1.6</td>\n",
       "      <td>1.5</td>\n",
       "      <td>108.0</td>\n",
       "      <td>122.0</td>\n",
       "      <td>0.533333</td>\n",
       "      <td>0.533333</td>\n",
       "    </tr>\n",
       "    <tr>\n",
       "      <th>517</th>\n",
       "      <td>70</td>\n",
       "      <td>15.00</td>\n",
       "      <td>1.8</td>\n",
       "      <td>2.4</td>\n",
       "      <td>100.0</td>\n",
       "      <td>117.0</td>\n",
       "      <td>6.300000</td>\n",
       "      <td>6.300000</td>\n",
       "    </tr>\n",
       "  </tbody>\n",
       "</table>\n",
       "<p>518 rows × 8 columns</p>\n",
       "</div>"
      ],
      "text/plain": [
       "     AGE_AT_SURGERY  SMOKING_PACK_YEARS   SUV  CT_SIZE   DLCO   FEV1  \\\n",
       "0                52                5.00  10.3      3.4   88.0  108.0   \n",
       "1                62                0.00   2.6      2.1   61.0   76.0   \n",
       "2                68               30.00   1.1      1.3   47.0   90.0   \n",
       "3                64               10.00  10.2      3.6   85.0   89.0   \n",
       "4                73                0.00  10.5      3.4   96.0  102.0   \n",
       "..              ...                 ...   ...      ...    ...    ...   \n",
       "513              69               40.00   6.3      2.8   93.0   88.0   \n",
       "514              73               46.00   7.3      2.7  105.0   84.0   \n",
       "515              72               33.75   0.0      0.9   71.0  102.0   \n",
       "516              56                0.00   1.6      1.5  108.0  122.0   \n",
       "517              70               15.00   1.8      2.4  100.0  117.0   \n",
       "\n",
       "     RFS_MONTHS  OS_MONTHS  \n",
       "0     24.566667  83.800000  \n",
       "1     14.866667  77.433333  \n",
       "2     37.366667  37.366667  \n",
       "3     11.433333  34.800000  \n",
       "4     10.166667  52.966667  \n",
       "..          ...        ...  \n",
       "513    6.333333   6.333333  \n",
       "514    3.566667   3.566667  \n",
       "515    4.400000   4.400000  \n",
       "516    0.533333   0.533333  \n",
       "517    6.300000   6.300000  \n",
       "\n",
       "[518 rows x 8 columns]"
      ]
     },
     "execution_count": 22,
     "metadata": {},
     "output_type": "execute_result"
    }
   ],
   "source": [
    "lung_cleaned"
   ]
  },
  {
   "cell_type": "code",
   "execution_count": 23,
   "id": "14a9f970-022b-4f28-a339-121671602dee",
   "metadata": {},
   "outputs": [
    {
     "data": {
      "text/plain": [
       "AGE_AT_SURGERY        0\n",
       "SMOKING_PACK_YEARS    0\n",
       "SUV                   0\n",
       "CT_SIZE               0\n",
       "DLCO                  0\n",
       "FEV1                  0\n",
       "RFS_MONTHS            0\n",
       "OS_MONTHS             0\n",
       "dtype: int64"
      ]
     },
     "execution_count": 23,
     "metadata": {},
     "output_type": "execute_result"
    }
   ],
   "source": [
    "lung_cleaned.isnull().sum()"
   ]
  },
  {
   "cell_type": "code",
   "execution_count": 24,
   "id": "10a995fe-8791-4e45-9102-1092afc82bb5",
   "metadata": {},
   "outputs": [
    {
     "data": {
      "text/html": [
       "<div>\n",
       "<style scoped>\n",
       "    .dataframe tbody tr th:only-of-type {\n",
       "        vertical-align: middle;\n",
       "    }\n",
       "\n",
       "    .dataframe tbody tr th {\n",
       "        vertical-align: top;\n",
       "    }\n",
       "\n",
       "    .dataframe thead th {\n",
       "        text-align: right;\n",
       "    }\n",
       "</style>\n",
       "<table border=\"1\" class=\"dataframe\">\n",
       "  <thead>\n",
       "    <tr style=\"text-align: right;\">\n",
       "      <th></th>\n",
       "      <th>AGE_AT_SURGERY</th>\n",
       "      <th>SMOKING_PACK_YEARS</th>\n",
       "      <th>SUV</th>\n",
       "      <th>CT_SIZE</th>\n",
       "      <th>DLCO</th>\n",
       "      <th>FEV1</th>\n",
       "      <th>RFS_MONTHS</th>\n",
       "      <th>OS_MONTHS</th>\n",
       "    </tr>\n",
       "  </thead>\n",
       "  <tbody>\n",
       "    <tr>\n",
       "      <th>AGE_AT_SURGERY</th>\n",
       "      <td>1.000000</td>\n",
       "      <td>0.133641</td>\n",
       "      <td>0.013824</td>\n",
       "      <td>0.027379</td>\n",
       "      <td>-0.233823</td>\n",
       "      <td>0.000182</td>\n",
       "      <td>0.021811</td>\n",
       "      <td>-0.027324</td>\n",
       "    </tr>\n",
       "    <tr>\n",
       "      <th>SMOKING_PACK_YEARS</th>\n",
       "      <td>0.133641</td>\n",
       "      <td>1.000000</td>\n",
       "      <td>0.123455</td>\n",
       "      <td>-0.048775</td>\n",
       "      <td>-0.401903</td>\n",
       "      <td>-0.268955</td>\n",
       "      <td>0.008129</td>\n",
       "      <td>-0.045563</td>\n",
       "    </tr>\n",
       "    <tr>\n",
       "      <th>SUV</th>\n",
       "      <td>0.013824</td>\n",
       "      <td>0.123455</td>\n",
       "      <td>1.000000</td>\n",
       "      <td>0.380954</td>\n",
       "      <td>-0.156755</td>\n",
       "      <td>-0.109945</td>\n",
       "      <td>-0.118206</td>\n",
       "      <td>0.051605</td>\n",
       "    </tr>\n",
       "    <tr>\n",
       "      <th>CT_SIZE</th>\n",
       "      <td>0.027379</td>\n",
       "      <td>-0.048775</td>\n",
       "      <td>0.380954</td>\n",
       "      <td>1.000000</td>\n",
       "      <td>-0.080127</td>\n",
       "      <td>-0.017821</td>\n",
       "      <td>-0.039798</td>\n",
       "      <td>0.046051</td>\n",
       "    </tr>\n",
       "    <tr>\n",
       "      <th>DLCO</th>\n",
       "      <td>-0.233823</td>\n",
       "      <td>-0.401903</td>\n",
       "      <td>-0.156755</td>\n",
       "      <td>-0.080127</td>\n",
       "      <td>1.000000</td>\n",
       "      <td>0.463421</td>\n",
       "      <td>0.028139</td>\n",
       "      <td>0.003068</td>\n",
       "    </tr>\n",
       "    <tr>\n",
       "      <th>FEV1</th>\n",
       "      <td>0.000182</td>\n",
       "      <td>-0.268955</td>\n",
       "      <td>-0.109945</td>\n",
       "      <td>-0.017821</td>\n",
       "      <td>0.463421</td>\n",
       "      <td>1.000000</td>\n",
       "      <td>0.005408</td>\n",
       "      <td>0.027380</td>\n",
       "    </tr>\n",
       "    <tr>\n",
       "      <th>RFS_MONTHS</th>\n",
       "      <td>0.021811</td>\n",
       "      <td>0.008129</td>\n",
       "      <td>-0.118206</td>\n",
       "      <td>-0.039798</td>\n",
       "      <td>0.028139</td>\n",
       "      <td>0.005408</td>\n",
       "      <td>1.000000</td>\n",
       "      <td>0.774794</td>\n",
       "    </tr>\n",
       "    <tr>\n",
       "      <th>OS_MONTHS</th>\n",
       "      <td>-0.027324</td>\n",
       "      <td>-0.045563</td>\n",
       "      <td>0.051605</td>\n",
       "      <td>0.046051</td>\n",
       "      <td>0.003068</td>\n",
       "      <td>0.027380</td>\n",
       "      <td>0.774794</td>\n",
       "      <td>1.000000</td>\n",
       "    </tr>\n",
       "  </tbody>\n",
       "</table>\n",
       "</div>"
      ],
      "text/plain": [
       "                    AGE_AT_SURGERY  SMOKING_PACK_YEARS       SUV   CT_SIZE  \\\n",
       "AGE_AT_SURGERY            1.000000            0.133641  0.013824  0.027379   \n",
       "SMOKING_PACK_YEARS        0.133641            1.000000  0.123455 -0.048775   \n",
       "SUV                       0.013824            0.123455  1.000000  0.380954   \n",
       "CT_SIZE                   0.027379           -0.048775  0.380954  1.000000   \n",
       "DLCO                     -0.233823           -0.401903 -0.156755 -0.080127   \n",
       "FEV1                      0.000182           -0.268955 -0.109945 -0.017821   \n",
       "RFS_MONTHS                0.021811            0.008129 -0.118206 -0.039798   \n",
       "OS_MONTHS                -0.027324           -0.045563  0.051605  0.046051   \n",
       "\n",
       "                        DLCO      FEV1  RFS_MONTHS  OS_MONTHS  \n",
       "AGE_AT_SURGERY     -0.233823  0.000182    0.021811  -0.027324  \n",
       "SMOKING_PACK_YEARS -0.401903 -0.268955    0.008129  -0.045563  \n",
       "SUV                -0.156755 -0.109945   -0.118206   0.051605  \n",
       "CT_SIZE            -0.080127 -0.017821   -0.039798   0.046051  \n",
       "DLCO                1.000000  0.463421    0.028139   0.003068  \n",
       "FEV1                0.463421  1.000000    0.005408   0.027380  \n",
       "RFS_MONTHS          0.028139  0.005408    1.000000   0.774794  \n",
       "OS_MONTHS           0.003068  0.027380    0.774794   1.000000  "
      ]
     },
     "execution_count": 24,
     "metadata": {},
     "output_type": "execute_result"
    }
   ],
   "source": [
    "lung_cleaned.corr()"
   ]
  },
  {
   "cell_type": "code",
   "execution_count": 25,
   "id": "7f04e30a-5328-4a3f-b9ab-70d1494cdbe9",
   "metadata": {},
   "outputs": [],
   "source": [
    "# matrix = np.corrcoef(lung_cleaned['SUV'], lung_target)\n",
    "# print(matrix)"
   ]
  },
  {
   "cell_type": "markdown",
   "id": "66612c09-5103-4ee8-b9ec-6c76d022e548",
   "metadata": {},
   "source": [
    "Continuing with our data exploration: feature variables that are highly correlated with the target may be good predictors in terms of regression. We also often want to know about relationships between features as well. Calculate correlation coefficients between all of the features (the 7 numeric variables indicated in the Data description) and the target (RFS_MONTHS), i.e. all of the features versus each other and versus the target, all 8 variables versus each other. You can just calculate the whole matrix from the original data frame to do this. Remember, do NOT use a heatmap to answer homework questions.\n",
    "\n",
    "Based on the correlation coefficients, which statements below apply to bivariate relationships between the variables in the data set?\n",
    "\n",
    "\n"
   ]
  },
  {
   "cell_type": "code",
   "execution_count": 26,
   "id": "67174fb7-c869-4041-afbd-d4476e5ddb8a",
   "metadata": {},
   "outputs": [],
   "source": [
    "# We would expect that as FEV1 decreases, DLCO also decreases #\n",
    "\n",
    "# The strongest negative correlation (just based on the coefficients) in the data set is #\n",
    "# between DLCO and SMOKING_PACK_YEARS #\n",
    "\n",
    "# More of the features appear to have weak positive linear correlations with the target #\n",
    "# (based on just the correlation coefficients) than other types of linear correlations #\n",
    "\n",
    "# OS_MONTHS is the most strongly correlated value with the target #"
   ]
  },
  {
   "cell_type": "code",
   "execution_count": null,
   "id": "f5108463-4ca4-41d1-aedf-e38866650bc6",
   "metadata": {},
   "outputs": [],
   "source": []
  },
  {
   "cell_type": "code",
   "execution_count": null,
   "id": "3b09a59c-edad-4b85-aaf4-ebb697352487",
   "metadata": {},
   "outputs": [],
   "source": []
  },
  {
   "cell_type": "code",
   "execution_count": null,
   "id": "953d2cf2-6ed4-4c5c-8370-fc4786c156f7",
   "metadata": {},
   "outputs": [],
   "source": []
  },
  {
   "cell_type": "code",
   "execution_count": null,
   "id": "6de732b6-4f0b-42fb-8268-97b241f0b408",
   "metadata": {},
   "outputs": [],
   "source": []
  },
  {
   "cell_type": "code",
   "execution_count": null,
   "id": "6ecc9a92-54f7-47d4-84e2-3d3ad44057a8",
   "metadata": {},
   "outputs": [],
   "source": []
  },
  {
   "cell_type": "markdown",
   "id": "83ca139a-05ad-41fa-8305-22d86d38847b",
   "metadata": {},
   "source": [
    "# Question 10"
   ]
  },
  {
   "cell_type": "markdown",
   "id": "40f17cb3-dc74-417c-978b-5cb077ebf74e",
   "metadata": {},
   "source": [
    "Perform k-fold validation of OLS on the lung adenocarcinoma data. Remember that the target is RFS_MONTHS. \n",
    "Use the following parameters:\n",
    "\n",
    "-Regular OLS (not Ridge or Lasso)\n",
    "\n",
    "-No scaling\n",
    "\n",
    "-15 folds\n",
    "\n",
    "-random state 96\n",
    "\n",
    "-shuffle = True\n",
    "\n"
   ]
  },
  {
   "cell_type": "code",
   "execution_count": 27,
   "id": "62131718-c1a1-4fed-a136-d816bd1f7020",
   "metadata": {},
   "outputs": [
    {
     "data": {
      "text/plain": [
       "Index(['AGE_AT_SURGERY', 'SMOKING_PACK_YEARS', 'SUV', 'CT_SIZE', 'DLCO',\n",
       "       'FEV1', 'OS_MONTHS'],\n",
       "      dtype='object')"
      ]
     },
     "execution_count": 27,
     "metadata": {},
     "output_type": "execute_result"
    }
   ],
   "source": [
    "lung_predictors.columns"
   ]
  },
  {
   "cell_type": "code",
   "execution_count": 28,
   "id": "cc15e115-e714-498c-9c03-3661c92118ec",
   "metadata": {},
   "outputs": [],
   "source": [
    "X = np.array(lung_predictors)"
   ]
  },
  {
   "cell_type": "code",
   "execution_count": 29,
   "id": "23d131fd-6f6b-4b9b-9e11-3b340d52d0bd",
   "metadata": {},
   "outputs": [],
   "source": [
    "y = np.array(lung_target)"
   ]
  },
  {
   "cell_type": "code",
   "execution_count": 44,
   "id": "a25f5908-0496-40aa-8e2b-64fec71134b4",
   "metadata": {},
   "outputs": [],
   "source": [
    "lin_reg = LR()"
   ]
  },
  {
   "cell_type": "code",
   "execution_count": 45,
   "id": "66c09326-2172-4449-a2db-d599625149ea",
   "metadata": {},
   "outputs": [
    {
     "data": {
      "text/plain": [
       "([0.6436431111981468,\n",
       "  0.6318780431873561,\n",
       "  0.6478026057920366,\n",
       "  0.6189513869758378,\n",
       "  0.6400761632003255,\n",
       "  0.6443664495177475,\n",
       "  0.6227146932115002,\n",
       "  0.6275282593092161,\n",
       "  0.6282146522532654,\n",
       "  0.6276934826201228,\n",
       "  0.6411810822928681,\n",
       "  0.6665803790002025,\n",
       "  0.6111102682004759,\n",
       "  0.6291875725172636,\n",
       "  0.6314548583607382],\n",
       " [0.4238485605118232,\n",
       "  0.6276388872439458,\n",
       "  0.4921906144991548,\n",
       "  0.7983871820097428,\n",
       "  0.5001918456854675,\n",
       "  0.41053516711333116,\n",
       "  0.7636241400450386,\n",
       "  0.700940367827481,\n",
       "  0.7366900039301074,\n",
       "  0.7475630987971951,\n",
       "  0.42462962458437525,\n",
       "  0.1560031917064627,\n",
       "  0.8034505938504979,\n",
       "  0.6943096483526803,\n",
       "  0.6544395070613784])"
      ]
     },
     "execution_count": 45,
     "metadata": {},
     "output_type": "execute_result"
    }
   ],
   "source": [
    "lung_results = do_Kfold(model = lin_reg, X = X, y = y, k = 15, scaler = None, random_state = 96)\n",
    "lung_results"
   ]
  },
  {
   "cell_type": "code",
   "execution_count": 46,
   "id": "28c0a266-f530-47d9-8f71-b181e515e92b",
   "metadata": {},
   "outputs": [],
   "source": [
    "lung_train_scores = lung_results[0]\n",
    "lung_test_scores = lung_results[1]"
   ]
  },
  {
   "cell_type": "code",
   "execution_count": 47,
   "id": "b064fca7-4aad-4a4c-ba54-ae5ac33cb25f",
   "metadata": {},
   "outputs": [
    {
     "data": {
      "text/plain": [
       "0.0001711719653149822"
      ]
     },
     "execution_count": 47,
     "metadata": {},
     "output_type": "execute_result"
    }
   ],
   "source": [
    "np.var(lung_train_scores)"
   ]
  },
  {
   "cell_type": "code",
   "execution_count": 48,
   "id": "49023dc2-cd6f-4787-8405-adeb27f72196",
   "metadata": {},
   "outputs": [
    {
     "data": {
      "text/plain": [
       "0.032460302452812326"
      ]
     },
     "execution_count": 48,
     "metadata": {},
     "output_type": "execute_result"
    }
   ],
   "source": [
    "np.var(lung_test_scores)"
   ]
  },
  {
   "cell_type": "markdown",
   "id": "5750671f-3c01-48e6-92e4-a11fd3b37c9c",
   "metadata": {},
   "source": [
    "Based on your results, which statement applies?"
   ]
  },
  {
   "cell_type": "code",
   "execution_count": 49,
   "id": "641ec96e-ce17-43be-ac73-3417e5f0cc64",
   "metadata": {},
   "outputs": [],
   "source": [
    "# The scores for the test data varied more than the scores for the training data #"
   ]
  },
  {
   "cell_type": "code",
   "execution_count": 50,
   "id": "61ef0ef0-7638-4d7b-ad47-5789f21c3c11",
   "metadata": {},
   "outputs": [],
   "source": [
    "## The variance value for the training scores seems to be less than for the test scores.\n",
    "## This tells us that the testing data varies more than the training data"
   ]
  },
  {
   "cell_type": "code",
   "execution_count": 51,
   "id": "d911f4db-df1c-4693-baa0-50cfd1462210",
   "metadata": {},
   "outputs": [
    {
     "data": {
      "text/plain": [
       "0.6341588671758068"
      ]
     },
     "execution_count": 51,
     "metadata": {},
     "output_type": "execute_result"
    }
   ],
   "source": [
    "np.mean(lung_train_scores)"
   ]
  },
  {
   "cell_type": "code",
   "execution_count": 52,
   "id": "44175a2f-f169-4f5f-bcd5-3826a11783a2",
   "metadata": {},
   "outputs": [
    {
     "data": {
      "text/plain": [
       "0.5956294955479121"
      ]
     },
     "execution_count": 52,
     "metadata": {},
     "output_type": "execute_result"
    }
   ],
   "source": [
    "np.mean(lung_test_scores)"
   ]
  },
  {
   "cell_type": "code",
   "execution_count": 59,
   "id": "3e5d20a0-f0df-489b-ba83-9344d7991af3",
   "metadata": {},
   "outputs": [],
   "source": [
    "ss = SS()"
   ]
  },
  {
   "cell_type": "code",
   "execution_count": 60,
   "id": "ad939472-b4d1-415a-a5c3-00ee29228577",
   "metadata": {},
   "outputs": [
    {
     "name": "stdout",
     "output_type": "stream",
     "text": [
      "[0.64 0.63 0.65 0.62 0.64 0.64 0.62 0.63 0.63 0.63 0.64 0.67 0.61 0.63\n",
      " 0.63] [0.4238485605118225, 0.6276388872439458, 0.49219061449915424, 0.7983871820097426, 0.5001918456854674, 0.4105351671133315, 0.7636241400450384, 0.7009403678274808, 0.7366900039301073, 0.7475630987971955, 0.42462962458437603, 0.15600319170646126, 0.8034505938504982, 0.6943096483526809, 0.6544395070613787]\n"
     ]
    }
   ],
   "source": [
    "train_resu_ss, test_resu_ss = do_Kfold(model = lin_reg, X = X, y = y, k = 15, scaler = ss, random_state = 96)\n",
    "train_resu_ss = np.round(train_resu_ss, 2)\n",
    "print(train_resu_ss, test_resu_ss)"
   ]
  },
  {
   "cell_type": "code",
   "execution_count": null,
   "id": "a0342a16-b2e9-4a43-afb1-786f0f6d2e4f",
   "metadata": {},
   "outputs": [],
   "source": []
  },
  {
   "cell_type": "code",
   "execution_count": null,
   "id": "161a57a0-58ae-4dd0-ad38-5f9afbc10b38",
   "metadata": {},
   "outputs": [],
   "source": []
  },
  {
   "cell_type": "code",
   "execution_count": null,
   "id": "363e2782-1dd5-416d-b85c-18853148e420",
   "metadata": {},
   "outputs": [],
   "source": []
  },
  {
   "cell_type": "code",
   "execution_count": null,
   "id": "16e1060d-46cf-48fa-84f0-ee1f379dab4d",
   "metadata": {},
   "outputs": [],
   "source": []
  },
  {
   "cell_type": "code",
   "execution_count": null,
   "id": "05615372-1073-4b81-a53f-927efa10b392",
   "metadata": {},
   "outputs": [],
   "source": []
  },
  {
   "cell_type": "code",
   "execution_count": null,
   "id": "c6959bf8-9147-4cc3-83ff-0ae8e6a80c04",
   "metadata": {},
   "outputs": [],
   "source": []
  },
  {
   "cell_type": "markdown",
   "id": "3d2f71f3-0b42-46ea-95ad-ff7d4fb4363a",
   "metadata": {},
   "source": [
    "# Question 11"
   ]
  },
  {
   "cell_type": "code",
   "execution_count": 70,
   "id": "d384b08b-a774-42b7-8902-32314fa4ca93",
   "metadata": {},
   "outputs": [],
   "source": [
    "lin_reg = LR()"
   ]
  },
  {
   "cell_type": "markdown",
   "id": "80aa7747-36ec-47fe-9302-e126167bcfed",
   "metadata": {},
   "source": [
    "Using the lung adenocarcinoma data, split the data into a testing and training set according to the following:\n",
    "\n",
    "-Use random state 165\n",
    "\n",
    "-Use shuffle = True\n",
    "\n",
    "-Use a test size of 0.25 and a training size of 0.75\n",
    "\n",
    "-Scale the training and testing data as we did in class (you should refer back to your class notes and notebooks)\n",
    "\n",
    "-Remember the target is RFS_MONTHS, and the other numeric variables are the predictors\n",
    "\n",
    "Fit the model to the training data, score it, and then score the test data. Based on your results, you can determine that:\n",
    "\n",
    "(You may need to do additional work, i.e. write more code, to answer some of the questions below)\n",
    "\n",
    "Select ALL answers that apply - there may be more than 1."
   ]
  },
  {
   "cell_type": "code",
   "execution_count": 72,
   "id": "59a295c4-00e1-4726-98dd-16217a17a0a2",
   "metadata": {},
   "outputs": [],
   "source": [
    "def do_Q11_Kfold(model,X,y,k,scaler = None, random_state = 146):\n",
    "    from sklearn.model_selection import KFold\n",
    "    \n",
    "    kf = KFold(n_splits=k, random_state = random_state, shuffle=True) \n",
    "\n",
    "    \n",
    "    \n",
    "    train_scores = [] \n",
    "    test_scores = []\n",
    "\n",
    "    for idxTrain, idxTest in kf.split(X): \n",
    "        Xtrain = X[idxTrain, :] \n",
    "        Xtest = X[idxTest, :] \n",
    "        ytrain = y[idxTrain] \n",
    "        ytest = y[idxTest] \n",
    "        if scaler != None: \n",
    "            Xtrain = scaler.fit_transform(Xtrain)\n",
    "            Xtest = scaler.transform(Xtest) \n",
    "\n",
    "        model.fit(Xtrain,ytrain) \n",
    "\n",
    "        train_scores.append(model.score(Xtrain,ytrain)) \n",
    "        test_scores.append(model.score(Xtest,ytest))\n",
    "        \n",
    "    return train_scores, test_scores, model.coef_"
   ]
  },
  {
   "cell_type": "code",
   "execution_count": 73,
   "id": "757058ed-c67e-43d4-add1-1ada8af59735",
   "metadata": {
    "scrolled": true
   },
   "outputs": [
    {
     "name": "stdout",
     "output_type": "stream",
     "text": [
      "Index(['AGE_AT_SURGERY', 'SMOKING_PACK_YEARS', 'SUV', 'CT_SIZE', 'DLCO',\n",
      "       'FEV1', 'OS_MONTHS'],\n",
      "      dtype='object')\n"
     ]
    },
    {
     "data": {
      "text/plain": [
       "([0.6236764799744057,\n",
       "  0.6589824383337073,\n",
       "  0.6550700337181049,\n",
       "  0.6054127838341331],\n",
       " [0.6586341159544495,\n",
       "  0.5491200992172436,\n",
       "  0.5479854403035024,\n",
       "  0.697644104862787],\n",
       " array([[ 0.32054734,  0.93272521, -2.05221738,  0.06035959,  0.5707709 ,\n",
       "         -0.38363899,  9.47263359]]))"
      ]
     },
     "execution_count": 73,
     "metadata": {},
     "output_type": "execute_result"
    }
   ],
   "source": [
    "print(lung_predictors.columns)\n",
    "do_Q11_Kfold(model = lin_reg, X = X, y = y, k = 4, scaler = ss, random_state = 165) "
   ]
  },
  {
   "cell_type": "code",
   "execution_count": 76,
   "id": "fe9b08f3-fd83-415e-95e9-69040248dd4c",
   "metadata": {},
   "outputs": [],
   "source": [
    "ss = SS()"
   ]
  },
  {
   "cell_type": "code",
   "execution_count": 77,
   "id": "14328870-b904-4c58-ac73-4275af7bda8a",
   "metadata": {},
   "outputs": [],
   "source": [
    "\n",
    "X_train, X_test, y_train, y_test = train_test_split(X, y, test_size = 0.25, train_size = 0.75, random_state = 165) \n",
    "X_train_scaled = ss.fit_transform(X_train)\n",
    "X_test_scaled = ss.transform(X_test)\n"
   ]
  },
  {
   "cell_type": "code",
   "execution_count": 78,
   "id": "53bd4efa-c80c-4dea-9ada-d68a662976b8",
   "metadata": {},
   "outputs": [
    {
     "data": {
      "text/plain": [
       "array([[ 68.        ,  25.        ,   4.7       , ...,  93.        ,\n",
       "        120.        ,   6.66666667],\n",
       "       [ 57.        ,   6.        ,   2.3       , ...,  80.        ,\n",
       "         81.        ,   9.7       ],\n",
       "       [ 82.        ,  60.        ,   2.1       , ...,  74.        ,\n",
       "        103.        ,  14.43333333],\n",
       "       ...,\n",
       "       [ 56.        ,  32.        ,   1.9       , ...,  98.        ,\n",
       "         98.        ,  49.26666667],\n",
       "       [ 68.        ,  40.        ,   5.1       , ...,  66.        ,\n",
       "         98.        ,   4.73333333],\n",
       "       [ 77.        ,   0.        ,  12.79      , ...,  83.        ,\n",
       "        136.        ,  31.76666667]])"
      ]
     },
     "execution_count": 78,
     "metadata": {},
     "output_type": "execute_result"
    }
   ],
   "source": [
    "X_train"
   ]
  },
  {
   "cell_type": "code",
   "execution_count": 79,
   "id": "fc30cc56-a5dd-4263-b833-5e0574ac0650",
   "metadata": {},
   "outputs": [
    {
     "data": {
      "text/html": [
       "<style>#sk-container-id-1 {\n",
       "  /* Definition of color scheme common for light and dark mode */\n",
       "  --sklearn-color-text: black;\n",
       "  --sklearn-color-line: gray;\n",
       "  /* Definition of color scheme for unfitted estimators */\n",
       "  --sklearn-color-unfitted-level-0: #fff5e6;\n",
       "  --sklearn-color-unfitted-level-1: #f6e4d2;\n",
       "  --sklearn-color-unfitted-level-2: #ffe0b3;\n",
       "  --sklearn-color-unfitted-level-3: chocolate;\n",
       "  /* Definition of color scheme for fitted estimators */\n",
       "  --sklearn-color-fitted-level-0: #f0f8ff;\n",
       "  --sklearn-color-fitted-level-1: #d4ebff;\n",
       "  --sklearn-color-fitted-level-2: #b3dbfd;\n",
       "  --sklearn-color-fitted-level-3: cornflowerblue;\n",
       "\n",
       "  /* Specific color for light theme */\n",
       "  --sklearn-color-text-on-default-background: var(--sg-text-color, var(--theme-code-foreground, var(--jp-content-font-color1, black)));\n",
       "  --sklearn-color-background: var(--sg-background-color, var(--theme-background, var(--jp-layout-color0, white)));\n",
       "  --sklearn-color-border-box: var(--sg-text-color, var(--theme-code-foreground, var(--jp-content-font-color1, black)));\n",
       "  --sklearn-color-icon: #696969;\n",
       "\n",
       "  @media (prefers-color-scheme: dark) {\n",
       "    /* Redefinition of color scheme for dark theme */\n",
       "    --sklearn-color-text-on-default-background: var(--sg-text-color, var(--theme-code-foreground, var(--jp-content-font-color1, white)));\n",
       "    --sklearn-color-background: var(--sg-background-color, var(--theme-background, var(--jp-layout-color0, #111)));\n",
       "    --sklearn-color-border-box: var(--sg-text-color, var(--theme-code-foreground, var(--jp-content-font-color1, white)));\n",
       "    --sklearn-color-icon: #878787;\n",
       "  }\n",
       "}\n",
       "\n",
       "#sk-container-id-1 {\n",
       "  color: var(--sklearn-color-text);\n",
       "}\n",
       "\n",
       "#sk-container-id-1 pre {\n",
       "  padding: 0;\n",
       "}\n",
       "\n",
       "#sk-container-id-1 input.sk-hidden--visually {\n",
       "  border: 0;\n",
       "  clip: rect(1px 1px 1px 1px);\n",
       "  clip: rect(1px, 1px, 1px, 1px);\n",
       "  height: 1px;\n",
       "  margin: -1px;\n",
       "  overflow: hidden;\n",
       "  padding: 0;\n",
       "  position: absolute;\n",
       "  width: 1px;\n",
       "}\n",
       "\n",
       "#sk-container-id-1 div.sk-dashed-wrapped {\n",
       "  border: 1px dashed var(--sklearn-color-line);\n",
       "  margin: 0 0.4em 0.5em 0.4em;\n",
       "  box-sizing: border-box;\n",
       "  padding-bottom: 0.4em;\n",
       "  background-color: var(--sklearn-color-background);\n",
       "}\n",
       "\n",
       "#sk-container-id-1 div.sk-container {\n",
       "  /* jupyter's `normalize.less` sets `[hidden] { display: none; }`\n",
       "     but bootstrap.min.css set `[hidden] { display: none !important; }`\n",
       "     so we also need the `!important` here to be able to override the\n",
       "     default hidden behavior on the sphinx rendered scikit-learn.org.\n",
       "     See: https://github.com/scikit-learn/scikit-learn/issues/21755 */\n",
       "  display: inline-block !important;\n",
       "  position: relative;\n",
       "}\n",
       "\n",
       "#sk-container-id-1 div.sk-text-repr-fallback {\n",
       "  display: none;\n",
       "}\n",
       "\n",
       "div.sk-parallel-item,\n",
       "div.sk-serial,\n",
       "div.sk-item {\n",
       "  /* draw centered vertical line to link estimators */\n",
       "  background-image: linear-gradient(var(--sklearn-color-text-on-default-background), var(--sklearn-color-text-on-default-background));\n",
       "  background-size: 2px 100%;\n",
       "  background-repeat: no-repeat;\n",
       "  background-position: center center;\n",
       "}\n",
       "\n",
       "/* Parallel-specific style estimator block */\n",
       "\n",
       "#sk-container-id-1 div.sk-parallel-item::after {\n",
       "  content: \"\";\n",
       "  width: 100%;\n",
       "  border-bottom: 2px solid var(--sklearn-color-text-on-default-background);\n",
       "  flex-grow: 1;\n",
       "}\n",
       "\n",
       "#sk-container-id-1 div.sk-parallel {\n",
       "  display: flex;\n",
       "  align-items: stretch;\n",
       "  justify-content: center;\n",
       "  background-color: var(--sklearn-color-background);\n",
       "  position: relative;\n",
       "}\n",
       "\n",
       "#sk-container-id-1 div.sk-parallel-item {\n",
       "  display: flex;\n",
       "  flex-direction: column;\n",
       "}\n",
       "\n",
       "#sk-container-id-1 div.sk-parallel-item:first-child::after {\n",
       "  align-self: flex-end;\n",
       "  width: 50%;\n",
       "}\n",
       "\n",
       "#sk-container-id-1 div.sk-parallel-item:last-child::after {\n",
       "  align-self: flex-start;\n",
       "  width: 50%;\n",
       "}\n",
       "\n",
       "#sk-container-id-1 div.sk-parallel-item:only-child::after {\n",
       "  width: 0;\n",
       "}\n",
       "\n",
       "/* Serial-specific style estimator block */\n",
       "\n",
       "#sk-container-id-1 div.sk-serial {\n",
       "  display: flex;\n",
       "  flex-direction: column;\n",
       "  align-items: center;\n",
       "  background-color: var(--sklearn-color-background);\n",
       "  padding-right: 1em;\n",
       "  padding-left: 1em;\n",
       "}\n",
       "\n",
       "\n",
       "/* Toggleable style: style used for estimator/Pipeline/ColumnTransformer box that is\n",
       "clickable and can be expanded/collapsed.\n",
       "- Pipeline and ColumnTransformer use this feature and define the default style\n",
       "- Estimators will overwrite some part of the style using the `sk-estimator` class\n",
       "*/\n",
       "\n",
       "/* Pipeline and ColumnTransformer style (default) */\n",
       "\n",
       "#sk-container-id-1 div.sk-toggleable {\n",
       "  /* Default theme specific background. It is overwritten whether we have a\n",
       "  specific estimator or a Pipeline/ColumnTransformer */\n",
       "  background-color: var(--sklearn-color-background);\n",
       "}\n",
       "\n",
       "/* Toggleable label */\n",
       "#sk-container-id-1 label.sk-toggleable__label {\n",
       "  cursor: pointer;\n",
       "  display: block;\n",
       "  width: 100%;\n",
       "  margin-bottom: 0;\n",
       "  padding: 0.5em;\n",
       "  box-sizing: border-box;\n",
       "  text-align: center;\n",
       "}\n",
       "\n",
       "#sk-container-id-1 label.sk-toggleable__label-arrow:before {\n",
       "  /* Arrow on the left of the label */\n",
       "  content: \"▸\";\n",
       "  float: left;\n",
       "  margin-right: 0.25em;\n",
       "  color: var(--sklearn-color-icon);\n",
       "}\n",
       "\n",
       "#sk-container-id-1 label.sk-toggleable__label-arrow:hover:before {\n",
       "  color: var(--sklearn-color-text);\n",
       "}\n",
       "\n",
       "/* Toggleable content - dropdown */\n",
       "\n",
       "#sk-container-id-1 div.sk-toggleable__content {\n",
       "  max-height: 0;\n",
       "  max-width: 0;\n",
       "  overflow: hidden;\n",
       "  text-align: left;\n",
       "  /* unfitted */\n",
       "  background-color: var(--sklearn-color-unfitted-level-0);\n",
       "}\n",
       "\n",
       "#sk-container-id-1 div.sk-toggleable__content.fitted {\n",
       "  /* fitted */\n",
       "  background-color: var(--sklearn-color-fitted-level-0);\n",
       "}\n",
       "\n",
       "#sk-container-id-1 div.sk-toggleable__content pre {\n",
       "  margin: 0.2em;\n",
       "  border-radius: 0.25em;\n",
       "  color: var(--sklearn-color-text);\n",
       "  /* unfitted */\n",
       "  background-color: var(--sklearn-color-unfitted-level-0);\n",
       "}\n",
       "\n",
       "#sk-container-id-1 div.sk-toggleable__content.fitted pre {\n",
       "  /* unfitted */\n",
       "  background-color: var(--sklearn-color-fitted-level-0);\n",
       "}\n",
       "\n",
       "#sk-container-id-1 input.sk-toggleable__control:checked~div.sk-toggleable__content {\n",
       "  /* Expand drop-down */\n",
       "  max-height: 200px;\n",
       "  max-width: 100%;\n",
       "  overflow: auto;\n",
       "}\n",
       "\n",
       "#sk-container-id-1 input.sk-toggleable__control:checked~label.sk-toggleable__label-arrow:before {\n",
       "  content: \"▾\";\n",
       "}\n",
       "\n",
       "/* Pipeline/ColumnTransformer-specific style */\n",
       "\n",
       "#sk-container-id-1 div.sk-label input.sk-toggleable__control:checked~label.sk-toggleable__label {\n",
       "  color: var(--sklearn-color-text);\n",
       "  background-color: var(--sklearn-color-unfitted-level-2);\n",
       "}\n",
       "\n",
       "#sk-container-id-1 div.sk-label.fitted input.sk-toggleable__control:checked~label.sk-toggleable__label {\n",
       "  background-color: var(--sklearn-color-fitted-level-2);\n",
       "}\n",
       "\n",
       "/* Estimator-specific style */\n",
       "\n",
       "/* Colorize estimator box */\n",
       "#sk-container-id-1 div.sk-estimator input.sk-toggleable__control:checked~label.sk-toggleable__label {\n",
       "  /* unfitted */\n",
       "  background-color: var(--sklearn-color-unfitted-level-2);\n",
       "}\n",
       "\n",
       "#sk-container-id-1 div.sk-estimator.fitted input.sk-toggleable__control:checked~label.sk-toggleable__label {\n",
       "  /* fitted */\n",
       "  background-color: var(--sklearn-color-fitted-level-2);\n",
       "}\n",
       "\n",
       "#sk-container-id-1 div.sk-label label.sk-toggleable__label,\n",
       "#sk-container-id-1 div.sk-label label {\n",
       "  /* The background is the default theme color */\n",
       "  color: var(--sklearn-color-text-on-default-background);\n",
       "}\n",
       "\n",
       "/* On hover, darken the color of the background */\n",
       "#sk-container-id-1 div.sk-label:hover label.sk-toggleable__label {\n",
       "  color: var(--sklearn-color-text);\n",
       "  background-color: var(--sklearn-color-unfitted-level-2);\n",
       "}\n",
       "\n",
       "/* Label box, darken color on hover, fitted */\n",
       "#sk-container-id-1 div.sk-label.fitted:hover label.sk-toggleable__label.fitted {\n",
       "  color: var(--sklearn-color-text);\n",
       "  background-color: var(--sklearn-color-fitted-level-2);\n",
       "}\n",
       "\n",
       "/* Estimator label */\n",
       "\n",
       "#sk-container-id-1 div.sk-label label {\n",
       "  font-family: monospace;\n",
       "  font-weight: bold;\n",
       "  display: inline-block;\n",
       "  line-height: 1.2em;\n",
       "}\n",
       "\n",
       "#sk-container-id-1 div.sk-label-container {\n",
       "  text-align: center;\n",
       "}\n",
       "\n",
       "/* Estimator-specific */\n",
       "#sk-container-id-1 div.sk-estimator {\n",
       "  font-family: monospace;\n",
       "  border: 1px dotted var(--sklearn-color-border-box);\n",
       "  border-radius: 0.25em;\n",
       "  box-sizing: border-box;\n",
       "  margin-bottom: 0.5em;\n",
       "  /* unfitted */\n",
       "  background-color: var(--sklearn-color-unfitted-level-0);\n",
       "}\n",
       "\n",
       "#sk-container-id-1 div.sk-estimator.fitted {\n",
       "  /* fitted */\n",
       "  background-color: var(--sklearn-color-fitted-level-0);\n",
       "}\n",
       "\n",
       "/* on hover */\n",
       "#sk-container-id-1 div.sk-estimator:hover {\n",
       "  /* unfitted */\n",
       "  background-color: var(--sklearn-color-unfitted-level-2);\n",
       "}\n",
       "\n",
       "#sk-container-id-1 div.sk-estimator.fitted:hover {\n",
       "  /* fitted */\n",
       "  background-color: var(--sklearn-color-fitted-level-2);\n",
       "}\n",
       "\n",
       "/* Specification for estimator info (e.g. \"i\" and \"?\") */\n",
       "\n",
       "/* Common style for \"i\" and \"?\" */\n",
       "\n",
       ".sk-estimator-doc-link,\n",
       "a:link.sk-estimator-doc-link,\n",
       "a:visited.sk-estimator-doc-link {\n",
       "  float: right;\n",
       "  font-size: smaller;\n",
       "  line-height: 1em;\n",
       "  font-family: monospace;\n",
       "  background-color: var(--sklearn-color-background);\n",
       "  border-radius: 1em;\n",
       "  height: 1em;\n",
       "  width: 1em;\n",
       "  text-decoration: none !important;\n",
       "  margin-left: 1ex;\n",
       "  /* unfitted */\n",
       "  border: var(--sklearn-color-unfitted-level-1) 1pt solid;\n",
       "  color: var(--sklearn-color-unfitted-level-1);\n",
       "}\n",
       "\n",
       ".sk-estimator-doc-link.fitted,\n",
       "a:link.sk-estimator-doc-link.fitted,\n",
       "a:visited.sk-estimator-doc-link.fitted {\n",
       "  /* fitted */\n",
       "  border: var(--sklearn-color-fitted-level-1) 1pt solid;\n",
       "  color: var(--sklearn-color-fitted-level-1);\n",
       "}\n",
       "\n",
       "/* On hover */\n",
       "div.sk-estimator:hover .sk-estimator-doc-link:hover,\n",
       ".sk-estimator-doc-link:hover,\n",
       "div.sk-label-container:hover .sk-estimator-doc-link:hover,\n",
       ".sk-estimator-doc-link:hover {\n",
       "  /* unfitted */\n",
       "  background-color: var(--sklearn-color-unfitted-level-3);\n",
       "  color: var(--sklearn-color-background);\n",
       "  text-decoration: none;\n",
       "}\n",
       "\n",
       "div.sk-estimator.fitted:hover .sk-estimator-doc-link.fitted:hover,\n",
       ".sk-estimator-doc-link.fitted:hover,\n",
       "div.sk-label-container:hover .sk-estimator-doc-link.fitted:hover,\n",
       ".sk-estimator-doc-link.fitted:hover {\n",
       "  /* fitted */\n",
       "  background-color: var(--sklearn-color-fitted-level-3);\n",
       "  color: var(--sklearn-color-background);\n",
       "  text-decoration: none;\n",
       "}\n",
       "\n",
       "/* Span, style for the box shown on hovering the info icon */\n",
       ".sk-estimator-doc-link span {\n",
       "  display: none;\n",
       "  z-index: 9999;\n",
       "  position: relative;\n",
       "  font-weight: normal;\n",
       "  right: .2ex;\n",
       "  padding: .5ex;\n",
       "  margin: .5ex;\n",
       "  width: min-content;\n",
       "  min-width: 20ex;\n",
       "  max-width: 50ex;\n",
       "  color: var(--sklearn-color-text);\n",
       "  box-shadow: 2pt 2pt 4pt #999;\n",
       "  /* unfitted */\n",
       "  background: var(--sklearn-color-unfitted-level-0);\n",
       "  border: .5pt solid var(--sklearn-color-unfitted-level-3);\n",
       "}\n",
       "\n",
       ".sk-estimator-doc-link.fitted span {\n",
       "  /* fitted */\n",
       "  background: var(--sklearn-color-fitted-level-0);\n",
       "  border: var(--sklearn-color-fitted-level-3);\n",
       "}\n",
       "\n",
       ".sk-estimator-doc-link:hover span {\n",
       "  display: block;\n",
       "}\n",
       "\n",
       "/* \"?\"-specific style due to the `<a>` HTML tag */\n",
       "\n",
       "#sk-container-id-1 a.estimator_doc_link {\n",
       "  float: right;\n",
       "  font-size: 1rem;\n",
       "  line-height: 1em;\n",
       "  font-family: monospace;\n",
       "  background-color: var(--sklearn-color-background);\n",
       "  border-radius: 1rem;\n",
       "  height: 1rem;\n",
       "  width: 1rem;\n",
       "  text-decoration: none;\n",
       "  /* unfitted */\n",
       "  color: var(--sklearn-color-unfitted-level-1);\n",
       "  border: var(--sklearn-color-unfitted-level-1) 1pt solid;\n",
       "}\n",
       "\n",
       "#sk-container-id-1 a.estimator_doc_link.fitted {\n",
       "  /* fitted */\n",
       "  border: var(--sklearn-color-fitted-level-1) 1pt solid;\n",
       "  color: var(--sklearn-color-fitted-level-1);\n",
       "}\n",
       "\n",
       "/* On hover */\n",
       "#sk-container-id-1 a.estimator_doc_link:hover {\n",
       "  /* unfitted */\n",
       "  background-color: var(--sklearn-color-unfitted-level-3);\n",
       "  color: var(--sklearn-color-background);\n",
       "  text-decoration: none;\n",
       "}\n",
       "\n",
       "#sk-container-id-1 a.estimator_doc_link.fitted:hover {\n",
       "  /* fitted */\n",
       "  background-color: var(--sklearn-color-fitted-level-3);\n",
       "}\n",
       "</style><div id=\"sk-container-id-1\" class=\"sk-top-container\"><div class=\"sk-text-repr-fallback\"><pre>LinearRegression()</pre><b>In a Jupyter environment, please rerun this cell to show the HTML representation or trust the notebook. <br />On GitHub, the HTML representation is unable to render, please try loading this page with nbviewer.org.</b></div><div class=\"sk-container\" hidden><div class=\"sk-item\"><div class=\"sk-estimator fitted sk-toggleable\"><input class=\"sk-toggleable__control sk-hidden--visually\" id=\"sk-estimator-id-1\" type=\"checkbox\" checked><label for=\"sk-estimator-id-1\" class=\"sk-toggleable__label fitted sk-toggleable__label-arrow fitted\">&nbsp;&nbsp;LinearRegression<a class=\"sk-estimator-doc-link fitted\" rel=\"noreferrer\" target=\"_blank\" href=\"https://scikit-learn.org/1.4/modules/generated/sklearn.linear_model.LinearRegression.html\">?<span>Documentation for LinearRegression</span></a><span class=\"sk-estimator-doc-link fitted\">i<span>Fitted</span></span></label><div class=\"sk-toggleable__content fitted\"><pre>LinearRegression()</pre></div> </div></div></div></div>"
      ],
      "text/plain": [
       "LinearRegression()"
      ]
     },
     "execution_count": 79,
     "metadata": {},
     "output_type": "execute_result"
    }
   ],
   "source": [
    "lin_reg.fit(X_train_scaled, y_train)"
   ]
  },
  {
   "cell_type": "code",
   "execution_count": 80,
   "id": "deb0f4e1-c398-4a69-93a1-295e5f11aff3",
   "metadata": {},
   "outputs": [
    {
     "data": {
      "text/plain": [
       "0.6586341159544493"
      ]
     },
     "execution_count": 80,
     "metadata": {},
     "output_type": "execute_result"
    }
   ],
   "source": [
    "lin_reg.score(X_test_scaled, y_test)"
   ]
  },
  {
   "cell_type": "code",
   "execution_count": 81,
   "id": "e60f854f-d6f0-4f65-b420-6f7d71207705",
   "metadata": {},
   "outputs": [
    {
     "name": "stdout",
     "output_type": "stream",
     "text": [
      "Index(['AGE_AT_SURGERY', 'SMOKING_PACK_YEARS', 'SUV', 'CT_SIZE', 'DLCO',\n",
      "       'FEV1', 'OS_MONTHS'],\n",
      "      dtype='object')\n"
     ]
    }
   ],
   "source": [
    "print(lung_predictors.columns)"
   ]
  },
  {
   "cell_type": "code",
   "execution_count": 82,
   "id": "01fdf05f-a7e1-47d8-9090-ac6e532d00d3",
   "metadata": {},
   "outputs": [
    {
     "data": {
      "text/plain": [
       "['AGE_AT_SURGERY',\n",
       " 'SMOKING_PACK_YEARS',\n",
       " 'SUV',\n",
       " 'CT_SIZE',\n",
       " 'DLCO',\n",
       " 'FEV1',\n",
       " 'OS_MONTHS']"
      ]
     },
     "execution_count": 82,
     "metadata": {},
     "output_type": "execute_result"
    }
   ],
   "source": [
    "columns_array = np.array(lung_predictors.columns)\n",
    "columns_array = list(columns_array)\n",
    "columns_array"
   ]
  },
  {
   "cell_type": "code",
   "execution_count": 83,
   "id": "adc5f70c-afaa-4095-a912-c28089ef4b14",
   "metadata": {},
   "outputs": [
    {
     "data": {
      "text/plain": [
       "array([ 0.90390402,  1.10309276, -1.91798656, -0.22067559,  0.99220282,\n",
       "       -0.69781347,  9.78688045])"
      ]
     },
     "execution_count": 83,
     "metadata": {},
     "output_type": "execute_result"
    }
   ],
   "source": [
    "lin_reg.coef_[0]"
   ]
  },
  {
   "cell_type": "code",
   "execution_count": 84,
   "id": "6545fc45-a453-499b-9b8d-e9d60bb2d658",
   "metadata": {},
   "outputs": [
    {
     "data": {
      "text/plain": [
       "[0.9039040215943144,\n",
       " 1.1030927596973026,\n",
       " -1.9179865586756257,\n",
       " -0.22067558771016804,\n",
       " 0.9922028236343583,\n",
       " -0.6978134688530696,\n",
       " 9.786880450251681]"
      ]
     },
     "execution_count": 84,
     "metadata": {},
     "output_type": "execute_result"
    }
   ],
   "source": [
    "q11_coefficients = lin_reg.coef_[0]\n",
    "q11_new_coefficients = []\n",
    "for i in q11_coefficients:\n",
    "    q11_new_coefficients.append(i)\n",
    "q11_coefficients = list(q11_coefficients)\n",
    "q11_new_coefficients"
   ]
  },
  {
   "cell_type": "code",
   "execution_count": 85,
   "id": "35ac7fca-38e6-474a-a305-f56af524785e",
   "metadata": {},
   "outputs": [
    {
     "data": {
      "text/plain": [
       "{0.9039040215943144: 'AGE_AT_SURGERY',\n",
       " 1.1030927596973026: 'SMOKING_PACK_YEARS',\n",
       " -1.9179865586756257: 'SUV',\n",
       " -0.22067558771016804: 'CT_SIZE',\n",
       " 0.9922028236343583: 'DLCO',\n",
       " -0.6978134688530696: 'FEV1',\n",
       " 9.786880450251681: 'OS_MONTHS'}"
      ]
     },
     "execution_count": 85,
     "metadata": {},
     "output_type": "execute_result"
    }
   ],
   "source": [
    "dictionary = dict(zip(q11_new_coefficients, columns_array))\n",
    "dictionary"
   ]
  },
  {
   "cell_type": "code",
   "execution_count": 89,
   "id": "9a5f20fb-f752-47b8-8252-dd7ab62439b1",
   "metadata": {},
   "outputs": [
    {
     "data": {
      "text/plain": [
       "3"
      ]
     },
     "execution_count": 89,
     "metadata": {},
     "output_type": "execute_result"
    }
   ],
   "source": [
    "np.abs(q11_new_coefficients).argmin()"
   ]
  },
  {
   "cell_type": "code",
   "execution_count": 91,
   "id": "fe335766-9db4-46fe-b33f-1955eb5cf5b8",
   "metadata": {},
   "outputs": [
    {
     "data": {
      "text/plain": [
       "'CT_SIZE'"
      ]
     },
     "execution_count": 91,
     "metadata": {},
     "output_type": "execute_result"
    }
   ],
   "source": [
    "dictionary[q11_coefficients[np.abs(q11_new_coefficients).argmin()]]"
   ]
  },
  {
   "cell_type": "code",
   "execution_count": 92,
   "id": "5a079b27-d643-45eb-a08f-c2c042c39f11",
   "metadata": {},
   "outputs": [],
   "source": [
    "# The coefficient for SUV is has the smallest magnitude (i.e. the absolute value)\n",
    "\n",
    "# FALSE #\n",
    "\n",
    "## CT_SIZE has the smallest absolute value"
   ]
  },
  {
   "cell_type": "code",
   "execution_count": null,
   "id": "31833b23-b8bb-4be5-846c-fa57a535bbb6",
   "metadata": {},
   "outputs": [],
   "source": []
  },
  {
   "cell_type": "code",
   "execution_count": null,
   "id": "173121c5-f7be-4a16-b29b-18280f866812",
   "metadata": {},
   "outputs": [],
   "source": []
  },
  {
   "cell_type": "code",
   "execution_count": null,
   "id": "c4c847ca-1df1-4d11-b6ec-d0a52c19bbd7",
   "metadata": {},
   "outputs": [],
   "source": []
  },
  {
   "cell_type": "code",
   "execution_count": 196,
   "id": "1083935c-827f-449f-b99a-7118609aed5e",
   "metadata": {},
   "outputs": [
    {
     "data": {
      "text/html": [
       "<style>#sk-container-id-2 {\n",
       "  /* Definition of color scheme common for light and dark mode */\n",
       "  --sklearn-color-text: black;\n",
       "  --sklearn-color-line: gray;\n",
       "  /* Definition of color scheme for unfitted estimators */\n",
       "  --sklearn-color-unfitted-level-0: #fff5e6;\n",
       "  --sklearn-color-unfitted-level-1: #f6e4d2;\n",
       "  --sklearn-color-unfitted-level-2: #ffe0b3;\n",
       "  --sklearn-color-unfitted-level-3: chocolate;\n",
       "  /* Definition of color scheme for fitted estimators */\n",
       "  --sklearn-color-fitted-level-0: #f0f8ff;\n",
       "  --sklearn-color-fitted-level-1: #d4ebff;\n",
       "  --sklearn-color-fitted-level-2: #b3dbfd;\n",
       "  --sklearn-color-fitted-level-3: cornflowerblue;\n",
       "\n",
       "  /* Specific color for light theme */\n",
       "  --sklearn-color-text-on-default-background: var(--sg-text-color, var(--theme-code-foreground, var(--jp-content-font-color1, black)));\n",
       "  --sklearn-color-background: var(--sg-background-color, var(--theme-background, var(--jp-layout-color0, white)));\n",
       "  --sklearn-color-border-box: var(--sg-text-color, var(--theme-code-foreground, var(--jp-content-font-color1, black)));\n",
       "  --sklearn-color-icon: #696969;\n",
       "\n",
       "  @media (prefers-color-scheme: dark) {\n",
       "    /* Redefinition of color scheme for dark theme */\n",
       "    --sklearn-color-text-on-default-background: var(--sg-text-color, var(--theme-code-foreground, var(--jp-content-font-color1, white)));\n",
       "    --sklearn-color-background: var(--sg-background-color, var(--theme-background, var(--jp-layout-color0, #111)));\n",
       "    --sklearn-color-border-box: var(--sg-text-color, var(--theme-code-foreground, var(--jp-content-font-color1, white)));\n",
       "    --sklearn-color-icon: #878787;\n",
       "  }\n",
       "}\n",
       "\n",
       "#sk-container-id-2 {\n",
       "  color: var(--sklearn-color-text);\n",
       "}\n",
       "\n",
       "#sk-container-id-2 pre {\n",
       "  padding: 0;\n",
       "}\n",
       "\n",
       "#sk-container-id-2 input.sk-hidden--visually {\n",
       "  border: 0;\n",
       "  clip: rect(1px 1px 1px 1px);\n",
       "  clip: rect(1px, 1px, 1px, 1px);\n",
       "  height: 1px;\n",
       "  margin: -1px;\n",
       "  overflow: hidden;\n",
       "  padding: 0;\n",
       "  position: absolute;\n",
       "  width: 1px;\n",
       "}\n",
       "\n",
       "#sk-container-id-2 div.sk-dashed-wrapped {\n",
       "  border: 1px dashed var(--sklearn-color-line);\n",
       "  margin: 0 0.4em 0.5em 0.4em;\n",
       "  box-sizing: border-box;\n",
       "  padding-bottom: 0.4em;\n",
       "  background-color: var(--sklearn-color-background);\n",
       "}\n",
       "\n",
       "#sk-container-id-2 div.sk-container {\n",
       "  /* jupyter's `normalize.less` sets `[hidden] { display: none; }`\n",
       "     but bootstrap.min.css set `[hidden] { display: none !important; }`\n",
       "     so we also need the `!important` here to be able to override the\n",
       "     default hidden behavior on the sphinx rendered scikit-learn.org.\n",
       "     See: https://github.com/scikit-learn/scikit-learn/issues/21755 */\n",
       "  display: inline-block !important;\n",
       "  position: relative;\n",
       "}\n",
       "\n",
       "#sk-container-id-2 div.sk-text-repr-fallback {\n",
       "  display: none;\n",
       "}\n",
       "\n",
       "div.sk-parallel-item,\n",
       "div.sk-serial,\n",
       "div.sk-item {\n",
       "  /* draw centered vertical line to link estimators */\n",
       "  background-image: linear-gradient(var(--sklearn-color-text-on-default-background), var(--sklearn-color-text-on-default-background));\n",
       "  background-size: 2px 100%;\n",
       "  background-repeat: no-repeat;\n",
       "  background-position: center center;\n",
       "}\n",
       "\n",
       "/* Parallel-specific style estimator block */\n",
       "\n",
       "#sk-container-id-2 div.sk-parallel-item::after {\n",
       "  content: \"\";\n",
       "  width: 100%;\n",
       "  border-bottom: 2px solid var(--sklearn-color-text-on-default-background);\n",
       "  flex-grow: 1;\n",
       "}\n",
       "\n",
       "#sk-container-id-2 div.sk-parallel {\n",
       "  display: flex;\n",
       "  align-items: stretch;\n",
       "  justify-content: center;\n",
       "  background-color: var(--sklearn-color-background);\n",
       "  position: relative;\n",
       "}\n",
       "\n",
       "#sk-container-id-2 div.sk-parallel-item {\n",
       "  display: flex;\n",
       "  flex-direction: column;\n",
       "}\n",
       "\n",
       "#sk-container-id-2 div.sk-parallel-item:first-child::after {\n",
       "  align-self: flex-end;\n",
       "  width: 50%;\n",
       "}\n",
       "\n",
       "#sk-container-id-2 div.sk-parallel-item:last-child::after {\n",
       "  align-self: flex-start;\n",
       "  width: 50%;\n",
       "}\n",
       "\n",
       "#sk-container-id-2 div.sk-parallel-item:only-child::after {\n",
       "  width: 0;\n",
       "}\n",
       "\n",
       "/* Serial-specific style estimator block */\n",
       "\n",
       "#sk-container-id-2 div.sk-serial {\n",
       "  display: flex;\n",
       "  flex-direction: column;\n",
       "  align-items: center;\n",
       "  background-color: var(--sklearn-color-background);\n",
       "  padding-right: 1em;\n",
       "  padding-left: 1em;\n",
       "}\n",
       "\n",
       "\n",
       "/* Toggleable style: style used for estimator/Pipeline/ColumnTransformer box that is\n",
       "clickable and can be expanded/collapsed.\n",
       "- Pipeline and ColumnTransformer use this feature and define the default style\n",
       "- Estimators will overwrite some part of the style using the `sk-estimator` class\n",
       "*/\n",
       "\n",
       "/* Pipeline and ColumnTransformer style (default) */\n",
       "\n",
       "#sk-container-id-2 div.sk-toggleable {\n",
       "  /* Default theme specific background. It is overwritten whether we have a\n",
       "  specific estimator or a Pipeline/ColumnTransformer */\n",
       "  background-color: var(--sklearn-color-background);\n",
       "}\n",
       "\n",
       "/* Toggleable label */\n",
       "#sk-container-id-2 label.sk-toggleable__label {\n",
       "  cursor: pointer;\n",
       "  display: block;\n",
       "  width: 100%;\n",
       "  margin-bottom: 0;\n",
       "  padding: 0.5em;\n",
       "  box-sizing: border-box;\n",
       "  text-align: center;\n",
       "}\n",
       "\n",
       "#sk-container-id-2 label.sk-toggleable__label-arrow:before {\n",
       "  /* Arrow on the left of the label */\n",
       "  content: \"▸\";\n",
       "  float: left;\n",
       "  margin-right: 0.25em;\n",
       "  color: var(--sklearn-color-icon);\n",
       "}\n",
       "\n",
       "#sk-container-id-2 label.sk-toggleable__label-arrow:hover:before {\n",
       "  color: var(--sklearn-color-text);\n",
       "}\n",
       "\n",
       "/* Toggleable content - dropdown */\n",
       "\n",
       "#sk-container-id-2 div.sk-toggleable__content {\n",
       "  max-height: 0;\n",
       "  max-width: 0;\n",
       "  overflow: hidden;\n",
       "  text-align: left;\n",
       "  /* unfitted */\n",
       "  background-color: var(--sklearn-color-unfitted-level-0);\n",
       "}\n",
       "\n",
       "#sk-container-id-2 div.sk-toggleable__content.fitted {\n",
       "  /* fitted */\n",
       "  background-color: var(--sklearn-color-fitted-level-0);\n",
       "}\n",
       "\n",
       "#sk-container-id-2 div.sk-toggleable__content pre {\n",
       "  margin: 0.2em;\n",
       "  border-radius: 0.25em;\n",
       "  color: var(--sklearn-color-text);\n",
       "  /* unfitted */\n",
       "  background-color: var(--sklearn-color-unfitted-level-0);\n",
       "}\n",
       "\n",
       "#sk-container-id-2 div.sk-toggleable__content.fitted pre {\n",
       "  /* unfitted */\n",
       "  background-color: var(--sklearn-color-fitted-level-0);\n",
       "}\n",
       "\n",
       "#sk-container-id-2 input.sk-toggleable__control:checked~div.sk-toggleable__content {\n",
       "  /* Expand drop-down */\n",
       "  max-height: 200px;\n",
       "  max-width: 100%;\n",
       "  overflow: auto;\n",
       "}\n",
       "\n",
       "#sk-container-id-2 input.sk-toggleable__control:checked~label.sk-toggleable__label-arrow:before {\n",
       "  content: \"▾\";\n",
       "}\n",
       "\n",
       "/* Pipeline/ColumnTransformer-specific style */\n",
       "\n",
       "#sk-container-id-2 div.sk-label input.sk-toggleable__control:checked~label.sk-toggleable__label {\n",
       "  color: var(--sklearn-color-text);\n",
       "  background-color: var(--sklearn-color-unfitted-level-2);\n",
       "}\n",
       "\n",
       "#sk-container-id-2 div.sk-label.fitted input.sk-toggleable__control:checked~label.sk-toggleable__label {\n",
       "  background-color: var(--sklearn-color-fitted-level-2);\n",
       "}\n",
       "\n",
       "/* Estimator-specific style */\n",
       "\n",
       "/* Colorize estimator box */\n",
       "#sk-container-id-2 div.sk-estimator input.sk-toggleable__control:checked~label.sk-toggleable__label {\n",
       "  /* unfitted */\n",
       "  background-color: var(--sklearn-color-unfitted-level-2);\n",
       "}\n",
       "\n",
       "#sk-container-id-2 div.sk-estimator.fitted input.sk-toggleable__control:checked~label.sk-toggleable__label {\n",
       "  /* fitted */\n",
       "  background-color: var(--sklearn-color-fitted-level-2);\n",
       "}\n",
       "\n",
       "#sk-container-id-2 div.sk-label label.sk-toggleable__label,\n",
       "#sk-container-id-2 div.sk-label label {\n",
       "  /* The background is the default theme color */\n",
       "  color: var(--sklearn-color-text-on-default-background);\n",
       "}\n",
       "\n",
       "/* On hover, darken the color of the background */\n",
       "#sk-container-id-2 div.sk-label:hover label.sk-toggleable__label {\n",
       "  color: var(--sklearn-color-text);\n",
       "  background-color: var(--sklearn-color-unfitted-level-2);\n",
       "}\n",
       "\n",
       "/* Label box, darken color on hover, fitted */\n",
       "#sk-container-id-2 div.sk-label.fitted:hover label.sk-toggleable__label.fitted {\n",
       "  color: var(--sklearn-color-text);\n",
       "  background-color: var(--sklearn-color-fitted-level-2);\n",
       "}\n",
       "\n",
       "/* Estimator label */\n",
       "\n",
       "#sk-container-id-2 div.sk-label label {\n",
       "  font-family: monospace;\n",
       "  font-weight: bold;\n",
       "  display: inline-block;\n",
       "  line-height: 1.2em;\n",
       "}\n",
       "\n",
       "#sk-container-id-2 div.sk-label-container {\n",
       "  text-align: center;\n",
       "}\n",
       "\n",
       "/* Estimator-specific */\n",
       "#sk-container-id-2 div.sk-estimator {\n",
       "  font-family: monospace;\n",
       "  border: 1px dotted var(--sklearn-color-border-box);\n",
       "  border-radius: 0.25em;\n",
       "  box-sizing: border-box;\n",
       "  margin-bottom: 0.5em;\n",
       "  /* unfitted */\n",
       "  background-color: var(--sklearn-color-unfitted-level-0);\n",
       "}\n",
       "\n",
       "#sk-container-id-2 div.sk-estimator.fitted {\n",
       "  /* fitted */\n",
       "  background-color: var(--sklearn-color-fitted-level-0);\n",
       "}\n",
       "\n",
       "/* on hover */\n",
       "#sk-container-id-2 div.sk-estimator:hover {\n",
       "  /* unfitted */\n",
       "  background-color: var(--sklearn-color-unfitted-level-2);\n",
       "}\n",
       "\n",
       "#sk-container-id-2 div.sk-estimator.fitted:hover {\n",
       "  /* fitted */\n",
       "  background-color: var(--sklearn-color-fitted-level-2);\n",
       "}\n",
       "\n",
       "/* Specification for estimator info (e.g. \"i\" and \"?\") */\n",
       "\n",
       "/* Common style for \"i\" and \"?\" */\n",
       "\n",
       ".sk-estimator-doc-link,\n",
       "a:link.sk-estimator-doc-link,\n",
       "a:visited.sk-estimator-doc-link {\n",
       "  float: right;\n",
       "  font-size: smaller;\n",
       "  line-height: 1em;\n",
       "  font-family: monospace;\n",
       "  background-color: var(--sklearn-color-background);\n",
       "  border-radius: 1em;\n",
       "  height: 1em;\n",
       "  width: 1em;\n",
       "  text-decoration: none !important;\n",
       "  margin-left: 1ex;\n",
       "  /* unfitted */\n",
       "  border: var(--sklearn-color-unfitted-level-1) 1pt solid;\n",
       "  color: var(--sklearn-color-unfitted-level-1);\n",
       "}\n",
       "\n",
       ".sk-estimator-doc-link.fitted,\n",
       "a:link.sk-estimator-doc-link.fitted,\n",
       "a:visited.sk-estimator-doc-link.fitted {\n",
       "  /* fitted */\n",
       "  border: var(--sklearn-color-fitted-level-1) 1pt solid;\n",
       "  color: var(--sklearn-color-fitted-level-1);\n",
       "}\n",
       "\n",
       "/* On hover */\n",
       "div.sk-estimator:hover .sk-estimator-doc-link:hover,\n",
       ".sk-estimator-doc-link:hover,\n",
       "div.sk-label-container:hover .sk-estimator-doc-link:hover,\n",
       ".sk-estimator-doc-link:hover {\n",
       "  /* unfitted */\n",
       "  background-color: var(--sklearn-color-unfitted-level-3);\n",
       "  color: var(--sklearn-color-background);\n",
       "  text-decoration: none;\n",
       "}\n",
       "\n",
       "div.sk-estimator.fitted:hover .sk-estimator-doc-link.fitted:hover,\n",
       ".sk-estimator-doc-link.fitted:hover,\n",
       "div.sk-label-container:hover .sk-estimator-doc-link.fitted:hover,\n",
       ".sk-estimator-doc-link.fitted:hover {\n",
       "  /* fitted */\n",
       "  background-color: var(--sklearn-color-fitted-level-3);\n",
       "  color: var(--sklearn-color-background);\n",
       "  text-decoration: none;\n",
       "}\n",
       "\n",
       "/* Span, style for the box shown on hovering the info icon */\n",
       ".sk-estimator-doc-link span {\n",
       "  display: none;\n",
       "  z-index: 9999;\n",
       "  position: relative;\n",
       "  font-weight: normal;\n",
       "  right: .2ex;\n",
       "  padding: .5ex;\n",
       "  margin: .5ex;\n",
       "  width: min-content;\n",
       "  min-width: 20ex;\n",
       "  max-width: 50ex;\n",
       "  color: var(--sklearn-color-text);\n",
       "  box-shadow: 2pt 2pt 4pt #999;\n",
       "  /* unfitted */\n",
       "  background: var(--sklearn-color-unfitted-level-0);\n",
       "  border: .5pt solid var(--sklearn-color-unfitted-level-3);\n",
       "}\n",
       "\n",
       ".sk-estimator-doc-link.fitted span {\n",
       "  /* fitted */\n",
       "  background: var(--sklearn-color-fitted-level-0);\n",
       "  border: var(--sklearn-color-fitted-level-3);\n",
       "}\n",
       "\n",
       ".sk-estimator-doc-link:hover span {\n",
       "  display: block;\n",
       "}\n",
       "\n",
       "/* \"?\"-specific style due to the `<a>` HTML tag */\n",
       "\n",
       "#sk-container-id-2 a.estimator_doc_link {\n",
       "  float: right;\n",
       "  font-size: 1rem;\n",
       "  line-height: 1em;\n",
       "  font-family: monospace;\n",
       "  background-color: var(--sklearn-color-background);\n",
       "  border-radius: 1rem;\n",
       "  height: 1rem;\n",
       "  width: 1rem;\n",
       "  text-decoration: none;\n",
       "  /* unfitted */\n",
       "  color: var(--sklearn-color-unfitted-level-1);\n",
       "  border: var(--sklearn-color-unfitted-level-1) 1pt solid;\n",
       "}\n",
       "\n",
       "#sk-container-id-2 a.estimator_doc_link.fitted {\n",
       "  /* fitted */\n",
       "  border: var(--sklearn-color-fitted-level-1) 1pt solid;\n",
       "  color: var(--sklearn-color-fitted-level-1);\n",
       "}\n",
       "\n",
       "/* On hover */\n",
       "#sk-container-id-2 a.estimator_doc_link:hover {\n",
       "  /* unfitted */\n",
       "  background-color: var(--sklearn-color-unfitted-level-3);\n",
       "  color: var(--sklearn-color-background);\n",
       "  text-decoration: none;\n",
       "}\n",
       "\n",
       "#sk-container-id-2 a.estimator_doc_link.fitted:hover {\n",
       "  /* fitted */\n",
       "  background-color: var(--sklearn-color-fitted-level-3);\n",
       "}\n",
       "</style><div id=\"sk-container-id-2\" class=\"sk-top-container\"><div class=\"sk-text-repr-fallback\"><pre>LinearRegression()</pre><b>In a Jupyter environment, please rerun this cell to show the HTML representation or trust the notebook. <br />On GitHub, the HTML representation is unable to render, please try loading this page with nbviewer.org.</b></div><div class=\"sk-container\" hidden><div class=\"sk-item\"><div class=\"sk-estimator fitted sk-toggleable\"><input class=\"sk-toggleable__control sk-hidden--visually\" id=\"sk-estimator-id-2\" type=\"checkbox\" checked><label for=\"sk-estimator-id-2\" class=\"sk-toggleable__label fitted sk-toggleable__label-arrow fitted\">&nbsp;&nbsp;LinearRegression<a class=\"sk-estimator-doc-link fitted\" rel=\"noreferrer\" target=\"_blank\" href=\"https://scikit-learn.org/1.4/modules/generated/sklearn.linear_model.LinearRegression.html\">?<span>Documentation for LinearRegression</span></a><span class=\"sk-estimator-doc-link fitted\">i<span>Fitted</span></span></label><div class=\"sk-toggleable__content fitted\"><pre>LinearRegression()</pre></div> </div></div></div></div>"
      ],
      "text/plain": [
       "LinearRegression()"
      ]
     },
     "execution_count": 196,
     "metadata": {},
     "output_type": "execute_result"
    }
   ],
   "source": [
    "lin_reg.fit(X_train, y_train) "
   ]
  },
  {
   "cell_type": "code",
   "execution_count": 197,
   "id": "141cf30d-31c0-49ce-84f4-f584b6b4bcc0",
   "metadata": {},
   "outputs": [
    {
     "data": {
      "text/plain": [
       "0.6586341159544494"
      ]
     },
     "execution_count": 197,
     "metadata": {},
     "output_type": "execute_result"
    }
   ],
   "source": [
    "lin_reg.score(X_test, y_test)\n"
   ]
  },
  {
   "cell_type": "code",
   "execution_count": 198,
   "id": "5c48288c-2b10-4718-9200-89ce5f7fe5e5",
   "metadata": {},
   "outputs": [
    {
     "data": {
      "text/html": [
       "<style>#sk-container-id-3 {\n",
       "  /* Definition of color scheme common for light and dark mode */\n",
       "  --sklearn-color-text: black;\n",
       "  --sklearn-color-line: gray;\n",
       "  /* Definition of color scheme for unfitted estimators */\n",
       "  --sklearn-color-unfitted-level-0: #fff5e6;\n",
       "  --sklearn-color-unfitted-level-1: #f6e4d2;\n",
       "  --sklearn-color-unfitted-level-2: #ffe0b3;\n",
       "  --sklearn-color-unfitted-level-3: chocolate;\n",
       "  /* Definition of color scheme for fitted estimators */\n",
       "  --sklearn-color-fitted-level-0: #f0f8ff;\n",
       "  --sklearn-color-fitted-level-1: #d4ebff;\n",
       "  --sklearn-color-fitted-level-2: #b3dbfd;\n",
       "  --sklearn-color-fitted-level-3: cornflowerblue;\n",
       "\n",
       "  /* Specific color for light theme */\n",
       "  --sklearn-color-text-on-default-background: var(--sg-text-color, var(--theme-code-foreground, var(--jp-content-font-color1, black)));\n",
       "  --sklearn-color-background: var(--sg-background-color, var(--theme-background, var(--jp-layout-color0, white)));\n",
       "  --sklearn-color-border-box: var(--sg-text-color, var(--theme-code-foreground, var(--jp-content-font-color1, black)));\n",
       "  --sklearn-color-icon: #696969;\n",
       "\n",
       "  @media (prefers-color-scheme: dark) {\n",
       "    /* Redefinition of color scheme for dark theme */\n",
       "    --sklearn-color-text-on-default-background: var(--sg-text-color, var(--theme-code-foreground, var(--jp-content-font-color1, white)));\n",
       "    --sklearn-color-background: var(--sg-background-color, var(--theme-background, var(--jp-layout-color0, #111)));\n",
       "    --sklearn-color-border-box: var(--sg-text-color, var(--theme-code-foreground, var(--jp-content-font-color1, white)));\n",
       "    --sklearn-color-icon: #878787;\n",
       "  }\n",
       "}\n",
       "\n",
       "#sk-container-id-3 {\n",
       "  color: var(--sklearn-color-text);\n",
       "}\n",
       "\n",
       "#sk-container-id-3 pre {\n",
       "  padding: 0;\n",
       "}\n",
       "\n",
       "#sk-container-id-3 input.sk-hidden--visually {\n",
       "  border: 0;\n",
       "  clip: rect(1px 1px 1px 1px);\n",
       "  clip: rect(1px, 1px, 1px, 1px);\n",
       "  height: 1px;\n",
       "  margin: -1px;\n",
       "  overflow: hidden;\n",
       "  padding: 0;\n",
       "  position: absolute;\n",
       "  width: 1px;\n",
       "}\n",
       "\n",
       "#sk-container-id-3 div.sk-dashed-wrapped {\n",
       "  border: 1px dashed var(--sklearn-color-line);\n",
       "  margin: 0 0.4em 0.5em 0.4em;\n",
       "  box-sizing: border-box;\n",
       "  padding-bottom: 0.4em;\n",
       "  background-color: var(--sklearn-color-background);\n",
       "}\n",
       "\n",
       "#sk-container-id-3 div.sk-container {\n",
       "  /* jupyter's `normalize.less` sets `[hidden] { display: none; }`\n",
       "     but bootstrap.min.css set `[hidden] { display: none !important; }`\n",
       "     so we also need the `!important` here to be able to override the\n",
       "     default hidden behavior on the sphinx rendered scikit-learn.org.\n",
       "     See: https://github.com/scikit-learn/scikit-learn/issues/21755 */\n",
       "  display: inline-block !important;\n",
       "  position: relative;\n",
       "}\n",
       "\n",
       "#sk-container-id-3 div.sk-text-repr-fallback {\n",
       "  display: none;\n",
       "}\n",
       "\n",
       "div.sk-parallel-item,\n",
       "div.sk-serial,\n",
       "div.sk-item {\n",
       "  /* draw centered vertical line to link estimators */\n",
       "  background-image: linear-gradient(var(--sklearn-color-text-on-default-background), var(--sklearn-color-text-on-default-background));\n",
       "  background-size: 2px 100%;\n",
       "  background-repeat: no-repeat;\n",
       "  background-position: center center;\n",
       "}\n",
       "\n",
       "/* Parallel-specific style estimator block */\n",
       "\n",
       "#sk-container-id-3 div.sk-parallel-item::after {\n",
       "  content: \"\";\n",
       "  width: 100%;\n",
       "  border-bottom: 2px solid var(--sklearn-color-text-on-default-background);\n",
       "  flex-grow: 1;\n",
       "}\n",
       "\n",
       "#sk-container-id-3 div.sk-parallel {\n",
       "  display: flex;\n",
       "  align-items: stretch;\n",
       "  justify-content: center;\n",
       "  background-color: var(--sklearn-color-background);\n",
       "  position: relative;\n",
       "}\n",
       "\n",
       "#sk-container-id-3 div.sk-parallel-item {\n",
       "  display: flex;\n",
       "  flex-direction: column;\n",
       "}\n",
       "\n",
       "#sk-container-id-3 div.sk-parallel-item:first-child::after {\n",
       "  align-self: flex-end;\n",
       "  width: 50%;\n",
       "}\n",
       "\n",
       "#sk-container-id-3 div.sk-parallel-item:last-child::after {\n",
       "  align-self: flex-start;\n",
       "  width: 50%;\n",
       "}\n",
       "\n",
       "#sk-container-id-3 div.sk-parallel-item:only-child::after {\n",
       "  width: 0;\n",
       "}\n",
       "\n",
       "/* Serial-specific style estimator block */\n",
       "\n",
       "#sk-container-id-3 div.sk-serial {\n",
       "  display: flex;\n",
       "  flex-direction: column;\n",
       "  align-items: center;\n",
       "  background-color: var(--sklearn-color-background);\n",
       "  padding-right: 1em;\n",
       "  padding-left: 1em;\n",
       "}\n",
       "\n",
       "\n",
       "/* Toggleable style: style used for estimator/Pipeline/ColumnTransformer box that is\n",
       "clickable and can be expanded/collapsed.\n",
       "- Pipeline and ColumnTransformer use this feature and define the default style\n",
       "- Estimators will overwrite some part of the style using the `sk-estimator` class\n",
       "*/\n",
       "\n",
       "/* Pipeline and ColumnTransformer style (default) */\n",
       "\n",
       "#sk-container-id-3 div.sk-toggleable {\n",
       "  /* Default theme specific background. It is overwritten whether we have a\n",
       "  specific estimator or a Pipeline/ColumnTransformer */\n",
       "  background-color: var(--sklearn-color-background);\n",
       "}\n",
       "\n",
       "/* Toggleable label */\n",
       "#sk-container-id-3 label.sk-toggleable__label {\n",
       "  cursor: pointer;\n",
       "  display: block;\n",
       "  width: 100%;\n",
       "  margin-bottom: 0;\n",
       "  padding: 0.5em;\n",
       "  box-sizing: border-box;\n",
       "  text-align: center;\n",
       "}\n",
       "\n",
       "#sk-container-id-3 label.sk-toggleable__label-arrow:before {\n",
       "  /* Arrow on the left of the label */\n",
       "  content: \"▸\";\n",
       "  float: left;\n",
       "  margin-right: 0.25em;\n",
       "  color: var(--sklearn-color-icon);\n",
       "}\n",
       "\n",
       "#sk-container-id-3 label.sk-toggleable__label-arrow:hover:before {\n",
       "  color: var(--sklearn-color-text);\n",
       "}\n",
       "\n",
       "/* Toggleable content - dropdown */\n",
       "\n",
       "#sk-container-id-3 div.sk-toggleable__content {\n",
       "  max-height: 0;\n",
       "  max-width: 0;\n",
       "  overflow: hidden;\n",
       "  text-align: left;\n",
       "  /* unfitted */\n",
       "  background-color: var(--sklearn-color-unfitted-level-0);\n",
       "}\n",
       "\n",
       "#sk-container-id-3 div.sk-toggleable__content.fitted {\n",
       "  /* fitted */\n",
       "  background-color: var(--sklearn-color-fitted-level-0);\n",
       "}\n",
       "\n",
       "#sk-container-id-3 div.sk-toggleable__content pre {\n",
       "  margin: 0.2em;\n",
       "  border-radius: 0.25em;\n",
       "  color: var(--sklearn-color-text);\n",
       "  /* unfitted */\n",
       "  background-color: var(--sklearn-color-unfitted-level-0);\n",
       "}\n",
       "\n",
       "#sk-container-id-3 div.sk-toggleable__content.fitted pre {\n",
       "  /* unfitted */\n",
       "  background-color: var(--sklearn-color-fitted-level-0);\n",
       "}\n",
       "\n",
       "#sk-container-id-3 input.sk-toggleable__control:checked~div.sk-toggleable__content {\n",
       "  /* Expand drop-down */\n",
       "  max-height: 200px;\n",
       "  max-width: 100%;\n",
       "  overflow: auto;\n",
       "}\n",
       "\n",
       "#sk-container-id-3 input.sk-toggleable__control:checked~label.sk-toggleable__label-arrow:before {\n",
       "  content: \"▾\";\n",
       "}\n",
       "\n",
       "/* Pipeline/ColumnTransformer-specific style */\n",
       "\n",
       "#sk-container-id-3 div.sk-label input.sk-toggleable__control:checked~label.sk-toggleable__label {\n",
       "  color: var(--sklearn-color-text);\n",
       "  background-color: var(--sklearn-color-unfitted-level-2);\n",
       "}\n",
       "\n",
       "#sk-container-id-3 div.sk-label.fitted input.sk-toggleable__control:checked~label.sk-toggleable__label {\n",
       "  background-color: var(--sklearn-color-fitted-level-2);\n",
       "}\n",
       "\n",
       "/* Estimator-specific style */\n",
       "\n",
       "/* Colorize estimator box */\n",
       "#sk-container-id-3 div.sk-estimator input.sk-toggleable__control:checked~label.sk-toggleable__label {\n",
       "  /* unfitted */\n",
       "  background-color: var(--sklearn-color-unfitted-level-2);\n",
       "}\n",
       "\n",
       "#sk-container-id-3 div.sk-estimator.fitted input.sk-toggleable__control:checked~label.sk-toggleable__label {\n",
       "  /* fitted */\n",
       "  background-color: var(--sklearn-color-fitted-level-2);\n",
       "}\n",
       "\n",
       "#sk-container-id-3 div.sk-label label.sk-toggleable__label,\n",
       "#sk-container-id-3 div.sk-label label {\n",
       "  /* The background is the default theme color */\n",
       "  color: var(--sklearn-color-text-on-default-background);\n",
       "}\n",
       "\n",
       "/* On hover, darken the color of the background */\n",
       "#sk-container-id-3 div.sk-label:hover label.sk-toggleable__label {\n",
       "  color: var(--sklearn-color-text);\n",
       "  background-color: var(--sklearn-color-unfitted-level-2);\n",
       "}\n",
       "\n",
       "/* Label box, darken color on hover, fitted */\n",
       "#sk-container-id-3 div.sk-label.fitted:hover label.sk-toggleable__label.fitted {\n",
       "  color: var(--sklearn-color-text);\n",
       "  background-color: var(--sklearn-color-fitted-level-2);\n",
       "}\n",
       "\n",
       "/* Estimator label */\n",
       "\n",
       "#sk-container-id-3 div.sk-label label {\n",
       "  font-family: monospace;\n",
       "  font-weight: bold;\n",
       "  display: inline-block;\n",
       "  line-height: 1.2em;\n",
       "}\n",
       "\n",
       "#sk-container-id-3 div.sk-label-container {\n",
       "  text-align: center;\n",
       "}\n",
       "\n",
       "/* Estimator-specific */\n",
       "#sk-container-id-3 div.sk-estimator {\n",
       "  font-family: monospace;\n",
       "  border: 1px dotted var(--sklearn-color-border-box);\n",
       "  border-radius: 0.25em;\n",
       "  box-sizing: border-box;\n",
       "  margin-bottom: 0.5em;\n",
       "  /* unfitted */\n",
       "  background-color: var(--sklearn-color-unfitted-level-0);\n",
       "}\n",
       "\n",
       "#sk-container-id-3 div.sk-estimator.fitted {\n",
       "  /* fitted */\n",
       "  background-color: var(--sklearn-color-fitted-level-0);\n",
       "}\n",
       "\n",
       "/* on hover */\n",
       "#sk-container-id-3 div.sk-estimator:hover {\n",
       "  /* unfitted */\n",
       "  background-color: var(--sklearn-color-unfitted-level-2);\n",
       "}\n",
       "\n",
       "#sk-container-id-3 div.sk-estimator.fitted:hover {\n",
       "  /* fitted */\n",
       "  background-color: var(--sklearn-color-fitted-level-2);\n",
       "}\n",
       "\n",
       "/* Specification for estimator info (e.g. \"i\" and \"?\") */\n",
       "\n",
       "/* Common style for \"i\" and \"?\" */\n",
       "\n",
       ".sk-estimator-doc-link,\n",
       "a:link.sk-estimator-doc-link,\n",
       "a:visited.sk-estimator-doc-link {\n",
       "  float: right;\n",
       "  font-size: smaller;\n",
       "  line-height: 1em;\n",
       "  font-family: monospace;\n",
       "  background-color: var(--sklearn-color-background);\n",
       "  border-radius: 1em;\n",
       "  height: 1em;\n",
       "  width: 1em;\n",
       "  text-decoration: none !important;\n",
       "  margin-left: 1ex;\n",
       "  /* unfitted */\n",
       "  border: var(--sklearn-color-unfitted-level-1) 1pt solid;\n",
       "  color: var(--sklearn-color-unfitted-level-1);\n",
       "}\n",
       "\n",
       ".sk-estimator-doc-link.fitted,\n",
       "a:link.sk-estimator-doc-link.fitted,\n",
       "a:visited.sk-estimator-doc-link.fitted {\n",
       "  /* fitted */\n",
       "  border: var(--sklearn-color-fitted-level-1) 1pt solid;\n",
       "  color: var(--sklearn-color-fitted-level-1);\n",
       "}\n",
       "\n",
       "/* On hover */\n",
       "div.sk-estimator:hover .sk-estimator-doc-link:hover,\n",
       ".sk-estimator-doc-link:hover,\n",
       "div.sk-label-container:hover .sk-estimator-doc-link:hover,\n",
       ".sk-estimator-doc-link:hover {\n",
       "  /* unfitted */\n",
       "  background-color: var(--sklearn-color-unfitted-level-3);\n",
       "  color: var(--sklearn-color-background);\n",
       "  text-decoration: none;\n",
       "}\n",
       "\n",
       "div.sk-estimator.fitted:hover .sk-estimator-doc-link.fitted:hover,\n",
       ".sk-estimator-doc-link.fitted:hover,\n",
       "div.sk-label-container:hover .sk-estimator-doc-link.fitted:hover,\n",
       ".sk-estimator-doc-link.fitted:hover {\n",
       "  /* fitted */\n",
       "  background-color: var(--sklearn-color-fitted-level-3);\n",
       "  color: var(--sklearn-color-background);\n",
       "  text-decoration: none;\n",
       "}\n",
       "\n",
       "/* Span, style for the box shown on hovering the info icon */\n",
       ".sk-estimator-doc-link span {\n",
       "  display: none;\n",
       "  z-index: 9999;\n",
       "  position: relative;\n",
       "  font-weight: normal;\n",
       "  right: .2ex;\n",
       "  padding: .5ex;\n",
       "  margin: .5ex;\n",
       "  width: min-content;\n",
       "  min-width: 20ex;\n",
       "  max-width: 50ex;\n",
       "  color: var(--sklearn-color-text);\n",
       "  box-shadow: 2pt 2pt 4pt #999;\n",
       "  /* unfitted */\n",
       "  background: var(--sklearn-color-unfitted-level-0);\n",
       "  border: .5pt solid var(--sklearn-color-unfitted-level-3);\n",
       "}\n",
       "\n",
       ".sk-estimator-doc-link.fitted span {\n",
       "  /* fitted */\n",
       "  background: var(--sklearn-color-fitted-level-0);\n",
       "  border: var(--sklearn-color-fitted-level-3);\n",
       "}\n",
       "\n",
       ".sk-estimator-doc-link:hover span {\n",
       "  display: block;\n",
       "}\n",
       "\n",
       "/* \"?\"-specific style due to the `<a>` HTML tag */\n",
       "\n",
       "#sk-container-id-3 a.estimator_doc_link {\n",
       "  float: right;\n",
       "  font-size: 1rem;\n",
       "  line-height: 1em;\n",
       "  font-family: monospace;\n",
       "  background-color: var(--sklearn-color-background);\n",
       "  border-radius: 1rem;\n",
       "  height: 1rem;\n",
       "  width: 1rem;\n",
       "  text-decoration: none;\n",
       "  /* unfitted */\n",
       "  color: var(--sklearn-color-unfitted-level-1);\n",
       "  border: var(--sklearn-color-unfitted-level-1) 1pt solid;\n",
       "}\n",
       "\n",
       "#sk-container-id-3 a.estimator_doc_link.fitted {\n",
       "  /* fitted */\n",
       "  border: var(--sklearn-color-fitted-level-1) 1pt solid;\n",
       "  color: var(--sklearn-color-fitted-level-1);\n",
       "}\n",
       "\n",
       "/* On hover */\n",
       "#sk-container-id-3 a.estimator_doc_link:hover {\n",
       "  /* unfitted */\n",
       "  background-color: var(--sklearn-color-unfitted-level-3);\n",
       "  color: var(--sklearn-color-background);\n",
       "  text-decoration: none;\n",
       "}\n",
       "\n",
       "#sk-container-id-3 a.estimator_doc_link.fitted:hover {\n",
       "  /* fitted */\n",
       "  background-color: var(--sklearn-color-fitted-level-3);\n",
       "}\n",
       "</style><div id=\"sk-container-id-3\" class=\"sk-top-container\"><div class=\"sk-text-repr-fallback\"><pre>LinearRegression()</pre><b>In a Jupyter environment, please rerun this cell to show the HTML representation or trust the notebook. <br />On GitHub, the HTML representation is unable to render, please try loading this page with nbviewer.org.</b></div><div class=\"sk-container\" hidden><div class=\"sk-item\"><div class=\"sk-estimator fitted sk-toggleable\"><input class=\"sk-toggleable__control sk-hidden--visually\" id=\"sk-estimator-id-3\" type=\"checkbox\" checked><label for=\"sk-estimator-id-3\" class=\"sk-toggleable__label fitted sk-toggleable__label-arrow fitted\">&nbsp;&nbsp;LinearRegression<a class=\"sk-estimator-doc-link fitted\" rel=\"noreferrer\" target=\"_blank\" href=\"https://scikit-learn.org/1.4/modules/generated/sklearn.linear_model.LinearRegression.html\">?<span>Documentation for LinearRegression</span></a><span class=\"sk-estimator-doc-link fitted\">i<span>Fitted</span></span></label><div class=\"sk-toggleable__content fitted\"><pre>LinearRegression()</pre></div> </div></div></div></div>"
      ],
      "text/plain": [
       "LinearRegression()"
      ]
     },
     "execution_count": 198,
     "metadata": {},
     "output_type": "execute_result"
    }
   ],
   "source": [
    "lin_reg.fit(X_train_scaled, y_train)"
   ]
  },
  {
   "cell_type": "code",
   "execution_count": 199,
   "id": "1fc68bd6-e328-499e-ba58-456f85afecc7",
   "metadata": {},
   "outputs": [
    {
     "data": {
      "text/plain": [
       "0.6586341159544493"
      ]
     },
     "execution_count": 199,
     "metadata": {},
     "output_type": "execute_result"
    }
   ],
   "source": [
    "lin_reg.score(X_test_scaled, y_test)"
   ]
  },
  {
   "cell_type": "code",
   "execution_count": 200,
   "id": "b74eda62-2c42-42b8-bade-c50b712094fd",
   "metadata": {},
   "outputs": [],
   "source": [
    "## The score for the testing data is 0.67 if we round to two decimal places\n",
    "\n",
    "# FALSE #"
   ]
  },
  {
   "cell_type": "code",
   "execution_count": null,
   "id": "de827efb-7e58-43c1-b06e-0907c87a713b",
   "metadata": {},
   "outputs": [],
   "source": []
  },
  {
   "cell_type": "code",
   "execution_count": null,
   "id": "20c0b1dc-929f-4743-ba00-027ea1a54170",
   "metadata": {},
   "outputs": [],
   "source": []
  },
  {
   "cell_type": "code",
   "execution_count": 93,
   "id": "2f582d24-05f6-48c2-9ba5-88a689c75018",
   "metadata": {},
   "outputs": [
    {
     "data": {
      "text/plain": [
       "{'AGE_AT_SURGERY': 0.9039040215943144,\n",
       " 'SMOKING_PACK_YEARS': 1.1030927596973026,\n",
       " 'SUV': -1.9179865586756257,\n",
       " 'CT_SIZE': -0.22067558771016804,\n",
       " 'DLCO': 0.9922028236343583,\n",
       " 'FEV1': -0.6978134688530696,\n",
       " 'OS_MONTHS': 9.786880450251681}"
      ]
     },
     "execution_count": 93,
     "metadata": {},
     "output_type": "execute_result"
    }
   ],
   "source": [
    "dictionary_reversed = dict(zip(columns_array, q11_new_coefficients))\n",
    "dictionary_reversed"
   ]
  },
  {
   "cell_type": "code",
   "execution_count": 94,
   "id": "5cf432ce-fbce-4ff5-8009-13dd159fdf23",
   "metadata": {},
   "outputs": [
    {
     "data": {
      "text/plain": [
       "-0.6978134688530696"
      ]
     },
     "execution_count": 94,
     "metadata": {},
     "output_type": "execute_result"
    }
   ],
   "source": [
    "dictionary_reversed['FEV1']"
   ]
  },
  {
   "cell_type": "code",
   "execution_count": 95,
   "id": "bb51eb83-eb80-49e5-8f1d-dd7bf16d800b",
   "metadata": {},
   "outputs": [],
   "source": [
    "# The coefficient for FEV1 is approximately -0.698 (rounded)\n",
    "\n",
    "# TRUE #"
   ]
  },
  {
   "cell_type": "code",
   "execution_count": null,
   "id": "f6c3f9a1-69a0-477e-83d3-84704093ff46",
   "metadata": {},
   "outputs": [],
   "source": [
    " "
   ]
  },
  {
   "cell_type": "code",
   "execution_count": 96,
   "id": "e812f908-8e54-4665-8f4c-a7a7720a5e31",
   "metadata": {},
   "outputs": [
    {
     "data": {
      "text/plain": [
       "array([[ 68.        ,  25.        ,   4.7       , ...,  93.        ,\n",
       "        120.        ,   6.66666667],\n",
       "       [ 57.        ,   6.        ,   2.3       , ...,  80.        ,\n",
       "         81.        ,   9.7       ],\n",
       "       [ 82.        ,  60.        ,   2.1       , ...,  74.        ,\n",
       "        103.        ,  14.43333333],\n",
       "       ...,\n",
       "       [ 56.        ,  32.        ,   1.9       , ...,  98.        ,\n",
       "         98.        ,  49.26666667],\n",
       "       [ 68.        ,  40.        ,   5.1       , ...,  66.        ,\n",
       "         98.        ,   4.73333333],\n",
       "       [ 77.        ,   0.        ,  12.79      , ...,  83.        ,\n",
       "        136.        ,  31.76666667]])"
      ]
     },
     "execution_count": 96,
     "metadata": {},
     "output_type": "execute_result"
    }
   ],
   "source": [
    "X_train"
   ]
  },
  {
   "cell_type": "code",
   "execution_count": 97,
   "id": "bb596a8b-0079-4c2c-85bc-3565c58f21bc",
   "metadata": {},
   "outputs": [
    {
     "data": {
      "text/plain": [
       "388"
      ]
     },
     "execution_count": 97,
     "metadata": {},
     "output_type": "execute_result"
    }
   ],
   "source": [
    "len(X_train)"
   ]
  },
  {
   "cell_type": "code",
   "execution_count": 98,
   "id": "9468fe89-ad51-40d7-9640-d6459de76e3a",
   "metadata": {},
   "outputs": [
    {
     "data": {
      "text/plain": [
       "388"
      ]
     },
     "execution_count": 98,
     "metadata": {},
     "output_type": "execute_result"
    }
   ],
   "source": [
    "X_train.shape[0]"
   ]
  },
  {
   "cell_type": "code",
   "execution_count": 99,
   "id": "d2e60fa4-1c25-4b45-bfd7-bc327077b0f2",
   "metadata": {},
   "outputs": [
    {
     "data": {
      "text/plain": [
       "2716"
      ]
     },
     "execution_count": 99,
     "metadata": {},
     "output_type": "execute_result"
    }
   ],
   "source": [
    "np.size(X_train)"
   ]
  },
  {
   "cell_type": "code",
   "execution_count": 100,
   "id": "f97cde89-aec8-48fb-bb3f-40f000a070b1",
   "metadata": {},
   "outputs": [
    {
     "data": {
      "text/plain": [
       "388.5"
      ]
     },
     "execution_count": 100,
     "metadata": {},
     "output_type": "execute_result"
    }
   ],
   "source": [
    "X.shape[0] * 0.75"
   ]
  },
  {
   "cell_type": "code",
   "execution_count": null,
   "id": "b76a917b-6a49-4335-b9d8-ee7631ddf00e",
   "metadata": {},
   "outputs": [],
   "source": []
  },
  {
   "cell_type": "code",
   "execution_count": 101,
   "id": "9b125de5-6149-43ea-989b-1fb5b6b010b7",
   "metadata": {},
   "outputs": [
    {
     "data": {
      "text/plain": [
       "518"
      ]
     },
     "execution_count": 101,
     "metadata": {},
     "output_type": "execute_result"
    }
   ],
   "source": [
    "y.shape[0]"
   ]
  },
  {
   "cell_type": "code",
   "execution_count": 102,
   "id": "dd54db8c-9156-444c-adc7-e9a67ec05ebb",
   "metadata": {},
   "outputs": [],
   "source": [
    "# There are 414 observations in the training data\n",
    "\n",
    "# FALSE #"
   ]
  },
  {
   "cell_type": "code",
   "execution_count": null,
   "id": "6fb105da-0171-4020-8e7b-cf0b3566d1f4",
   "metadata": {},
   "outputs": [],
   "source": []
  },
  {
   "cell_type": "code",
   "execution_count": null,
   "id": "202d1c31-ba99-49e9-b32c-77987dd6f64a",
   "metadata": {},
   "outputs": [],
   "source": []
  },
  {
   "cell_type": "code",
   "execution_count": 211,
   "id": "807ed386-46c1-4be2-831e-92e75a0903c5",
   "metadata": {},
   "outputs": [
    {
     "name": "stdout",
     "output_type": "stream",
     "text": [
      "0.6236764799744058\n",
      "0.6586341159544493\n"
     ]
    }
   ],
   "source": [
    "print(lin_reg.score(X_train_scaled, y_train))\n",
    "print(lin_reg.score(X_test_scaled, y_test))"
   ]
  },
  {
   "cell_type": "code",
   "execution_count": 212,
   "id": "2885d384-2bb1-4a3b-847a-8805a0b90324",
   "metadata": {},
   "outputs": [],
   "source": [
    "## The model performs better on the testing data than the training data\n",
    "\n",
    "# TRUE #"
   ]
  },
  {
   "cell_type": "code",
   "execution_count": null,
   "id": "8c74ce4d-231c-4480-877c-bd7204ad003f",
   "metadata": {},
   "outputs": [],
   "source": []
  },
  {
   "cell_type": "code",
   "execution_count": null,
   "id": "c7002198-a33f-421f-89aa-63ea3d5f3155",
   "metadata": {},
   "outputs": [],
   "source": []
  },
  {
   "cell_type": "code",
   "execution_count": 213,
   "id": "8b2708d4-acd7-481a-988e-704662774aba",
   "metadata": {},
   "outputs": [],
   "source": [
    "# The model is overfit\n",
    "\n",
    "# FALSE #"
   ]
  },
  {
   "cell_type": "code",
   "execution_count": null,
   "id": "dcd031be-8210-46eb-ba7e-5146020ae917",
   "metadata": {},
   "outputs": [],
   "source": []
  },
  {
   "cell_type": "code",
   "execution_count": null,
   "id": "d364f701-1220-4c7a-b7da-6d7145c63fee",
   "metadata": {},
   "outputs": [],
   "source": []
  },
  {
   "cell_type": "code",
   "execution_count": null,
   "id": "57a922fb-1ec0-4a4a-bb35-59c13b3507fb",
   "metadata": {},
   "outputs": [],
   "source": []
  },
  {
   "cell_type": "code",
   "execution_count": null,
   "id": "6fb39971-79ed-4a26-9304-b22e1c6217ea",
   "metadata": {},
   "outputs": [],
   "source": []
  },
  {
   "cell_type": "markdown",
   "id": "375be159-5c52-49cf-80d0-2807f82ad6db",
   "metadata": {},
   "source": [
    "# Question 12"
   ]
  },
  {
   "cell_type": "markdown",
   "id": "926e1251-d186-4ed9-a50a-ea4b69acedb6",
   "metadata": {},
   "source": [
    "Find the optimal alpha value for Lasso regression on the lung adenocarcinoma data. Use the same set of features and the same target (RFS_MONTHS) that you have been using.\n",
    "\n",
    "Be sure to:\n",
    "\n",
    "\n",
    "-Use 10-fold validation\n",
    "-Use random_state 100\n",
    "-Scale the data with a StandardScaler\n",
    "-Test 100 values between 0.01 and 0.5 (these 3 numbers should appear in your code)\n",
    "\n",
    "\n",
    "Report the optimal alpha value to four decimal places "
   ]
  },
  {
   "cell_type": "code",
   "execution_count": 104,
   "id": "178c4735-7186-40fa-84b6-645253f58551",
   "metadata": {},
   "outputs": [],
   "source": [
    "a_range = np.linspace(0.01,0.5, 100) \n",
    "k = 10\n",
    "ss = SS()\n",
    "\n",
    "avg_tr_score=[]\n",
    "avg_te_score=[]\n",
    "\n",
    "for a in a_range:\n",
    "    las_reg = Lasso(alpha=a)\n",
    "    train_scores, test_scores = do_Kfold(las_reg, X, y, k, ss, random_state = 100)\n",
    "    \n",
    "    avg_tr_score.append(np.mean(train_scores))\n",
    "    avg_te_score.append(np.mean(test_scores))\n"
   ]
  },
  {
   "cell_type": "code",
   "execution_count": 105,
   "id": "99f00b5f-19bf-4067-a3f6-3c0b7a23bcd1",
   "metadata": {},
   "outputs": [
    {
     "name": "stdout",
     "output_type": "stream",
     "text": [
      "[0.5729267525934387, 0.5730025297718461, 0.5730750562914719, 0.5731437112493266, 0.5732084946196734, 0.573269397102135, 0.5733125947335731, 0.5733419595403044, 0.5733679062030107, 0.5733841467820922, 0.5733774062922439, 0.5733670289148443, 0.573353015392325, 0.5733353561450847, 0.5733140549152872, 0.5732896592259437, 0.5732610976757379, 0.573228903457187, 0.5731938361276305, 0.5731566872502059, 0.5731171880782184, 0.5730740438895606, 0.5730272320346419, 0.572976754838512, 0.5729226152826759, 0.572865148577861, 0.5728036322781328, 0.5727384499404948, 0.5726696019747588, 0.5725983004432351, 0.5725238647358664, 0.5724456768650101, 0.5723638616176872, 0.5722784169012295, 0.5721886150759687, 0.5720959110675367, 0.5720050402781515, 0.5719346096412965, 0.5718820338263466, 0.5718262564797649, 0.571783390476002, 0.5717392766768977, 0.5716903807865958, 0.5716397765391302, 0.5715858822973978, 0.571544056127671, 0.5715180189467498, 0.571506728539101, 0.5714982761143003, 0.5714913130348125, 0.5714873643296656, 0.5714834026698368, 0.5714801477383447, 0.5714784843888745, 0.5714790280192379, 0.5714779853265703, 0.5714799685995355, 0.5714795150595787, 0.5714775863940975, 0.5714736114263905, 0.5714673181770219, 0.5714636766751745, 0.5714777894505767, 0.571489583417168, 0.571495257796616, 0.5714942627899677, 0.5714906630085621, 0.5714833349553262, 0.5714835854751424, 0.5714693075708797, 0.5714566986111643, 0.5714456487459482, 0.571433581926647, 0.5714193870887824, 0.5714019998821696, 0.571382394439105, 0.571358288151767, 0.5713325111676667, 0.5713051738844497, 0.5712762750320921, 0.5712458392030874, 0.571213866397435, 0.5711807616873404, 0.5711458109036134, 0.5711055811590693, 0.5710589368020799, 0.5710059679413522, 0.5709515497065876, 0.5708982712588947, 0.5708453585517954, 0.5707931595026364, 0.5707415782810664, 0.5706885763551073, 0.5706341535803684, 0.5705783099568494, 0.5705210454845503, 0.5704767367713375, 0.5704440886275648, 0.5704100791177973, 0.5703752836970308]\n"
     ]
    }
   ],
   "source": [
    "print(avg_te_score)"
   ]
  },
  {
   "cell_type": "code",
   "execution_count": 106,
   "id": "2caf361a-1853-440c-aa09-fe006b8d5671",
   "metadata": {},
   "outputs": [
    {
     "data": {
      "text/plain": [
       "100"
      ]
     },
     "execution_count": 106,
     "metadata": {},
     "output_type": "execute_result"
    }
   ],
   "source": [
    "len(avg_te_score)"
   ]
  },
  {
   "cell_type": "code",
   "execution_count": 107,
   "id": "3c992374-eea4-4b19-bdec-bbb04d198cd3",
   "metadata": {},
   "outputs": [
    {
     "data": {
      "text/plain": [
       "{0.5729267525934387: 0.01,\n",
       " 0.5730025297718461: 0.014949494949494949,\n",
       " 0.5730750562914719: 0.0198989898989899,\n",
       " 0.5731437112493266: 0.02484848484848485,\n",
       " 0.5732084946196734: 0.029797979797979796,\n",
       " 0.573269397102135: 0.03474747474747475,\n",
       " 0.5733125947335731: 0.039696969696969696,\n",
       " 0.5733419595403044: 0.04464646464646465,\n",
       " 0.5733679062030107: 0.049595959595959596,\n",
       " 0.5733841467820922: 0.05454545454545454,\n",
       " 0.5733774062922439: 0.059494949494949496,\n",
       " 0.5733670289148443: 0.06444444444444444,\n",
       " 0.573353015392325: 0.06939393939393938,\n",
       " 0.5733353561450847: 0.07434343434343434,\n",
       " 0.5733140549152872: 0.07929292929292929,\n",
       " 0.5732896592259437: 0.08424242424242423,\n",
       " 0.5732610976757379: 0.08919191919191918,\n",
       " 0.573228903457187: 0.09414141414141414,\n",
       " 0.5731938361276305: 0.09909090909090908,\n",
       " 0.5731566872502059: 0.10404040404040403,\n",
       " 0.5731171880782184: 0.10898989898989898,\n",
       " 0.5730740438895606: 0.11393939393939392,\n",
       " 0.5730272320346419: 0.11888888888888888,\n",
       " 0.572976754838512: 0.12383838383838383,\n",
       " 0.5729226152826759: 0.12878787878787878,\n",
       " 0.572865148577861: 0.13373737373737374,\n",
       " 0.5728036322781328: 0.1386868686868687,\n",
       " 0.5727384499404948: 0.14363636363636365,\n",
       " 0.5726696019747588: 0.1485858585858586,\n",
       " 0.5725983004432351: 0.15353535353535352,\n",
       " 0.5725238647358664: 0.15848484848484848,\n",
       " 0.5724456768650101: 0.16343434343434343,\n",
       " 0.5723638616176872: 0.16838383838383839,\n",
       " 0.5722784169012295: 0.17333333333333334,\n",
       " 0.5721886150759687: 0.1782828282828283,\n",
       " 0.5720959110675367: 0.18323232323232325,\n",
       " 0.5720050402781515: 0.18818181818181817,\n",
       " 0.5719346096412965: 0.19313131313131313,\n",
       " 0.5718820338263466: 0.19808080808080808,\n",
       " 0.5718262564797649: 0.20303030303030303,\n",
       " 0.571783390476002: 0.207979797979798,\n",
       " 0.5717392766768977: 0.21292929292929294,\n",
       " 0.5716903807865958: 0.21787878787878787,\n",
       " 0.5716397765391302: 0.22282828282828282,\n",
       " 0.5715858822973978: 0.22777777777777777,\n",
       " 0.571544056127671: 0.23272727272727273,\n",
       " 0.5715180189467498: 0.23767676767676768,\n",
       " 0.571506728539101: 0.24262626262626263,\n",
       " 0.5714982761143003: 0.24757575757575756,\n",
       " 0.5714913130348125: 0.2525252525252525,\n",
       " 0.5714873643296656: 0.25747474747474747,\n",
       " 0.5714834026698368: 0.26242424242424245,\n",
       " 0.5714801477383447: 0.2673737373737374,\n",
       " 0.5714784843888745: 0.2723232323232323,\n",
       " 0.5714790280192379: 0.2772727272727273,\n",
       " 0.5714779853265703: 0.2822222222222222,\n",
       " 0.5714799685995355: 0.2871717171717172,\n",
       " 0.5714795150595787: 0.2921212121212121,\n",
       " 0.5714775863940975: 0.29707070707070704,\n",
       " 0.5714736114263905: 0.302020202020202,\n",
       " 0.5714673181770219: 0.30696969696969695,\n",
       " 0.5714636766751745: 0.31191919191919193,\n",
       " 0.5714777894505767: 0.31686868686868686,\n",
       " 0.571489583417168: 0.32181818181818184,\n",
       " 0.571495257796616: 0.32676767676767676,\n",
       " 0.5714942627899677: 0.3317171717171717,\n",
       " 0.5714906630085621: 0.33666666666666667,\n",
       " 0.5714833349553262: 0.3416161616161616,\n",
       " 0.5714835854751424: 0.3465656565656566,\n",
       " 0.5714693075708797: 0.3515151515151515,\n",
       " 0.5714566986111643: 0.3564646464646465,\n",
       " 0.5714456487459482: 0.3614141414141414,\n",
       " 0.571433581926647: 0.36636363636363634,\n",
       " 0.5714193870887824: 0.3713131313131313,\n",
       " 0.5714019998821696: 0.37626262626262624,\n",
       " 0.571382394439105: 0.3812121212121212,\n",
       " 0.571358288151767: 0.38616161616161615,\n",
       " 0.5713325111676667: 0.3911111111111111,\n",
       " 0.5713051738844497: 0.39606060606060606,\n",
       " 0.5712762750320921: 0.401010101010101,\n",
       " 0.5712458392030874: 0.40595959595959596,\n",
       " 0.571213866397435: 0.4109090909090909,\n",
       " 0.5711807616873404: 0.41585858585858587,\n",
       " 0.5711458109036134: 0.4208080808080808,\n",
       " 0.5711055811590693: 0.4257575757575757,\n",
       " 0.5710589368020799: 0.4307070707070707,\n",
       " 0.5710059679413522: 0.43565656565656563,\n",
       " 0.5709515497065876: 0.4406060606060606,\n",
       " 0.5708982712588947: 0.44555555555555554,\n",
       " 0.5708453585517954: 0.4505050505050505,\n",
       " 0.5707931595026364: 0.45545454545454545,\n",
       " 0.5707415782810664: 0.46040404040404037,\n",
       " 0.5706885763551073: 0.46535353535353535,\n",
       " 0.5706341535803684: 0.4703030303030303,\n",
       " 0.5705783099568494: 0.47525252525252526,\n",
       " 0.5705210454845503: 0.4802020202020202,\n",
       " 0.5704767367713375: 0.4851515151515151,\n",
       " 0.5704440886275648: 0.4901010101010101,\n",
       " 0.5704100791177973: 0.495050505050505,\n",
       " 0.5703752836970308: 0.5}"
      ]
     },
     "execution_count": 107,
     "metadata": {},
     "output_type": "execute_result"
    }
   ],
   "source": [
    "dictionary2 = dict(zip(avg_te_score, a_range))\n",
    "dictionary2"
   ]
  },
  {
   "cell_type": "code",
   "execution_count": 108,
   "id": "1e490e14-6cac-4703-852e-49af217d4d6b",
   "metadata": {},
   "outputs": [
    {
     "data": {
      "text/plain": [
       "0.5733841467820922"
      ]
     },
     "execution_count": 108,
     "metadata": {},
     "output_type": "execute_result"
    }
   ],
   "source": [
    "key = np.max(avg_te_score)\n",
    "key"
   ]
  },
  {
   "cell_type": "code",
   "execution_count": 109,
   "id": "54ecf20a-b039-4e97-ad58-fe4d9f007ac3",
   "metadata": {},
   "outputs": [
    {
     "data": {
      "text/plain": [
       "0.05454545454545454"
      ]
     },
     "execution_count": 109,
     "metadata": {},
     "output_type": "execute_result"
    }
   ],
   "source": [
    "dictionary2[key] "
   ]
  },
  {
   "cell_type": "code",
   "execution_count": null,
   "id": "20f8f942-ae71-41bc-ad84-5da193fa2c20",
   "metadata": {},
   "outputs": [],
   "source": [
    "# The optimal alpha value is 0.0545 #"
   ]
  },
  {
   "cell_type": "code",
   "execution_count": null,
   "id": "11437502-5f8b-41ea-b5eb-5f0118678c49",
   "metadata": {},
   "outputs": [],
   "source": []
  },
  {
   "cell_type": "code",
   "execution_count": null,
   "id": "d547313e-2f15-475a-b1f8-02d4a9e5b8e3",
   "metadata": {},
   "outputs": [],
   "source": []
  },
  {
   "cell_type": "code",
   "execution_count": null,
   "id": "757bebc9-ccc2-47b3-a6b5-bb206cff9ebc",
   "metadata": {},
   "outputs": [],
   "source": []
  },
  {
   "cell_type": "code",
   "execution_count": null,
   "id": "f4212143-9f1e-4517-ae64-130f7c7fed36",
   "metadata": {},
   "outputs": [],
   "source": []
  },
  {
   "cell_type": "markdown",
   "id": "81e3d14e-d4d2-46f3-b8c4-19a7584d6c4e",
   "metadata": {},
   "source": [
    "# Question 13"
   ]
  },
  {
   "cell_type": "markdown",
   "id": "4c38858f-7af7-46ef-99fd-110f202cd997",
   "metadata": {},
   "source": [
    "Based on the k fold validation you did to find the optimal value of alpha in the previous question, what was the mean test score at the optimal value of alpha? Round your answer to 2 decimal places."
   ]
  },
  {
   "cell_type": "code",
   "execution_count": 112,
   "id": "ed92b188-2aef-4e3f-a0a9-3e591b2e6566",
   "metadata": {},
   "outputs": [
    {
     "data": {
      "text/plain": [
       "0.5733841467820922"
      ]
     },
     "execution_count": 112,
     "metadata": {},
     "output_type": "execute_result"
    }
   ],
   "source": [
    "key = np.max(avg_te_score)\n",
    "key"
   ]
  },
  {
   "cell_type": "code",
   "execution_count": null,
   "id": "6a454857-9eae-48a6-8e10-e7fd0518d61b",
   "metadata": {},
   "outputs": [],
   "source": []
  },
  {
   "cell_type": "code",
   "execution_count": null,
   "id": "e5c4a595-c6b6-46a3-b2ce-8622509116c0",
   "metadata": {},
   "outputs": [],
   "source": []
  },
  {
   "cell_type": "code",
   "execution_count": null,
   "id": "7f12665c-2f79-4fce-a25b-c3591afe25c7",
   "metadata": {},
   "outputs": [],
   "source": []
  },
  {
   "cell_type": "code",
   "execution_count": null,
   "id": "cd2dc630-23fe-4e2a-98fc-fc01c5ba612e",
   "metadata": {},
   "outputs": [],
   "source": []
  },
  {
   "cell_type": "code",
   "execution_count": null,
   "id": "51523a6d-e965-475b-839d-0daed85da515",
   "metadata": {},
   "outputs": [],
   "source": []
  },
  {
   "cell_type": "code",
   "execution_count": null,
   "id": "9a912a8d-2748-4c0c-b643-f886303398a6",
   "metadata": {},
   "outputs": [],
   "source": []
  },
  {
   "cell_type": "code",
   "execution_count": null,
   "id": "9dc4da7e-869d-4e2a-93ad-dd1cbce22f22",
   "metadata": {},
   "outputs": [],
   "source": []
  },
  {
   "cell_type": "code",
   "execution_count": null,
   "id": "3437c311-2766-42b4-a7d7-0cc9fb7388bf",
   "metadata": {},
   "outputs": [],
   "source": []
  },
  {
   "cell_type": "markdown",
   "id": "008d9ba3-b497-474e-9d1b-0666e8254a42",
   "metadata": {},
   "source": [
    "# Question 14"
   ]
  },
  {
   "cell_type": "markdown",
   "id": "791d0747-c848-4c6e-a471-fa6553acd202",
   "metadata": {},
   "source": [
    "The optimal value of alpha for Ridge regression for the lung adenocarcinoma data is 26.36 (just use this value, we are giving it to you). Use a single train-test split to perform Ridge regression as well as OLS - this means you are building two models, one using Ridge regression and one using OLS:\n",
    "\n",
    "-Use random state 196\n",
    "\n",
    "-Use shuffle = True\n",
    "\n",
    "-Use a test size of 0.2 and a training size of 0.8\n",
    "\n",
    "-Scale the training and testing data as we did in class (you should refer back to your class notes and notebooks) - use the scaled data for both Ridge and OLS\n",
    "\n",
    "Based on your results, what do you conclude?"
   ]
  },
  {
   "cell_type": "code",
   "execution_count": 114,
   "id": "69499d38-910a-401e-9ef2-ab78d0f6ce89",
   "metadata": {},
   "outputs": [],
   "source": [
    "train_datax, test_datax, train_datay, test_datay = train_test_split(X, y, test_size = 0.2, train_size = 0.8, random_state = 196, shuffle = True)"
   ]
  },
  {
   "cell_type": "code",
   "execution_count": 115,
   "id": "b1a9d04e-ede5-461a-8227-b4a78e3aa3d2",
   "metadata": {},
   "outputs": [],
   "source": [
    "train_datax_scaled = ss.fit_transform(train_datax)\n",
    "test_datax_scaled = ss.transform(test_datax)\n"
   ]
  },
  {
   "cell_type": "code",
   "execution_count": 116,
   "id": "a7a91d79-843d-43ab-beec-10adc86f6747",
   "metadata": {},
   "outputs": [
    {
     "data": {
      "text/html": [
       "<style>#sk-container-id-2 {\n",
       "  /* Definition of color scheme common for light and dark mode */\n",
       "  --sklearn-color-text: black;\n",
       "  --sklearn-color-line: gray;\n",
       "  /* Definition of color scheme for unfitted estimators */\n",
       "  --sklearn-color-unfitted-level-0: #fff5e6;\n",
       "  --sklearn-color-unfitted-level-1: #f6e4d2;\n",
       "  --sklearn-color-unfitted-level-2: #ffe0b3;\n",
       "  --sklearn-color-unfitted-level-3: chocolate;\n",
       "  /* Definition of color scheme for fitted estimators */\n",
       "  --sklearn-color-fitted-level-0: #f0f8ff;\n",
       "  --sklearn-color-fitted-level-1: #d4ebff;\n",
       "  --sklearn-color-fitted-level-2: #b3dbfd;\n",
       "  --sklearn-color-fitted-level-3: cornflowerblue;\n",
       "\n",
       "  /* Specific color for light theme */\n",
       "  --sklearn-color-text-on-default-background: var(--sg-text-color, var(--theme-code-foreground, var(--jp-content-font-color1, black)));\n",
       "  --sklearn-color-background: var(--sg-background-color, var(--theme-background, var(--jp-layout-color0, white)));\n",
       "  --sklearn-color-border-box: var(--sg-text-color, var(--theme-code-foreground, var(--jp-content-font-color1, black)));\n",
       "  --sklearn-color-icon: #696969;\n",
       "\n",
       "  @media (prefers-color-scheme: dark) {\n",
       "    /* Redefinition of color scheme for dark theme */\n",
       "    --sklearn-color-text-on-default-background: var(--sg-text-color, var(--theme-code-foreground, var(--jp-content-font-color1, white)));\n",
       "    --sklearn-color-background: var(--sg-background-color, var(--theme-background, var(--jp-layout-color0, #111)));\n",
       "    --sklearn-color-border-box: var(--sg-text-color, var(--theme-code-foreground, var(--jp-content-font-color1, white)));\n",
       "    --sklearn-color-icon: #878787;\n",
       "  }\n",
       "}\n",
       "\n",
       "#sk-container-id-2 {\n",
       "  color: var(--sklearn-color-text);\n",
       "}\n",
       "\n",
       "#sk-container-id-2 pre {\n",
       "  padding: 0;\n",
       "}\n",
       "\n",
       "#sk-container-id-2 input.sk-hidden--visually {\n",
       "  border: 0;\n",
       "  clip: rect(1px 1px 1px 1px);\n",
       "  clip: rect(1px, 1px, 1px, 1px);\n",
       "  height: 1px;\n",
       "  margin: -1px;\n",
       "  overflow: hidden;\n",
       "  padding: 0;\n",
       "  position: absolute;\n",
       "  width: 1px;\n",
       "}\n",
       "\n",
       "#sk-container-id-2 div.sk-dashed-wrapped {\n",
       "  border: 1px dashed var(--sklearn-color-line);\n",
       "  margin: 0 0.4em 0.5em 0.4em;\n",
       "  box-sizing: border-box;\n",
       "  padding-bottom: 0.4em;\n",
       "  background-color: var(--sklearn-color-background);\n",
       "}\n",
       "\n",
       "#sk-container-id-2 div.sk-container {\n",
       "  /* jupyter's `normalize.less` sets `[hidden] { display: none; }`\n",
       "     but bootstrap.min.css set `[hidden] { display: none !important; }`\n",
       "     so we also need the `!important` here to be able to override the\n",
       "     default hidden behavior on the sphinx rendered scikit-learn.org.\n",
       "     See: https://github.com/scikit-learn/scikit-learn/issues/21755 */\n",
       "  display: inline-block !important;\n",
       "  position: relative;\n",
       "}\n",
       "\n",
       "#sk-container-id-2 div.sk-text-repr-fallback {\n",
       "  display: none;\n",
       "}\n",
       "\n",
       "div.sk-parallel-item,\n",
       "div.sk-serial,\n",
       "div.sk-item {\n",
       "  /* draw centered vertical line to link estimators */\n",
       "  background-image: linear-gradient(var(--sklearn-color-text-on-default-background), var(--sklearn-color-text-on-default-background));\n",
       "  background-size: 2px 100%;\n",
       "  background-repeat: no-repeat;\n",
       "  background-position: center center;\n",
       "}\n",
       "\n",
       "/* Parallel-specific style estimator block */\n",
       "\n",
       "#sk-container-id-2 div.sk-parallel-item::after {\n",
       "  content: \"\";\n",
       "  width: 100%;\n",
       "  border-bottom: 2px solid var(--sklearn-color-text-on-default-background);\n",
       "  flex-grow: 1;\n",
       "}\n",
       "\n",
       "#sk-container-id-2 div.sk-parallel {\n",
       "  display: flex;\n",
       "  align-items: stretch;\n",
       "  justify-content: center;\n",
       "  background-color: var(--sklearn-color-background);\n",
       "  position: relative;\n",
       "}\n",
       "\n",
       "#sk-container-id-2 div.sk-parallel-item {\n",
       "  display: flex;\n",
       "  flex-direction: column;\n",
       "}\n",
       "\n",
       "#sk-container-id-2 div.sk-parallel-item:first-child::after {\n",
       "  align-self: flex-end;\n",
       "  width: 50%;\n",
       "}\n",
       "\n",
       "#sk-container-id-2 div.sk-parallel-item:last-child::after {\n",
       "  align-self: flex-start;\n",
       "  width: 50%;\n",
       "}\n",
       "\n",
       "#sk-container-id-2 div.sk-parallel-item:only-child::after {\n",
       "  width: 0;\n",
       "}\n",
       "\n",
       "/* Serial-specific style estimator block */\n",
       "\n",
       "#sk-container-id-2 div.sk-serial {\n",
       "  display: flex;\n",
       "  flex-direction: column;\n",
       "  align-items: center;\n",
       "  background-color: var(--sklearn-color-background);\n",
       "  padding-right: 1em;\n",
       "  padding-left: 1em;\n",
       "}\n",
       "\n",
       "\n",
       "/* Toggleable style: style used for estimator/Pipeline/ColumnTransformer box that is\n",
       "clickable and can be expanded/collapsed.\n",
       "- Pipeline and ColumnTransformer use this feature and define the default style\n",
       "- Estimators will overwrite some part of the style using the `sk-estimator` class\n",
       "*/\n",
       "\n",
       "/* Pipeline and ColumnTransformer style (default) */\n",
       "\n",
       "#sk-container-id-2 div.sk-toggleable {\n",
       "  /* Default theme specific background. It is overwritten whether we have a\n",
       "  specific estimator or a Pipeline/ColumnTransformer */\n",
       "  background-color: var(--sklearn-color-background);\n",
       "}\n",
       "\n",
       "/* Toggleable label */\n",
       "#sk-container-id-2 label.sk-toggleable__label {\n",
       "  cursor: pointer;\n",
       "  display: block;\n",
       "  width: 100%;\n",
       "  margin-bottom: 0;\n",
       "  padding: 0.5em;\n",
       "  box-sizing: border-box;\n",
       "  text-align: center;\n",
       "}\n",
       "\n",
       "#sk-container-id-2 label.sk-toggleable__label-arrow:before {\n",
       "  /* Arrow on the left of the label */\n",
       "  content: \"▸\";\n",
       "  float: left;\n",
       "  margin-right: 0.25em;\n",
       "  color: var(--sklearn-color-icon);\n",
       "}\n",
       "\n",
       "#sk-container-id-2 label.sk-toggleable__label-arrow:hover:before {\n",
       "  color: var(--sklearn-color-text);\n",
       "}\n",
       "\n",
       "/* Toggleable content - dropdown */\n",
       "\n",
       "#sk-container-id-2 div.sk-toggleable__content {\n",
       "  max-height: 0;\n",
       "  max-width: 0;\n",
       "  overflow: hidden;\n",
       "  text-align: left;\n",
       "  /* unfitted */\n",
       "  background-color: var(--sklearn-color-unfitted-level-0);\n",
       "}\n",
       "\n",
       "#sk-container-id-2 div.sk-toggleable__content.fitted {\n",
       "  /* fitted */\n",
       "  background-color: var(--sklearn-color-fitted-level-0);\n",
       "}\n",
       "\n",
       "#sk-container-id-2 div.sk-toggleable__content pre {\n",
       "  margin: 0.2em;\n",
       "  border-radius: 0.25em;\n",
       "  color: var(--sklearn-color-text);\n",
       "  /* unfitted */\n",
       "  background-color: var(--sklearn-color-unfitted-level-0);\n",
       "}\n",
       "\n",
       "#sk-container-id-2 div.sk-toggleable__content.fitted pre {\n",
       "  /* unfitted */\n",
       "  background-color: var(--sklearn-color-fitted-level-0);\n",
       "}\n",
       "\n",
       "#sk-container-id-2 input.sk-toggleable__control:checked~div.sk-toggleable__content {\n",
       "  /* Expand drop-down */\n",
       "  max-height: 200px;\n",
       "  max-width: 100%;\n",
       "  overflow: auto;\n",
       "}\n",
       "\n",
       "#sk-container-id-2 input.sk-toggleable__control:checked~label.sk-toggleable__label-arrow:before {\n",
       "  content: \"▾\";\n",
       "}\n",
       "\n",
       "/* Pipeline/ColumnTransformer-specific style */\n",
       "\n",
       "#sk-container-id-2 div.sk-label input.sk-toggleable__control:checked~label.sk-toggleable__label {\n",
       "  color: var(--sklearn-color-text);\n",
       "  background-color: var(--sklearn-color-unfitted-level-2);\n",
       "}\n",
       "\n",
       "#sk-container-id-2 div.sk-label.fitted input.sk-toggleable__control:checked~label.sk-toggleable__label {\n",
       "  background-color: var(--sklearn-color-fitted-level-2);\n",
       "}\n",
       "\n",
       "/* Estimator-specific style */\n",
       "\n",
       "/* Colorize estimator box */\n",
       "#sk-container-id-2 div.sk-estimator input.sk-toggleable__control:checked~label.sk-toggleable__label {\n",
       "  /* unfitted */\n",
       "  background-color: var(--sklearn-color-unfitted-level-2);\n",
       "}\n",
       "\n",
       "#sk-container-id-2 div.sk-estimator.fitted input.sk-toggleable__control:checked~label.sk-toggleable__label {\n",
       "  /* fitted */\n",
       "  background-color: var(--sklearn-color-fitted-level-2);\n",
       "}\n",
       "\n",
       "#sk-container-id-2 div.sk-label label.sk-toggleable__label,\n",
       "#sk-container-id-2 div.sk-label label {\n",
       "  /* The background is the default theme color */\n",
       "  color: var(--sklearn-color-text-on-default-background);\n",
       "}\n",
       "\n",
       "/* On hover, darken the color of the background */\n",
       "#sk-container-id-2 div.sk-label:hover label.sk-toggleable__label {\n",
       "  color: var(--sklearn-color-text);\n",
       "  background-color: var(--sklearn-color-unfitted-level-2);\n",
       "}\n",
       "\n",
       "/* Label box, darken color on hover, fitted */\n",
       "#sk-container-id-2 div.sk-label.fitted:hover label.sk-toggleable__label.fitted {\n",
       "  color: var(--sklearn-color-text);\n",
       "  background-color: var(--sklearn-color-fitted-level-2);\n",
       "}\n",
       "\n",
       "/* Estimator label */\n",
       "\n",
       "#sk-container-id-2 div.sk-label label {\n",
       "  font-family: monospace;\n",
       "  font-weight: bold;\n",
       "  display: inline-block;\n",
       "  line-height: 1.2em;\n",
       "}\n",
       "\n",
       "#sk-container-id-2 div.sk-label-container {\n",
       "  text-align: center;\n",
       "}\n",
       "\n",
       "/* Estimator-specific */\n",
       "#sk-container-id-2 div.sk-estimator {\n",
       "  font-family: monospace;\n",
       "  border: 1px dotted var(--sklearn-color-border-box);\n",
       "  border-radius: 0.25em;\n",
       "  box-sizing: border-box;\n",
       "  margin-bottom: 0.5em;\n",
       "  /* unfitted */\n",
       "  background-color: var(--sklearn-color-unfitted-level-0);\n",
       "}\n",
       "\n",
       "#sk-container-id-2 div.sk-estimator.fitted {\n",
       "  /* fitted */\n",
       "  background-color: var(--sklearn-color-fitted-level-0);\n",
       "}\n",
       "\n",
       "/* on hover */\n",
       "#sk-container-id-2 div.sk-estimator:hover {\n",
       "  /* unfitted */\n",
       "  background-color: var(--sklearn-color-unfitted-level-2);\n",
       "}\n",
       "\n",
       "#sk-container-id-2 div.sk-estimator.fitted:hover {\n",
       "  /* fitted */\n",
       "  background-color: var(--sklearn-color-fitted-level-2);\n",
       "}\n",
       "\n",
       "/* Specification for estimator info (e.g. \"i\" and \"?\") */\n",
       "\n",
       "/* Common style for \"i\" and \"?\" */\n",
       "\n",
       ".sk-estimator-doc-link,\n",
       "a:link.sk-estimator-doc-link,\n",
       "a:visited.sk-estimator-doc-link {\n",
       "  float: right;\n",
       "  font-size: smaller;\n",
       "  line-height: 1em;\n",
       "  font-family: monospace;\n",
       "  background-color: var(--sklearn-color-background);\n",
       "  border-radius: 1em;\n",
       "  height: 1em;\n",
       "  width: 1em;\n",
       "  text-decoration: none !important;\n",
       "  margin-left: 1ex;\n",
       "  /* unfitted */\n",
       "  border: var(--sklearn-color-unfitted-level-1) 1pt solid;\n",
       "  color: var(--sklearn-color-unfitted-level-1);\n",
       "}\n",
       "\n",
       ".sk-estimator-doc-link.fitted,\n",
       "a:link.sk-estimator-doc-link.fitted,\n",
       "a:visited.sk-estimator-doc-link.fitted {\n",
       "  /* fitted */\n",
       "  border: var(--sklearn-color-fitted-level-1) 1pt solid;\n",
       "  color: var(--sklearn-color-fitted-level-1);\n",
       "}\n",
       "\n",
       "/* On hover */\n",
       "div.sk-estimator:hover .sk-estimator-doc-link:hover,\n",
       ".sk-estimator-doc-link:hover,\n",
       "div.sk-label-container:hover .sk-estimator-doc-link:hover,\n",
       ".sk-estimator-doc-link:hover {\n",
       "  /* unfitted */\n",
       "  background-color: var(--sklearn-color-unfitted-level-3);\n",
       "  color: var(--sklearn-color-background);\n",
       "  text-decoration: none;\n",
       "}\n",
       "\n",
       "div.sk-estimator.fitted:hover .sk-estimator-doc-link.fitted:hover,\n",
       ".sk-estimator-doc-link.fitted:hover,\n",
       "div.sk-label-container:hover .sk-estimator-doc-link.fitted:hover,\n",
       ".sk-estimator-doc-link.fitted:hover {\n",
       "  /* fitted */\n",
       "  background-color: var(--sklearn-color-fitted-level-3);\n",
       "  color: var(--sklearn-color-background);\n",
       "  text-decoration: none;\n",
       "}\n",
       "\n",
       "/* Span, style for the box shown on hovering the info icon */\n",
       ".sk-estimator-doc-link span {\n",
       "  display: none;\n",
       "  z-index: 9999;\n",
       "  position: relative;\n",
       "  font-weight: normal;\n",
       "  right: .2ex;\n",
       "  padding: .5ex;\n",
       "  margin: .5ex;\n",
       "  width: min-content;\n",
       "  min-width: 20ex;\n",
       "  max-width: 50ex;\n",
       "  color: var(--sklearn-color-text);\n",
       "  box-shadow: 2pt 2pt 4pt #999;\n",
       "  /* unfitted */\n",
       "  background: var(--sklearn-color-unfitted-level-0);\n",
       "  border: .5pt solid var(--sklearn-color-unfitted-level-3);\n",
       "}\n",
       "\n",
       ".sk-estimator-doc-link.fitted span {\n",
       "  /* fitted */\n",
       "  background: var(--sklearn-color-fitted-level-0);\n",
       "  border: var(--sklearn-color-fitted-level-3);\n",
       "}\n",
       "\n",
       ".sk-estimator-doc-link:hover span {\n",
       "  display: block;\n",
       "}\n",
       "\n",
       "/* \"?\"-specific style due to the `<a>` HTML tag */\n",
       "\n",
       "#sk-container-id-2 a.estimator_doc_link {\n",
       "  float: right;\n",
       "  font-size: 1rem;\n",
       "  line-height: 1em;\n",
       "  font-family: monospace;\n",
       "  background-color: var(--sklearn-color-background);\n",
       "  border-radius: 1rem;\n",
       "  height: 1rem;\n",
       "  width: 1rem;\n",
       "  text-decoration: none;\n",
       "  /* unfitted */\n",
       "  color: var(--sklearn-color-unfitted-level-1);\n",
       "  border: var(--sklearn-color-unfitted-level-1) 1pt solid;\n",
       "}\n",
       "\n",
       "#sk-container-id-2 a.estimator_doc_link.fitted {\n",
       "  /* fitted */\n",
       "  border: var(--sklearn-color-fitted-level-1) 1pt solid;\n",
       "  color: var(--sklearn-color-fitted-level-1);\n",
       "}\n",
       "\n",
       "/* On hover */\n",
       "#sk-container-id-2 a.estimator_doc_link:hover {\n",
       "  /* unfitted */\n",
       "  background-color: var(--sklearn-color-unfitted-level-3);\n",
       "  color: var(--sklearn-color-background);\n",
       "  text-decoration: none;\n",
       "}\n",
       "\n",
       "#sk-container-id-2 a.estimator_doc_link.fitted:hover {\n",
       "  /* fitted */\n",
       "  background-color: var(--sklearn-color-fitted-level-3);\n",
       "}\n",
       "</style><div id=\"sk-container-id-2\" class=\"sk-top-container\"><div class=\"sk-text-repr-fallback\"><pre>LinearRegression()</pre><b>In a Jupyter environment, please rerun this cell to show the HTML representation or trust the notebook. <br />On GitHub, the HTML representation is unable to render, please try loading this page with nbviewer.org.</b></div><div class=\"sk-container\" hidden><div class=\"sk-item\"><div class=\"sk-estimator fitted sk-toggleable\"><input class=\"sk-toggleable__control sk-hidden--visually\" id=\"sk-estimator-id-2\" type=\"checkbox\" checked><label for=\"sk-estimator-id-2\" class=\"sk-toggleable__label fitted sk-toggleable__label-arrow fitted\">&nbsp;&nbsp;LinearRegression<a class=\"sk-estimator-doc-link fitted\" rel=\"noreferrer\" target=\"_blank\" href=\"https://scikit-learn.org/1.4/modules/generated/sklearn.linear_model.LinearRegression.html\">?<span>Documentation for LinearRegression</span></a><span class=\"sk-estimator-doc-link fitted\">i<span>Fitted</span></span></label><div class=\"sk-toggleable__content fitted\"><pre>LinearRegression()</pre></div> </div></div></div></div>"
      ],
      "text/plain": [
       "LinearRegression()"
      ]
     },
     "execution_count": 116,
     "metadata": {},
     "output_type": "execute_result"
    }
   ],
   "source": [
    "lin_reg.fit(train_datax_scaled, train_datay)"
   ]
  },
  {
   "cell_type": "code",
   "execution_count": 117,
   "id": "52f9b30c-0ec4-49c8-b53d-f93995f2a0a6",
   "metadata": {},
   "outputs": [],
   "source": [
    "OLS_train_scores = lin_reg.score(train_datax_scaled, train_datay)\n",
    "OLS_test_scores = lin_reg.score(test_datax_scaled, test_datay)"
   ]
  },
  {
   "cell_type": "code",
   "execution_count": 118,
   "id": "f4dcc40f-7eb6-471c-bf67-1a21c0b44a15",
   "metadata": {},
   "outputs": [
    {
     "data": {
      "text/plain": [
       "0.6362384618259316"
      ]
     },
     "execution_count": 118,
     "metadata": {},
     "output_type": "execute_result"
    }
   ],
   "source": [
    "OLS_train_scores"
   ]
  },
  {
   "cell_type": "code",
   "execution_count": 119,
   "id": "a63dc730-dcb2-41f6-b88e-66ae651907c1",
   "metadata": {},
   "outputs": [
    {
     "data": {
      "text/plain": [
       "0.6058259695629911"
      ]
     },
     "execution_count": 119,
     "metadata": {},
     "output_type": "execute_result"
    }
   ],
   "source": [
    "OLS_test_scores"
   ]
  },
  {
   "cell_type": "code",
   "execution_count": 120,
   "id": "f8195aa9-eda6-478e-9d51-2d64be8538e2",
   "metadata": {},
   "outputs": [],
   "source": [
    "from sklearn.linear_model import Ridge\n",
    "rid_reg = Ridge(alpha = 26.36)"
   ]
  },
  {
   "cell_type": "code",
   "execution_count": 121,
   "id": "052c8ee9-6f52-4e26-b045-fb9651476623",
   "metadata": {},
   "outputs": [
    {
     "data": {
      "text/html": [
       "<style>#sk-container-id-3 {\n",
       "  /* Definition of color scheme common for light and dark mode */\n",
       "  --sklearn-color-text: black;\n",
       "  --sklearn-color-line: gray;\n",
       "  /* Definition of color scheme for unfitted estimators */\n",
       "  --sklearn-color-unfitted-level-0: #fff5e6;\n",
       "  --sklearn-color-unfitted-level-1: #f6e4d2;\n",
       "  --sklearn-color-unfitted-level-2: #ffe0b3;\n",
       "  --sklearn-color-unfitted-level-3: chocolate;\n",
       "  /* Definition of color scheme for fitted estimators */\n",
       "  --sklearn-color-fitted-level-0: #f0f8ff;\n",
       "  --sklearn-color-fitted-level-1: #d4ebff;\n",
       "  --sklearn-color-fitted-level-2: #b3dbfd;\n",
       "  --sklearn-color-fitted-level-3: cornflowerblue;\n",
       "\n",
       "  /* Specific color for light theme */\n",
       "  --sklearn-color-text-on-default-background: var(--sg-text-color, var(--theme-code-foreground, var(--jp-content-font-color1, black)));\n",
       "  --sklearn-color-background: var(--sg-background-color, var(--theme-background, var(--jp-layout-color0, white)));\n",
       "  --sklearn-color-border-box: var(--sg-text-color, var(--theme-code-foreground, var(--jp-content-font-color1, black)));\n",
       "  --sklearn-color-icon: #696969;\n",
       "\n",
       "  @media (prefers-color-scheme: dark) {\n",
       "    /* Redefinition of color scheme for dark theme */\n",
       "    --sklearn-color-text-on-default-background: var(--sg-text-color, var(--theme-code-foreground, var(--jp-content-font-color1, white)));\n",
       "    --sklearn-color-background: var(--sg-background-color, var(--theme-background, var(--jp-layout-color0, #111)));\n",
       "    --sklearn-color-border-box: var(--sg-text-color, var(--theme-code-foreground, var(--jp-content-font-color1, white)));\n",
       "    --sklearn-color-icon: #878787;\n",
       "  }\n",
       "}\n",
       "\n",
       "#sk-container-id-3 {\n",
       "  color: var(--sklearn-color-text);\n",
       "}\n",
       "\n",
       "#sk-container-id-3 pre {\n",
       "  padding: 0;\n",
       "}\n",
       "\n",
       "#sk-container-id-3 input.sk-hidden--visually {\n",
       "  border: 0;\n",
       "  clip: rect(1px 1px 1px 1px);\n",
       "  clip: rect(1px, 1px, 1px, 1px);\n",
       "  height: 1px;\n",
       "  margin: -1px;\n",
       "  overflow: hidden;\n",
       "  padding: 0;\n",
       "  position: absolute;\n",
       "  width: 1px;\n",
       "}\n",
       "\n",
       "#sk-container-id-3 div.sk-dashed-wrapped {\n",
       "  border: 1px dashed var(--sklearn-color-line);\n",
       "  margin: 0 0.4em 0.5em 0.4em;\n",
       "  box-sizing: border-box;\n",
       "  padding-bottom: 0.4em;\n",
       "  background-color: var(--sklearn-color-background);\n",
       "}\n",
       "\n",
       "#sk-container-id-3 div.sk-container {\n",
       "  /* jupyter's `normalize.less` sets `[hidden] { display: none; }`\n",
       "     but bootstrap.min.css set `[hidden] { display: none !important; }`\n",
       "     so we also need the `!important` here to be able to override the\n",
       "     default hidden behavior on the sphinx rendered scikit-learn.org.\n",
       "     See: https://github.com/scikit-learn/scikit-learn/issues/21755 */\n",
       "  display: inline-block !important;\n",
       "  position: relative;\n",
       "}\n",
       "\n",
       "#sk-container-id-3 div.sk-text-repr-fallback {\n",
       "  display: none;\n",
       "}\n",
       "\n",
       "div.sk-parallel-item,\n",
       "div.sk-serial,\n",
       "div.sk-item {\n",
       "  /* draw centered vertical line to link estimators */\n",
       "  background-image: linear-gradient(var(--sklearn-color-text-on-default-background), var(--sklearn-color-text-on-default-background));\n",
       "  background-size: 2px 100%;\n",
       "  background-repeat: no-repeat;\n",
       "  background-position: center center;\n",
       "}\n",
       "\n",
       "/* Parallel-specific style estimator block */\n",
       "\n",
       "#sk-container-id-3 div.sk-parallel-item::after {\n",
       "  content: \"\";\n",
       "  width: 100%;\n",
       "  border-bottom: 2px solid var(--sklearn-color-text-on-default-background);\n",
       "  flex-grow: 1;\n",
       "}\n",
       "\n",
       "#sk-container-id-3 div.sk-parallel {\n",
       "  display: flex;\n",
       "  align-items: stretch;\n",
       "  justify-content: center;\n",
       "  background-color: var(--sklearn-color-background);\n",
       "  position: relative;\n",
       "}\n",
       "\n",
       "#sk-container-id-3 div.sk-parallel-item {\n",
       "  display: flex;\n",
       "  flex-direction: column;\n",
       "}\n",
       "\n",
       "#sk-container-id-3 div.sk-parallel-item:first-child::after {\n",
       "  align-self: flex-end;\n",
       "  width: 50%;\n",
       "}\n",
       "\n",
       "#sk-container-id-3 div.sk-parallel-item:last-child::after {\n",
       "  align-self: flex-start;\n",
       "  width: 50%;\n",
       "}\n",
       "\n",
       "#sk-container-id-3 div.sk-parallel-item:only-child::after {\n",
       "  width: 0;\n",
       "}\n",
       "\n",
       "/* Serial-specific style estimator block */\n",
       "\n",
       "#sk-container-id-3 div.sk-serial {\n",
       "  display: flex;\n",
       "  flex-direction: column;\n",
       "  align-items: center;\n",
       "  background-color: var(--sklearn-color-background);\n",
       "  padding-right: 1em;\n",
       "  padding-left: 1em;\n",
       "}\n",
       "\n",
       "\n",
       "/* Toggleable style: style used for estimator/Pipeline/ColumnTransformer box that is\n",
       "clickable and can be expanded/collapsed.\n",
       "- Pipeline and ColumnTransformer use this feature and define the default style\n",
       "- Estimators will overwrite some part of the style using the `sk-estimator` class\n",
       "*/\n",
       "\n",
       "/* Pipeline and ColumnTransformer style (default) */\n",
       "\n",
       "#sk-container-id-3 div.sk-toggleable {\n",
       "  /* Default theme specific background. It is overwritten whether we have a\n",
       "  specific estimator or a Pipeline/ColumnTransformer */\n",
       "  background-color: var(--sklearn-color-background);\n",
       "}\n",
       "\n",
       "/* Toggleable label */\n",
       "#sk-container-id-3 label.sk-toggleable__label {\n",
       "  cursor: pointer;\n",
       "  display: block;\n",
       "  width: 100%;\n",
       "  margin-bottom: 0;\n",
       "  padding: 0.5em;\n",
       "  box-sizing: border-box;\n",
       "  text-align: center;\n",
       "}\n",
       "\n",
       "#sk-container-id-3 label.sk-toggleable__label-arrow:before {\n",
       "  /* Arrow on the left of the label */\n",
       "  content: \"▸\";\n",
       "  float: left;\n",
       "  margin-right: 0.25em;\n",
       "  color: var(--sklearn-color-icon);\n",
       "}\n",
       "\n",
       "#sk-container-id-3 label.sk-toggleable__label-arrow:hover:before {\n",
       "  color: var(--sklearn-color-text);\n",
       "}\n",
       "\n",
       "/* Toggleable content - dropdown */\n",
       "\n",
       "#sk-container-id-3 div.sk-toggleable__content {\n",
       "  max-height: 0;\n",
       "  max-width: 0;\n",
       "  overflow: hidden;\n",
       "  text-align: left;\n",
       "  /* unfitted */\n",
       "  background-color: var(--sklearn-color-unfitted-level-0);\n",
       "}\n",
       "\n",
       "#sk-container-id-3 div.sk-toggleable__content.fitted {\n",
       "  /* fitted */\n",
       "  background-color: var(--sklearn-color-fitted-level-0);\n",
       "}\n",
       "\n",
       "#sk-container-id-3 div.sk-toggleable__content pre {\n",
       "  margin: 0.2em;\n",
       "  border-radius: 0.25em;\n",
       "  color: var(--sklearn-color-text);\n",
       "  /* unfitted */\n",
       "  background-color: var(--sklearn-color-unfitted-level-0);\n",
       "}\n",
       "\n",
       "#sk-container-id-3 div.sk-toggleable__content.fitted pre {\n",
       "  /* unfitted */\n",
       "  background-color: var(--sklearn-color-fitted-level-0);\n",
       "}\n",
       "\n",
       "#sk-container-id-3 input.sk-toggleable__control:checked~div.sk-toggleable__content {\n",
       "  /* Expand drop-down */\n",
       "  max-height: 200px;\n",
       "  max-width: 100%;\n",
       "  overflow: auto;\n",
       "}\n",
       "\n",
       "#sk-container-id-3 input.sk-toggleable__control:checked~label.sk-toggleable__label-arrow:before {\n",
       "  content: \"▾\";\n",
       "}\n",
       "\n",
       "/* Pipeline/ColumnTransformer-specific style */\n",
       "\n",
       "#sk-container-id-3 div.sk-label input.sk-toggleable__control:checked~label.sk-toggleable__label {\n",
       "  color: var(--sklearn-color-text);\n",
       "  background-color: var(--sklearn-color-unfitted-level-2);\n",
       "}\n",
       "\n",
       "#sk-container-id-3 div.sk-label.fitted input.sk-toggleable__control:checked~label.sk-toggleable__label {\n",
       "  background-color: var(--sklearn-color-fitted-level-2);\n",
       "}\n",
       "\n",
       "/* Estimator-specific style */\n",
       "\n",
       "/* Colorize estimator box */\n",
       "#sk-container-id-3 div.sk-estimator input.sk-toggleable__control:checked~label.sk-toggleable__label {\n",
       "  /* unfitted */\n",
       "  background-color: var(--sklearn-color-unfitted-level-2);\n",
       "}\n",
       "\n",
       "#sk-container-id-3 div.sk-estimator.fitted input.sk-toggleable__control:checked~label.sk-toggleable__label {\n",
       "  /* fitted */\n",
       "  background-color: var(--sklearn-color-fitted-level-2);\n",
       "}\n",
       "\n",
       "#sk-container-id-3 div.sk-label label.sk-toggleable__label,\n",
       "#sk-container-id-3 div.sk-label label {\n",
       "  /* The background is the default theme color */\n",
       "  color: var(--sklearn-color-text-on-default-background);\n",
       "}\n",
       "\n",
       "/* On hover, darken the color of the background */\n",
       "#sk-container-id-3 div.sk-label:hover label.sk-toggleable__label {\n",
       "  color: var(--sklearn-color-text);\n",
       "  background-color: var(--sklearn-color-unfitted-level-2);\n",
       "}\n",
       "\n",
       "/* Label box, darken color on hover, fitted */\n",
       "#sk-container-id-3 div.sk-label.fitted:hover label.sk-toggleable__label.fitted {\n",
       "  color: var(--sklearn-color-text);\n",
       "  background-color: var(--sklearn-color-fitted-level-2);\n",
       "}\n",
       "\n",
       "/* Estimator label */\n",
       "\n",
       "#sk-container-id-3 div.sk-label label {\n",
       "  font-family: monospace;\n",
       "  font-weight: bold;\n",
       "  display: inline-block;\n",
       "  line-height: 1.2em;\n",
       "}\n",
       "\n",
       "#sk-container-id-3 div.sk-label-container {\n",
       "  text-align: center;\n",
       "}\n",
       "\n",
       "/* Estimator-specific */\n",
       "#sk-container-id-3 div.sk-estimator {\n",
       "  font-family: monospace;\n",
       "  border: 1px dotted var(--sklearn-color-border-box);\n",
       "  border-radius: 0.25em;\n",
       "  box-sizing: border-box;\n",
       "  margin-bottom: 0.5em;\n",
       "  /* unfitted */\n",
       "  background-color: var(--sklearn-color-unfitted-level-0);\n",
       "}\n",
       "\n",
       "#sk-container-id-3 div.sk-estimator.fitted {\n",
       "  /* fitted */\n",
       "  background-color: var(--sklearn-color-fitted-level-0);\n",
       "}\n",
       "\n",
       "/* on hover */\n",
       "#sk-container-id-3 div.sk-estimator:hover {\n",
       "  /* unfitted */\n",
       "  background-color: var(--sklearn-color-unfitted-level-2);\n",
       "}\n",
       "\n",
       "#sk-container-id-3 div.sk-estimator.fitted:hover {\n",
       "  /* fitted */\n",
       "  background-color: var(--sklearn-color-fitted-level-2);\n",
       "}\n",
       "\n",
       "/* Specification for estimator info (e.g. \"i\" and \"?\") */\n",
       "\n",
       "/* Common style for \"i\" and \"?\" */\n",
       "\n",
       ".sk-estimator-doc-link,\n",
       "a:link.sk-estimator-doc-link,\n",
       "a:visited.sk-estimator-doc-link {\n",
       "  float: right;\n",
       "  font-size: smaller;\n",
       "  line-height: 1em;\n",
       "  font-family: monospace;\n",
       "  background-color: var(--sklearn-color-background);\n",
       "  border-radius: 1em;\n",
       "  height: 1em;\n",
       "  width: 1em;\n",
       "  text-decoration: none !important;\n",
       "  margin-left: 1ex;\n",
       "  /* unfitted */\n",
       "  border: var(--sklearn-color-unfitted-level-1) 1pt solid;\n",
       "  color: var(--sklearn-color-unfitted-level-1);\n",
       "}\n",
       "\n",
       ".sk-estimator-doc-link.fitted,\n",
       "a:link.sk-estimator-doc-link.fitted,\n",
       "a:visited.sk-estimator-doc-link.fitted {\n",
       "  /* fitted */\n",
       "  border: var(--sklearn-color-fitted-level-1) 1pt solid;\n",
       "  color: var(--sklearn-color-fitted-level-1);\n",
       "}\n",
       "\n",
       "/* On hover */\n",
       "div.sk-estimator:hover .sk-estimator-doc-link:hover,\n",
       ".sk-estimator-doc-link:hover,\n",
       "div.sk-label-container:hover .sk-estimator-doc-link:hover,\n",
       ".sk-estimator-doc-link:hover {\n",
       "  /* unfitted */\n",
       "  background-color: var(--sklearn-color-unfitted-level-3);\n",
       "  color: var(--sklearn-color-background);\n",
       "  text-decoration: none;\n",
       "}\n",
       "\n",
       "div.sk-estimator.fitted:hover .sk-estimator-doc-link.fitted:hover,\n",
       ".sk-estimator-doc-link.fitted:hover,\n",
       "div.sk-label-container:hover .sk-estimator-doc-link.fitted:hover,\n",
       ".sk-estimator-doc-link.fitted:hover {\n",
       "  /* fitted */\n",
       "  background-color: var(--sklearn-color-fitted-level-3);\n",
       "  color: var(--sklearn-color-background);\n",
       "  text-decoration: none;\n",
       "}\n",
       "\n",
       "/* Span, style for the box shown on hovering the info icon */\n",
       ".sk-estimator-doc-link span {\n",
       "  display: none;\n",
       "  z-index: 9999;\n",
       "  position: relative;\n",
       "  font-weight: normal;\n",
       "  right: .2ex;\n",
       "  padding: .5ex;\n",
       "  margin: .5ex;\n",
       "  width: min-content;\n",
       "  min-width: 20ex;\n",
       "  max-width: 50ex;\n",
       "  color: var(--sklearn-color-text);\n",
       "  box-shadow: 2pt 2pt 4pt #999;\n",
       "  /* unfitted */\n",
       "  background: var(--sklearn-color-unfitted-level-0);\n",
       "  border: .5pt solid var(--sklearn-color-unfitted-level-3);\n",
       "}\n",
       "\n",
       ".sk-estimator-doc-link.fitted span {\n",
       "  /* fitted */\n",
       "  background: var(--sklearn-color-fitted-level-0);\n",
       "  border: var(--sklearn-color-fitted-level-3);\n",
       "}\n",
       "\n",
       ".sk-estimator-doc-link:hover span {\n",
       "  display: block;\n",
       "}\n",
       "\n",
       "/* \"?\"-specific style due to the `<a>` HTML tag */\n",
       "\n",
       "#sk-container-id-3 a.estimator_doc_link {\n",
       "  float: right;\n",
       "  font-size: 1rem;\n",
       "  line-height: 1em;\n",
       "  font-family: monospace;\n",
       "  background-color: var(--sklearn-color-background);\n",
       "  border-radius: 1rem;\n",
       "  height: 1rem;\n",
       "  width: 1rem;\n",
       "  text-decoration: none;\n",
       "  /* unfitted */\n",
       "  color: var(--sklearn-color-unfitted-level-1);\n",
       "  border: var(--sklearn-color-unfitted-level-1) 1pt solid;\n",
       "}\n",
       "\n",
       "#sk-container-id-3 a.estimator_doc_link.fitted {\n",
       "  /* fitted */\n",
       "  border: var(--sklearn-color-fitted-level-1) 1pt solid;\n",
       "  color: var(--sklearn-color-fitted-level-1);\n",
       "}\n",
       "\n",
       "/* On hover */\n",
       "#sk-container-id-3 a.estimator_doc_link:hover {\n",
       "  /* unfitted */\n",
       "  background-color: var(--sklearn-color-unfitted-level-3);\n",
       "  color: var(--sklearn-color-background);\n",
       "  text-decoration: none;\n",
       "}\n",
       "\n",
       "#sk-container-id-3 a.estimator_doc_link.fitted:hover {\n",
       "  /* fitted */\n",
       "  background-color: var(--sklearn-color-fitted-level-3);\n",
       "}\n",
       "</style><div id=\"sk-container-id-3\" class=\"sk-top-container\"><div class=\"sk-text-repr-fallback\"><pre>Ridge(alpha=26.36)</pre><b>In a Jupyter environment, please rerun this cell to show the HTML representation or trust the notebook. <br />On GitHub, the HTML representation is unable to render, please try loading this page with nbviewer.org.</b></div><div class=\"sk-container\" hidden><div class=\"sk-item\"><div class=\"sk-estimator fitted sk-toggleable\"><input class=\"sk-toggleable__control sk-hidden--visually\" id=\"sk-estimator-id-3\" type=\"checkbox\" checked><label for=\"sk-estimator-id-3\" class=\"sk-toggleable__label fitted sk-toggleable__label-arrow fitted\">&nbsp;&nbsp;Ridge<a class=\"sk-estimator-doc-link fitted\" rel=\"noreferrer\" target=\"_blank\" href=\"https://scikit-learn.org/1.4/modules/generated/sklearn.linear_model.Ridge.html\">?<span>Documentation for Ridge</span></a><span class=\"sk-estimator-doc-link fitted\">i<span>Fitted</span></span></label><div class=\"sk-toggleable__content fitted\"><pre>Ridge(alpha=26.36)</pre></div> </div></div></div></div>"
      ],
      "text/plain": [
       "Ridge(alpha=26.36)"
      ]
     },
     "execution_count": 121,
     "metadata": {},
     "output_type": "execute_result"
    }
   ],
   "source": [
    "rid_reg.fit(train_datax_scaled, train_datay)"
   ]
  },
  {
   "cell_type": "code",
   "execution_count": 122,
   "id": "7deaba62-5ef4-4afe-8cbc-ae10a20a80b7",
   "metadata": {},
   "outputs": [],
   "source": [
    "Ridge_train_scores = rid_reg.score(train_datax_scaled, train_datay)\n",
    "Ridge_test_scores = rid_reg.score(test_datax_scaled, test_datay)"
   ]
  },
  {
   "cell_type": "code",
   "execution_count": 123,
   "id": "7225323d-1aab-4af2-842f-f21941660857",
   "metadata": {},
   "outputs": [
    {
     "data": {
      "text/plain": [
       "0.6338070427929802"
      ]
     },
     "execution_count": 123,
     "metadata": {},
     "output_type": "execute_result"
    }
   ],
   "source": [
    "Ridge_train_scores"
   ]
  },
  {
   "cell_type": "code",
   "execution_count": 124,
   "id": "36b988ee-beb3-47a5-9ec6-308ef5b0ee95",
   "metadata": {},
   "outputs": [
    {
     "data": {
      "text/plain": [
       "0.6006464150806479"
      ]
     },
     "execution_count": 124,
     "metadata": {},
     "output_type": "execute_result"
    }
   ],
   "source": [
    "Ridge_test_scores"
   ]
  },
  {
   "cell_type": "code",
   "execution_count": 125,
   "id": "2dedc7a6-c65c-4372-b13d-fb43b0aefa1d",
   "metadata": {},
   "outputs": [
    {
     "data": {
      "text/plain": [
       "Index(['AGE_AT_SURGERY', 'SMOKING_PACK_YEARS', 'SUV', 'CT_SIZE', 'DLCO',\n",
       "       'FEV1', 'OS_MONTHS'],\n",
       "      dtype='object')"
      ]
     },
     "execution_count": 125,
     "metadata": {},
     "output_type": "execute_result"
    }
   ],
   "source": [
    "lung_predictors.columns"
   ]
  },
  {
   "cell_type": "code",
   "execution_count": 126,
   "id": "030e8073-8bf7-4281-9aa5-808f679dfe19",
   "metadata": {},
   "outputs": [
    {
     "data": {
      "text/plain": [
       "array([[ 0.35332802,  0.76878895, -1.71684684, -0.5093977 ,  0.6066932 ,\n",
       "        -0.66054757,  9.8516851 ]])"
      ]
     },
     "execution_count": 126,
     "metadata": {},
     "output_type": "execute_result"
    }
   ],
   "source": [
    "lin_reg.coef_"
   ]
  },
  {
   "cell_type": "code",
   "execution_count": 127,
   "id": "a6b5e6e2-e572-4ada-9603-033305ef2a5d",
   "metadata": {},
   "outputs": [
    {
     "data": {
      "text/plain": [
       "array([[ 0.32983307,  0.66106823, -1.57832109, -0.52121956,  0.51125327,\n",
       "        -0.59084936,  9.25026931]])"
      ]
     },
     "execution_count": 127,
     "metadata": {},
     "output_type": "execute_result"
    }
   ],
   "source": [
    "rid_reg.coef_"
   ]
  },
  {
   "cell_type": "code",
   "execution_count": 128,
   "id": "223a22a5-c956-4d82-980d-a097477ddd28",
   "metadata": {},
   "outputs": [],
   "source": [
    "# For Ridge regression, both the testing and training scores are less than the respective scores (train vs \n",
    "# train, test vs test) for OLS\n",
    "\n",
    "# TRUE #"
   ]
  },
  {
   "cell_type": "code",
   "execution_count": null,
   "id": "ed64c20d-7e72-442f-affe-054890ff942d",
   "metadata": {},
   "outputs": [],
   "source": []
  },
  {
   "cell_type": "code",
   "execution_count": null,
   "id": "4ea6dafa-8ef2-4f83-addb-1dd55839d312",
   "metadata": {},
   "outputs": [],
   "source": []
  },
  {
   "cell_type": "markdown",
   "id": "e91ffb07-c11f-4305-8f62-deb1d70cf3e3",
   "metadata": {},
   "source": [
    "# Question 15"
   ]
  },
  {
   "cell_type": "markdown",
   "id": "df46c780-be18-4292-9b21-f005c494e948",
   "metadata": {},
   "source": [
    "The next two questions will make use of the work_retention data. Use commute as the target, and the other 4 numeric predictors: age, children, years worked, and salary as the features.\n",
    "\n",
    "The optimal alpha value for Lasso regression is 0.02129 (I'm telling you this, it is correct). You obtain an average testing score of 0.5523 and an average training score of 0.6046 for the 10 fold cross-validation with this alpha value. What does all of this mean (based on the way we have done this in class)?Select ALL answers below that apply.\n",
    "\n",
    "You will need to create some additional models and do further analysis to answer this question. Be sure to scale the data if you are doing Lasso regression - it is also fine to scale the data for OLS. You do NOT need to re-run k-fold validation for Lasso regression (if you do, you might get slightly different numbers depending on the random state)."
   ]
  },
  {
   "cell_type": "code",
   "execution_count": 134,
   "id": "6875457c-38bf-4682-9011-0350c23a3954",
   "metadata": {},
   "outputs": [],
   "source": [
    "work = pd.read_csv(\"./data-Copy1/work_retention.csv\")"
   ]
  },
  {
   "cell_type": "code",
   "execution_count": 135,
   "id": "cbe2ea78-1283-49e5-8780-e636baec8eec",
   "metadata": {},
   "outputs": [
    {
     "data": {
      "text/html": [
       "<div>\n",
       "<style scoped>\n",
       "    .dataframe tbody tr th:only-of-type {\n",
       "        vertical-align: middle;\n",
       "    }\n",
       "\n",
       "    .dataframe tbody tr th {\n",
       "        vertical-align: top;\n",
       "    }\n",
       "\n",
       "    .dataframe thead th {\n",
       "        text-align: right;\n",
       "    }\n",
       "</style>\n",
       "<table border=\"1\" class=\"dataframe\">\n",
       "  <thead>\n",
       "    <tr style=\"text-align: right;\">\n",
       "      <th></th>\n",
       "      <th>age</th>\n",
       "      <th>children</th>\n",
       "      <th>commute</th>\n",
       "      <th>salary</th>\n",
       "      <th>years worked</th>\n",
       "      <th>retain</th>\n",
       "    </tr>\n",
       "  </thead>\n",
       "  <tbody>\n",
       "    <tr>\n",
       "      <th>0</th>\n",
       "      <td>63</td>\n",
       "      <td>0</td>\n",
       "      <td>0.095167</td>\n",
       "      <td>54233</td>\n",
       "      <td>2.18</td>\n",
       "      <td>1</td>\n",
       "    </tr>\n",
       "    <tr>\n",
       "      <th>1</th>\n",
       "      <td>64</td>\n",
       "      <td>0</td>\n",
       "      <td>0.044500</td>\n",
       "      <td>64739</td>\n",
       "      <td>4.53</td>\n",
       "      <td>1</td>\n",
       "    </tr>\n",
       "    <tr>\n",
       "      <th>2</th>\n",
       "      <td>40</td>\n",
       "      <td>1</td>\n",
       "      <td>0.159167</td>\n",
       "      <td>95953</td>\n",
       "      <td>4.57</td>\n",
       "      <td>1</td>\n",
       "    </tr>\n",
       "    <tr>\n",
       "      <th>3</th>\n",
       "      <td>58</td>\n",
       "      <td>5</td>\n",
       "      <td>0.091167</td>\n",
       "      <td>59038</td>\n",
       "      <td>2.99</td>\n",
       "      <td>1</td>\n",
       "    </tr>\n",
       "    <tr>\n",
       "      <th>4</th>\n",
       "      <td>63</td>\n",
       "      <td>0</td>\n",
       "      <td>0.016000</td>\n",
       "      <td>7958</td>\n",
       "      <td>4.36</td>\n",
       "      <td>1</td>\n",
       "    </tr>\n",
       "  </tbody>\n",
       "</table>\n",
       "</div>"
      ],
      "text/plain": [
       "   age  children   commute  salary  years worked  retain\n",
       "0   63         0  0.095167   54233          2.18       1\n",
       "1   64         0  0.044500   64739          4.53       1\n",
       "2   40         1  0.159167   95953          4.57       1\n",
       "3   58         5  0.091167   59038          2.99       1\n",
       "4   63         0  0.016000    7958          4.36       1"
      ]
     },
     "execution_count": 135,
     "metadata": {},
     "output_type": "execute_result"
    }
   ],
   "source": [
    "work.head()"
   ]
  },
  {
   "cell_type": "code",
   "execution_count": 136,
   "id": "3fef2cde-8aa0-4197-8ab0-36484837aacc",
   "metadata": {},
   "outputs": [],
   "source": [
    "metadata = work[['commute','retain']]\n",
    "X2_df = work.drop(columns = list(metadata.columns))\n",
    "X2 = np.array(X2_df)\n",
    "# X"
   ]
  },
  {
   "cell_type": "code",
   "execution_count": 137,
   "id": "544c71cb-b39b-4b0a-9465-ab36a2be105c",
   "metadata": {},
   "outputs": [],
   "source": [
    "y2 = work['commute'].values\n",
    "# y"
   ]
  },
  {
   "cell_type": "code",
   "execution_count": 138,
   "id": "1bf6955c-2e4e-4ae8-8f0e-e699566ce27a",
   "metadata": {},
   "outputs": [],
   "source": [
    "ss = SS()\n",
    "X2_scaled = ss.fit_transform(X2)\n",
    "# X2_scaled"
   ]
  },
  {
   "cell_type": "code",
   "execution_count": 139,
   "id": "07cb239d-444d-4716-8038-ecf4bf3cbb5b",
   "metadata": {},
   "outputs": [],
   "source": [
    "# TRUE # If we made a plot of the average testing scores for Lasso regression using a range of alpha \n",
    "# values, based on the information given, would we expect to see the peak would be at 0.02129\n",
    "\n",
    "## this is true because the optimal alpha value is at 0.02129, so that means that the alpha value with the \n",
    "## highest average testing score is 0.02129. The average testing score at 0.02129 is the peak of the graph"
   ]
  },
  {
   "cell_type": "code",
   "execution_count": 140,
   "id": "1770f7fd-b6d0-4654-bef4-15a302c942f1",
   "metadata": {},
   "outputs": [],
   "source": [
    "# FALSE # We can also infer, without any need to test it, that 0.02129 is the optimal alpha value for \n",
    "# Ridge regression\n",
    "\n",
    "## False because the lasso and ridge optimal alpha values often differ. We cannot infer that this is true."
   ]
  },
  {
   "cell_type": "code",
   "execution_count": 141,
   "id": "a79e3d87-4382-45fd-9af0-1a677130ebc6",
   "metadata": {},
   "outputs": [],
   "source": [
    "lin_reg = LR()"
   ]
  },
  {
   "cell_type": "code",
   "execution_count": 142,
   "id": "3ba37780-86fe-49fa-ab05-6189e2d326e8",
   "metadata": {},
   "outputs": [
    {
     "data": {
      "text/plain": [
       "([0.6105474768984067,\n",
       "  0.6122949462080931,\n",
       "  0.6157474164753077,\n",
       "  0.626703056152337,\n",
       "  0.5847072319582912,\n",
       "  0.6028449964755502,\n",
       "  0.6146873507262262,\n",
       "  0.6083404511987016,\n",
       "  0.6239172717928834,\n",
       "  0.6219609144411438],\n",
       " [0.5902042700060559,\n",
       "  0.5945828499787905,\n",
       "  0.5326689589107849,\n",
       "  0.417907225277943,\n",
       "  0.7984557745023815,\n",
       "  0.6719010439226457,\n",
       "  0.5733446004706597,\n",
       "  0.6415912201928211,\n",
       "  0.4081622452665864,\n",
       "  0.4757698532479948])"
      ]
     },
     "execution_count": 142,
     "metadata": {},
     "output_type": "execute_result"
    }
   ],
   "source": [
    "results = do_Kfold(model = lin_reg, X = X2_scaled, y = y2, k = 10,random_state = 201)\n",
    "results"
   ]
  },
  {
   "cell_type": "code",
   "execution_count": 143,
   "id": "bb7bf189-8faf-4439-be78-d3618db6cc9b",
   "metadata": {},
   "outputs": [
    {
     "data": {
      "text/plain": [
       "0.5704588041776664"
      ]
     },
     "execution_count": 143,
     "metadata": {},
     "output_type": "execute_result"
    }
   ],
   "source": [
    "np.mean(results[1])"
   ]
  },
  {
   "cell_type": "code",
   "execution_count": 144,
   "id": "eea4f186-b7b9-4a0d-9cca-ecd2175dfbab",
   "metadata": {},
   "outputs": [
    {
     "data": {
      "text/plain": [
       "0.7984557745023815"
      ]
     },
     "execution_count": 144,
     "metadata": {},
     "output_type": "execute_result"
    }
   ],
   "source": [
    "np.max(results[1])"
   ]
  },
  {
   "cell_type": "code",
   "execution_count": 145,
   "id": "309bad9a-7787-4a70-be3e-28f1c921584f",
   "metadata": {},
   "outputs": [],
   "source": [
    "# If we perform 10-fold cross validation on an OLS model (random_state = 201), the average testing score \n",
    "# is greater than the corresponding average testing score given for Lasso in the question\n",
    "\n",
    "# TRUE #\n",
    "\n",
    "## 0.5704588041776664 (of OLS)\n",
    "## is greater than the previous average testing score (of lasso) of 0.5523"
   ]
  },
  {
   "cell_type": "code",
   "execution_count": 146,
   "id": "f4041aeb-5ec0-4f2a-9a79-5b126e6591e5",
   "metadata": {},
   "outputs": [],
   "source": [
    "# In general, when we choose a value of alpha for Lasso regression the way we have done in class, we want \n",
    "# the value that maximizes the average training score\n",
    "\n",
    "# FALSE #\n",
    "\n",
    "## We are looking for the alpha value that maximizes the value of the testing score, not the trainig score."
   ]
  },
  {
   "cell_type": "code",
   "execution_count": 147,
   "id": "b91ca8c4-ab9e-442f-a691-2d445bcd30f8",
   "metadata": {},
   "outputs": [],
   "source": [
    "# When we fit an OLS model to ALL of the data (no k fold validation), the score is greater than the score \n",
    "# for a Lasso model fit to ALL of the data using alpha = 0.02129\n",
    "\n",
    "# [If greater than is stressing you out, let's say we will consider out to 6 decimal places. \n",
    "# If you are nervous about using a random state for Lasso, use 201 - it doesn't actually matter.]\n",
    "\n",
    "# TRUE #"
   ]
  },
  {
   "cell_type": "code",
   "execution_count": 148,
   "id": "9a21d8db-f049-411d-8314-f064337f3a62",
   "metadata": {},
   "outputs": [
    {
     "data": {
      "text/plain": [
       "0.6111278434979339"
      ]
     },
     "execution_count": 148,
     "metadata": {},
     "output_type": "execute_result"
    }
   ],
   "source": [
    "lin_reg.fit(X2_scaled, y2)\n",
    "lin_reg.score(X2_scaled, y2)"
   ]
  },
  {
   "cell_type": "code",
   "execution_count": 149,
   "id": "a66024ac-8212-4d48-b405-3d6974a1bcc9",
   "metadata": {},
   "outputs": [
    {
     "data": {
      "text/plain": [
       "0.604776793961493"
      ]
     },
     "execution_count": 149,
     "metadata": {},
     "output_type": "execute_result"
    }
   ],
   "source": [
    "las_reg = Lasso(alpha = 0.02129)\n",
    "las_reg.fit(X2_scaled, y2)\n",
    "las_reg.score(X2_scaled, y2)"
   ]
  },
  {
   "cell_type": "code",
   "execution_count": null,
   "id": "258924ec-a8b0-4470-91a9-59e1d95a7349",
   "metadata": {},
   "outputs": [],
   "source": []
  },
  {
   "cell_type": "code",
   "execution_count": null,
   "id": "ae7e2449-100a-4d60-abc5-5d3c748975f7",
   "metadata": {},
   "outputs": [],
   "source": []
  },
  {
   "cell_type": "markdown",
   "id": "0bc780fc-ded4-4292-89e5-7274a63ef578",
   "metadata": {},
   "source": [
    "# Question 16"
   ]
  },
  {
   "cell_type": "markdown",
   "id": "59df8896-3df6-490f-89e7-bb690d514cbf",
   "metadata": {},
   "source": [
    "Using the work_retention data with commute as the target and the predictors described previously, compare the coefficients for OLS using the entire data set scaled (this means ALL of the data) and Lasso regression (using alpha = 0.02129) using the entire data set scaled (this means ALL of the data, no k-fold validation). You should have already done both of these things in the previous question, so just look at your output. Which variables did Lasso regression drop from the model? (Select ALL that were dropped.)"
   ]
  },
  {
   "cell_type": "code",
   "execution_count": 150,
   "id": "bff3e057-489b-467b-bdea-b683673926a1",
   "metadata": {},
   "outputs": [
    {
     "data": {
      "text/plain": [
       "Index(['age', 'children', 'salary', 'years worked'], dtype='object')"
      ]
     },
     "execution_count": 150,
     "metadata": {},
     "output_type": "execute_result"
    }
   ],
   "source": [
    "X2_df.columns"
   ]
  },
  {
   "cell_type": "code",
   "execution_count": 151,
   "id": "3f5b2325-14c0-4078-9118-0e35b440ceaa",
   "metadata": {},
   "outputs": [
    {
     "data": {
      "text/plain": [
       "array([-0.00946763,  0.00683362, -0.01540272, -0.27777825])"
      ]
     },
     "execution_count": 151,
     "metadata": {},
     "output_type": "execute_result"
    }
   ],
   "source": [
    "lin_reg.coef_"
   ]
  },
  {
   "cell_type": "code",
   "execution_count": 152,
   "id": "1b25d8b1-8be1-4107-b39e-45232f59de2f",
   "metadata": {},
   "outputs": [],
   "source": [
    "# X2"
   ]
  },
  {
   "cell_type": "code",
   "execution_count": 153,
   "id": "fb69bc16-88cc-4778-9f1f-8b748b8f8c89",
   "metadata": {},
   "outputs": [
    {
     "data": {
      "text/plain": [
       "array([-0.        ,  0.        , -0.        , -0.25654165])"
      ]
     },
     "execution_count": 153,
     "metadata": {},
     "output_type": "execute_result"
    }
   ],
   "source": [
    "las_reg.coef_"
   ]
  },
  {
   "cell_type": "code",
   "execution_count": 154,
   "id": "427bdbc3-b278-4737-80cb-0934ed6074dd",
   "metadata": {},
   "outputs": [],
   "source": [
    "# age, children, and salary were dropped #"
   ]
  },
  {
   "cell_type": "code",
   "execution_count": null,
   "id": "4464d96f-6cf0-4212-89d0-21016c322e2d",
   "metadata": {},
   "outputs": [],
   "source": []
  },
  {
   "cell_type": "code",
   "execution_count": null,
   "id": "9118c116-6983-40f7-8b1f-aee5171678db",
   "metadata": {},
   "outputs": [],
   "source": []
  },
  {
   "cell_type": "code",
   "execution_count": null,
   "id": "7432a0b3-4741-4931-ba0e-47d3f29454fd",
   "metadata": {},
   "outputs": [],
   "source": []
  },
  {
   "cell_type": "code",
   "execution_count": null,
   "id": "7e1f11ad-171a-4332-9abf-451603a083bd",
   "metadata": {},
   "outputs": [],
   "source": []
  }
 ],
 "metadata": {
  "kernelspec": {
   "display_name": "Python 3 (ipykernel)",
   "language": "python",
   "name": "python3"
  },
  "language_info": {
   "codemirror_mode": {
    "name": "ipython",
    "version": 3
   },
   "file_extension": ".py",
   "mimetype": "text/x-python",
   "name": "python",
   "nbconvert_exporter": "python",
   "pygments_lexer": "ipython3",
   "version": "3.11.6"
  }
 },
 "nbformat": 4,
 "nbformat_minor": 5
}
