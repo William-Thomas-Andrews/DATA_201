{
 "cells": [
  {
   "cell_type": "code",
   "execution_count": 267,
   "id": "6dbcff5d-1e30-4895-80ea-5574c4673967",
   "metadata": {},
   "outputs": [],
   "source": [
    "import math\n",
    "import numpy as np\n",
    "import pandas as pd\n",
    "import matplotlib.pyplot as plt\n",
    "import seaborn as sns\n",
    "from sklearn.preprocessing import StandardScaler as SS"
   ]
  },
  {
   "cell_type": "code",
   "execution_count": 268,
   "id": "20a198d6-180c-4047-96a6-e4749122ae8e",
   "metadata": {},
   "outputs": [],
   "source": [
    "work = pd.read_csv('./data/work_retention.csv')"
   ]
  },
  {
   "cell_type": "code",
   "execution_count": 269,
   "id": "58aab40a-4870-4b84-b78f-d6c3043978a6",
   "metadata": {},
   "outputs": [],
   "source": [
    "import pandas as pd"
   ]
  },
  {
   "cell_type": "code",
   "execution_count": 270,
   "id": "7d9b20ea-9e93-486b-aff9-b3c15be89ee1",
   "metadata": {},
   "outputs": [],
   "source": [
    "X_df = work.drop(columns = [\"retain\"])"
   ]
  },
  {
   "cell_type": "code",
   "execution_count": 271,
   "id": "c458ba53-e5eb-4c09-8e4a-1945f1236dfd",
   "metadata": {},
   "outputs": [
    {
     "data": {
      "text/html": [
       "<div>\n",
       "<style scoped>\n",
       "    .dataframe tbody tr th:only-of-type {\n",
       "        vertical-align: middle;\n",
       "    }\n",
       "\n",
       "    .dataframe tbody tr th {\n",
       "        vertical-align: top;\n",
       "    }\n",
       "\n",
       "    .dataframe thead th {\n",
       "        text-align: right;\n",
       "    }\n",
       "</style>\n",
       "<table border=\"1\" class=\"dataframe\">\n",
       "  <thead>\n",
       "    <tr style=\"text-align: right;\">\n",
       "      <th></th>\n",
       "      <th>age</th>\n",
       "      <th>children</th>\n",
       "      <th>commute</th>\n",
       "      <th>salary</th>\n",
       "      <th>years worked</th>\n",
       "    </tr>\n",
       "  </thead>\n",
       "  <tbody>\n",
       "    <tr>\n",
       "      <th>0</th>\n",
       "      <td>63</td>\n",
       "      <td>0</td>\n",
       "      <td>0.095167</td>\n",
       "      <td>54233</td>\n",
       "      <td>2.18</td>\n",
       "    </tr>\n",
       "    <tr>\n",
       "      <th>1</th>\n",
       "      <td>64</td>\n",
       "      <td>0</td>\n",
       "      <td>0.044500</td>\n",
       "      <td>64739</td>\n",
       "      <td>4.53</td>\n",
       "    </tr>\n",
       "    <tr>\n",
       "      <th>2</th>\n",
       "      <td>40</td>\n",
       "      <td>1</td>\n",
       "      <td>0.159167</td>\n",
       "      <td>95953</td>\n",
       "      <td>4.57</td>\n",
       "    </tr>\n",
       "    <tr>\n",
       "      <th>3</th>\n",
       "      <td>58</td>\n",
       "      <td>5</td>\n",
       "      <td>0.091167</td>\n",
       "      <td>59038</td>\n",
       "      <td>2.99</td>\n",
       "    </tr>\n",
       "    <tr>\n",
       "      <th>4</th>\n",
       "      <td>63</td>\n",
       "      <td>0</td>\n",
       "      <td>0.016000</td>\n",
       "      <td>7958</td>\n",
       "      <td>4.36</td>\n",
       "    </tr>\n",
       "    <tr>\n",
       "      <th>...</th>\n",
       "      <td>...</td>\n",
       "      <td>...</td>\n",
       "      <td>...</td>\n",
       "      <td>...</td>\n",
       "      <td>...</td>\n",
       "    </tr>\n",
       "    <tr>\n",
       "      <th>195</th>\n",
       "      <td>61</td>\n",
       "      <td>0</td>\n",
       "      <td>0.883333</td>\n",
       "      <td>21661</td>\n",
       "      <td>0.82</td>\n",
       "    </tr>\n",
       "    <tr>\n",
       "      <th>196</th>\n",
       "      <td>37</td>\n",
       "      <td>0</td>\n",
       "      <td>0.883333</td>\n",
       "      <td>17181</td>\n",
       "      <td>1.29</td>\n",
       "    </tr>\n",
       "    <tr>\n",
       "      <th>197</th>\n",
       "      <td>56</td>\n",
       "      <td>1</td>\n",
       "      <td>1.116667</td>\n",
       "      <td>63675</td>\n",
       "      <td>0.91</td>\n",
       "    </tr>\n",
       "    <tr>\n",
       "      <th>198</th>\n",
       "      <td>36</td>\n",
       "      <td>4</td>\n",
       "      <td>1.166667</td>\n",
       "      <td>45895</td>\n",
       "      <td>0.97</td>\n",
       "    </tr>\n",
       "    <tr>\n",
       "      <th>199</th>\n",
       "      <td>55</td>\n",
       "      <td>1</td>\n",
       "      <td>0.916667</td>\n",
       "      <td>21965</td>\n",
       "      <td>0.74</td>\n",
       "    </tr>\n",
       "  </tbody>\n",
       "</table>\n",
       "<p>200 rows × 5 columns</p>\n",
       "</div>"
      ],
      "text/plain": [
       "     age  children   commute  salary  years worked\n",
       "0     63         0  0.095167   54233          2.18\n",
       "1     64         0  0.044500   64739          4.53\n",
       "2     40         1  0.159167   95953          4.57\n",
       "3     58         5  0.091167   59038          2.99\n",
       "4     63         0  0.016000    7958          4.36\n",
       "..   ...       ...       ...     ...           ...\n",
       "195   61         0  0.883333   21661          0.82\n",
       "196   37         0  0.883333   17181          1.29\n",
       "197   56         1  1.116667   63675          0.91\n",
       "198   36         4  1.166667   45895          0.97\n",
       "199   55         1  0.916667   21965          0.74\n",
       "\n",
       "[200 rows x 5 columns]"
      ]
     },
     "execution_count": 271,
     "metadata": {},
     "output_type": "execute_result"
    }
   ],
   "source": [
    "X_df"
   ]
  },
  {
   "cell_type": "code",
   "execution_count": 272,
   "id": "8462c8f0-2246-425a-9de2-1b12006a3324",
   "metadata": {},
   "outputs": [
    {
     "data": {
      "text/plain": [
       "0      1\n",
       "1      1\n",
       "2      1\n",
       "3      1\n",
       "4      1\n",
       "      ..\n",
       "195    0\n",
       "196    0\n",
       "197    0\n",
       "198    0\n",
       "199    0\n",
       "Name: retain, Length: 200, dtype: int64"
      ]
     },
     "execution_count": 272,
     "metadata": {},
     "output_type": "execute_result"
    }
   ],
   "source": [
    "y = work['retain']\n",
    "y"
   ]
  },
  {
   "cell_type": "code",
   "execution_count": 274,
   "id": "7acd5a56-e27a-4038-9651-f5e868def56d",
   "metadata": {},
   "outputs": [],
   "source": [
    "from sklearn.linear_model import LinearRegression as LR\n",
    "from sklearn.preprocessing import StandardScaler as SS"
   ]
  },
  {
   "cell_type": "code",
   "execution_count": 275,
   "id": "e93dc5e0-d0f6-4296-b5af-296c72c1aebe",
   "metadata": {},
   "outputs": [
    {
     "data": {
      "text/plain": [
       "0.8554862567604021"
      ]
     },
     "execution_count": 275,
     "metadata": {},
     "output_type": "execute_result"
    }
   ],
   "source": [
    "lin_reg = LR()\n",
    "ss = SS()\n",
    "X_scaled = ss.fit_transform(X_df)\n",
    "lin_reg.fit(X_scaled, y)\n",
    "lin_reg.score(X_scaled, y)"
   ]
  },
  {
   "cell_type": "code",
   "execution_count": null,
   "id": "d2125908-835b-4243-b13a-23c094722cda",
   "metadata": {},
   "outputs": [],
   "source": []
  },
  {
   "cell_type": "code",
   "execution_count": null,
   "id": "22b92484-4fa1-423b-a262-13180f6b541e",
   "metadata": {},
   "outputs": [],
   "source": []
  },
  {
   "cell_type": "code",
   "execution_count": null,
   "id": "129c37a0-6c8e-4921-be6e-56e0b8e011db",
   "metadata": {},
   "outputs": [],
   "source": []
  },
  {
   "cell_type": "code",
   "execution_count": null,
   "id": "3e0c603c-34ca-4942-9b24-3d9451253531",
   "metadata": {},
   "outputs": [],
   "source": []
  },
  {
   "cell_type": "code",
   "execution_count": null,
   "id": "6adc8e47-c090-43fd-b860-506628cb7dd6",
   "metadata": {},
   "outputs": [],
   "source": []
  },
  {
   "cell_type": "code",
   "execution_count": null,
   "id": "04d70b57-bd4a-487d-9a79-383a1959b08a",
   "metadata": {},
   "outputs": [],
   "source": []
  },
  {
   "cell_type": "code",
   "execution_count": null,
   "id": "82049fd1-394c-4f7c-9b15-84c914bd040f",
   "metadata": {},
   "outputs": [],
   "source": []
  },
  {
   "cell_type": "code",
   "execution_count": 276,
   "id": "009c29e5-ca01-4b0d-9aa5-f9c022fabc91",
   "metadata": {},
   "outputs": [],
   "source": [
    "car = pd.read_csv('./data-Copy1/ElectricCarData_S24.csv')"
   ]
  },
  {
   "cell_type": "code",
   "execution_count": 277,
   "id": "5a9dd217-8373-4048-a76d-16484df6c0c2",
   "metadata": {},
   "outputs": [
    {
     "data": {
      "text/html": [
       "<div>\n",
       "<style scoped>\n",
       "    .dataframe tbody tr th:only-of-type {\n",
       "        vertical-align: middle;\n",
       "    }\n",
       "\n",
       "    .dataframe tbody tr th {\n",
       "        vertical-align: top;\n",
       "    }\n",
       "\n",
       "    .dataframe thead th {\n",
       "        text-align: right;\n",
       "    }\n",
       "</style>\n",
       "<table border=\"1\" class=\"dataframe\">\n",
       "  <thead>\n",
       "    <tr style=\"text-align: right;\">\n",
       "      <th></th>\n",
       "      <th>Brand</th>\n",
       "      <th>Model</th>\n",
       "      <th>AccelSec</th>\n",
       "      <th>TopSpeed_KmH</th>\n",
       "      <th>Range_Km</th>\n",
       "      <th>Efficiency_WhKm</th>\n",
       "      <th>RapidCharge</th>\n",
       "      <th>PowerTrain</th>\n",
       "      <th>PlugType</th>\n",
       "      <th>BodyStyle</th>\n",
       "      <th>Seats</th>\n",
       "      <th>PriceEuro</th>\n",
       "    </tr>\n",
       "  </thead>\n",
       "  <tbody>\n",
       "    <tr>\n",
       "      <th>0</th>\n",
       "      <td>Tesla</td>\n",
       "      <td>Model 3 Long Range Dual Motor</td>\n",
       "      <td>4.6</td>\n",
       "      <td>233</td>\n",
       "      <td>450</td>\n",
       "      <td>161</td>\n",
       "      <td>Yes</td>\n",
       "      <td>AWD</td>\n",
       "      <td>Type 2 CCS</td>\n",
       "      <td>Sedan</td>\n",
       "      <td>5</td>\n",
       "      <td>55480</td>\n",
       "    </tr>\n",
       "    <tr>\n",
       "      <th>1</th>\n",
       "      <td>Volkswagen</td>\n",
       "      <td>ID.3 Pure</td>\n",
       "      <td>10.0</td>\n",
       "      <td>160</td>\n",
       "      <td>270</td>\n",
       "      <td>167</td>\n",
       "      <td>Yes</td>\n",
       "      <td>RWD</td>\n",
       "      <td>Type 2 CCS</td>\n",
       "      <td>Hatchback</td>\n",
       "      <td>5</td>\n",
       "      <td>30000</td>\n",
       "    </tr>\n",
       "    <tr>\n",
       "      <th>2</th>\n",
       "      <td>Polestar</td>\n",
       "      <td>2</td>\n",
       "      <td>4.7</td>\n",
       "      <td>210</td>\n",
       "      <td>400</td>\n",
       "      <td>181</td>\n",
       "      <td>Yes</td>\n",
       "      <td>AWD</td>\n",
       "      <td>Type 2 CCS</td>\n",
       "      <td>Liftback</td>\n",
       "      <td>5</td>\n",
       "      <td>56440</td>\n",
       "    </tr>\n",
       "    <tr>\n",
       "      <th>3</th>\n",
       "      <td>BMW</td>\n",
       "      <td>iX3</td>\n",
       "      <td>6.8</td>\n",
       "      <td>180</td>\n",
       "      <td>360</td>\n",
       "      <td>206</td>\n",
       "      <td>Yes</td>\n",
       "      <td>RWD</td>\n",
       "      <td>Type 2 CCS</td>\n",
       "      <td>SUV</td>\n",
       "      <td>5</td>\n",
       "      <td>68040</td>\n",
       "    </tr>\n",
       "    <tr>\n",
       "      <th>4</th>\n",
       "      <td>Honda</td>\n",
       "      <td>e</td>\n",
       "      <td>9.5</td>\n",
       "      <td>145</td>\n",
       "      <td>170</td>\n",
       "      <td>168</td>\n",
       "      <td>Yes</td>\n",
       "      <td>RWD</td>\n",
       "      <td>Type 2 CCS</td>\n",
       "      <td>Hatchback</td>\n",
       "      <td>4</td>\n",
       "      <td>32997</td>\n",
       "    </tr>\n",
       "  </tbody>\n",
       "</table>\n",
       "</div>"
      ],
      "text/plain": [
       "         Brand                          Model  AccelSec  TopSpeed_KmH  \\\n",
       "0       Tesla   Model 3 Long Range Dual Motor       4.6           233   \n",
       "1  Volkswagen                       ID.3 Pure      10.0           160   \n",
       "2    Polestar                               2       4.7           210   \n",
       "3         BMW                            iX3        6.8           180   \n",
       "4       Honda                              e        9.5           145   \n",
       "\n",
       "   Range_Km  Efficiency_WhKm RapidCharge PowerTrain    PlugType  BodyStyle  \\\n",
       "0       450              161         Yes        AWD  Type 2 CCS      Sedan   \n",
       "1       270              167         Yes        RWD  Type 2 CCS  Hatchback   \n",
       "2       400              181         Yes        AWD  Type 2 CCS   Liftback   \n",
       "3       360              206         Yes        RWD  Type 2 CCS        SUV   \n",
       "4       170              168         Yes        RWD  Type 2 CCS  Hatchback   \n",
       "\n",
       "   Seats  PriceEuro  \n",
       "0      5      55480  \n",
       "1      5      30000  \n",
       "2      5      56440  \n",
       "3      5      68040  \n",
       "4      4      32997  "
      ]
     },
     "execution_count": 277,
     "metadata": {},
     "output_type": "execute_result"
    }
   ],
   "source": [
    "car.head()"
   ]
  },
  {
   "cell_type": "code",
   "execution_count": 278,
   "id": "b6e81785-9722-468f-b64c-ad32be995671",
   "metadata": {},
   "outputs": [],
   "source": [
    "car_subset = car.drop(columns = [\"Brand\", \"Model\", \"RapidCharge\", \"PowerTrain\", \"PlugType\", \"BodyStyle\"])"
   ]
  },
  {
   "cell_type": "code",
   "execution_count": 279,
   "id": "ad15f9bb-9507-417f-a327-d2e28c8ead0f",
   "metadata": {},
   "outputs": [
    {
     "data": {
      "text/html": [
       "<div>\n",
       "<style scoped>\n",
       "    .dataframe tbody tr th:only-of-type {\n",
       "        vertical-align: middle;\n",
       "    }\n",
       "\n",
       "    .dataframe tbody tr th {\n",
       "        vertical-align: top;\n",
       "    }\n",
       "\n",
       "    .dataframe thead th {\n",
       "        text-align: right;\n",
       "    }\n",
       "</style>\n",
       "<table border=\"1\" class=\"dataframe\">\n",
       "  <thead>\n",
       "    <tr style=\"text-align: right;\">\n",
       "      <th></th>\n",
       "      <th>AccelSec</th>\n",
       "      <th>TopSpeed_KmH</th>\n",
       "      <th>Range_Km</th>\n",
       "      <th>Efficiency_WhKm</th>\n",
       "      <th>Seats</th>\n",
       "      <th>PriceEuro</th>\n",
       "    </tr>\n",
       "  </thead>\n",
       "  <tbody>\n",
       "    <tr>\n",
       "      <th>0</th>\n",
       "      <td>4.6</td>\n",
       "      <td>233</td>\n",
       "      <td>450</td>\n",
       "      <td>161</td>\n",
       "      <td>5</td>\n",
       "      <td>55480</td>\n",
       "    </tr>\n",
       "    <tr>\n",
       "      <th>1</th>\n",
       "      <td>10.0</td>\n",
       "      <td>160</td>\n",
       "      <td>270</td>\n",
       "      <td>167</td>\n",
       "      <td>5</td>\n",
       "      <td>30000</td>\n",
       "    </tr>\n",
       "    <tr>\n",
       "      <th>2</th>\n",
       "      <td>4.7</td>\n",
       "      <td>210</td>\n",
       "      <td>400</td>\n",
       "      <td>181</td>\n",
       "      <td>5</td>\n",
       "      <td>56440</td>\n",
       "    </tr>\n",
       "    <tr>\n",
       "      <th>3</th>\n",
       "      <td>6.8</td>\n",
       "      <td>180</td>\n",
       "      <td>360</td>\n",
       "      <td>206</td>\n",
       "      <td>5</td>\n",
       "      <td>68040</td>\n",
       "    </tr>\n",
       "    <tr>\n",
       "      <th>4</th>\n",
       "      <td>9.5</td>\n",
       "      <td>145</td>\n",
       "      <td>170</td>\n",
       "      <td>168</td>\n",
       "      <td>4</td>\n",
       "      <td>32997</td>\n",
       "    </tr>\n",
       "    <tr>\n",
       "      <th>...</th>\n",
       "      <td>...</td>\n",
       "      <td>...</td>\n",
       "      <td>...</td>\n",
       "      <td>...</td>\n",
       "      <td>...</td>\n",
       "      <td>...</td>\n",
       "    </tr>\n",
       "    <tr>\n",
       "      <th>98</th>\n",
       "      <td>7.5</td>\n",
       "      <td>160</td>\n",
       "      <td>330</td>\n",
       "      <td>191</td>\n",
       "      <td>5</td>\n",
       "      <td>45000</td>\n",
       "    </tr>\n",
       "    <tr>\n",
       "      <th>99</th>\n",
       "      <td>4.5</td>\n",
       "      <td>210</td>\n",
       "      <td>335</td>\n",
       "      <td>258</td>\n",
       "      <td>5</td>\n",
       "      <td>96050</td>\n",
       "    </tr>\n",
       "    <tr>\n",
       "      <th>100</th>\n",
       "      <td>5.9</td>\n",
       "      <td>200</td>\n",
       "      <td>325</td>\n",
       "      <td>194</td>\n",
       "      <td>5</td>\n",
       "      <td>50000</td>\n",
       "    </tr>\n",
       "    <tr>\n",
       "      <th>101</th>\n",
       "      <td>5.1</td>\n",
       "      <td>200</td>\n",
       "      <td>375</td>\n",
       "      <td>232</td>\n",
       "      <td>5</td>\n",
       "      <td>65000</td>\n",
       "    </tr>\n",
       "    <tr>\n",
       "      <th>102</th>\n",
       "      <td>7.5</td>\n",
       "      <td>190</td>\n",
       "      <td>400</td>\n",
       "      <td>238</td>\n",
       "      <td>5</td>\n",
       "      <td>62000</td>\n",
       "    </tr>\n",
       "  </tbody>\n",
       "</table>\n",
       "<p>103 rows × 6 columns</p>\n",
       "</div>"
      ],
      "text/plain": [
       "     AccelSec  TopSpeed_KmH  Range_Km  Efficiency_WhKm  Seats  PriceEuro\n",
       "0         4.6           233       450              161      5      55480\n",
       "1        10.0           160       270              167      5      30000\n",
       "2         4.7           210       400              181      5      56440\n",
       "3         6.8           180       360              206      5      68040\n",
       "4         9.5           145       170              168      4      32997\n",
       "..        ...           ...       ...              ...    ...        ...\n",
       "98        7.5           160       330              191      5      45000\n",
       "99        4.5           210       335              258      5      96050\n",
       "100       5.9           200       325              194      5      50000\n",
       "101       5.1           200       375              232      5      65000\n",
       "102       7.5           190       400              238      5      62000\n",
       "\n",
       "[103 rows x 6 columns]"
      ]
     },
     "execution_count": 279,
     "metadata": {},
     "output_type": "execute_result"
    }
   ],
   "source": [
    "car_subset"
   ]
  },
  {
   "cell_type": "code",
   "execution_count": 280,
   "id": "a6705cd6-e17b-4212-98f9-b63069ba06bf",
   "metadata": {},
   "outputs": [],
   "source": [
    "import statistics as st"
   ]
  },
  {
   "cell_type": "code",
   "execution_count": 281,
   "id": "e992a4a1-e761-4ba3-aa01-9121118dd367",
   "metadata": {},
   "outputs": [
    {
     "name": "stdout",
     "output_type": "stream",
     "text": [
      "The variance for AccelSec is,  9.104886731391586\n",
      "The variance for TopSpeed_KmH is,  1898.6089853417095\n",
      "The variance for Range_Km is,  15879.640205596801\n",
      "The variance for Efficiency_WhKm is,  874.1979821054636\n",
      "The variance for Seats is,  0.6333523700742433\n",
      "The variance for PriceEuro is,  1165175373.797449\n"
     ]
    }
   ],
   "source": [
    "print(\"The variance for AccelSec is, \", st.variance(car_subset[\"AccelSec\"]))\n",
    "print(\"The variance for TopSpeed_KmH is, \", st.variance(car_subset[\"TopSpeed_KmH\"]))\n",
    "print(\"The variance for Range_Km is, \", st.variance(car_subset[\"Range_Km\"]))\n",
    "print(\"The variance for Efficiency_WhKm is, \", st.variance(car_subset[\"Efficiency_WhKm\"]))\n",
    "print(\"The variance for Seats is, \", st.variance(car_subset[\"Seats\"]))\n",
    "print(\"The variance for PriceEuro is, \", st.variance(car_subset[\"PriceEuro\"]))"
   ]
  },
  {
   "cell_type": "code",
   "execution_count": 282,
   "id": "b6b0e0bd-d31b-43f7-b0d0-3f1a652e3a28",
   "metadata": {},
   "outputs": [
    {
     "data": {
      "text/plain": [
       "AccelSec           0.407975\n",
       "TopSpeed_KmH       0.243161\n",
       "Range_Km           0.371958\n",
       "Efficiency_WhKm    0.156302\n",
       "Seats              0.162964\n",
       "PriceEuro          0.611606\n",
       "dtype: float64"
      ]
     },
     "execution_count": 282,
     "metadata": {},
     "output_type": "execute_result"
    }
   ],
   "source": [
    "car_subset.std()/car_subset.mean()"
   ]
  },
  {
   "cell_type": "code",
   "execution_count": 283,
   "id": "99b06614-1a83-474a-8fcd-17aeb9577da0",
   "metadata": {},
   "outputs": [
    {
     "data": {
      "text/plain": [
       "AccelSec           9.104887e+00\n",
       "TopSpeed_KmH       1.898609e+03\n",
       "Range_Km           1.587964e+04\n",
       "Efficiency_WhKm    8.741980e+02\n",
       "Seats              6.333524e-01\n",
       "PriceEuro          1.165175e+09\n",
       "dtype: float64"
      ]
     },
     "execution_count": 283,
     "metadata": {},
     "output_type": "execute_result"
    }
   ],
   "source": [
    "(car_subset.std()) ** 2"
   ]
  },
  {
   "cell_type": "code",
   "execution_count": null,
   "id": "42746e9b-9201-44bc-b324-cabc2076d98e",
   "metadata": {},
   "outputs": [],
   "source": []
  },
  {
   "cell_type": "code",
   "execution_count": 284,
   "id": "64af4f76-482d-4bf7-ba6b-5880d18b718e",
   "metadata": {},
   "outputs": [],
   "source": [
    "from scipy.stats import variation  "
   ]
  },
  {
   "cell_type": "code",
   "execution_count": 285,
   "id": "0cd96221-74f6-408b-9a7f-f740408241c4",
   "metadata": {},
   "outputs": [
    {
     "name": "stdout",
     "output_type": "stream",
     "text": [
      "The coefficient of variation for AccelSec is,  0.40598968875068725\n",
      "The coefficient of variation for TopSpeed_KmH is,  0.24197770418787262\n",
      "The coefficient of variation for Range_Km is,  0.3701483558461422\n",
      "The coefficient of variation for Efficiency_WhKm is,  0.15554121144687957\n",
      "The coefficient of variation for Seats is,  0.16217108158674448\n",
      "The coefficient of variation for PriceEuro is,  0.6086294125537058\n"
     ]
    }
   ],
   "source": [
    "print(\"The coefficient of variation for AccelSec is, \", variation(car_subset[\"AccelSec\"]))\n",
    "print(\"The coefficient of variation for TopSpeed_KmH is, \", variation(car_subset[\"TopSpeed_KmH\"]))\n",
    "print(\"The coefficient of variation for Range_Km is, \", variation(car_subset[\"Range_Km\"]))\n",
    "print(\"The coefficient of variation for Efficiency_WhKm is, \", variation(car_subset[\"Efficiency_WhKm\"]))\n",
    "print(\"The coefficient of variation for Seats is, \", variation(car_subset[\"Seats\"]))\n",
    "print(\"The coefficient of variation for PriceEuro is, \", variation(car_subset[\"PriceEuro\"]))"
   ]
  },
  {
   "cell_type": "code",
   "execution_count": 286,
   "id": "65bcfc97-072b-4b4e-9e1e-7d421124ce45",
   "metadata": {},
   "outputs": [
    {
     "name": "stdout",
     "output_type": "stream",
     "text": [
      "The highest variation is 0.6086294125537058\n",
      "The variable that varies the most is AccelSec\n"
     ]
    }
   ],
   "source": [
    "# The variable that varies the most is\n",
    "\n",
    "print(\"The highest variation is\", np.max(variation(car_subset)))\n",
    "print(\"The variable that varies the most is\", car_subset.columns[0])"
   ]
  },
  {
   "cell_type": "code",
   "execution_count": 287,
   "id": "35bc4d2a-9e25-46fc-a19b-8dd37ff27aec",
   "metadata": {},
   "outputs": [
    {
     "data": {
      "text/plain": [
       "array([0.40598969, 0.2419777 , 0.37014836, 0.15554121, 0.16217108,\n",
       "       0.60862941])"
      ]
     },
     "execution_count": 287,
     "metadata": {},
     "output_type": "execute_result"
    }
   ],
   "source": [
    "variation(car_subset)"
   ]
  },
  {
   "cell_type": "code",
   "execution_count": null,
   "id": "b81741b7-2868-4fb4-9d9e-f7532a92c74d",
   "metadata": {},
   "outputs": [],
   "source": []
  },
  {
   "cell_type": "code",
   "execution_count": 288,
   "id": "b3aac754-efb6-4520-afd7-6b3ea33f402b",
   "metadata": {},
   "outputs": [
    {
     "data": {
      "text/plain": [
       "1.708770226537216"
      ]
     },
     "execution_count": 288,
     "metadata": {},
     "output_type": "execute_result"
    }
   ],
   "source": [
    "st.variance(car_subset[\"AccelSec\"]) - np.mean(car_subset[\"AccelSec\"])"
   ]
  },
  {
   "cell_type": "code",
   "execution_count": 289,
   "id": "4d281368-df78-4df1-bd73-54e62b03c34f",
   "metadata": {},
   "outputs": [
    {
     "data": {
      "text/plain": [
       "1719.4148105844279"
      ]
     },
     "execution_count": 289,
     "metadata": {},
     "output_type": "execute_result"
    }
   ],
   "source": [
    "st.variance(car_subset[\"TopSpeed_KmH\"]) - np.mean(car_subset[\"TopSpeed_KmH\"])"
   ]
  },
  {
   "cell_type": "code",
   "execution_count": 290,
   "id": "2681fd2a-66c4-442a-b1dd-dccdd9a3f41c",
   "metadata": {},
   "outputs": [
    {
     "data": {
      "text/plain": [
       "15540.85379782981"
      ]
     },
     "execution_count": 290,
     "metadata": {},
     "output_type": "execute_result"
    }
   ],
   "source": [
    "st.variance(car_subset[\"Range_Km\"])- np.mean(car_subset[\"Range_Km\"])"
   ]
  },
  {
   "cell_type": "code",
   "execution_count": 291,
   "id": "8e5ac46f-6baa-4a00-b99e-979efb579ad1",
   "metadata": {},
   "outputs": [
    {
     "data": {
      "text/plain": [
       "685.0329335617743"
      ]
     },
     "execution_count": 291,
     "metadata": {},
     "output_type": "execute_result"
    }
   ],
   "source": [
    "st.variance(car_subset[\"Efficiency_WhKm\"]) - np.mean(car_subset[\"Efficiency_WhKm\"])"
   ]
  },
  {
   "cell_type": "code",
   "execution_count": 292,
   "id": "d89a2574-204b-41d8-96fa-d92a79e85e24",
   "metadata": {},
   "outputs": [
    {
     "data": {
      "text/plain": [
       "-4.250142775556824"
      ]
     },
     "execution_count": 292,
     "metadata": {},
     "output_type": "execute_result"
    }
   ],
   "source": [
    "st.variance(car_subset[\"Seats\"]) - np.mean(car_subset[\"Seats\"])"
   ]
  },
  {
   "cell_type": "code",
   "execution_count": 293,
   "id": "0c2ca4e0-159c-42e3-b4a8-7be74e8c04eb",
   "metadata": {},
   "outputs": [
    {
     "data": {
      "text/plain": [
       "1165119562.2343423"
      ]
     },
     "execution_count": 293,
     "metadata": {},
     "output_type": "execute_result"
    }
   ],
   "source": [
    "st.variance(car_subset[\"PriceEuro\"]) - np.mean(car_subset[\"PriceEuro\"])"
   ]
  },
  {
   "cell_type": "code",
   "execution_count": null,
   "id": "cdf00dcd-2b70-48d4-b449-ccd750465aac",
   "metadata": {},
   "outputs": [],
   "source": []
  },
  {
   "cell_type": "code",
   "execution_count": 294,
   "id": "f477b817-6649-46ff-9e51-1e2d5b4bcafd",
   "metadata": {},
   "outputs": [],
   "source": [
    "scaler = SS()\n",
    "car_scaled = scaler.fit_transform(car_subset)"
   ]
  },
  {
   "cell_type": "code",
   "execution_count": 295,
   "id": "49a225f2-5e69-4972-809d-a035b2f8ef6a",
   "metadata": {},
   "outputs": [],
   "source": [
    "car_scaled_df = pd.DataFrame(car_scaled)"
   ]
  },
  {
   "cell_type": "code",
   "execution_count": 296,
   "id": "54517ede-6b29-4cba-8f28-8495744747f4",
   "metadata": {},
   "outputs": [],
   "source": [
    "car_scaled_df.columns = car_subset.columns"
   ]
  },
  {
   "cell_type": "code",
   "execution_count": 297,
   "id": "5274f302-0dc2-4adc-bd8f-954586880d36",
   "metadata": {},
   "outputs": [
    {
     "data": {
      "text/html": [
       "<div>\n",
       "<style scoped>\n",
       "    .dataframe tbody tr th:only-of-type {\n",
       "        vertical-align: middle;\n",
       "    }\n",
       "\n",
       "    .dataframe tbody tr th {\n",
       "        vertical-align: top;\n",
       "    }\n",
       "\n",
       "    .dataframe thead th {\n",
       "        text-align: right;\n",
       "    }\n",
       "</style>\n",
       "<table border=\"1\" class=\"dataframe\">\n",
       "  <thead>\n",
       "    <tr style=\"text-align: right;\">\n",
       "      <th></th>\n",
       "      <th>AccelSec</th>\n",
       "      <th>TopSpeed_KmH</th>\n",
       "      <th>Range_Km</th>\n",
       "      <th>Efficiency_WhKm</th>\n",
       "      <th>Seats</th>\n",
       "      <th>PriceEuro</th>\n",
       "    </tr>\n",
       "  </thead>\n",
       "  <tbody>\n",
       "    <tr>\n",
       "      <th>0</th>\n",
       "      <td>-0.931186</td>\n",
       "      <td>1.240881</td>\n",
       "      <td>0.886862</td>\n",
       "      <td>-0.957247</td>\n",
       "      <td>0.147109</td>\n",
       "      <td>-0.009761</td>\n",
       "    </tr>\n",
       "    <tr>\n",
       "      <th>1</th>\n",
       "      <td>0.867167</td>\n",
       "      <td>-0.442660</td>\n",
       "      <td>-0.548531</td>\n",
       "      <td>-0.753325</td>\n",
       "      <td>0.147109</td>\n",
       "      <td>-0.759866</td>\n",
       "    </tr>\n",
       "    <tr>\n",
       "      <th>2</th>\n",
       "      <td>-0.897883</td>\n",
       "      <td>0.710450</td>\n",
       "      <td>0.488142</td>\n",
       "      <td>-0.277506</td>\n",
       "      <td>0.147109</td>\n",
       "      <td>0.018501</td>\n",
       "    </tr>\n",
       "    <tr>\n",
       "      <th>3</th>\n",
       "      <td>-0.198524</td>\n",
       "      <td>0.018584</td>\n",
       "      <td>0.169166</td>\n",
       "      <td>0.572171</td>\n",
       "      <td>0.147109</td>\n",
       "      <td>0.359993</td>\n",
       "    </tr>\n",
       "    <tr>\n",
       "      <th>4</th>\n",
       "      <td>0.700653</td>\n",
       "      <td>-0.788593</td>\n",
       "      <td>-1.345971</td>\n",
       "      <td>-0.719338</td>\n",
       "      <td>-1.115578</td>\n",
       "      <td>-0.671638</td>\n",
       "    </tr>\n",
       "    <tr>\n",
       "      <th>...</th>\n",
       "      <td>...</td>\n",
       "      <td>...</td>\n",
       "      <td>...</td>\n",
       "      <td>...</td>\n",
       "      <td>...</td>\n",
       "      <td>...</td>\n",
       "    </tr>\n",
       "    <tr>\n",
       "      <th>98</th>\n",
       "      <td>0.034596</td>\n",
       "      <td>-0.442660</td>\n",
       "      <td>-0.070066</td>\n",
       "      <td>0.062365</td>\n",
       "      <td>0.147109</td>\n",
       "      <td>-0.318281</td>\n",
       "    </tr>\n",
       "    <tr>\n",
       "      <th>99</th>\n",
       "      <td>-0.964489</td>\n",
       "      <td>0.710450</td>\n",
       "      <td>-0.030194</td>\n",
       "      <td>2.339498</td>\n",
       "      <td>0.147109</td>\n",
       "      <td>1.184579</td>\n",
       "    </tr>\n",
       "    <tr>\n",
       "      <th>100</th>\n",
       "      <td>-0.498249</td>\n",
       "      <td>0.479828</td>\n",
       "      <td>-0.109938</td>\n",
       "      <td>0.164326</td>\n",
       "      <td>0.147109</td>\n",
       "      <td>-0.171087</td>\n",
       "    </tr>\n",
       "    <tr>\n",
       "      <th>101</th>\n",
       "      <td>-0.764672</td>\n",
       "      <td>0.479828</td>\n",
       "      <td>0.288782</td>\n",
       "      <td>1.455834</td>\n",
       "      <td>0.147109</td>\n",
       "      <td>0.270498</td>\n",
       "    </tr>\n",
       "    <tr>\n",
       "      <th>102</th>\n",
       "      <td>0.034596</td>\n",
       "      <td>0.249206</td>\n",
       "      <td>0.488142</td>\n",
       "      <td>1.659757</td>\n",
       "      <td>0.147109</td>\n",
       "      <td>0.182181</td>\n",
       "    </tr>\n",
       "  </tbody>\n",
       "</table>\n",
       "<p>103 rows × 6 columns</p>\n",
       "</div>"
      ],
      "text/plain": [
       "     AccelSec  TopSpeed_KmH  Range_Km  Efficiency_WhKm     Seats  PriceEuro\n",
       "0   -0.931186      1.240881  0.886862        -0.957247  0.147109  -0.009761\n",
       "1    0.867167     -0.442660 -0.548531        -0.753325  0.147109  -0.759866\n",
       "2   -0.897883      0.710450  0.488142        -0.277506  0.147109   0.018501\n",
       "3   -0.198524      0.018584  0.169166         0.572171  0.147109   0.359993\n",
       "4    0.700653     -0.788593 -1.345971        -0.719338 -1.115578  -0.671638\n",
       "..        ...           ...       ...              ...       ...        ...\n",
       "98   0.034596     -0.442660 -0.070066         0.062365  0.147109  -0.318281\n",
       "99  -0.964489      0.710450 -0.030194         2.339498  0.147109   1.184579\n",
       "100 -0.498249      0.479828 -0.109938         0.164326  0.147109  -0.171087\n",
       "101 -0.764672      0.479828  0.288782         1.455834  0.147109   0.270498\n",
       "102  0.034596      0.249206  0.488142         1.659757  0.147109   0.182181\n",
       "\n",
       "[103 rows x 6 columns]"
      ]
     },
     "execution_count": 297,
     "metadata": {},
     "output_type": "execute_result"
    }
   ],
   "source": [
    "car_scaled_df"
   ]
  },
  {
   "cell_type": "code",
   "execution_count": null,
   "id": "e5b3c70c-eafa-441d-a2ce-671679d8a780",
   "metadata": {},
   "outputs": [],
   "source": []
  },
  {
   "cell_type": "code",
   "execution_count": 298,
   "id": "1e844fe1-f0d2-4cde-bf8f-bf28af639f47",
   "metadata": {},
   "outputs": [
    {
     "name": "stdout",
     "output_type": "stream",
     "text": [
      "The variance for AccelSec is,  1.0098039215686274\n",
      "The variance for TopSpeed_KmH is,  1.0098039215686274\n",
      "The variance for Range_Km is,  1.0098039215686274\n",
      "The variance for Efficiency_WhKm is,  1.0098039215686274\n",
      "The variance for Seats is,  1.0098039215686268\n",
      "The variance for PriceEuro is,  1.0098039215686274\n"
     ]
    }
   ],
   "source": [
    "print(\"The variance for AccelSec is, \", st.variance(car_scaled_df[\"AccelSec\"]))\n",
    "print(\"The variance for TopSpeed_KmH is, \", st.variance(car_scaled_df[\"TopSpeed_KmH\"]))\n",
    "print(\"The variance for Range_Km is, \", st.variance(car_scaled_df[\"Range_Km\"]))\n",
    "print(\"The variance for Efficiency_WhKm is, \", st.variance(car_scaled_df[\"Efficiency_WhKm\"]))\n",
    "print(\"The variance for Seats is, \", st.variance(car_scaled_df[\"Seats\"]))\n",
    "print(\"The variance for PriceEuro is, \", st.variance(car_scaled_df[\"PriceEuro\"]))"
   ]
  },
  {
   "cell_type": "code",
   "execution_count": 299,
   "id": "c518029a-5130-4017-a122-7d12454d31df",
   "metadata": {},
   "outputs": [
    {
     "name": "stdout",
     "output_type": "stream",
     "text": [
      "The coefficient of variation for AccelSec is,  -2738215158054446.5\n",
      "The coefficient of variation for TopSpeed_KmH is,  -8814646301551754.0\n",
      "The coefficient of variation for Range_Km is,  -4.757648837119601e+16\n",
      "The coefficient of variation for Efficiency_WhKm is,  -1.0308239147092468e+16\n",
      "The coefficient of variation for Seats is,  -1.2975405919417088e+16\n",
      "The coefficient of variation for PriceEuro is,  1.4003645633785992e+16\n"
     ]
    }
   ],
   "source": [
    "print(\"The coefficient of variation for AccelSec is, \", variation(car_scaled_df[\"AccelSec\"]))\n",
    "print(\"The coefficient of variation for TopSpeed_KmH is, \", variation(car_scaled_df[\"TopSpeed_KmH\"]))\n",
    "print(\"The coefficient of variation for Range_Km is, \", variation(car_scaled_df[\"Range_Km\"]))\n",
    "print(\"The coefficient of variation for Efficiency_WhKm is, \", variation(car_scaled_df[\"Efficiency_WhKm\"]))\n",
    "print(\"The coefficient of variation for Seats is, \", variation(car_scaled_df[\"Seats\"]))\n",
    "print(\"The coefficient of variation for PriceEuro is, \", variation(car_scaled_df[\"PriceEuro\"]))"
   ]
  },
  {
   "cell_type": "code",
   "execution_count": null,
   "id": "265cb006-b34b-4827-99dd-feac9e71088a",
   "metadata": {},
   "outputs": [],
   "source": []
  },
  {
   "cell_type": "code",
   "execution_count": null,
   "id": "5c2d9211-81bc-4dd5-9d93-f3f1bf953b0a",
   "metadata": {},
   "outputs": [],
   "source": []
  },
  {
   "cell_type": "code",
   "execution_count": null,
   "id": "a8abe733-d318-44ef-8c82-f521e14e0886",
   "metadata": {},
   "outputs": [],
   "source": []
  },
  {
   "cell_type": "code",
   "execution_count": null,
   "id": "2f51f303-2e28-4662-8757-cb82510ef317",
   "metadata": {},
   "outputs": [],
   "source": []
  },
  {
   "cell_type": "code",
   "execution_count": null,
   "id": "9817e576-f80b-4c50-bcbb-3189fd5a4414",
   "metadata": {},
   "outputs": [],
   "source": []
  },
  {
   "cell_type": "code",
   "execution_count": null,
   "id": "41357b3b-5856-41e7-9b63-75929a9f8338",
   "metadata": {},
   "outputs": [],
   "source": []
  },
  {
   "cell_type": "code",
   "execution_count": null,
   "id": "1ab35821-3131-44ba-9788-95122c0ca632",
   "metadata": {},
   "outputs": [],
   "source": []
  },
  {
   "cell_type": "code",
   "execution_count": null,
   "id": "2f450dc5-d599-4bf7-9495-a2fc633eb86a",
   "metadata": {},
   "outputs": [],
   "source": []
  },
  {
   "cell_type": "code",
   "execution_count": 300,
   "id": "afd54ce2-6ba3-4b25-b2c5-afcb80a25a66",
   "metadata": {},
   "outputs": [
    {
     "data": {
      "text/html": [
       "<div>\n",
       "<style scoped>\n",
       "    .dataframe tbody tr th:only-of-type {\n",
       "        vertical-align: middle;\n",
       "    }\n",
       "\n",
       "    .dataframe tbody tr th {\n",
       "        vertical-align: top;\n",
       "    }\n",
       "\n",
       "    .dataframe thead th {\n",
       "        text-align: right;\n",
       "    }\n",
       "</style>\n",
       "<table border=\"1\" class=\"dataframe\">\n",
       "  <thead>\n",
       "    <tr style=\"text-align: right;\">\n",
       "      <th></th>\n",
       "      <th>AccelSec</th>\n",
       "      <th>TopSpeed_KmH</th>\n",
       "      <th>Range_Km</th>\n",
       "      <th>Efficiency_WhKm</th>\n",
       "      <th>Seats</th>\n",
       "      <th>PriceEuro</th>\n",
       "    </tr>\n",
       "  </thead>\n",
       "  <tbody>\n",
       "    <tr>\n",
       "      <th>AccelSec</th>\n",
       "      <td>1.000000</td>\n",
       "      <td>-0.786195</td>\n",
       "      <td>-0.677062</td>\n",
       "      <td>-0.382904</td>\n",
       "      <td>-0.175335</td>\n",
       "      <td>-0.627174</td>\n",
       "    </tr>\n",
       "    <tr>\n",
       "      <th>TopSpeed_KmH</th>\n",
       "      <td>-0.786195</td>\n",
       "      <td>1.000000</td>\n",
       "      <td>0.746662</td>\n",
       "      <td>0.355675</td>\n",
       "      <td>0.126470</td>\n",
       "      <td>0.829057</td>\n",
       "    </tr>\n",
       "    <tr>\n",
       "      <th>Range_Km</th>\n",
       "      <td>-0.677062</td>\n",
       "      <td>0.746662</td>\n",
       "      <td>1.000000</td>\n",
       "      <td>0.313077</td>\n",
       "      <td>0.300163</td>\n",
       "      <td>0.674844</td>\n",
       "    </tr>\n",
       "    <tr>\n",
       "      <th>Efficiency_WhKm</th>\n",
       "      <td>-0.382904</td>\n",
       "      <td>0.355675</td>\n",
       "      <td>0.313077</td>\n",
       "      <td>1.000000</td>\n",
       "      <td>0.301230</td>\n",
       "      <td>0.396705</td>\n",
       "    </tr>\n",
       "    <tr>\n",
       "      <th>Seats</th>\n",
       "      <td>-0.175335</td>\n",
       "      <td>0.126470</td>\n",
       "      <td>0.300163</td>\n",
       "      <td>0.301230</td>\n",
       "      <td>1.000000</td>\n",
       "      <td>0.020920</td>\n",
       "    </tr>\n",
       "    <tr>\n",
       "      <th>PriceEuro</th>\n",
       "      <td>-0.627174</td>\n",
       "      <td>0.829057</td>\n",
       "      <td>0.674844</td>\n",
       "      <td>0.396705</td>\n",
       "      <td>0.020920</td>\n",
       "      <td>1.000000</td>\n",
       "    </tr>\n",
       "  </tbody>\n",
       "</table>\n",
       "</div>"
      ],
      "text/plain": [
       "                 AccelSec  TopSpeed_KmH  Range_Km  Efficiency_WhKm     Seats  \\\n",
       "AccelSec         1.000000     -0.786195 -0.677062        -0.382904 -0.175335   \n",
       "TopSpeed_KmH    -0.786195      1.000000  0.746662         0.355675  0.126470   \n",
       "Range_Km        -0.677062      0.746662  1.000000         0.313077  0.300163   \n",
       "Efficiency_WhKm -0.382904      0.355675  0.313077         1.000000  0.301230   \n",
       "Seats           -0.175335      0.126470  0.300163         0.301230  1.000000   \n",
       "PriceEuro       -0.627174      0.829057  0.674844         0.396705  0.020920   \n",
       "\n",
       "                 PriceEuro  \n",
       "AccelSec         -0.627174  \n",
       "TopSpeed_KmH      0.829057  \n",
       "Range_Km          0.674844  \n",
       "Efficiency_WhKm   0.396705  \n",
       "Seats             0.020920  \n",
       "PriceEuro         1.000000  "
      ]
     },
     "execution_count": 300,
     "metadata": {},
     "output_type": "execute_result"
    }
   ],
   "source": [
    "corr_matrix = car_scaled_df.corr()\n",
    "corr_matrix"
   ]
  },
  {
   "cell_type": "code",
   "execution_count": 301,
   "id": "b7874dc1-1c33-43de-a425-2a43c04d9930",
   "metadata": {},
   "outputs": [
    {
     "data": {
      "image/png": "[encoded data removed]",
      "text/plain": [
       "<Figure size 640x480 with 2 Axes>"
      ]
     },
     "metadata": {},
     "output_type": "display_data"
    }
   ],
   "source": [
    "sns.heatmap(corr_matrix, cmap='BuPu', vmin=-1, vmax=1,\n",
    "            annot=True, fmt='.2f')\n",
    "plt.tick_params(size = 0, labelsize = 12)\n",
    "plt.xticks(rotation = 90)\n",
    "plt.show()"
   ]
  },
  {
   "cell_type": "code",
   "execution_count": 302,
   "id": "041bb9a0-d2e2-447d-850d-4c45c65ef249",
   "metadata": {},
   "outputs": [],
   "source": [
    "# We expect more expensive cars (higher price) in general to have higher top speeds"
   ]
  },
  {
   "cell_type": "code",
   "execution_count": null,
   "id": "2b8d0b48-bc93-4e81-93a0-02c9bd5012e0",
   "metadata": {},
   "outputs": [],
   "source": []
  },
  {
   "cell_type": "code",
   "execution_count": null,
   "id": "e2e619c3-85ef-4404-9adc-e53adcb2e3ce",
   "metadata": {},
   "outputs": [],
   "source": []
  },
  {
   "cell_type": "code",
   "execution_count": null,
   "id": "2c5b615d-ab6e-409d-bf69-11529802dbc9",
   "metadata": {},
   "outputs": [],
   "source": []
  },
  {
   "cell_type": "code",
   "execution_count": null,
   "id": "891e6835-fabf-4141-9ad8-409c288ad23b",
   "metadata": {},
   "outputs": [],
   "source": []
  },
  {
   "cell_type": "code",
   "execution_count": null,
   "id": "56becfc5-8e08-420c-93b8-41829f39d7bf",
   "metadata": {},
   "outputs": [],
   "source": []
  },
  {
   "cell_type": "code",
   "execution_count": null,
   "id": "608b6e99-a9aa-494f-9779-9bac7d848bdd",
   "metadata": {},
   "outputs": [],
   "source": []
  },
  {
   "cell_type": "code",
   "execution_count": null,
   "id": "3c412e5d-c4d4-4704-8196-12544d7037f4",
   "metadata": {},
   "outputs": [],
   "source": []
  },
  {
   "cell_type": "code",
   "execution_count": 303,
   "id": "2e3fd637-f02e-4664-a4e5-90604a14c508",
   "metadata": {},
   "outputs": [],
   "source": [
    "X = car_subset"
   ]
  },
  {
   "cell_type": "code",
   "execution_count": 304,
   "id": "fa44d7c3-5498-4ce9-be21-500beb9ae15a",
   "metadata": {
    "scrolled": true
   },
   "outputs": [
    {
     "data": {
      "text/html": [
       "<div>\n",
       "<style scoped>\n",
       "    .dataframe tbody tr th:only-of-type {\n",
       "        vertical-align: middle;\n",
       "    }\n",
       "\n",
       "    .dataframe tbody tr th {\n",
       "        vertical-align: top;\n",
       "    }\n",
       "\n",
       "    .dataframe thead th {\n",
       "        text-align: right;\n",
       "    }\n",
       "</style>\n",
       "<table border=\"1\" class=\"dataframe\">\n",
       "  <thead>\n",
       "    <tr style=\"text-align: right;\">\n",
       "      <th></th>\n",
       "      <th>AccelSec</th>\n",
       "      <th>TopSpeed_KmH</th>\n",
       "      <th>Range_Km</th>\n",
       "      <th>Efficiency_WhKm</th>\n",
       "      <th>Seats</th>\n",
       "      <th>PriceEuro</th>\n",
       "    </tr>\n",
       "  </thead>\n",
       "  <tbody>\n",
       "    <tr>\n",
       "      <th>0</th>\n",
       "      <td>4.6</td>\n",
       "      <td>233</td>\n",
       "      <td>450</td>\n",
       "      <td>161</td>\n",
       "      <td>5</td>\n",
       "      <td>55480</td>\n",
       "    </tr>\n",
       "    <tr>\n",
       "      <th>1</th>\n",
       "      <td>10.0</td>\n",
       "      <td>160</td>\n",
       "      <td>270</td>\n",
       "      <td>167</td>\n",
       "      <td>5</td>\n",
       "      <td>30000</td>\n",
       "    </tr>\n",
       "    <tr>\n",
       "      <th>2</th>\n",
       "      <td>4.7</td>\n",
       "      <td>210</td>\n",
       "      <td>400</td>\n",
       "      <td>181</td>\n",
       "      <td>5</td>\n",
       "      <td>56440</td>\n",
       "    </tr>\n",
       "    <tr>\n",
       "      <th>3</th>\n",
       "      <td>6.8</td>\n",
       "      <td>180</td>\n",
       "      <td>360</td>\n",
       "      <td>206</td>\n",
       "      <td>5</td>\n",
       "      <td>68040</td>\n",
       "    </tr>\n",
       "    <tr>\n",
       "      <th>4</th>\n",
       "      <td>9.5</td>\n",
       "      <td>145</td>\n",
       "      <td>170</td>\n",
       "      <td>168</td>\n",
       "      <td>4</td>\n",
       "      <td>32997</td>\n",
       "    </tr>\n",
       "    <tr>\n",
       "      <th>...</th>\n",
       "      <td>...</td>\n",
       "      <td>...</td>\n",
       "      <td>...</td>\n",
       "      <td>...</td>\n",
       "      <td>...</td>\n",
       "      <td>...</td>\n",
       "    </tr>\n",
       "    <tr>\n",
       "      <th>98</th>\n",
       "      <td>7.5</td>\n",
       "      <td>160</td>\n",
       "      <td>330</td>\n",
       "      <td>191</td>\n",
       "      <td>5</td>\n",
       "      <td>45000</td>\n",
       "    </tr>\n",
       "    <tr>\n",
       "      <th>99</th>\n",
       "      <td>4.5</td>\n",
       "      <td>210</td>\n",
       "      <td>335</td>\n",
       "      <td>258</td>\n",
       "      <td>5</td>\n",
       "      <td>96050</td>\n",
       "    </tr>\n",
       "    <tr>\n",
       "      <th>100</th>\n",
       "      <td>5.9</td>\n",
       "      <td>200</td>\n",
       "      <td>325</td>\n",
       "      <td>194</td>\n",
       "      <td>5</td>\n",
       "      <td>50000</td>\n",
       "    </tr>\n",
       "    <tr>\n",
       "      <th>101</th>\n",
       "      <td>5.1</td>\n",
       "      <td>200</td>\n",
       "      <td>375</td>\n",
       "      <td>232</td>\n",
       "      <td>5</td>\n",
       "      <td>65000</td>\n",
       "    </tr>\n",
       "    <tr>\n",
       "      <th>102</th>\n",
       "      <td>7.5</td>\n",
       "      <td>190</td>\n",
       "      <td>400</td>\n",
       "      <td>238</td>\n",
       "      <td>5</td>\n",
       "      <td>62000</td>\n",
       "    </tr>\n",
       "  </tbody>\n",
       "</table>\n",
       "<p>103 rows × 6 columns</p>\n",
       "</div>"
      ],
      "text/plain": [
       "     AccelSec  TopSpeed_KmH  Range_Km  Efficiency_WhKm  Seats  PriceEuro\n",
       "0         4.6           233       450              161      5      55480\n",
       "1        10.0           160       270              167      5      30000\n",
       "2         4.7           210       400              181      5      56440\n",
       "3         6.8           180       360              206      5      68040\n",
       "4         9.5           145       170              168      4      32997\n",
       "..        ...           ...       ...              ...    ...        ...\n",
       "98        7.5           160       330              191      5      45000\n",
       "99        4.5           210       335              258      5      96050\n",
       "100       5.9           200       325              194      5      50000\n",
       "101       5.1           200       375              232      5      65000\n",
       "102       7.5           190       400              238      5      62000\n",
       "\n",
       "[103 rows x 6 columns]"
      ]
     },
     "execution_count": 304,
     "metadata": {},
     "output_type": "execute_result"
    }
   ],
   "source": [
    "X"
   ]
  },
  {
   "cell_type": "code",
   "execution_count": 305,
   "id": "3978e1bf-d15b-45b1-9053-dda744f62078",
   "metadata": {},
   "outputs": [],
   "source": [
    "X.drop(columns = ['TopSpeed_KmH', 'Range_Km', 'Efficiency_WhKm', 'PriceEuro'], inplace = True)"
   ]
  },
  {
   "cell_type": "code",
   "execution_count": 306,
   "id": "03407d86-f7e8-4d7d-8995-64c57ce15c45",
   "metadata": {},
   "outputs": [],
   "source": [
    "y = car['TopSpeed_KmH']"
   ]
  },
  {
   "cell_type": "code",
   "execution_count": 307,
   "id": "3714690d-eb09-4955-bbd7-feaf6ba7be81",
   "metadata": {},
   "outputs": [
    {
     "data": {
      "text/plain": [
       "0      233\n",
       "1      160\n",
       "2      210\n",
       "3      180\n",
       "4      145\n",
       "      ... \n",
       "98     160\n",
       "99     210\n",
       "100    200\n",
       "101    200\n",
       "102    190\n",
       "Name: TopSpeed_KmH, Length: 103, dtype: int64"
      ]
     },
     "execution_count": 307,
     "metadata": {},
     "output_type": "execute_result"
    }
   ],
   "source": [
    "y"
   ]
  },
  {
   "cell_type": "code",
   "execution_count": 308,
   "id": "63f51950-6ff9-4c4b-8dc8-4dbfca6c3b70",
   "metadata": {},
   "outputs": [
    {
     "data": {
      "text/html": [
       "<div>\n",
       "<style scoped>\n",
       "    .dataframe tbody tr th:only-of-type {\n",
       "        vertical-align: middle;\n",
       "    }\n",
       "\n",
       "    .dataframe tbody tr th {\n",
       "        vertical-align: top;\n",
       "    }\n",
       "\n",
       "    .dataframe thead th {\n",
       "        text-align: right;\n",
       "    }\n",
       "</style>\n",
       "<table border=\"1\" class=\"dataframe\">\n",
       "  <thead>\n",
       "    <tr style=\"text-align: right;\">\n",
       "      <th></th>\n",
       "      <th>AccelSec</th>\n",
       "      <th>Seats</th>\n",
       "    </tr>\n",
       "  </thead>\n",
       "  <tbody>\n",
       "    <tr>\n",
       "      <th>0</th>\n",
       "      <td>4.6</td>\n",
       "      <td>5</td>\n",
       "    </tr>\n",
       "    <tr>\n",
       "      <th>1</th>\n",
       "      <td>10.0</td>\n",
       "      <td>5</td>\n",
       "    </tr>\n",
       "    <tr>\n",
       "      <th>2</th>\n",
       "      <td>4.7</td>\n",
       "      <td>5</td>\n",
       "    </tr>\n",
       "    <tr>\n",
       "      <th>3</th>\n",
       "      <td>6.8</td>\n",
       "      <td>5</td>\n",
       "    </tr>\n",
       "    <tr>\n",
       "      <th>4</th>\n",
       "      <td>9.5</td>\n",
       "      <td>4</td>\n",
       "    </tr>\n",
       "    <tr>\n",
       "      <th>...</th>\n",
       "      <td>...</td>\n",
       "      <td>...</td>\n",
       "    </tr>\n",
       "    <tr>\n",
       "      <th>98</th>\n",
       "      <td>7.5</td>\n",
       "      <td>5</td>\n",
       "    </tr>\n",
       "    <tr>\n",
       "      <th>99</th>\n",
       "      <td>4.5</td>\n",
       "      <td>5</td>\n",
       "    </tr>\n",
       "    <tr>\n",
       "      <th>100</th>\n",
       "      <td>5.9</td>\n",
       "      <td>5</td>\n",
       "    </tr>\n",
       "    <tr>\n",
       "      <th>101</th>\n",
       "      <td>5.1</td>\n",
       "      <td>5</td>\n",
       "    </tr>\n",
       "    <tr>\n",
       "      <th>102</th>\n",
       "      <td>7.5</td>\n",
       "      <td>5</td>\n",
       "    </tr>\n",
       "  </tbody>\n",
       "</table>\n",
       "<p>103 rows × 2 columns</p>\n",
       "</div>"
      ],
      "text/plain": [
       "     AccelSec  Seats\n",
       "0         4.6      5\n",
       "1        10.0      5\n",
       "2         4.7      5\n",
       "3         6.8      5\n",
       "4         9.5      4\n",
       "..        ...    ...\n",
       "98        7.5      5\n",
       "99        4.5      5\n",
       "100       5.9      5\n",
       "101       5.1      5\n",
       "102       7.5      5\n",
       "\n",
       "[103 rows x 2 columns]"
      ]
     },
     "execution_count": 308,
     "metadata": {},
     "output_type": "execute_result"
    }
   ],
   "source": [
    "X"
   ]
  },
  {
   "cell_type": "code",
   "execution_count": 309,
   "id": "7aceb7f7-e949-4e39-aecb-503c76a700ba",
   "metadata": {},
   "outputs": [],
   "source": [
    "from sklearn.linear_model import LinearRegression as LR"
   ]
  },
  {
   "cell_type": "code",
   "execution_count": 310,
   "id": "7db25b95-b5b3-41e0-9a0b-d0090e67a048",
   "metadata": {},
   "outputs": [
    {
     "data": {
      "text/plain": [
       "0.6182367976583887"
      ]
     },
     "execution_count": 310,
     "metadata": {},
     "output_type": "execute_result"
    }
   ],
   "source": [
    "lin_reg = LR()\n",
    "lin_reg.fit(X,y)\n",
    "lin_reg.score(X,y)"
   ]
  },
  {
   "cell_type": "code",
   "execution_count": 311,
   "id": "bf660ea6-6a54-424c-9002-976d22be6ad8",
   "metadata": {},
   "outputs": [],
   "source": [
    "# The coefficient of determination is 0.6182367976583887"
   ]
  },
  {
   "cell_type": "code",
   "execution_count": 312,
   "id": "b4eefc3e-5f0a-4522-8333-8637e6e0a173",
   "metadata": {},
   "outputs": [
    {
     "data": {
      "text/plain": [
       "array([-11.38273035,  -0.64269728])"
      ]
     },
     "execution_count": 312,
     "metadata": {},
     "output_type": "execute_result"
    }
   ],
   "source": [
    "lin_reg.coef_"
   ]
  },
  {
   "cell_type": "code",
   "execution_count": 313,
   "id": "9d7ce5a7-cbbd-45c8-a75f-e4ac1f1ab421",
   "metadata": {},
   "outputs": [
    {
     "data": {
      "text/plain": [
       "array([  4.6, 161. ,   5. ])"
      ]
     },
     "execution_count": 313,
     "metadata": {},
     "output_type": "execute_result"
    }
   ],
   "source": [
    "obs"
   ]
  },
  {
   "cell_type": "code",
   "execution_count": 314,
   "id": "1bcdbfc5-9e64-4d41-a1b2-375603fbfc57",
   "metadata": {},
   "outputs": [
    {
     "name": "stdout",
     "output_type": "stream",
     "text": [
      "Coefficients: [-11.38273035  -0.64269728]\n",
      "Intercept: 266.520783620479\n"
     ]
    },
    {
     "data": {
      "text/plain": [
       "210.9467376068717"
      ]
     },
     "execution_count": 314,
     "metadata": {},
     "output_type": "execute_result"
    }
   ],
   "source": [
    "obs = np.array(X.iloc[0])\n",
    "print('Coefficients:', lin_reg.coef_)\n",
    "print('Intercept:', lin_reg.intercept_)\n",
    "sum(obs * lin_reg.coef_) + lin_reg.intercept_"
   ]
  },
  {
   "cell_type": "code",
   "execution_count": null,
   "id": "f6f3e837-88d9-40e3-96d4-b82c272c25fd",
   "metadata": {},
   "outputs": [],
   "source": []
  },
  {
   "cell_type": "code",
   "execution_count": null,
   "id": "f64490f4-5b3a-4ce5-9917-7c579be725f5",
   "metadata": {},
   "outputs": [],
   "source": []
  },
  {
   "cell_type": "code",
   "execution_count": null,
   "id": "d322db3a-2149-421c-a165-0bf90e291669",
   "metadata": {},
   "outputs": [],
   "source": []
  },
  {
   "cell_type": "code",
   "execution_count": null,
   "id": "d088ad2a-2268-49ac-8409-de98a62cd534",
   "metadata": {},
   "outputs": [],
   "source": []
  },
  {
   "cell_type": "code",
   "execution_count": null,
   "id": "4d8a6058-b336-4eae-9d3b-60b5bdb7afa3",
   "metadata": {},
   "outputs": [],
   "source": []
  },
  {
   "cell_type": "code",
   "execution_count": null,
   "id": "8685e7dd-6157-4e22-89e8-834fd4a240f1",
   "metadata": {},
   "outputs": [],
   "source": []
  },
  {
   "cell_type": "code",
   "execution_count": null,
   "id": "e495c7c9-2a13-411c-9ae5-f4684e022482",
   "metadata": {},
   "outputs": [],
   "source": []
  },
  {
   "cell_type": "code",
   "execution_count": 315,
   "id": "2a0bee48-bf76-482c-917c-c00e668a387c",
   "metadata": {},
   "outputs": [],
   "source": [
    "car = pd.read_csv('./data-Copy1/ElectricCarData_S24.csv')\n",
    "car_subset = car.drop(columns = [\"Brand\", \"Model\", \"RapidCharge\", \"PowerTrain\", \"PlugType\", \"BodyStyle\"])"
   ]
  },
  {
   "cell_type": "code",
   "execution_count": 316,
   "id": "b01d9daf-4c40-44a7-a780-3edb0a019df2",
   "metadata": {},
   "outputs": [
    {
     "data": {
      "text/html": [
       "<div>\n",
       "<style scoped>\n",
       "    .dataframe tbody tr th:only-of-type {\n",
       "        vertical-align: middle;\n",
       "    }\n",
       "\n",
       "    .dataframe tbody tr th {\n",
       "        vertical-align: top;\n",
       "    }\n",
       "\n",
       "    .dataframe thead th {\n",
       "        text-align: right;\n",
       "    }\n",
       "</style>\n",
       "<table border=\"1\" class=\"dataframe\">\n",
       "  <thead>\n",
       "    <tr style=\"text-align: right;\">\n",
       "      <th></th>\n",
       "      <th>AccelSec</th>\n",
       "      <th>TopSpeed_KmH</th>\n",
       "      <th>Range_Km</th>\n",
       "      <th>Efficiency_WhKm</th>\n",
       "      <th>Seats</th>\n",
       "      <th>PriceEuro</th>\n",
       "    </tr>\n",
       "  </thead>\n",
       "  <tbody>\n",
       "    <tr>\n",
       "      <th>0</th>\n",
       "      <td>4.6</td>\n",
       "      <td>233</td>\n",
       "      <td>450</td>\n",
       "      <td>161</td>\n",
       "      <td>5</td>\n",
       "      <td>55480</td>\n",
       "    </tr>\n",
       "    <tr>\n",
       "      <th>1</th>\n",
       "      <td>10.0</td>\n",
       "      <td>160</td>\n",
       "      <td>270</td>\n",
       "      <td>167</td>\n",
       "      <td>5</td>\n",
       "      <td>30000</td>\n",
       "    </tr>\n",
       "    <tr>\n",
       "      <th>2</th>\n",
       "      <td>4.7</td>\n",
       "      <td>210</td>\n",
       "      <td>400</td>\n",
       "      <td>181</td>\n",
       "      <td>5</td>\n",
       "      <td>56440</td>\n",
       "    </tr>\n",
       "    <tr>\n",
       "      <th>3</th>\n",
       "      <td>6.8</td>\n",
       "      <td>180</td>\n",
       "      <td>360</td>\n",
       "      <td>206</td>\n",
       "      <td>5</td>\n",
       "      <td>68040</td>\n",
       "    </tr>\n",
       "    <tr>\n",
       "      <th>4</th>\n",
       "      <td>9.5</td>\n",
       "      <td>145</td>\n",
       "      <td>170</td>\n",
       "      <td>168</td>\n",
       "      <td>4</td>\n",
       "      <td>32997</td>\n",
       "    </tr>\n",
       "    <tr>\n",
       "      <th>...</th>\n",
       "      <td>...</td>\n",
       "      <td>...</td>\n",
       "      <td>...</td>\n",
       "      <td>...</td>\n",
       "      <td>...</td>\n",
       "      <td>...</td>\n",
       "    </tr>\n",
       "    <tr>\n",
       "      <th>98</th>\n",
       "      <td>7.5</td>\n",
       "      <td>160</td>\n",
       "      <td>330</td>\n",
       "      <td>191</td>\n",
       "      <td>5</td>\n",
       "      <td>45000</td>\n",
       "    </tr>\n",
       "    <tr>\n",
       "      <th>99</th>\n",
       "      <td>4.5</td>\n",
       "      <td>210</td>\n",
       "      <td>335</td>\n",
       "      <td>258</td>\n",
       "      <td>5</td>\n",
       "      <td>96050</td>\n",
       "    </tr>\n",
       "    <tr>\n",
       "      <th>100</th>\n",
       "      <td>5.9</td>\n",
       "      <td>200</td>\n",
       "      <td>325</td>\n",
       "      <td>194</td>\n",
       "      <td>5</td>\n",
       "      <td>50000</td>\n",
       "    </tr>\n",
       "    <tr>\n",
       "      <th>101</th>\n",
       "      <td>5.1</td>\n",
       "      <td>200</td>\n",
       "      <td>375</td>\n",
       "      <td>232</td>\n",
       "      <td>5</td>\n",
       "      <td>65000</td>\n",
       "    </tr>\n",
       "    <tr>\n",
       "      <th>102</th>\n",
       "      <td>7.5</td>\n",
       "      <td>190</td>\n",
       "      <td>400</td>\n",
       "      <td>238</td>\n",
       "      <td>5</td>\n",
       "      <td>62000</td>\n",
       "    </tr>\n",
       "  </tbody>\n",
       "</table>\n",
       "<p>103 rows × 6 columns</p>\n",
       "</div>"
      ],
      "text/plain": [
       "     AccelSec  TopSpeed_KmH  Range_Km  Efficiency_WhKm  Seats  PriceEuro\n",
       "0         4.6           233       450              161      5      55480\n",
       "1        10.0           160       270              167      5      30000\n",
       "2         4.7           210       400              181      5      56440\n",
       "3         6.8           180       360              206      5      68040\n",
       "4         9.5           145       170              168      4      32997\n",
       "..        ...           ...       ...              ...    ...        ...\n",
       "98        7.5           160       330              191      5      45000\n",
       "99        4.5           210       335              258      5      96050\n",
       "100       5.9           200       325              194      5      50000\n",
       "101       5.1           200       375              232      5      65000\n",
       "102       7.5           190       400              238      5      62000\n",
       "\n",
       "[103 rows x 6 columns]"
      ]
     },
     "execution_count": 316,
     "metadata": {},
     "output_type": "execute_result"
    }
   ],
   "source": [
    "new_X = car_subset\n",
    "new_X"
   ]
  },
  {
   "cell_type": "code",
   "execution_count": 317,
   "id": "76debc99-6f7a-4fed-88c6-aaa29eeda74d",
   "metadata": {},
   "outputs": [],
   "source": [
    "new_X.drop(columns = ['Range_Km', 'TopSpeed_KmH', 'PriceEuro'], inplace = True)"
   ]
  },
  {
   "cell_type": "code",
   "execution_count": 318,
   "id": "1a0871e4-12fc-4c91-9221-7820e7787ccb",
   "metadata": {},
   "outputs": [
    {
     "data": {
      "text/html": [
       "<div>\n",
       "<style scoped>\n",
       "    .dataframe tbody tr th:only-of-type {\n",
       "        vertical-align: middle;\n",
       "    }\n",
       "\n",
       "    .dataframe tbody tr th {\n",
       "        vertical-align: top;\n",
       "    }\n",
       "\n",
       "    .dataframe thead th {\n",
       "        text-align: right;\n",
       "    }\n",
       "</style>\n",
       "<table border=\"1\" class=\"dataframe\">\n",
       "  <thead>\n",
       "    <tr style=\"text-align: right;\">\n",
       "      <th></th>\n",
       "      <th>AccelSec</th>\n",
       "      <th>Efficiency_WhKm</th>\n",
       "      <th>Seats</th>\n",
       "    </tr>\n",
       "  </thead>\n",
       "  <tbody>\n",
       "    <tr>\n",
       "      <th>0</th>\n",
       "      <td>4.6</td>\n",
       "      <td>161</td>\n",
       "      <td>5</td>\n",
       "    </tr>\n",
       "    <tr>\n",
       "      <th>1</th>\n",
       "      <td>10.0</td>\n",
       "      <td>167</td>\n",
       "      <td>5</td>\n",
       "    </tr>\n",
       "    <tr>\n",
       "      <th>2</th>\n",
       "      <td>4.7</td>\n",
       "      <td>181</td>\n",
       "      <td>5</td>\n",
       "    </tr>\n",
       "    <tr>\n",
       "      <th>3</th>\n",
       "      <td>6.8</td>\n",
       "      <td>206</td>\n",
       "      <td>5</td>\n",
       "    </tr>\n",
       "    <tr>\n",
       "      <th>4</th>\n",
       "      <td>9.5</td>\n",
       "      <td>168</td>\n",
       "      <td>4</td>\n",
       "    </tr>\n",
       "    <tr>\n",
       "      <th>...</th>\n",
       "      <td>...</td>\n",
       "      <td>...</td>\n",
       "      <td>...</td>\n",
       "    </tr>\n",
       "    <tr>\n",
       "      <th>98</th>\n",
       "      <td>7.5</td>\n",
       "      <td>191</td>\n",
       "      <td>5</td>\n",
       "    </tr>\n",
       "    <tr>\n",
       "      <th>99</th>\n",
       "      <td>4.5</td>\n",
       "      <td>258</td>\n",
       "      <td>5</td>\n",
       "    </tr>\n",
       "    <tr>\n",
       "      <th>100</th>\n",
       "      <td>5.9</td>\n",
       "      <td>194</td>\n",
       "      <td>5</td>\n",
       "    </tr>\n",
       "    <tr>\n",
       "      <th>101</th>\n",
       "      <td>5.1</td>\n",
       "      <td>232</td>\n",
       "      <td>5</td>\n",
       "    </tr>\n",
       "    <tr>\n",
       "      <th>102</th>\n",
       "      <td>7.5</td>\n",
       "      <td>238</td>\n",
       "      <td>5</td>\n",
       "    </tr>\n",
       "  </tbody>\n",
       "</table>\n",
       "<p>103 rows × 3 columns</p>\n",
       "</div>"
      ],
      "text/plain": [
       "     AccelSec  Efficiency_WhKm  Seats\n",
       "0         4.6              161      5\n",
       "1        10.0              167      5\n",
       "2         4.7              181      5\n",
       "3         6.8              206      5\n",
       "4         9.5              168      4\n",
       "..        ...              ...    ...\n",
       "98        7.5              191      5\n",
       "99        4.5              258      5\n",
       "100       5.9              194      5\n",
       "101       5.1              232      5\n",
       "102       7.5              238      5\n",
       "\n",
       "[103 rows x 3 columns]"
      ]
     },
     "execution_count": 318,
     "metadata": {},
     "output_type": "execute_result"
    }
   ],
   "source": [
    "new_X"
   ]
  },
  {
   "cell_type": "code",
   "execution_count": 319,
   "id": "778c82b3-cc63-4942-a5d1-d28ba0bb67fe",
   "metadata": {},
   "outputs": [
    {
     "data": {
      "text/plain": [
       "0      450\n",
       "1      270\n",
       "2      400\n",
       "3      360\n",
       "4      170\n",
       "      ... \n",
       "98     330\n",
       "99     335\n",
       "100    325\n",
       "101    375\n",
       "102    400\n",
       "Name: Range_Km, Length: 103, dtype: int64"
      ]
     },
     "execution_count": 319,
     "metadata": {},
     "output_type": "execute_result"
    }
   ],
   "source": [
    "new_y = car['Range_Km']\n",
    "new_y"
   ]
  },
  {
   "cell_type": "code",
   "execution_count": 320,
   "id": "be32d1ab-146a-4e4a-802a-0826bb93f634",
   "metadata": {},
   "outputs": [
    {
     "data": {
      "text/plain": [
       "0.49250697097607876"
      ]
     },
     "execution_count": 320,
     "metadata": {},
     "output_type": "execute_result"
    }
   ],
   "source": [
    "lin_reg.fit(new_X,new_y)\n",
    "lin_reg.score(new_X,new_y)"
   ]
  },
  {
   "cell_type": "code",
   "execution_count": 321,
   "id": "1e2433f0-72c3-4824-8f87-eec78224275c",
   "metadata": {},
   "outputs": [
    {
     "data": {
      "text/plain": [
       "array([-26.72624671,   0.0535043 ,  29.16248014])"
      ]
     },
     "execution_count": 321,
     "metadata": {},
     "output_type": "execute_result"
    }
   ],
   "source": [
    "lin_reg.coef_ "
   ]
  },
  {
   "cell_type": "code",
   "execution_count": 322,
   "id": "8cb6c18f-32ed-490f-9c89-462c5d3c2a38",
   "metadata": {},
   "outputs": [],
   "source": [
    "obs = [[8.7, 200, 4]]"
   ]
  },
  {
   "cell_type": "code",
   "execution_count": 323,
   "id": "bf1ba57f-d57f-4e8f-9252-f1e8841e9c5f",
   "metadata": {},
   "outputs": [],
   "source": [
    "obs1 = [8.7, 200, 4]"
   ]
  },
  {
   "cell_type": "code",
   "execution_count": 324,
   "id": "19b73bd8-3cf1-41c9-b47c-f8434e10c8e9",
   "metadata": {},
   "outputs": [
    {
     "name": "stdout",
     "output_type": "stream",
     "text": [
      "Coefficients: [-26.72624671   0.0535043   29.16248014]\n",
      "Intercept: 383.92086812557494\n"
     ]
    },
    {
     "data": {
      "text/plain": [
       "278.7533026730648"
      ]
     },
     "execution_count": 324,
     "metadata": {},
     "output_type": "execute_result"
    }
   ],
   "source": [
    "# obs = np.array(new_X.iloc[0])\n",
    "print('Coefficients:',lin_reg.coef_)\n",
    "print('Intercept:', lin_reg.intercept_)\n",
    "sum(obs1 * lin_reg.coef_) + lin_reg.intercept_\n"
   ]
  },
  {
   "cell_type": "code",
   "execution_count": null,
   "id": "e96f87cd-36b0-4965-96a0-ca5eaf02ccb9",
   "metadata": {},
   "outputs": [],
   "source": []
  },
  {
   "cell_type": "code",
   "execution_count": 325,
   "id": "1e7c943e-13ba-401d-93db-3eabb2bd7bf2",
   "metadata": {},
   "outputs": [
    {
     "name": "stderr",
     "output_type": "stream",
     "text": [
      "/opt/conda/lib/python3.11/site-packages/sklearn/base.py:493: UserWarning: X does not have valid feature names, but LinearRegression was fitted with feature names\n",
      "  warnings.warn(\n"
     ]
    },
    {
     "data": {
      "text/plain": [
       "array([278.75330267])"
      ]
     },
     "execution_count": 325,
     "metadata": {},
     "output_type": "execute_result"
    }
   ],
   "source": [
    "lin_reg.predict(obs)"
   ]
  }
 ],
 "metadata": {
  "kernelspec": {
   "display_name": "Python 3 (ipykernel)",
   "language": "python",
   "name": "python3"
  },
  "language_info": {
   "codemirror_mode": {
    "name": "ipython",
    "version": 3
   },
   "file_extension": ".py",
   "mimetype": "text/x-python",
   "name": "python",
   "nbconvert_exporter": "python",
   "pygments_lexer": "ipython3",
   "version": "3.11.6"
  }
 },
 "nbformat": 4,
 "nbformat_minor": 5
}
