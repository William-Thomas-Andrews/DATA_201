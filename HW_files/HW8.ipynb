{
 "cells": [
  {
   "cell_type": "code",
   "execution_count": 3,
   "id": "654d4138",
   "metadata": {},
   "outputs": [],
   "source": [
    "import pandas as pd\n",
    "import numpy as np\n",
    "import seaborn as sns\n",
    "import matplotlib.pyplot as plt"
   ]
  },
  {
   "cell_type": "code",
   "execution_count": 4,
   "id": "3cfc230d",
   "metadata": {},
   "outputs": [],
   "source": [
    "def do_Kfold(model,X,y,k,scaler = None, random_state = 146):\n",
    "    from sklearn.model_selection import KFold\n",
    "    \n",
    "    kf = KFold(n_splits=k, random_state = random_state, shuffle=True)\n",
    "\n",
    "    train_scores = []\n",
    "    test_scores = []\n",
    "\n",
    "    for idxTrain, idxTest in kf.split(X):\n",
    "        Xtrain = X[idxTrain, :]\n",
    "        Xtest = X[idxTest, :]\n",
    "        ytrain = y[idxTrain]\n",
    "        ytest = y[idxTest]\n",
    "        if scaler != None:\n",
    "            Xtrain = scaler.fit_transform(Xtrain)\n",
    "            Xtest = scaler.transform(Xtest)\n",
    "\n",
    "        model.fit(Xtrain,ytrain)\n",
    "\n",
    "        train_scores.append(model.score(Xtrain,ytrain))\n",
    "        test_scores.append(model.score(Xtest,ytest))\n",
    "        \n",
    "    return train_scores, test_scores"
   ]
  },
  {
   "cell_type": "code",
   "execution_count": 5,
   "id": "4fd25c55",
   "metadata": {},
   "outputs": [],
   "source": [
    "def compare_classes(actual, predicted, names=None):\n",
    "    '''Function returns a confusion matrix, and overall accuracy given:\n",
    "            Input:  actual - a list of actual classifications\n",
    "                    predicted - a list of predicted classifications\n",
    "                    names (optional) - a list of class names\n",
    "    '''\n",
    "    accuracy = sum(actual==predicted)/actual.shape[0]\n",
    "    \n",
    "    classes = pd.DataFrame(columns = ['Actual', 'Predicted'])\n",
    "    classes['Actual'] = actual\n",
    "    classes['Predicted'] = predicted\n",
    "\n",
    "    conf_mat = pd.crosstab(classes['Actual'], classes['Predicted'])\n",
    "    \n",
    "    if type(names) != type(None):\n",
    "        conf_mat.index = names\n",
    "        conf_mat.index.name = 'Actual'\n",
    "        conf_mat.columns = names\n",
    "        conf_mat.columns.name = 'Predicted'\n",
    "    \n",
    "    print('Accuracy = ' + format(accuracy, '.2f'))\n",
    "    return conf_mat, accuracy"
   ]
  },
  {
   "cell_type": "markdown",
   "id": "27c7f1e3",
   "metadata": {},
   "source": [
    "# Data Processing"
   ]
  },
  {
   "cell_type": "markdown",
   "id": "777e4f72",
   "metadata": {},
   "source": [
    "Read in the data from the file arr_data_edit.csv. Following this, we will carry out some data processing steps.<br><br>\n",
    "To answer the homework questions, you may wish to add in some code cells.<br><br>\n",
    "<span style = \"color:blue;font-weight:bold;font-size:large;\">You will answer Questions 1 and 2 based on this section</span>"
   ]
  },
  {
   "cell_type": "code",
   "execution_count": 6,
   "id": "ffeae9a0",
   "metadata": {},
   "outputs": [],
   "source": [
    "part_one = pd.read_csv('data-Copy2/arr_data_edit2.csv')#read in file"
   ]
  },
  {
   "cell_type": "code",
   "execution_count": 7,
   "id": "c49b62db",
   "metadata": {},
   "outputs": [
    {
     "data": {
      "text/html": [
       "<div>\n",
       "<style scoped>\n",
       "    .dataframe tbody tr th:only-of-type {\n",
       "        vertical-align: middle;\n",
       "    }\n",
       "\n",
       "    .dataframe tbody tr th {\n",
       "        vertical-align: top;\n",
       "    }\n",
       "\n",
       "    .dataframe thead th {\n",
       "        text-align: right;\n",
       "    }\n",
       "</style>\n",
       "<table border=\"1\" class=\"dataframe\">\n",
       "  <thead>\n",
       "    <tr style=\"text-align: right;\">\n",
       "      <th></th>\n",
       "      <th>Age</th>\n",
       "      <th>Sex</th>\n",
       "      <th>Height</th>\n",
       "      <th>Weight</th>\n",
       "      <th>QRS</th>\n",
       "      <th>PR</th>\n",
       "      <th>QT</th>\n",
       "      <th>T_wave</th>\n",
       "      <th>P_wave</th>\n",
       "      <th>QRS_angle</th>\n",
       "      <th>T_angle</th>\n",
       "      <th>P_angle</th>\n",
       "      <th>QRST_angle</th>\n",
       "      <th>Heart_Rate</th>\n",
       "      <th>arrhythmia</th>\n",
       "    </tr>\n",
       "  </thead>\n",
       "  <tbody>\n",
       "    <tr>\n",
       "      <th>0</th>\n",
       "      <td>75</td>\n",
       "      <td>0</td>\n",
       "      <td>190</td>\n",
       "      <td>80</td>\n",
       "      <td>91</td>\n",
       "      <td>193</td>\n",
       "      <td>371</td>\n",
       "      <td>174</td>\n",
       "      <td>121</td>\n",
       "      <td>-16</td>\n",
       "      <td>13.0</td>\n",
       "      <td>64.0</td>\n",
       "      <td>-2.0</td>\n",
       "      <td>63.0</td>\n",
       "      <td>8</td>\n",
       "    </tr>\n",
       "    <tr>\n",
       "      <th>1</th>\n",
       "      <td>56</td>\n",
       "      <td>1</td>\n",
       "      <td>165</td>\n",
       "      <td>64</td>\n",
       "      <td>81</td>\n",
       "      <td>174</td>\n",
       "      <td>401</td>\n",
       "      <td>149</td>\n",
       "      <td>39</td>\n",
       "      <td>25</td>\n",
       "      <td>37.0</td>\n",
       "      <td>-17.0</td>\n",
       "      <td>31.0</td>\n",
       "      <td>53.0</td>\n",
       "      <td>6</td>\n",
       "    </tr>\n",
       "    <tr>\n",
       "      <th>2</th>\n",
       "      <td>54</td>\n",
       "      <td>0</td>\n",
       "      <td>172</td>\n",
       "      <td>95</td>\n",
       "      <td>138</td>\n",
       "      <td>163</td>\n",
       "      <td>386</td>\n",
       "      <td>185</td>\n",
       "      <td>102</td>\n",
       "      <td>96</td>\n",
       "      <td>34.0</td>\n",
       "      <td>70.0</td>\n",
       "      <td>66.0</td>\n",
       "      <td>75.0</td>\n",
       "      <td>10</td>\n",
       "    </tr>\n",
       "    <tr>\n",
       "      <th>3</th>\n",
       "      <td>55</td>\n",
       "      <td>0</td>\n",
       "      <td>175</td>\n",
       "      <td>94</td>\n",
       "      <td>100</td>\n",
       "      <td>202</td>\n",
       "      <td>380</td>\n",
       "      <td>179</td>\n",
       "      <td>143</td>\n",
       "      <td>28</td>\n",
       "      <td>11.0</td>\n",
       "      <td>-5.0</td>\n",
       "      <td>20.0</td>\n",
       "      <td>71.0</td>\n",
       "      <td>1</td>\n",
       "    </tr>\n",
       "    <tr>\n",
       "      <th>4</th>\n",
       "      <td>13</td>\n",
       "      <td>0</td>\n",
       "      <td>169</td>\n",
       "      <td>51</td>\n",
       "      <td>100</td>\n",
       "      <td>167</td>\n",
       "      <td>321</td>\n",
       "      <td>174</td>\n",
       "      <td>91</td>\n",
       "      <td>107</td>\n",
       "      <td>66.0</td>\n",
       "      <td>52.0</td>\n",
       "      <td>88.0</td>\n",
       "      <td>84.0</td>\n",
       "      <td>14</td>\n",
       "    </tr>\n",
       "  </tbody>\n",
       "</table>\n",
       "</div>"
      ],
      "text/plain": [
       "   Age  Sex  Height  Weight  QRS   PR   QT  T_wave  P_wave  QRS_angle  \\\n",
       "0   75    0     190      80   91  193  371     174     121        -16   \n",
       "1   56    1     165      64   81  174  401     149      39         25   \n",
       "2   54    0     172      95  138  163  386     185     102         96   \n",
       "3   55    0     175      94  100  202  380     179     143         28   \n",
       "4   13    0     169      51  100  167  321     174      91        107   \n",
       "\n",
       "   T_angle  P_angle  QRST_angle  Heart_Rate  arrhythmia  \n",
       "0     13.0     64.0        -2.0        63.0           8  \n",
       "1     37.0    -17.0        31.0        53.0           6  \n",
       "2     34.0     70.0        66.0        75.0          10  \n",
       "3     11.0     -5.0        20.0        71.0           1  \n",
       "4     66.0     52.0        88.0        84.0          14  "
      ]
     },
     "execution_count": 7,
     "metadata": {},
     "output_type": "execute_result"
    }
   ],
   "source": [
    "part_one.head()"
   ]
  },
  {
   "cell_type": "markdown",
   "id": "8090af92",
   "metadata": {},
   "source": [
    "Find the number of unique values and how often they occur for the variable `arrhythmia`.<br><br>\n",
    "<span style=\"color:red;font-size:large\">You have to fill something in in the next code cell</span>"
   ]
  },
  {
   "cell_type": "code",
   "execution_count": 8,
   "id": "2eba4615",
   "metadata": {},
   "outputs": [
    {
     "data": {
      "text/plain": [
       "12"
      ]
     },
     "execution_count": 8,
     "metadata": {},
     "output_type": "execute_result"
    }
   ],
   "source": [
    "part_one.arrhythmia.nunique()"
   ]
  },
  {
   "cell_type": "markdown",
   "id": "b28fd4ed",
   "metadata": {},
   "source": [
    "We are going to do a bit of processing. First look at how many observations are missing by column in the data frame.<br><br>\n",
    "<span style=\"color:red;font-size:large\">You have to fill something in in the next code cell</span>"
   ]
  },
  {
   "cell_type": "code",
   "execution_count": 9,
   "id": "d3ca49a6",
   "metadata": {},
   "outputs": [
    {
     "data": {
      "text/plain": [
       "Age           0\n",
       "Sex           0\n",
       "Height        0\n",
       "Weight        0\n",
       "QRS           0\n",
       "PR            0\n",
       "QT            0\n",
       "T_wave        0\n",
       "P_wave        0\n",
       "QRS_angle     0\n",
       "T_angle       8\n",
       "P_angle       0\n",
       "QRST_angle    0\n",
       "Heart_Rate    0\n",
       "arrhythmia    0\n",
       "dtype: int64"
      ]
     },
     "execution_count": 9,
     "metadata": {},
     "output_type": "execute_result"
    }
   ],
   "source": [
    "part_one.isnull().sum()"
   ]
  },
  {
   "cell_type": "markdown",
   "id": "5c5d574c",
   "metadata": {},
   "source": [
    "We will first locate any observations missing a value for T_angle. Then, we will create a second data frame that excludes these observations. This is already done for you. Your job here is to keep track of the all of the different variable names."
   ]
  },
  {
   "cell_type": "code",
   "execution_count": 10,
   "id": "e0a0975d",
   "metadata": {},
   "outputs": [
    {
     "data": {
      "text/html": [
       "<div>\n",
       "<style scoped>\n",
       "    .dataframe tbody tr th:only-of-type {\n",
       "        vertical-align: middle;\n",
       "    }\n",
       "\n",
       "    .dataframe tbody tr th {\n",
       "        vertical-align: top;\n",
       "    }\n",
       "\n",
       "    .dataframe thead th {\n",
       "        text-align: right;\n",
       "    }\n",
       "</style>\n",
       "<table border=\"1\" class=\"dataframe\">\n",
       "  <thead>\n",
       "    <tr style=\"text-align: right;\">\n",
       "      <th></th>\n",
       "      <th>Age</th>\n",
       "      <th>Sex</th>\n",
       "      <th>Height</th>\n",
       "      <th>Weight</th>\n",
       "      <th>QRS</th>\n",
       "      <th>PR</th>\n",
       "      <th>QT</th>\n",
       "      <th>T_wave</th>\n",
       "      <th>P_wave</th>\n",
       "      <th>QRS_angle</th>\n",
       "      <th>T_angle</th>\n",
       "      <th>P_angle</th>\n",
       "      <th>QRST_angle</th>\n",
       "      <th>Heart_Rate</th>\n",
       "      <th>arrhythmia</th>\n",
       "    </tr>\n",
       "  </thead>\n",
       "  <tbody>\n",
       "    <tr>\n",
       "      <th>63</th>\n",
       "      <td>54</td>\n",
       "      <td>1</td>\n",
       "      <td>160</td>\n",
       "      <td>63</td>\n",
       "      <td>82</td>\n",
       "      <td>158</td>\n",
       "      <td>410</td>\n",
       "      <td>141</td>\n",
       "      <td>87</td>\n",
       "      <td>25</td>\n",
       "      <td>NaN</td>\n",
       "      <td>62.0</td>\n",
       "      <td>39.0</td>\n",
       "      <td>54.0</td>\n",
       "      <td>2</td>\n",
       "    </tr>\n",
       "    <tr>\n",
       "      <th>88</th>\n",
       "      <td>64</td>\n",
       "      <td>1</td>\n",
       "      <td>155</td>\n",
       "      <td>88</td>\n",
       "      <td>82</td>\n",
       "      <td>194</td>\n",
       "      <td>342</td>\n",
       "      <td>138</td>\n",
       "      <td>126</td>\n",
       "      <td>-4</td>\n",
       "      <td>NaN</td>\n",
       "      <td>64.0</td>\n",
       "      <td>-1.0</td>\n",
       "      <td>85.0</td>\n",
       "      <td>4</td>\n",
       "    </tr>\n",
       "    <tr>\n",
       "      <th>190</th>\n",
       "      <td>70</td>\n",
       "      <td>1</td>\n",
       "      <td>160</td>\n",
       "      <td>90</td>\n",
       "      <td>76</td>\n",
       "      <td>187</td>\n",
       "      <td>396</td>\n",
       "      <td>155</td>\n",
       "      <td>121</td>\n",
       "      <td>-1</td>\n",
       "      <td>NaN</td>\n",
       "      <td>30.0</td>\n",
       "      <td>2.0</td>\n",
       "      <td>89.0</td>\n",
       "      <td>2</td>\n",
       "    </tr>\n",
       "    <tr>\n",
       "      <th>201</th>\n",
       "      <td>63</td>\n",
       "      <td>0</td>\n",
       "      <td>174</td>\n",
       "      <td>79</td>\n",
       "      <td>91</td>\n",
       "      <td>151</td>\n",
       "      <td>410</td>\n",
       "      <td>198</td>\n",
       "      <td>86</td>\n",
       "      <td>16</td>\n",
       "      <td>NaN</td>\n",
       "      <td>2.0</td>\n",
       "      <td>16.0</td>\n",
       "      <td>59.0</td>\n",
       "      <td>2</td>\n",
       "    </tr>\n",
       "    <tr>\n",
       "      <th>225</th>\n",
       "      <td>56</td>\n",
       "      <td>0</td>\n",
       "      <td>170</td>\n",
       "      <td>80</td>\n",
       "      <td>81</td>\n",
       "      <td>162</td>\n",
       "      <td>352</td>\n",
       "      <td>154</td>\n",
       "      <td>100</td>\n",
       "      <td>23</td>\n",
       "      <td>NaN</td>\n",
       "      <td>56.0</td>\n",
       "      <td>20.0</td>\n",
       "      <td>79.0</td>\n",
       "      <td>1</td>\n",
       "    </tr>\n",
       "    <tr>\n",
       "      <th>337</th>\n",
       "      <td>62</td>\n",
       "      <td>1</td>\n",
       "      <td>157</td>\n",
       "      <td>65</td>\n",
       "      <td>81</td>\n",
       "      <td>174</td>\n",
       "      <td>452</td>\n",
       "      <td>160</td>\n",
       "      <td>116</td>\n",
       "      <td>53</td>\n",
       "      <td>NaN</td>\n",
       "      <td>42.0</td>\n",
       "      <td>53.0</td>\n",
       "      <td>87.0</td>\n",
       "      <td>2</td>\n",
       "    </tr>\n",
       "    <tr>\n",
       "      <th>349</th>\n",
       "      <td>48</td>\n",
       "      <td>0</td>\n",
       "      <td>182</td>\n",
       "      <td>77</td>\n",
       "      <td>77</td>\n",
       "      <td>196</td>\n",
       "      <td>325</td>\n",
       "      <td>235</td>\n",
       "      <td>104</td>\n",
       "      <td>46</td>\n",
       "      <td>NaN</td>\n",
       "      <td>56.0</td>\n",
       "      <td>44.0</td>\n",
       "      <td>89.0</td>\n",
       "      <td>2</td>\n",
       "    </tr>\n",
       "    <tr>\n",
       "      <th>389</th>\n",
       "      <td>41</td>\n",
       "      <td>0</td>\n",
       "      <td>170</td>\n",
       "      <td>67</td>\n",
       "      <td>96</td>\n",
       "      <td>191</td>\n",
       "      <td>368</td>\n",
       "      <td>202</td>\n",
       "      <td>108</td>\n",
       "      <td>62</td>\n",
       "      <td>NaN</td>\n",
       "      <td>-52.0</td>\n",
       "      <td>62.0</td>\n",
       "      <td>63.0</td>\n",
       "      <td>16</td>\n",
       "    </tr>\n",
       "  </tbody>\n",
       "</table>\n",
       "</div>"
      ],
      "text/plain": [
       "     Age  Sex  Height  Weight  QRS   PR   QT  T_wave  P_wave  QRS_angle  \\\n",
       "63    54    1     160      63   82  158  410     141      87         25   \n",
       "88    64    1     155      88   82  194  342     138     126         -4   \n",
       "190   70    1     160      90   76  187  396     155     121         -1   \n",
       "201   63    0     174      79   91  151  410     198      86         16   \n",
       "225   56    0     170      80   81  162  352     154     100         23   \n",
       "337   62    1     157      65   81  174  452     160     116         53   \n",
       "349   48    0     182      77   77  196  325     235     104         46   \n",
       "389   41    0     170      67   96  191  368     202     108         62   \n",
       "\n",
       "     T_angle  P_angle  QRST_angle  Heart_Rate  arrhythmia  \n",
       "63       NaN     62.0        39.0        54.0           2  \n",
       "88       NaN     64.0        -1.0        85.0           4  \n",
       "190      NaN     30.0         2.0        89.0           2  \n",
       "201      NaN      2.0        16.0        59.0           2  \n",
       "225      NaN     56.0        20.0        79.0           1  \n",
       "337      NaN     42.0        53.0        87.0           2  \n",
       "349      NaN     56.0        44.0        89.0           2  \n",
       "389      NaN    -52.0        62.0        63.0          16  "
      ]
     },
     "execution_count": 10,
     "metadata": {},
     "output_type": "execute_result"
    }
   ],
   "source": [
    "missing_T = part_one[part_one['T_angle'].isnull()]\n",
    "missing_T"
   ]
  },
  {
   "cell_type": "code",
   "execution_count": 11,
   "id": "98f8b05b",
   "metadata": {},
   "outputs": [],
   "source": [
    "part_one = part_one[part_one['T_angle'].notnull()].reset_index(drop = True)"
   ]
  },
  {
   "cell_type": "markdown",
   "id": "e0175127",
   "metadata": {},
   "source": [
    "We are also going to create a second data frame to use later. We will call it part two. Notice that there is a column in the original data frame called 'arrhythmia' - it has many possible values. We are going to create a  dichotomous variable with only two outcomes from this. The 0 outcome indicates no arrhythmia. The 1 outcome indicates an arrhythmia."
   ]
  },
  {
   "cell_type": "code",
   "execution_count": 12,
   "id": "e577839e",
   "metadata": {},
   "outputs": [],
   "source": [
    "part_two = part_one.copy()\n",
    "part_two['dicot'] = part_two['arrhythmia'].apply(lambda x: 0 if x==1 else 1)"
   ]
  },
  {
   "cell_type": "code",
   "execution_count": 13,
   "id": "4d108ee2-1f23-4982-a3f7-981dfb7c7f45",
   "metadata": {},
   "outputs": [
    {
     "name": "stdout",
     "output_type": "stream",
     "text": [
      "420\n",
      "420\n"
     ]
    }
   ],
   "source": [
    "########################### Q1 ###############################################################\n",
    "# How many observations are in the Data Frame AFTER we drop those with missing values for T_angle?\n",
    "\n",
    "print(part_one.shape[0])\n",
    "print(len(part_one))\n",
    "\n",
    "# 420 #\n",
    "\n",
    "## You can see from above that there is 420 observations after we drop those with missing values for T_angle"
   ]
  },
  {
   "cell_type": "code",
   "execution_count": 14,
   "id": "af58ca9a-d4e1-49f6-9db8-be805fb6544c",
   "metadata": {},
   "outputs": [
    {
     "name": "stdout",
     "output_type": "stream",
     "text": [
      "[ 8  6 10  1 14  3 16  2  4  5  9  7]\n",
      "12\n"
     ]
    }
   ],
   "source": [
    "########################### Q2 ###############################################################\n",
    "# How many unique values are there for the variable arrhythmia in the original data?\n",
    "\n",
    "print(part_one.arrhythmia.unique())\n",
    "print(part_one.arrhythmia.nunique())\n",
    "\n",
    "# 12 #\n",
    "\n",
    "## The code above returns the unique values for the variable arrhythmia in the original data"
   ]
  },
  {
   "cell_type": "markdown",
   "id": "18a4c15f",
   "metadata": {},
   "source": [
    "# Regression section"
   ]
  },
  {
   "cell_type": "code",
   "execution_count": 15,
   "id": "2cf1f296",
   "metadata": {},
   "outputs": [],
   "source": [
    "#Drop categorical variable before we start, we won't need it in this analysis\n",
    "part_one.drop(columns = ['arrhythmia'], inplace= True)"
   ]
  },
  {
   "cell_type": "markdown",
   "id": "772ffedf",
   "metadata": {},
   "source": [
    "### Exploratory Data Analysis\n",
    "\n",
    "<span style = \"color:blue;font-weight:bold;font-size:large;\">You will answer Questions 3,4,5 and 6 based on this section</span>"
   ]
  },
  {
   "cell_type": "markdown",
   "id": "254dc34c",
   "metadata": {},
   "source": [
    "In this section, we are going to perform regression in order to predict the missing values of T_angle. This means, for this part of the assignment the <b>target</b> is <b>T_angle</b>. First, we will take a look at the data and calculate some descriptive statistics. "
   ]
  },
  {
   "cell_type": "code",
   "execution_count": 16,
   "id": "2410ef80",
   "metadata": {},
   "outputs": [
    {
     "data": {
      "text/plain": [
       "<Axes: >"
      ]
     },
     "execution_count": 16,
     "metadata": {},
     "output_type": "execute_result"
    },
    {
     "data": {
      "image/png": "[encoded data removed]",
      "text/plain": [
       "<Figure size 640x480 with 1 Axes>"
      ]
     },
     "metadata": {},
     "output_type": "display_data"
    }
   ],
   "source": [
    "#Create a stripplot of the data \n",
    "sns.stripplot(data = part_one, orient = 'h')"
   ]
  },
  {
   "cell_type": "code",
   "execution_count": 17,
   "id": "e62cd2d7",
   "metadata": {
    "scrolled": true
   },
   "outputs": [
    {
     "data": {
      "image/png": "[encoded data removed]",
      "text/plain": [
       "<Figure size 640x480 with 1 Axes>"
      ]
     },
     "metadata": {},
     "output_type": "display_data"
    }
   ],
   "source": [
    "#Create a histogram for Height\n",
    "part_one['Height'].hist(rwidth = 0.9)\n",
    "plt.yscale('log')\n",
    "plt.grid(None)"
   ]
  },
  {
   "cell_type": "markdown",
   "id": "6b9f0b4b",
   "metadata": {},
   "source": [
    "<span style=\"color:red;font-size:large\">You have to fill something in in the next code cell</span>"
   ]
  },
  {
   "cell_type": "code",
   "execution_count": 18,
   "id": "1602a357-9e7f-406f-8afa-e3ae38529a77",
   "metadata": {},
   "outputs": [
    {
     "data": {
      "text/html": [
       "<div>\n",
       "<style scoped>\n",
       "    .dataframe tbody tr th:only-of-type {\n",
       "        vertical-align: middle;\n",
       "    }\n",
       "\n",
       "    .dataframe tbody tr th {\n",
       "        vertical-align: top;\n",
       "    }\n",
       "\n",
       "    .dataframe thead th {\n",
       "        text-align: right;\n",
       "    }\n",
       "</style>\n",
       "<table border=\"1\" class=\"dataframe\">\n",
       "  <thead>\n",
       "    <tr style=\"text-align: right;\">\n",
       "      <th></th>\n",
       "      <th>Age</th>\n",
       "      <th>Sex</th>\n",
       "      <th>Height</th>\n",
       "      <th>Weight</th>\n",
       "      <th>QRS</th>\n",
       "      <th>PR</th>\n",
       "      <th>QT</th>\n",
       "      <th>T_wave</th>\n",
       "      <th>P_wave</th>\n",
       "      <th>QRS_angle</th>\n",
       "      <th>T_angle</th>\n",
       "      <th>P_angle</th>\n",
       "      <th>QRST_angle</th>\n",
       "      <th>Heart_Rate</th>\n",
       "    </tr>\n",
       "  </thead>\n",
       "  <tbody>\n",
       "    <tr>\n",
       "      <th>132</th>\n",
       "      <td>1</td>\n",
       "      <td>1</td>\n",
       "      <td>780</td>\n",
       "      <td>6</td>\n",
       "      <td>85</td>\n",
       "      <td>165</td>\n",
       "      <td>237</td>\n",
       "      <td>150</td>\n",
       "      <td>106</td>\n",
       "      <td>88</td>\n",
       "      <td>30.0</td>\n",
       "      <td>30.0</td>\n",
       "      <td>52.0</td>\n",
       "      <td>138.0</td>\n",
       "    </tr>\n",
       "    <tr>\n",
       "      <th>289</th>\n",
       "      <td>0</td>\n",
       "      <td>0</td>\n",
       "      <td>608</td>\n",
       "      <td>10</td>\n",
       "      <td>83</td>\n",
       "      <td>126</td>\n",
       "      <td>232</td>\n",
       "      <td>128</td>\n",
       "      <td>60</td>\n",
       "      <td>125</td>\n",
       "      <td>21.0</td>\n",
       "      <td>-50.0</td>\n",
       "      <td>102.0</td>\n",
       "      <td>163.0</td>\n",
       "    </tr>\n",
       "  </tbody>\n",
       "</table>\n",
       "</div>"
      ],
      "text/plain": [
       "     Age  Sex  Height  Weight  QRS   PR   QT  T_wave  P_wave  QRS_angle  \\\n",
       "132    1    1     780       6   85  165  237     150     106         88   \n",
       "289    0    0     608      10   83  126  232     128      60        125   \n",
       "\n",
       "     T_angle  P_angle  QRST_angle  Heart_Rate  \n",
       "132     30.0     30.0        52.0       138.0  \n",
       "289     21.0    -50.0       102.0       163.0  "
      ]
     },
     "execution_count": 18,
     "metadata": {},
     "output_type": "execute_result"
    }
   ],
   "source": [
    "part_one[part_one['Height'] > 251]"
   ]
  },
  {
   "cell_type": "code",
   "execution_count": 19,
   "id": "5b5ebda3-2c70-4b66-bac7-c06e17f25f82",
   "metadata": {},
   "outputs": [
    {
     "data": {
      "text/html": [
       "<div>\n",
       "<style scoped>\n",
       "    .dataframe tbody tr th:only-of-type {\n",
       "        vertical-align: middle;\n",
       "    }\n",
       "\n",
       "    .dataframe tbody tr th {\n",
       "        vertical-align: top;\n",
       "    }\n",
       "\n",
       "    .dataframe thead th {\n",
       "        text-align: right;\n",
       "    }\n",
       "</style>\n",
       "<table border=\"1\" class=\"dataframe\">\n",
       "  <thead>\n",
       "    <tr style=\"text-align: right;\">\n",
       "      <th></th>\n",
       "      <th>Age</th>\n",
       "      <th>Sex</th>\n",
       "      <th>Height</th>\n",
       "      <th>Weight</th>\n",
       "      <th>QRS</th>\n",
       "      <th>PR</th>\n",
       "      <th>QT</th>\n",
       "      <th>T_wave</th>\n",
       "      <th>P_wave</th>\n",
       "      <th>QRS_angle</th>\n",
       "      <th>T_angle</th>\n",
       "      <th>P_angle</th>\n",
       "      <th>QRST_angle</th>\n",
       "      <th>Heart_Rate</th>\n",
       "    </tr>\n",
       "  </thead>\n",
       "  <tbody>\n",
       "    <tr>\n",
       "      <th>0</th>\n",
       "      <td>75</td>\n",
       "      <td>0</td>\n",
       "      <td>190</td>\n",
       "      <td>80</td>\n",
       "      <td>91</td>\n",
       "      <td>193</td>\n",
       "      <td>371</td>\n",
       "      <td>174</td>\n",
       "      <td>121</td>\n",
       "      <td>-16</td>\n",
       "      <td>13.0</td>\n",
       "      <td>64.0</td>\n",
       "      <td>-2.0</td>\n",
       "      <td>63.0</td>\n",
       "    </tr>\n",
       "    <tr>\n",
       "      <th>67</th>\n",
       "      <td>37</td>\n",
       "      <td>0</td>\n",
       "      <td>182</td>\n",
       "      <td>90</td>\n",
       "      <td>101</td>\n",
       "      <td>294</td>\n",
       "      <td>356</td>\n",
       "      <td>164</td>\n",
       "      <td>143</td>\n",
       "      <td>33</td>\n",
       "      <td>19.0</td>\n",
       "      <td>34.0</td>\n",
       "      <td>26.0</td>\n",
       "      <td>69.0</td>\n",
       "    </tr>\n",
       "    <tr>\n",
       "      <th>90</th>\n",
       "      <td>55</td>\n",
       "      <td>0</td>\n",
       "      <td>185</td>\n",
       "      <td>105</td>\n",
       "      <td>87</td>\n",
       "      <td>292</td>\n",
       "      <td>406</td>\n",
       "      <td>192</td>\n",
       "      <td>175</td>\n",
       "      <td>19</td>\n",
       "      <td>58.0</td>\n",
       "      <td>18.0</td>\n",
       "      <td>51.0</td>\n",
       "      <td>64.0</td>\n",
       "    </tr>\n",
       "    <tr>\n",
       "      <th>102</th>\n",
       "      <td>50</td>\n",
       "      <td>0</td>\n",
       "      <td>184</td>\n",
       "      <td>96</td>\n",
       "      <td>94</td>\n",
       "      <td>160</td>\n",
       "      <td>360</td>\n",
       "      <td>203</td>\n",
       "      <td>89</td>\n",
       "      <td>26</td>\n",
       "      <td>143.0</td>\n",
       "      <td>36.0</td>\n",
       "      <td>55.0</td>\n",
       "      <td>68.0</td>\n",
       "    </tr>\n",
       "    <tr>\n",
       "      <th>118</th>\n",
       "      <td>58</td>\n",
       "      <td>0</td>\n",
       "      <td>186</td>\n",
       "      <td>18</td>\n",
       "      <td>87</td>\n",
       "      <td>166</td>\n",
       "      <td>372</td>\n",
       "      <td>150</td>\n",
       "      <td>96</td>\n",
       "      <td>-1</td>\n",
       "      <td>63.0</td>\n",
       "      <td>39.0</td>\n",
       "      <td>17.0</td>\n",
       "      <td>70.0</td>\n",
       "    </tr>\n",
       "    <tr>\n",
       "      <th>119</th>\n",
       "      <td>61</td>\n",
       "      <td>0</td>\n",
       "      <td>185</td>\n",
       "      <td>95</td>\n",
       "      <td>95</td>\n",
       "      <td>197</td>\n",
       "      <td>340</td>\n",
       "      <td>139</td>\n",
       "      <td>132</td>\n",
       "      <td>39</td>\n",
       "      <td>60.0</td>\n",
       "      <td>64.0</td>\n",
       "      <td>48.0</td>\n",
       "      <td>80.0</td>\n",
       "    </tr>\n",
       "    <tr>\n",
       "      <th>132</th>\n",
       "      <td>1</td>\n",
       "      <td>1</td>\n",
       "      <td>780</td>\n",
       "      <td>6</td>\n",
       "      <td>85</td>\n",
       "      <td>165</td>\n",
       "      <td>237</td>\n",
       "      <td>150</td>\n",
       "      <td>106</td>\n",
       "      <td>88</td>\n",
       "      <td>30.0</td>\n",
       "      <td>30.0</td>\n",
       "      <td>52.0</td>\n",
       "      <td>138.0</td>\n",
       "    </tr>\n",
       "    <tr>\n",
       "      <th>289</th>\n",
       "      <td>0</td>\n",
       "      <td>0</td>\n",
       "      <td>608</td>\n",
       "      <td>10</td>\n",
       "      <td>83</td>\n",
       "      <td>126</td>\n",
       "      <td>232</td>\n",
       "      <td>128</td>\n",
       "      <td>60</td>\n",
       "      <td>125</td>\n",
       "      <td>21.0</td>\n",
       "      <td>-50.0</td>\n",
       "      <td>102.0</td>\n",
       "      <td>163.0</td>\n",
       "    </tr>\n",
       "    <tr>\n",
       "      <th>305</th>\n",
       "      <td>42</td>\n",
       "      <td>0</td>\n",
       "      <td>188</td>\n",
       "      <td>91</td>\n",
       "      <td>113</td>\n",
       "      <td>213</td>\n",
       "      <td>358</td>\n",
       "      <td>220</td>\n",
       "      <td>107</td>\n",
       "      <td>91</td>\n",
       "      <td>39.0</td>\n",
       "      <td>84.0</td>\n",
       "      <td>79.0</td>\n",
       "      <td>78.0</td>\n",
       "    </tr>\n",
       "    <tr>\n",
       "      <th>319</th>\n",
       "      <td>20</td>\n",
       "      <td>0</td>\n",
       "      <td>186</td>\n",
       "      <td>66</td>\n",
       "      <td>95</td>\n",
       "      <td>123</td>\n",
       "      <td>378</td>\n",
       "      <td>161</td>\n",
       "      <td>81</td>\n",
       "      <td>58</td>\n",
       "      <td>18.0</td>\n",
       "      <td>67.0</td>\n",
       "      <td>43.0</td>\n",
       "      <td>57.0</td>\n",
       "    </tr>\n",
       "    <tr>\n",
       "      <th>340</th>\n",
       "      <td>30</td>\n",
       "      <td>0</td>\n",
       "      <td>181</td>\n",
       "      <td>78</td>\n",
       "      <td>98</td>\n",
       "      <td>114</td>\n",
       "      <td>373</td>\n",
       "      <td>156</td>\n",
       "      <td>65</td>\n",
       "      <td>55</td>\n",
       "      <td>-17.0</td>\n",
       "      <td>28.0</td>\n",
       "      <td>26.0</td>\n",
       "      <td>66.0</td>\n",
       "    </tr>\n",
       "    <tr>\n",
       "      <th>352</th>\n",
       "      <td>36</td>\n",
       "      <td>0</td>\n",
       "      <td>185</td>\n",
       "      <td>95</td>\n",
       "      <td>96</td>\n",
       "      <td>159</td>\n",
       "      <td>330</td>\n",
       "      <td>159</td>\n",
       "      <td>102</td>\n",
       "      <td>52</td>\n",
       "      <td>-23.0</td>\n",
       "      <td>58.0</td>\n",
       "      <td>40.0</td>\n",
       "      <td>85.0</td>\n",
       "    </tr>\n",
       "    <tr>\n",
       "      <th>391</th>\n",
       "      <td>51</td>\n",
       "      <td>0</td>\n",
       "      <td>186</td>\n",
       "      <td>95</td>\n",
       "      <td>94</td>\n",
       "      <td>203</td>\n",
       "      <td>367</td>\n",
       "      <td>171</td>\n",
       "      <td>106</td>\n",
       "      <td>-7</td>\n",
       "      <td>57.0</td>\n",
       "      <td>61.0</td>\n",
       "      <td>32.0</td>\n",
       "      <td>71.0</td>\n",
       "    </tr>\n",
       "    <tr>\n",
       "      <th>416</th>\n",
       "      <td>37</td>\n",
       "      <td>0</td>\n",
       "      <td>190</td>\n",
       "      <td>85</td>\n",
       "      <td>100</td>\n",
       "      <td>137</td>\n",
       "      <td>361</td>\n",
       "      <td>201</td>\n",
       "      <td>73</td>\n",
       "      <td>86</td>\n",
       "      <td>66.0</td>\n",
       "      <td>52.0</td>\n",
       "      <td>79.0</td>\n",
       "      <td>73.0</td>\n",
       "    </tr>\n",
       "  </tbody>\n",
       "</table>\n",
       "</div>"
      ],
      "text/plain": [
       "     Age  Sex  Height  Weight  QRS   PR   QT  T_wave  P_wave  QRS_angle  \\\n",
       "0     75    0     190      80   91  193  371     174     121        -16   \n",
       "67    37    0     182      90  101  294  356     164     143         33   \n",
       "90    55    0     185     105   87  292  406     192     175         19   \n",
       "102   50    0     184      96   94  160  360     203      89         26   \n",
       "118   58    0     186      18   87  166  372     150      96         -1   \n",
       "119   61    0     185      95   95  197  340     139     132         39   \n",
       "132    1    1     780       6   85  165  237     150     106         88   \n",
       "289    0    0     608      10   83  126  232     128      60        125   \n",
       "305   42    0     188      91  113  213  358     220     107         91   \n",
       "319   20    0     186      66   95  123  378     161      81         58   \n",
       "340   30    0     181      78   98  114  373     156      65         55   \n",
       "352   36    0     185      95   96  159  330     159     102         52   \n",
       "391   51    0     186      95   94  203  367     171     106         -7   \n",
       "416   37    0     190      85  100  137  361     201      73         86   \n",
       "\n",
       "     T_angle  P_angle  QRST_angle  Heart_Rate  \n",
       "0       13.0     64.0        -2.0        63.0  \n",
       "67      19.0     34.0        26.0        69.0  \n",
       "90      58.0     18.0        51.0        64.0  \n",
       "102    143.0     36.0        55.0        68.0  \n",
       "118     63.0     39.0        17.0        70.0  \n",
       "119     60.0     64.0        48.0        80.0  \n",
       "132     30.0     30.0        52.0       138.0  \n",
       "289     21.0    -50.0       102.0       163.0  \n",
       "305     39.0     84.0        79.0        78.0  \n",
       "319     18.0     67.0        43.0        57.0  \n",
       "340    -17.0     28.0        26.0        66.0  \n",
       "352    -23.0     58.0        40.0        85.0  \n",
       "391     57.0     61.0        32.0        71.0  \n",
       "416     66.0     52.0        79.0        73.0  "
      ]
     },
     "execution_count": 19,
     "metadata": {},
     "output_type": "execute_result"
    }
   ],
   "source": [
    "part_one[part_one['Height'] > 180]"
   ]
  },
  {
   "cell_type": "code",
   "execution_count": 20,
   "id": "7e72d1b9",
   "metadata": {},
   "outputs": [
    {
     "name": "stderr",
     "output_type": "stream",
     "text": [
      "/tmp/ipykernel_677/1880968418.py:5: UserWarning: Boolean Series key will be reindexed to match DataFrame index.\n",
      "  part_one_new[part_one['Height'] > 251]\n"
     ]
    },
    {
     "data": {
      "text/html": [
       "<div>\n",
       "<style scoped>\n",
       "    .dataframe tbody tr th:only-of-type {\n",
       "        vertical-align: middle;\n",
       "    }\n",
       "\n",
       "    .dataframe tbody tr th {\n",
       "        vertical-align: top;\n",
       "    }\n",
       "\n",
       "    .dataframe thead th {\n",
       "        text-align: right;\n",
       "    }\n",
       "</style>\n",
       "<table border=\"1\" class=\"dataframe\">\n",
       "  <thead>\n",
       "    <tr style=\"text-align: right;\">\n",
       "      <th></th>\n",
       "      <th>Age</th>\n",
       "      <th>Sex</th>\n",
       "      <th>Height</th>\n",
       "      <th>Weight</th>\n",
       "      <th>QRS</th>\n",
       "      <th>PR</th>\n",
       "      <th>QT</th>\n",
       "      <th>T_wave</th>\n",
       "      <th>P_wave</th>\n",
       "      <th>QRS_angle</th>\n",
       "      <th>T_angle</th>\n",
       "      <th>P_angle</th>\n",
       "      <th>QRST_angle</th>\n",
       "      <th>Heart_Rate</th>\n",
       "    </tr>\n",
       "  </thead>\n",
       "  <tbody>\n",
       "  </tbody>\n",
       "</table>\n",
       "</div>"
      ],
      "text/plain": [
       "Empty DataFrame\n",
       "Columns: [Age, Sex, Height, Weight, QRS, PR, QT, T_wave, P_wave, QRS_angle, T_angle, P_angle, QRST_angle, Heart_Rate]\n",
       "Index: []"
      ]
     },
     "execution_count": 20,
     "metadata": {},
     "output_type": "execute_result"
    }
   ],
   "source": [
    "#Subset the data so that it only contains valid height observations\n",
    "#Choose a cutoff\n",
    "\n",
    "part_one_new = part_one[part_one['Height'] <= 251]\n",
    "part_one_new[part_one['Height'] > 251]"
   ]
  },
  {
   "cell_type": "markdown",
   "id": "bc5f02b6",
   "metadata": {},
   "source": [
    "<span style='color:red; font-weight:bold;font-size:1.5em'>MAKE NOTE: from this point forward in the regression section, you will be using part_one_new</span>\n",
    "<br><br>\n",
    "<span style=\"color:red;font-size:large\">You have to fill something in in the next code cell</span>"
   ]
  },
  {
   "cell_type": "code",
   "execution_count": 21,
   "id": "4d4fdff5",
   "metadata": {},
   "outputs": [
    {
     "data": {
      "text/plain": [
       "count    418.000000\n",
       "mean      38.600478\n",
       "std       55.320394\n",
       "min     -174.000000\n",
       "25%       15.000000\n",
       "50%       42.000000\n",
       "75%       63.750000\n",
       "max      179.000000\n",
       "Name: T_angle, dtype: float64"
      ]
     },
     "execution_count": 21,
     "metadata": {},
     "output_type": "execute_result"
    }
   ],
   "source": [
    "#Calculate descriptive statistics T_angle\n",
    "part_one_new['T_angle'].describe()"
   ]
  },
  {
   "cell_type": "code",
   "execution_count": 22,
   "id": "f2252228-0494-42c6-8d1b-ffe57f7adabc",
   "metadata": {},
   "outputs": [
    {
     "name": "stdout",
     "output_type": "stream",
     "text": [
      "38.600478468899524\n",
      "42.0\n"
     ]
    }
   ],
   "source": [
    "print(part_one_new['T_angle'].mean())\n",
    "print(part_one_new['T_angle'].median())"
   ]
  },
  {
   "cell_type": "code",
   "execution_count": 23,
   "id": "c2c3e395",
   "metadata": {},
   "outputs": [
    {
     "data": {
      "image/png": "[encoded data removed]",
      "text/plain": [
       "<Figure size 640x480 with 1 Axes>"
      ]
     },
     "metadata": {},
     "output_type": "display_data"
    }
   ],
   "source": [
    "#Make a box plot\n",
    "plt.boxplot(part_one_new['T_angle'])\n",
    "ax = plt.gca()\n",
    "[ax.spines[i].set_visible(False) for i in ax.spines]\n",
    "plt.grid(axis = 'y', linestyle = '--', color = 'lightgrey')\n",
    "plt.xticks([])\n",
    "plt.show()"
   ]
  },
  {
   "cell_type": "markdown",
   "id": "014d3bc4",
   "metadata": {},
   "source": [
    "<span style=\"color:red;font-size:large\">You have to fill something in in the next code cell</span>"
   ]
  },
  {
   "cell_type": "code",
   "execution_count": 24,
   "id": "1df18612",
   "metadata": {},
   "outputs": [
    {
     "data": {
      "text/html": [
       "<div>\n",
       "<style scoped>\n",
       "    .dataframe tbody tr th:only-of-type {\n",
       "        vertical-align: middle;\n",
       "    }\n",
       "\n",
       "    .dataframe tbody tr th {\n",
       "        vertical-align: top;\n",
       "    }\n",
       "\n",
       "    .dataframe thead th {\n",
       "        text-align: right;\n",
       "    }\n",
       "</style>\n",
       "<table border=\"1\" class=\"dataframe\">\n",
       "  <thead>\n",
       "    <tr style=\"text-align: right;\">\n",
       "      <th></th>\n",
       "      <th>Age</th>\n",
       "      <th>Sex</th>\n",
       "      <th>Height</th>\n",
       "      <th>Weight</th>\n",
       "      <th>QRS</th>\n",
       "      <th>PR</th>\n",
       "      <th>QT</th>\n",
       "      <th>T_wave</th>\n",
       "      <th>P_wave</th>\n",
       "      <th>QRS_angle</th>\n",
       "      <th>T_angle</th>\n",
       "      <th>P_angle</th>\n",
       "      <th>QRST_angle</th>\n",
       "      <th>Heart_Rate</th>\n",
       "    </tr>\n",
       "  </thead>\n",
       "  <tbody>\n",
       "    <tr>\n",
       "      <th>Age</th>\n",
       "      <td>1.000000</td>\n",
       "      <td>-0.054988</td>\n",
       "      <td>0.253286</td>\n",
       "      <td>0.354665</td>\n",
       "      <td>-0.012714</td>\n",
       "      <td>0.089677</td>\n",
       "      <td>0.163742</td>\n",
       "      <td>0.024731</td>\n",
       "      <td>0.122495</td>\n",
       "      <td>-0.246760</td>\n",
       "      <td>0.036700</td>\n",
       "      <td>-0.072029</td>\n",
       "      <td>-0.271902</td>\n",
       "      <td>-0.151508</td>\n",
       "    </tr>\n",
       "    <tr>\n",
       "      <th>Sex</th>\n",
       "      <td>-0.054988</td>\n",
       "      <td>1.000000</td>\n",
       "      <td>-0.449560</td>\n",
       "      <td>-0.270241</td>\n",
       "      <td>-0.332866</td>\n",
       "      <td>-0.074488</td>\n",
       "      <td>0.091078</td>\n",
       "      <td>-0.192313</td>\n",
       "      <td>-0.112610</td>\n",
       "      <td>0.079241</td>\n",
       "      <td>-0.134277</td>\n",
       "      <td>-0.006607</td>\n",
       "      <td>0.039639</td>\n",
       "      <td>0.037299</td>\n",
       "    </tr>\n",
       "    <tr>\n",
       "      <th>Height</th>\n",
       "      <td>0.253286</td>\n",
       "      <td>-0.449560</td>\n",
       "      <td>1.000000</td>\n",
       "      <td>0.588857</td>\n",
       "      <td>0.043391</td>\n",
       "      <td>0.124939</td>\n",
       "      <td>0.061364</td>\n",
       "      <td>0.033560</td>\n",
       "      <td>0.189558</td>\n",
       "      <td>-0.136905</td>\n",
       "      <td>0.049124</td>\n",
       "      <td>0.039195</td>\n",
       "      <td>-0.146988</td>\n",
       "      <td>-0.205480</td>\n",
       "    </tr>\n",
       "    <tr>\n",
       "      <th>Weight</th>\n",
       "      <td>0.354665</td>\n",
       "      <td>-0.270241</td>\n",
       "      <td>0.588857</td>\n",
       "      <td>1.000000</td>\n",
       "      <td>0.100145</td>\n",
       "      <td>0.175188</td>\n",
       "      <td>0.101160</td>\n",
       "      <td>0.127405</td>\n",
       "      <td>0.193173</td>\n",
       "      <td>-0.176234</td>\n",
       "      <td>-0.014672</td>\n",
       "      <td>-0.060866</td>\n",
       "      <td>-0.225524</td>\n",
       "      <td>-0.138140</td>\n",
       "    </tr>\n",
       "    <tr>\n",
       "      <th>QRS</th>\n",
       "      <td>-0.012714</td>\n",
       "      <td>-0.332866</td>\n",
       "      <td>0.043391</td>\n",
       "      <td>0.100145</td>\n",
       "      <td>1.000000</td>\n",
       "      <td>0.040236</td>\n",
       "      <td>0.238733</td>\n",
       "      <td>0.405269</td>\n",
       "      <td>0.083197</td>\n",
       "      <td>-0.154748</td>\n",
       "      <td>0.033615</td>\n",
       "      <td>0.041241</td>\n",
       "      <td>-0.074211</td>\n",
       "      <td>0.020999</td>\n",
       "    </tr>\n",
       "    <tr>\n",
       "      <th>PR</th>\n",
       "      <td>0.089677</td>\n",
       "      <td>-0.074488</td>\n",
       "      <td>0.124939</td>\n",
       "      <td>0.175188</td>\n",
       "      <td>0.040236</td>\n",
       "      <td>1.000000</td>\n",
       "      <td>0.029534</td>\n",
       "      <td>0.037520</td>\n",
       "      <td>0.574543</td>\n",
       "      <td>0.005342</td>\n",
       "      <td>0.009497</td>\n",
       "      <td>-0.035662</td>\n",
       "      <td>0.040412</td>\n",
       "      <td>-0.006440</td>\n",
       "    </tr>\n",
       "    <tr>\n",
       "      <th>QT</th>\n",
       "      <td>0.163742</td>\n",
       "      <td>0.091078</td>\n",
       "      <td>0.061364</td>\n",
       "      <td>0.101160</td>\n",
       "      <td>0.238733</td>\n",
       "      <td>0.029534</td>\n",
       "      <td>1.000000</td>\n",
       "      <td>0.193684</td>\n",
       "      <td>0.004053</td>\n",
       "      <td>0.006207</td>\n",
       "      <td>0.101883</td>\n",
       "      <td>-0.144111</td>\n",
       "      <td>-0.070123</td>\n",
       "      <td>-0.626233</td>\n",
       "    </tr>\n",
       "    <tr>\n",
       "      <th>T_wave</th>\n",
       "      <td>0.024731</td>\n",
       "      <td>-0.192313</td>\n",
       "      <td>0.033560</td>\n",
       "      <td>0.127405</td>\n",
       "      <td>0.405269</td>\n",
       "      <td>0.037520</td>\n",
       "      <td>0.193684</td>\n",
       "      <td>1.000000</td>\n",
       "      <td>0.037966</td>\n",
       "      <td>-0.100385</td>\n",
       "      <td>0.045209</td>\n",
       "      <td>-0.120222</td>\n",
       "      <td>-0.111032</td>\n",
       "      <td>0.037810</td>\n",
       "    </tr>\n",
       "    <tr>\n",
       "      <th>P_wave</th>\n",
       "      <td>0.122495</td>\n",
       "      <td>-0.112610</td>\n",
       "      <td>0.189558</td>\n",
       "      <td>0.193173</td>\n",
       "      <td>0.083197</td>\n",
       "      <td>0.574543</td>\n",
       "      <td>0.004053</td>\n",
       "      <td>0.037966</td>\n",
       "      <td>1.000000</td>\n",
       "      <td>-0.024683</td>\n",
       "      <td>0.045377</td>\n",
       "      <td>0.033699</td>\n",
       "      <td>-0.054435</td>\n",
       "      <td>0.126696</td>\n",
       "    </tr>\n",
       "    <tr>\n",
       "      <th>QRS_angle</th>\n",
       "      <td>-0.246760</td>\n",
       "      <td>0.079241</td>\n",
       "      <td>-0.136905</td>\n",
       "      <td>-0.176234</td>\n",
       "      <td>-0.154748</td>\n",
       "      <td>0.005342</td>\n",
       "      <td>0.006207</td>\n",
       "      <td>-0.100385</td>\n",
       "      <td>-0.024683</td>\n",
       "      <td>1.000000</td>\n",
       "      <td>-0.037768</td>\n",
       "      <td>0.077738</td>\n",
       "      <td>0.700363</td>\n",
       "      <td>-0.041181</td>\n",
       "    </tr>\n",
       "    <tr>\n",
       "      <th>T_angle</th>\n",
       "      <td>0.036700</td>\n",
       "      <td>-0.134277</td>\n",
       "      <td>0.049124</td>\n",
       "      <td>-0.014672</td>\n",
       "      <td>0.033615</td>\n",
       "      <td>0.009497</td>\n",
       "      <td>0.101883</td>\n",
       "      <td>0.045209</td>\n",
       "      <td>0.045377</td>\n",
       "      <td>-0.037768</td>\n",
       "      <td>1.000000</td>\n",
       "      <td>-0.013405</td>\n",
       "      <td>0.221795</td>\n",
       "      <td>-0.012914</td>\n",
       "    </tr>\n",
       "    <tr>\n",
       "      <th>P_angle</th>\n",
       "      <td>-0.072029</td>\n",
       "      <td>-0.006607</td>\n",
       "      <td>0.039195</td>\n",
       "      <td>-0.060866</td>\n",
       "      <td>0.041241</td>\n",
       "      <td>-0.035662</td>\n",
       "      <td>-0.144111</td>\n",
       "      <td>-0.120222</td>\n",
       "      <td>0.033699</td>\n",
       "      <td>0.077738</td>\n",
       "      <td>-0.013405</td>\n",
       "      <td>1.000000</td>\n",
       "      <td>0.178787</td>\n",
       "      <td>0.129625</td>\n",
       "    </tr>\n",
       "    <tr>\n",
       "      <th>QRST_angle</th>\n",
       "      <td>-0.271902</td>\n",
       "      <td>0.039639</td>\n",
       "      <td>-0.146988</td>\n",
       "      <td>-0.225524</td>\n",
       "      <td>-0.074211</td>\n",
       "      <td>0.040412</td>\n",
       "      <td>-0.070123</td>\n",
       "      <td>-0.111032</td>\n",
       "      <td>-0.054435</td>\n",
       "      <td>0.700363</td>\n",
       "      <td>0.221795</td>\n",
       "      <td>0.178787</td>\n",
       "      <td>1.000000</td>\n",
       "      <td>0.044539</td>\n",
       "    </tr>\n",
       "    <tr>\n",
       "      <th>Heart_Rate</th>\n",
       "      <td>-0.151508</td>\n",
       "      <td>0.037299</td>\n",
       "      <td>-0.205480</td>\n",
       "      <td>-0.138140</td>\n",
       "      <td>0.020999</td>\n",
       "      <td>-0.006440</td>\n",
       "      <td>-0.626233</td>\n",
       "      <td>0.037810</td>\n",
       "      <td>0.126696</td>\n",
       "      <td>-0.041181</td>\n",
       "      <td>-0.012914</td>\n",
       "      <td>0.129625</td>\n",
       "      <td>0.044539</td>\n",
       "      <td>1.000000</td>\n",
       "    </tr>\n",
       "  </tbody>\n",
       "</table>\n",
       "</div>"
      ],
      "text/plain": [
       "                 Age       Sex    Height    Weight       QRS        PR  \\\n",
       "Age         1.000000 -0.054988  0.253286  0.354665 -0.012714  0.089677   \n",
       "Sex        -0.054988  1.000000 -0.449560 -0.270241 -0.332866 -0.074488   \n",
       "Height      0.253286 -0.449560  1.000000  0.588857  0.043391  0.124939   \n",
       "Weight      0.354665 -0.270241  0.588857  1.000000  0.100145  0.175188   \n",
       "QRS        -0.012714 -0.332866  0.043391  0.100145  1.000000  0.040236   \n",
       "PR          0.089677 -0.074488  0.124939  0.175188  0.040236  1.000000   \n",
       "QT          0.163742  0.091078  0.061364  0.101160  0.238733  0.029534   \n",
       "T_wave      0.024731 -0.192313  0.033560  0.127405  0.405269  0.037520   \n",
       "P_wave      0.122495 -0.112610  0.189558  0.193173  0.083197  0.574543   \n",
       "QRS_angle  -0.246760  0.079241 -0.136905 -0.176234 -0.154748  0.005342   \n",
       "T_angle     0.036700 -0.134277  0.049124 -0.014672  0.033615  0.009497   \n",
       "P_angle    -0.072029 -0.006607  0.039195 -0.060866  0.041241 -0.035662   \n",
       "QRST_angle -0.271902  0.039639 -0.146988 -0.225524 -0.074211  0.040412   \n",
       "Heart_Rate -0.151508  0.037299 -0.205480 -0.138140  0.020999 -0.006440   \n",
       "\n",
       "                  QT    T_wave    P_wave  QRS_angle   T_angle   P_angle  \\\n",
       "Age         0.163742  0.024731  0.122495  -0.246760  0.036700 -0.072029   \n",
       "Sex         0.091078 -0.192313 -0.112610   0.079241 -0.134277 -0.006607   \n",
       "Height      0.061364  0.033560  0.189558  -0.136905  0.049124  0.039195   \n",
       "Weight      0.101160  0.127405  0.193173  -0.176234 -0.014672 -0.060866   \n",
       "QRS         0.238733  0.405269  0.083197  -0.154748  0.033615  0.041241   \n",
       "PR          0.029534  0.037520  0.574543   0.005342  0.009497 -0.035662   \n",
       "QT          1.000000  0.193684  0.004053   0.006207  0.101883 -0.144111   \n",
       "T_wave      0.193684  1.000000  0.037966  -0.100385  0.045209 -0.120222   \n",
       "P_wave      0.004053  0.037966  1.000000  -0.024683  0.045377  0.033699   \n",
       "QRS_angle   0.006207 -0.100385 -0.024683   1.000000 -0.037768  0.077738   \n",
       "T_angle     0.101883  0.045209  0.045377  -0.037768  1.000000 -0.013405   \n",
       "P_angle    -0.144111 -0.120222  0.033699   0.077738 -0.013405  1.000000   \n",
       "QRST_angle -0.070123 -0.111032 -0.054435   0.700363  0.221795  0.178787   \n",
       "Heart_Rate -0.626233  0.037810  0.126696  -0.041181 -0.012914  0.129625   \n",
       "\n",
       "            QRST_angle  Heart_Rate  \n",
       "Age          -0.271902   -0.151508  \n",
       "Sex           0.039639    0.037299  \n",
       "Height       -0.146988   -0.205480  \n",
       "Weight       -0.225524   -0.138140  \n",
       "QRS          -0.074211    0.020999  \n",
       "PR            0.040412   -0.006440  \n",
       "QT           -0.070123   -0.626233  \n",
       "T_wave       -0.111032    0.037810  \n",
       "P_wave       -0.054435    0.126696  \n",
       "QRS_angle     0.700363   -0.041181  \n",
       "T_angle       0.221795   -0.012914  \n",
       "P_angle       0.178787    0.129625  \n",
       "QRST_angle    1.000000    0.044539  \n",
       "Heart_Rate    0.044539    1.000000  "
      ]
     },
     "execution_count": 24,
     "metadata": {},
     "output_type": "execute_result"
    }
   ],
   "source": [
    "#Calculate correlation coefficients between all variables and the target\n",
    "#HINT: It's easier just to calculate the whole matrix...DON'T use the heatmap\n",
    "\n",
    "part_one_new.corr()"
   ]
  },
  {
   "cell_type": "code",
   "execution_count": 25,
   "id": "343ed959-0279-4a66-a9ff-9bb98c93bbb4",
   "metadata": {},
   "outputs": [],
   "source": [
    "########################### Q3 ###############################################################\n",
    "\n",
    "# The target for the regression part of this assignment is \n",
    "\n",
    "# T_angle #\n",
    "\n",
    "## We are using this variable\n",
    "\n",
    "# There are \n",
    "\n",
    "# 13 #\n",
    "\n",
    "# features for the regression part of this assignment\n",
    "\n",
    "## We have 13 variables that are not the target in the part_one_new data set"
   ]
  },
  {
   "cell_type": "code",
   "execution_count": 26,
   "id": "0d68f47e-6bb4-4e06-be71-6431c06b7a90",
   "metadata": {},
   "outputs": [],
   "source": [
    "########################### Q4 ###############################################################\n",
    "\n",
    "# You should see in both the strip chart and the histogram that there are anomalous \n",
    "# (this means unusual and most likely erroneous) observations for height that do not make practical sense. \n",
    "# We will remove these from our analysis. Based on what you see, and perhaps additional statistics \n",
    "# you might calculate, which statement applies?\n",
    "\n",
    "\t\t\n",
    "# False # All of the anomalous values for height have exactly the same value (i.e. they are all the same height)\n",
    "## They are 780 and 608\n",
    "\n",
    "\n",
    "# False # There are a total of 20 anomalous heights in the data set\n",
    "## There are 2\n",
    "\n",
    "\t\t\n",
    "# True # There are two anomalous observations for height and both meet the formal definition for being outliers\n",
    "\n",
    "\n",
    "# False # While the anomalous height values are unusual for height, they are typical of the values of P_wave \n",
    "# in our data (this means they would be totally normal values for P_wave, they just aren't for height)\n",
    "## These values would also be outliers for P_wave"
   ]
  },
  {
   "cell_type": "code",
   "execution_count": null,
   "id": "9c7d1205-f250-4cd9-b05f-88406b70e640",
   "metadata": {},
   "outputs": [],
   "source": []
  },
  {
   "cell_type": "code",
   "execution_count": 27,
   "id": "b20c4847-e410-4a15-9cf2-808cd8221f8a",
   "metadata": {},
   "outputs": [],
   "source": [
    "########################### Q5 ###############################################################\n",
    "# Instead of creating a regression model to impute the missing value of T_angle, \n",
    "# we could just use a measure of central tendency (e.g. the mean). \n",
    "# Calculate descriptive statistics for T_angle where indicated in the notebook \n",
    "# (after removing the anomalous height observations). Run the code given to make a boxplot. \n",
    "# Based on the descriptive statistics and the boxplot, select the options below that apply."
   ]
  },
  {
   "cell_type": "code",
   "execution_count": 28,
   "id": "b4907729-3d4e-4cda-b5da-26268779e658",
   "metadata": {},
   "outputs": [
    {
     "name": "stdout",
     "output_type": "stream",
     "text": [
      "38.600478468899524\n",
      "42.0\n"
     ]
    }
   ],
   "source": [
    "# True # The mean is less than the median\n",
    "\n",
    "print(part_one_new['T_angle'].mean())\n",
    "print(part_one_new['T_angle'].median())"
   ]
  },
  {
   "cell_type": "code",
   "execution_count": 29,
   "id": "4813641d-f139-45d2-a6c5-c96234aa5be0",
   "metadata": {},
   "outputs": [],
   "source": [
    "# False # Since the data is skewed, the most appropriate measure of spread to report \n",
    "# (and hence to use to estimate an unknown value) would be the mode\n",
    "\n",
    "## It is rather the median. The mode is useful for catagorical data. \"Mode is most useful as a measure of \n",
    "## central tendency when examining categorical data, such as models of cars or flavors of soda, for which \n",
    "## a mathematical average median value based on ordering can not be calculated.\"\t\t"
   ]
  },
  {
   "cell_type": "code",
   "execution_count": 30,
   "id": "2b9f704a-6187-4fc0-9252-f0efb71b379b",
   "metadata": {},
   "outputs": [
    {
     "name": "stdout",
     "output_type": "stream",
     "text": [
      "count    418.000000\n",
      "mean      38.600478\n",
      "std       55.320394\n",
      "min     -174.000000\n",
      "25%       15.000000\n",
      "50%       42.000000\n",
      "75%       63.750000\n",
      "max      179.000000\n",
      "Name: T_angle, dtype: float64\n",
      "The IQR is 73.125\n",
      "The lower bound is -34.524522\n"
     ]
    }
   ],
   "source": [
    "# False # The lower bound for outliers (i.e. anything below this value is an outlier) is -33.75\n",
    "\n",
    "print(part_one_new['T_angle'].describe())\n",
    "print(\"The IQR is\", ((63.750000 - 15.000000) * 1.5))\n",
    "print(\"The lower bound is\", 38.600478 - 73.125)\n",
    "\n",
    "## The lower bound seems to be -34.524522. "
   ]
  },
  {
   "cell_type": "code",
   "execution_count": 31,
   "id": "33415f7b-4ede-48f2-9bdc-a73f23dfdc85",
   "metadata": {},
   "outputs": [],
   "source": [
    "# True # There are negative angles in the data, but negative angles do exist mathematically, \n",
    "# so this is fine (look this up if you don't know!)\n",
    "\n",
    "## \"Angle measure can be positive or negative, depending on the direction of rotation. \n",
    "## The angle measure is the amount of rotation between the two rays forming the angle.\"\n",
    "## This negative angle business is just the angles rotating the other direction"
   ]
  },
  {
   "cell_type": "code",
   "execution_count": 32,
   "id": "f961a486-c2d9-4d2e-9cb6-69a0963a7956",
   "metadata": {},
   "outputs": [
    {
     "name": "stdout",
     "output_type": "stream",
     "text": [
      "The IQR is 48.75\n"
     ]
    }
   ],
   "source": [
    "# True # The IQR for this data is 48.75\n",
    "\n",
    "print(\"The IQR is\", (63.750000 - 15.000000))\n",
    "\n",
    "## It is 48.75"
   ]
  },
  {
   "cell_type": "code",
   "execution_count": 33,
   "id": "b3e4891f-6c37-49b1-b22f-ab308d50a9ec",
   "metadata": {},
   "outputs": [
    {
     "name": "stdout",
     "output_type": "stream",
     "text": [
      "The lower bound is -34.524522\n",
      "The upper bound is 111.72547800000001\n",
      "The maximum value is 179.0\n",
      "The minimum value is -174.0\n"
     ]
    }
   ],
   "source": [
    "# False # The maximum value is an outlier according to the formal definition, but the minimum value is not\n",
    "\n",
    "print(\"The lower bound is\", 38.600478 - 73.125)\n",
    "print(\"The upper bound is\", 38.600478 + 73.125)\n",
    "print(\"The maximum value is\", part_one_new['T_angle'].max())\n",
    "print(\"The minimum value is\", part_one_new['T_angle'].min())\n",
    "\n",
    "## They are both outliers because they are both above and below the upper and lower bounds respectively"
   ]
  },
  {
   "cell_type": "code",
   "execution_count": null,
   "id": "cb607af0-8b5f-4536-8e44-eb0bd2cc6863",
   "metadata": {},
   "outputs": [],
   "source": []
  },
  {
   "cell_type": "code",
   "execution_count": 34,
   "id": "5afdb85b-2e91-433d-96a2-065a9a109520",
   "metadata": {},
   "outputs": [
    {
     "name": "stdout",
     "output_type": "stream",
     "text": [
      "Age           0.036700\n",
      "Sex          -0.134277\n",
      "Height        0.049124\n",
      "Weight       -0.014672\n",
      "QRS           0.033615\n",
      "PR            0.009497\n",
      "QT            0.101883\n",
      "T_wave        0.045209\n",
      "P_wave        0.045377\n",
      "QRS_angle    -0.037768\n",
      "T_angle       1.000000\n",
      "P_angle      -0.013405\n",
      "QRST_angle    0.221795\n",
      "Heart_Rate   -0.012914\n",
      "Name: T_angle, dtype: float64\n"
     ]
    }
   ],
   "source": [
    "########################### Q6 ###############################################################\n",
    "\n",
    "# Based on the correlation coefficients alone, if you were able to pick only one predictor (feature) \n",
    "# to remove before creating a linear regression model, the predictor you would pick would be:\n",
    "\n",
    "\n",
    "print(part_one_new.corr()['T_angle'])\n",
    "\n",
    "# PR # .\n",
    "\n",
    "## PR because its correlation coefficient has the least magnitude, which means it is the least \n",
    "## correlated. The ones with negative values are more correlated, but negatively correlated so I think they\n",
    "## are good."
   ]
  },
  {
   "cell_type": "code",
   "execution_count": 35,
   "id": "2e96bf15-1928-4c21-abf5-d7f58e1b3066",
   "metadata": {},
   "outputs": [],
   "source": [
    "# The correlation coefficient for this predictor, given to four decimal places and rounded, is \n",
    "\n",
    "# 0.009497 #"
   ]
  },
  {
   "cell_type": "markdown",
   "id": "deff40d6",
   "metadata": {},
   "source": [
    "### Lasso Regression"
   ]
  },
  {
   "cell_type": "markdown",
   "id": "77f052ca",
   "metadata": {},
   "source": [
    "<span style = \"color:blue;font-weight:bold;font-size:large;\">You will answer Questions 7,8, and 9 based on this section</span>"
   ]
  },
  {
   "cell_type": "code",
   "execution_count": 36,
   "id": "7ac9175c",
   "metadata": {},
   "outputs": [],
   "source": [
    "#build model\n",
    "y = part_one_new['T_angle'].values\n",
    "X = part_one_new.drop(columns = ['T_angle']).values"
   ]
  },
  {
   "cell_type": "markdown",
   "id": "6c13f838",
   "metadata": {},
   "source": [
    "We will perform Lasso regression so that we can see which features might be dropped from the model. First, we will find the optimal value of alpha, then we will fit the model to ALL of the data."
   ]
  },
  {
   "cell_type": "code",
   "execution_count": 37,
   "id": "a2823093",
   "metadata": {},
   "outputs": [],
   "source": [
    "#Let's do Lasso regression\n",
    "from sklearn.linear_model import LinearRegression as LR, Lasso\n",
    "from sklearn. preprocessing import StandardScaler as SS"
   ]
  },
  {
   "cell_type": "code",
   "execution_count": 38,
   "id": "b59799f7",
   "metadata": {},
   "outputs": [],
   "source": [
    "#Use this range - increase the limits by 1 each time, so if you don't find a max go to 1.5 to 2.5, then 2.5 to 3.5 and so forth\n",
    "a_range = np.linspace(2.849,2.85,100)\n",
    "k = 10\n",
    "ss = SS()\n",
    "\n",
    "avg_tr_score=[]\n",
    "avg_te_score=[]\n",
    "\n",
    "for a in a_range:\n",
    "    las_reg = Lasso(alpha=a)\n",
    "    train_scores, test_scores = do_Kfold(las_reg, X, y, k, ss, random_state = 201)\n",
    "    \n",
    "    avg_tr_score.append(np.mean(train_scores))\n",
    "    avg_te_score.append(np.mean(test_scores))\n",
    "    # print(test_scores)"
   ]
  },
  {
   "cell_type": "code",
   "execution_count": 39,
   "id": "1b1c6cce",
   "metadata": {},
   "outputs": [
    {
     "data": {
      "image/png": "[encoded data removed]",
      "text/plain": [
       "<Figure size 800x800 with 1 Axes>"
      ]
     },
     "metadata": {},
     "output_type": "display_data"
    }
   ],
   "source": [
    "import matplotlib.pyplot as plt\n",
    "plt.figure(figsize=(8,8))\n",
    "#plt.plot(a_range, avg_tr_score, color='k', label='Training')\n",
    "plt.plot(a_range, avg_te_score, color='r', label='Testing')\n",
    "plt.xlabel('$\\\\alpha$', fontsize=14)\n",
    "plt.ylabel('Avg. $R^2$', fontsize=14)\n",
    "#plt.legend()\n",
    "plt.show()"
   ]
  },
  {
   "cell_type": "code",
   "execution_count": 40,
   "id": "7faea9f0",
   "metadata": {},
   "outputs": [
    {
     "name": "stdout",
     "output_type": "stream",
     "text": [
      "Optimal alpha in the range tested:  2.8493838383838384\n",
      "Avg. training score at this value:  0.14128796825092405\n",
      "Avg. testing score at this value:  0.03995049459748727\n"
     ]
    }
   ],
   "source": [
    "idx_max = np.argmax(avg_te_score)\n",
    "\n",
    "print('Optimal alpha in the range tested: ', a_range[idx_max])\n",
    "print('Avg. training score at this value: ', avg_tr_score[idx_max])\n",
    "print('Avg. testing score at this value: ', avg_te_score[idx_max])"
   ]
  },
  {
   "cell_type": "code",
   "execution_count": 41,
   "id": "9bb99145",
   "metadata": {},
   "outputs": [
    {
     "data": {
      "image/png": "[encoded data removed]",
      "text/plain": [
       "<Figure size 600x600 with 1 Axes>"
      ]
     },
     "metadata": {},
     "output_type": "display_data"
    }
   ],
   "source": [
    "plt.figure(figsize = (6,6))\n",
    "sns.stripplot(data = pd.DataFrame(zip(train_scores,test_scores), columns = ['Training', 'Testing']), size=10, palette = 'winter',\n",
    "             alpha = 0.5, jitter = True)\n",
    "plt.show()"
   ]
  },
  {
   "cell_type": "markdown",
   "id": "0fcd65af",
   "metadata": {},
   "source": [
    "<span style=\"color:red;font-size:large\">You have to fill something in in the next code cell</span>"
   ]
  },
  {
   "cell_type": "code",
   "execution_count": 42,
   "id": "5ad30bbd",
   "metadata": {},
   "outputs": [],
   "source": [
    "#build a model with ALL of the data\n",
    "#create the Regressor\n",
    "#use the optimal value of alpha you found above\n",
    "las_reg = Lasso(alpha=2.8493793793793794)"
   ]
  },
  {
   "cell_type": "markdown",
   "id": "52126c57",
   "metadata": {},
   "source": [
    "<span style=\"color:red;font-size:large\">You have to fill something in in the next code cell</span>"
   ]
  },
  {
   "cell_type": "code",
   "execution_count": 43,
   "id": "b112b6f2",
   "metadata": {},
   "outputs": [
    {
     "data": {
      "text/plain": [
       "0.1363256900512284"
      ]
     },
     "execution_count": 43,
     "metadata": {},
     "output_type": "execute_result"
    }
   ],
   "source": [
    "#do the appropriate scaling\n",
    "#fit and score the lasso regression\n",
    "ss = SS()\n",
    "X_scaled = ss.fit_transform(X)\n",
    "las_reg.fit(X_scaled, y)\n",
    "las_reg.score(X_scaled, y)"
   ]
  },
  {
   "cell_type": "code",
   "execution_count": 44,
   "id": "d2e08941-e834-46ad-a2a0-484e660c66c8",
   "metadata": {},
   "outputs": [
    {
     "data": {
      "text/plain": [
       "array([[ 75.,   0., 190., ...,  64.,  -2.,  63.],\n",
       "       [ 56.,   1., 165., ..., -17.,  31.,  53.],\n",
       "       [ 54.,   0., 172., ...,  70.,  66.,  75.],\n",
       "       ...,\n",
       "       [ 36.,   0., 166., ..., -61., -70.,  84.],\n",
       "       [ 32.,   1., 155., ..., -22.,  43.,  80.],\n",
       "       [ 78.,   1., 160., ...,  52.,  47.,  75.]])"
      ]
     },
     "execution_count": 44,
     "metadata": {},
     "output_type": "execute_result"
    }
   ],
   "source": [
    "X"
   ]
  },
  {
   "cell_type": "code",
   "execution_count": 45,
   "id": "2f96680c-6644-479e-aeba-bbe82b6bc0fe",
   "metadata": {},
   "outputs": [
    {
     "data": {
      "text/plain": [
       "array([[ 1.78461458, -1.12771412,  2.50625562, ...,  0.50332343,\n",
       "        -1.06228483, -0.87087199],\n",
       "       [ 0.60448061,  0.88674956,  0.12984956, ..., -2.31532108,\n",
       "        -0.15096218, -1.65574585],\n",
       "       [ 0.48025598, -1.12771412,  0.79524326, ...,  0.71211191,\n",
       "         0.81559216,  0.07097663],\n",
       "       ...,\n",
       "       [-0.63776568, -1.12771412,  0.2249058 , ..., -3.84643662,\n",
       "        -2.94016182,  0.7773631 ],\n",
       "       [-0.88621493,  0.88674956, -0.82071287, ..., -2.48931149,\n",
       "         0.18042788,  0.46341356],\n",
       "       [ 1.97095152,  0.88674956, -0.34543166, ...,  0.08574647,\n",
       "         0.29089123,  0.07097663]])"
      ]
     },
     "execution_count": 45,
     "metadata": {},
     "output_type": "execute_result"
    }
   ],
   "source": [
    "X_scaled"
   ]
  },
  {
   "cell_type": "code",
   "execution_count": null,
   "id": "eefb185f-fe20-4654-be73-d8704bac282d",
   "metadata": {},
   "outputs": [],
   "source": []
  },
  {
   "cell_type": "code",
   "execution_count": 46,
   "id": "b8a5694c",
   "metadata": {},
   "outputs": [
    {
     "data": {
      "text/plain": [
       "Age            0.248715\n",
       "Sex           -4.774774\n",
       "Height         0.000000\n",
       "Weight        -0.000000\n",
       "QRS           -0.000000\n",
       "PR            -0.000000\n",
       "QT             4.505144\n",
       "T_wave         0.000000\n",
       "P_wave         0.000000\n",
       "QRS_angle    -11.410870\n",
       "P_angle       -0.000000\n",
       "QRST_angle    17.970263\n",
       "Heart_Rate     0.000000\n",
       "dtype: float64"
      ]
     },
     "execution_count": 46,
     "metadata": {},
     "output_type": "execute_result"
    }
   ],
   "source": [
    "pd.Series(las_reg.coef_, index = part_one_new.drop(columns = ['T_angle']).columns)\n",
    "#Which features go set to 0?"
   ]
  },
  {
   "cell_type": "code",
   "execution_count": 47,
   "id": "ee2e9bb9-83f1-4f16-87ac-0dd8abae7eeb",
   "metadata": {},
   "outputs": [
    {
     "data": {
      "text/html": [
       "<div>\n",
       "<style scoped>\n",
       "    .dataframe tbody tr th:only-of-type {\n",
       "        vertical-align: middle;\n",
       "    }\n",
       "\n",
       "    .dataframe tbody tr th {\n",
       "        vertical-align: top;\n",
       "    }\n",
       "\n",
       "    .dataframe thead th {\n",
       "        text-align: right;\n",
       "    }\n",
       "</style>\n",
       "<table border=\"1\" class=\"dataframe\">\n",
       "  <thead>\n",
       "    <tr style=\"text-align: right;\">\n",
       "      <th></th>\n",
       "      <th>Age</th>\n",
       "      <th>Sex</th>\n",
       "      <th>Height</th>\n",
       "      <th>Weight</th>\n",
       "      <th>QRS</th>\n",
       "      <th>PR</th>\n",
       "      <th>QT</th>\n",
       "      <th>T_wave</th>\n",
       "      <th>P_wave</th>\n",
       "      <th>QRS_angle</th>\n",
       "      <th>T_angle</th>\n",
       "      <th>P_angle</th>\n",
       "      <th>QRST_angle</th>\n",
       "      <th>Heart_Rate</th>\n",
       "      <th>arrhythmia</th>\n",
       "    </tr>\n",
       "  </thead>\n",
       "  <tbody>\n",
       "    <tr>\n",
       "      <th>63</th>\n",
       "      <td>54</td>\n",
       "      <td>1</td>\n",
       "      <td>160</td>\n",
       "      <td>63</td>\n",
       "      <td>82</td>\n",
       "      <td>158</td>\n",
       "      <td>410</td>\n",
       "      <td>141</td>\n",
       "      <td>87</td>\n",
       "      <td>25</td>\n",
       "      <td>NaN</td>\n",
       "      <td>62.0</td>\n",
       "      <td>39.0</td>\n",
       "      <td>54.0</td>\n",
       "      <td>2</td>\n",
       "    </tr>\n",
       "    <tr>\n",
       "      <th>88</th>\n",
       "      <td>64</td>\n",
       "      <td>1</td>\n",
       "      <td>155</td>\n",
       "      <td>88</td>\n",
       "      <td>82</td>\n",
       "      <td>194</td>\n",
       "      <td>342</td>\n",
       "      <td>138</td>\n",
       "      <td>126</td>\n",
       "      <td>-4</td>\n",
       "      <td>NaN</td>\n",
       "      <td>64.0</td>\n",
       "      <td>-1.0</td>\n",
       "      <td>85.0</td>\n",
       "      <td>4</td>\n",
       "    </tr>\n",
       "    <tr>\n",
       "      <th>190</th>\n",
       "      <td>70</td>\n",
       "      <td>1</td>\n",
       "      <td>160</td>\n",
       "      <td>90</td>\n",
       "      <td>76</td>\n",
       "      <td>187</td>\n",
       "      <td>396</td>\n",
       "      <td>155</td>\n",
       "      <td>121</td>\n",
       "      <td>-1</td>\n",
       "      <td>NaN</td>\n",
       "      <td>30.0</td>\n",
       "      <td>2.0</td>\n",
       "      <td>89.0</td>\n",
       "      <td>2</td>\n",
       "    </tr>\n",
       "    <tr>\n",
       "      <th>201</th>\n",
       "      <td>63</td>\n",
       "      <td>0</td>\n",
       "      <td>174</td>\n",
       "      <td>79</td>\n",
       "      <td>91</td>\n",
       "      <td>151</td>\n",
       "      <td>410</td>\n",
       "      <td>198</td>\n",
       "      <td>86</td>\n",
       "      <td>16</td>\n",
       "      <td>NaN</td>\n",
       "      <td>2.0</td>\n",
       "      <td>16.0</td>\n",
       "      <td>59.0</td>\n",
       "      <td>2</td>\n",
       "    </tr>\n",
       "    <tr>\n",
       "      <th>225</th>\n",
       "      <td>56</td>\n",
       "      <td>0</td>\n",
       "      <td>170</td>\n",
       "      <td>80</td>\n",
       "      <td>81</td>\n",
       "      <td>162</td>\n",
       "      <td>352</td>\n",
       "      <td>154</td>\n",
       "      <td>100</td>\n",
       "      <td>23</td>\n",
       "      <td>NaN</td>\n",
       "      <td>56.0</td>\n",
       "      <td>20.0</td>\n",
       "      <td>79.0</td>\n",
       "      <td>1</td>\n",
       "    </tr>\n",
       "    <tr>\n",
       "      <th>337</th>\n",
       "      <td>62</td>\n",
       "      <td>1</td>\n",
       "      <td>157</td>\n",
       "      <td>65</td>\n",
       "      <td>81</td>\n",
       "      <td>174</td>\n",
       "      <td>452</td>\n",
       "      <td>160</td>\n",
       "      <td>116</td>\n",
       "      <td>53</td>\n",
       "      <td>NaN</td>\n",
       "      <td>42.0</td>\n",
       "      <td>53.0</td>\n",
       "      <td>87.0</td>\n",
       "      <td>2</td>\n",
       "    </tr>\n",
       "    <tr>\n",
       "      <th>349</th>\n",
       "      <td>48</td>\n",
       "      <td>0</td>\n",
       "      <td>182</td>\n",
       "      <td>77</td>\n",
       "      <td>77</td>\n",
       "      <td>196</td>\n",
       "      <td>325</td>\n",
       "      <td>235</td>\n",
       "      <td>104</td>\n",
       "      <td>46</td>\n",
       "      <td>NaN</td>\n",
       "      <td>56.0</td>\n",
       "      <td>44.0</td>\n",
       "      <td>89.0</td>\n",
       "      <td>2</td>\n",
       "    </tr>\n",
       "    <tr>\n",
       "      <th>389</th>\n",
       "      <td>41</td>\n",
       "      <td>0</td>\n",
       "      <td>170</td>\n",
       "      <td>67</td>\n",
       "      <td>96</td>\n",
       "      <td>191</td>\n",
       "      <td>368</td>\n",
       "      <td>202</td>\n",
       "      <td>108</td>\n",
       "      <td>62</td>\n",
       "      <td>NaN</td>\n",
       "      <td>-52.0</td>\n",
       "      <td>62.0</td>\n",
       "      <td>63.0</td>\n",
       "      <td>16</td>\n",
       "    </tr>\n",
       "  </tbody>\n",
       "</table>\n",
       "</div>"
      ],
      "text/plain": [
       "     Age  Sex  Height  Weight  QRS   PR   QT  T_wave  P_wave  QRS_angle  \\\n",
       "63    54    1     160      63   82  158  410     141      87         25   \n",
       "88    64    1     155      88   82  194  342     138     126         -4   \n",
       "190   70    1     160      90   76  187  396     155     121         -1   \n",
       "201   63    0     174      79   91  151  410     198      86         16   \n",
       "225   56    0     170      80   81  162  352     154     100         23   \n",
       "337   62    1     157      65   81  174  452     160     116         53   \n",
       "349   48    0     182      77   77  196  325     235     104         46   \n",
       "389   41    0     170      67   96  191  368     202     108         62   \n",
       "\n",
       "     T_angle  P_angle  QRST_angle  Heart_Rate  arrhythmia  \n",
       "63       NaN     62.0        39.0        54.0           2  \n",
       "88       NaN     64.0        -1.0        85.0           4  \n",
       "190      NaN     30.0         2.0        89.0           2  \n",
       "201      NaN      2.0        16.0        59.0           2  \n",
       "225      NaN     56.0        20.0        79.0           1  \n",
       "337      NaN     42.0        53.0        87.0           2  \n",
       "349      NaN     56.0        44.0        89.0           2  \n",
       "389      NaN    -52.0        62.0        63.0          16  "
      ]
     },
     "execution_count": 47,
     "metadata": {},
     "output_type": "execute_result"
    }
   ],
   "source": [
    "missing_T"
   ]
  },
  {
   "cell_type": "code",
   "execution_count": 48,
   "id": "998db085",
   "metadata": {},
   "outputs": [
    {
     "data": {
      "text/plain": [
       "array([[ 54.,   1., 160.,  63.,  82., 158., 410., 141.,  87.,  25.,  62.,\n",
       "         39.,  54.],\n",
       "       [ 64.,   1., 155.,  88.,  82., 194., 342., 138., 126.,  -4.,  64.,\n",
       "         -1.,  85.],\n",
       "       [ 70.,   1., 160.,  90.,  76., 187., 396., 155., 121.,  -1.,  30.,\n",
       "          2.,  89.],\n",
       "       [ 63.,   0., 174.,  79.,  91., 151., 410., 198.,  86.,  16.,   2.,\n",
       "         16.,  59.],\n",
       "       [ 56.,   0., 170.,  80.,  81., 162., 352., 154., 100.,  23.,  56.,\n",
       "         20.,  79.],\n",
       "       [ 62.,   1., 157.,  65.,  81., 174., 452., 160., 116.,  53.,  42.,\n",
       "         53.,  87.],\n",
       "       [ 48.,   0., 182.,  77.,  77., 196., 325., 235., 104.,  46.,  56.,\n",
       "         44.,  89.],\n",
       "       [ 41.,   0., 170.,  67.,  96., 191., 368., 202., 108.,  62., -52.,\n",
       "         62.,  63.]])"
      ]
     },
     "execution_count": 48,
     "metadata": {},
     "output_type": "execute_result"
    }
   ],
   "source": [
    "#Now we will use the model to predict our missing values\n",
    "for_pred = missing_T.drop(columns = ['T_angle', 'arrhythmia']).values\n",
    "for_pred"
   ]
  },
  {
   "cell_type": "code",
   "execution_count": 49,
   "id": "f1d940ee",
   "metadata": {},
   "outputs": [
    {
     "data": {
      "text/plain": [
       "array([43.62642862, 21.53174633, 30.00263905, 44.20979304, 36.14301246,\n",
       "       49.66858876, 38.38784506, 49.31113148])"
      ]
     },
     "execution_count": 49,
     "metadata": {},
     "output_type": "execute_result"
    }
   ],
   "source": [
    "las_reg.predict(ss.transform(for_pred))"
   ]
  },
  {
   "cell_type": "markdown",
   "id": "e659adf4",
   "metadata": {},
   "source": [
    "The next code cell fills in this value for the NaN in the observation."
   ]
  },
  {
   "cell_type": "code",
   "execution_count": 50,
   "id": "83a75413",
   "metadata": {},
   "outputs": [],
   "source": [
    "missing_T['T_angle'] = las_reg.predict(ss.transform(for_pred))"
   ]
  },
  {
   "cell_type": "code",
   "execution_count": null,
   "id": "1b32313f-a059-46ed-8da0-6f45e88444f7",
   "metadata": {},
   "outputs": [],
   "source": []
  },
  {
   "cell_type": "code",
   "execution_count": 51,
   "id": "8c9896ac-11c9-4d5c-b697-8898fe31b1c0",
   "metadata": {},
   "outputs": [
    {
     "data": {
      "text/plain": [
       "2.85"
      ]
     },
     "execution_count": 51,
     "metadata": {},
     "output_type": "execute_result"
    }
   ],
   "source": [
    "########################### Q7 ###############################################################\n",
    "# Find the optimal value for alpha based on the R2 values as indicated in the code. What is the \n",
    "# optimal value of alpha?\n",
    "\n",
    "# Note that the range given is 0.5 to 1.5. If you need to adjust the range upward, use 1.5 to 2.5,\n",
    "# then 2.5 to 3.5 and so forth. Your answer being correct depends on following this convention.\n",
    "\n",
    "# Round your answer to 2 decimal places.\n",
    "\n",
    "2.8493793793793794\n",
    "2.85"
   ]
  },
  {
   "cell_type": "code",
   "execution_count": null,
   "id": "34803b34-b4cc-4166-9945-3ac650ff3d03",
   "metadata": {},
   "outputs": [],
   "source": []
  },
  {
   "cell_type": "code",
   "execution_count": null,
   "id": "dc99ab92-b6a9-420c-816a-8d45ac064cd3",
   "metadata": {},
   "outputs": [],
   "source": []
  },
  {
   "cell_type": "code",
   "execution_count": 52,
   "id": "56f31ccd-c2ea-4718-a4f9-e70c1709fc0e",
   "metadata": {},
   "outputs": [],
   "source": [
    "########################### Q8 ###############################################################\n",
    "# We are performing Lasso regression to create a model to predict T_angle. Based on the results of hyperparameter \n",
    "# optimization and the ultimate model building and subsequent prediction, select the options below that apply."
   ]
  },
  {
   "cell_type": "code",
   "execution_count": 53,
   "id": "dd685edc-3356-4aa8-acc7-ae2033d459da",
   "metadata": {},
   "outputs": [],
   "source": [
    "# True # Based on the Lasso results, the feature with the largest coefficient, in terms of magnitude, is QRST_angle\n",
    "## QRST_angle    17.970263"
   ]
  },
  {
   "cell_type": "code",
   "execution_count": 54,
   "id": "92fcf471-2d2a-48f6-9bd6-f4d170cc4eb3",
   "metadata": {},
   "outputs": [],
   "source": [
    "# False # The model score reported when we put all of the data in the model indicates an accuracy value of approximately 13.4%\n",
    "## It returns the coefficient of determination, not the accuracy"
   ]
  },
  {
   "cell_type": "code",
   "execution_count": 55,
   "id": "5c487856-cc8c-4be4-a14d-b39796053a14",
   "metadata": {},
   "outputs": [],
   "source": [
    "# False # Lasso regression removes 3 features from the model\n",
    "## 7 variables now have 0.0 as their coefficients so it removes 7, not 3."
   ]
  },
  {
   "cell_type": "code",
   "execution_count": 56,
   "id": "b8c621ce-fa16-4f26-97c4-4521012bcf7a",
   "metadata": {},
   "outputs": [],
   "source": [
    "# True # For some of the test data sets used in k-fold validation, the model created performed worse than the null model\n",
    "## If you look above and see the test scores for each model created in do_Kfold, you can see some negative values."
   ]
  },
  {
   "cell_type": "code",
   "execution_count": 57,
   "id": "219de714-1bc6-4d48-8614-4dc535dada0f",
   "metadata": {},
   "outputs": [],
   "source": [
    "# False # The average training and testing scores (from the hyperparameter optimization) for the optimal value of alpha were \n",
    "# approximately the same with the training score only slightly higher (less than 1% difference)\n",
    "## If you look at the numbers below the red line graph above, the scores are far apart (about 78% change)"
   ]
  },
  {
   "cell_type": "code",
   "execution_count": 58,
   "id": "b126db7e-ca52-438d-a8f1-9ef0d3e58584",
   "metadata": {},
   "outputs": [
    {
     "data": {
      "text/plain": [
       "38.600478468899524"
      ]
     },
     "execution_count": 58,
     "metadata": {},
     "output_type": "execute_result"
    }
   ],
   "source": [
    "# True # If we had just used the null model, as we defined the null model in class, we would have predicted T_angle for the \n",
    "# missing observations as approximately 38.6 (the approximately is not a trick...if the number resembles 38.6 in some \n",
    "# way this is correct, if it doesn't, this is not correct)\n",
    "part_one_new['T_angle'].mean()\n",
    "## You use the mean of the data for the null model, so this is correct"
   ]
  },
  {
   "cell_type": "code",
   "execution_count": null,
   "id": "0559912c-0e1c-43e1-aaa8-0a23a6d50a57",
   "metadata": {},
   "outputs": [],
   "source": []
  },
  {
   "cell_type": "markdown",
   "id": "c7318520",
   "metadata": {},
   "source": [
    "# Let's do some classification"
   ]
  },
  {
   "cell_type": "markdown",
   "id": "0efb1ee2",
   "metadata": {},
   "source": [
    "We will use the part_two data set we made at the beginning for classification. There is some code added here to add the observations we just imputed T_angle for to the part_two data set. You can just run it as is. You should end up with 428 observations total."
   ]
  },
  {
   "cell_type": "code",
   "execution_count": 59,
   "id": "ff304b71",
   "metadata": {},
   "outputs": [
    {
     "data": {
      "text/html": [
       "<div>\n",
       "<style scoped>\n",
       "    .dataframe tbody tr th:only-of-type {\n",
       "        vertical-align: middle;\n",
       "    }\n",
       "\n",
       "    .dataframe tbody tr th {\n",
       "        vertical-align: top;\n",
       "    }\n",
       "\n",
       "    .dataframe thead th {\n",
       "        text-align: right;\n",
       "    }\n",
       "</style>\n",
       "<table border=\"1\" class=\"dataframe\">\n",
       "  <thead>\n",
       "    <tr style=\"text-align: right;\">\n",
       "      <th></th>\n",
       "      <th>Age</th>\n",
       "      <th>Sex</th>\n",
       "      <th>Height</th>\n",
       "      <th>Weight</th>\n",
       "      <th>QRS</th>\n",
       "      <th>PR</th>\n",
       "      <th>QT</th>\n",
       "      <th>T_wave</th>\n",
       "      <th>P_wave</th>\n",
       "      <th>QRS_angle</th>\n",
       "      <th>T_angle</th>\n",
       "      <th>P_angle</th>\n",
       "      <th>QRST_angle</th>\n",
       "      <th>Heart_Rate</th>\n",
       "      <th>arrhythmia</th>\n",
       "      <th>dicot</th>\n",
       "    </tr>\n",
       "  </thead>\n",
       "  <tbody>\n",
       "    <tr>\n",
       "      <th>63</th>\n",
       "      <td>54</td>\n",
       "      <td>1</td>\n",
       "      <td>160</td>\n",
       "      <td>63</td>\n",
       "      <td>82</td>\n",
       "      <td>158</td>\n",
       "      <td>410</td>\n",
       "      <td>141</td>\n",
       "      <td>87</td>\n",
       "      <td>25</td>\n",
       "      <td>43.626429</td>\n",
       "      <td>62.0</td>\n",
       "      <td>39.0</td>\n",
       "      <td>54.0</td>\n",
       "      <td>2</td>\n",
       "      <td>1</td>\n",
       "    </tr>\n",
       "    <tr>\n",
       "      <th>88</th>\n",
       "      <td>64</td>\n",
       "      <td>1</td>\n",
       "      <td>155</td>\n",
       "      <td>88</td>\n",
       "      <td>82</td>\n",
       "      <td>194</td>\n",
       "      <td>342</td>\n",
       "      <td>138</td>\n",
       "      <td>126</td>\n",
       "      <td>-4</td>\n",
       "      <td>21.531746</td>\n",
       "      <td>64.0</td>\n",
       "      <td>-1.0</td>\n",
       "      <td>85.0</td>\n",
       "      <td>4</td>\n",
       "      <td>1</td>\n",
       "    </tr>\n",
       "    <tr>\n",
       "      <th>190</th>\n",
       "      <td>70</td>\n",
       "      <td>1</td>\n",
       "      <td>160</td>\n",
       "      <td>90</td>\n",
       "      <td>76</td>\n",
       "      <td>187</td>\n",
       "      <td>396</td>\n",
       "      <td>155</td>\n",
       "      <td>121</td>\n",
       "      <td>-1</td>\n",
       "      <td>30.002639</td>\n",
       "      <td>30.0</td>\n",
       "      <td>2.0</td>\n",
       "      <td>89.0</td>\n",
       "      <td>2</td>\n",
       "      <td>1</td>\n",
       "    </tr>\n",
       "    <tr>\n",
       "      <th>201</th>\n",
       "      <td>63</td>\n",
       "      <td>0</td>\n",
       "      <td>174</td>\n",
       "      <td>79</td>\n",
       "      <td>91</td>\n",
       "      <td>151</td>\n",
       "      <td>410</td>\n",
       "      <td>198</td>\n",
       "      <td>86</td>\n",
       "      <td>16</td>\n",
       "      <td>44.209793</td>\n",
       "      <td>2.0</td>\n",
       "      <td>16.0</td>\n",
       "      <td>59.0</td>\n",
       "      <td>2</td>\n",
       "      <td>1</td>\n",
       "    </tr>\n",
       "    <tr>\n",
       "      <th>225</th>\n",
       "      <td>56</td>\n",
       "      <td>0</td>\n",
       "      <td>170</td>\n",
       "      <td>80</td>\n",
       "      <td>81</td>\n",
       "      <td>162</td>\n",
       "      <td>352</td>\n",
       "      <td>154</td>\n",
       "      <td>100</td>\n",
       "      <td>23</td>\n",
       "      <td>36.143012</td>\n",
       "      <td>56.0</td>\n",
       "      <td>20.0</td>\n",
       "      <td>79.0</td>\n",
       "      <td>1</td>\n",
       "      <td>0</td>\n",
       "    </tr>\n",
       "    <tr>\n",
       "      <th>337</th>\n",
       "      <td>62</td>\n",
       "      <td>1</td>\n",
       "      <td>157</td>\n",
       "      <td>65</td>\n",
       "      <td>81</td>\n",
       "      <td>174</td>\n",
       "      <td>452</td>\n",
       "      <td>160</td>\n",
       "      <td>116</td>\n",
       "      <td>53</td>\n",
       "      <td>49.668589</td>\n",
       "      <td>42.0</td>\n",
       "      <td>53.0</td>\n",
       "      <td>87.0</td>\n",
       "      <td>2</td>\n",
       "      <td>1</td>\n",
       "    </tr>\n",
       "    <tr>\n",
       "      <th>349</th>\n",
       "      <td>48</td>\n",
       "      <td>0</td>\n",
       "      <td>182</td>\n",
       "      <td>77</td>\n",
       "      <td>77</td>\n",
       "      <td>196</td>\n",
       "      <td>325</td>\n",
       "      <td>235</td>\n",
       "      <td>104</td>\n",
       "      <td>46</td>\n",
       "      <td>38.387845</td>\n",
       "      <td>56.0</td>\n",
       "      <td>44.0</td>\n",
       "      <td>89.0</td>\n",
       "      <td>2</td>\n",
       "      <td>1</td>\n",
       "    </tr>\n",
       "    <tr>\n",
       "      <th>389</th>\n",
       "      <td>41</td>\n",
       "      <td>0</td>\n",
       "      <td>170</td>\n",
       "      <td>67</td>\n",
       "      <td>96</td>\n",
       "      <td>191</td>\n",
       "      <td>368</td>\n",
       "      <td>202</td>\n",
       "      <td>108</td>\n",
       "      <td>62</td>\n",
       "      <td>49.311131</td>\n",
       "      <td>-52.0</td>\n",
       "      <td>62.0</td>\n",
       "      <td>63.0</td>\n",
       "      <td>16</td>\n",
       "      <td>1</td>\n",
       "    </tr>\n",
       "  </tbody>\n",
       "</table>\n",
       "</div>"
      ],
      "text/plain": [
       "     Age  Sex  Height  Weight  QRS   PR   QT  T_wave  P_wave  QRS_angle  \\\n",
       "63    54    1     160      63   82  158  410     141      87         25   \n",
       "88    64    1     155      88   82  194  342     138     126         -4   \n",
       "190   70    1     160      90   76  187  396     155     121         -1   \n",
       "201   63    0     174      79   91  151  410     198      86         16   \n",
       "225   56    0     170      80   81  162  352     154     100         23   \n",
       "337   62    1     157      65   81  174  452     160     116         53   \n",
       "349   48    0     182      77   77  196  325     235     104         46   \n",
       "389   41    0     170      67   96  191  368     202     108         62   \n",
       "\n",
       "       T_angle  P_angle  QRST_angle  Heart_Rate  arrhythmia  dicot  \n",
       "63   43.626429     62.0        39.0        54.0           2      1  \n",
       "88   21.531746     64.0        -1.0        85.0           4      1  \n",
       "190  30.002639     30.0         2.0        89.0           2      1  \n",
       "201  44.209793      2.0        16.0        59.0           2      1  \n",
       "225  36.143012     56.0        20.0        79.0           1      0  \n",
       "337  49.668589     42.0        53.0        87.0           2      1  \n",
       "349  38.387845     56.0        44.0        89.0           2      1  \n",
       "389  49.311131    -52.0        62.0        63.0          16      1  "
      ]
     },
     "execution_count": 59,
     "metadata": {},
     "output_type": "execute_result"
    }
   ],
   "source": [
    "missing_T['dicot'] =  missing_T['arrhythmia'].apply(lambda x: 0 if x==1 else 1)\n",
    "missing_T"
   ]
  },
  {
   "cell_type": "code",
   "execution_count": 60,
   "id": "e32177f4",
   "metadata": {},
   "outputs": [
    {
     "data": {
      "text/html": [
       "<div>\n",
       "<style scoped>\n",
       "    .dataframe tbody tr th:only-of-type {\n",
       "        vertical-align: middle;\n",
       "    }\n",
       "\n",
       "    .dataframe tbody tr th {\n",
       "        vertical-align: top;\n",
       "    }\n",
       "\n",
       "    .dataframe thead th {\n",
       "        text-align: right;\n",
       "    }\n",
       "</style>\n",
       "<table border=\"1\" class=\"dataframe\">\n",
       "  <thead>\n",
       "    <tr style=\"text-align: right;\">\n",
       "      <th></th>\n",
       "      <th>Age</th>\n",
       "      <th>Sex</th>\n",
       "      <th>Height</th>\n",
       "      <th>Weight</th>\n",
       "      <th>QRS</th>\n",
       "      <th>PR</th>\n",
       "      <th>QT</th>\n",
       "      <th>T_wave</th>\n",
       "      <th>P_wave</th>\n",
       "      <th>QRS_angle</th>\n",
       "      <th>T_angle</th>\n",
       "      <th>P_angle</th>\n",
       "      <th>QRST_angle</th>\n",
       "      <th>Heart_Rate</th>\n",
       "      <th>arrhythmia</th>\n",
       "      <th>dicot</th>\n",
       "    </tr>\n",
       "  </thead>\n",
       "  <tbody>\n",
       "    <tr>\n",
       "      <th>0</th>\n",
       "      <td>75</td>\n",
       "      <td>0</td>\n",
       "      <td>190</td>\n",
       "      <td>80</td>\n",
       "      <td>91</td>\n",
       "      <td>193</td>\n",
       "      <td>371</td>\n",
       "      <td>174</td>\n",
       "      <td>121</td>\n",
       "      <td>-16</td>\n",
       "      <td>13.0</td>\n",
       "      <td>64.0</td>\n",
       "      <td>-2.0</td>\n",
       "      <td>63.0</td>\n",
       "      <td>8</td>\n",
       "      <td>1</td>\n",
       "    </tr>\n",
       "    <tr>\n",
       "      <th>1</th>\n",
       "      <td>56</td>\n",
       "      <td>1</td>\n",
       "      <td>165</td>\n",
       "      <td>64</td>\n",
       "      <td>81</td>\n",
       "      <td>174</td>\n",
       "      <td>401</td>\n",
       "      <td>149</td>\n",
       "      <td>39</td>\n",
       "      <td>25</td>\n",
       "      <td>37.0</td>\n",
       "      <td>-17.0</td>\n",
       "      <td>31.0</td>\n",
       "      <td>53.0</td>\n",
       "      <td>6</td>\n",
       "      <td>1</td>\n",
       "    </tr>\n",
       "    <tr>\n",
       "      <th>2</th>\n",
       "      <td>54</td>\n",
       "      <td>0</td>\n",
       "      <td>172</td>\n",
       "      <td>95</td>\n",
       "      <td>138</td>\n",
       "      <td>163</td>\n",
       "      <td>386</td>\n",
       "      <td>185</td>\n",
       "      <td>102</td>\n",
       "      <td>96</td>\n",
       "      <td>34.0</td>\n",
       "      <td>70.0</td>\n",
       "      <td>66.0</td>\n",
       "      <td>75.0</td>\n",
       "      <td>10</td>\n",
       "      <td>1</td>\n",
       "    </tr>\n",
       "    <tr>\n",
       "      <th>3</th>\n",
       "      <td>55</td>\n",
       "      <td>0</td>\n",
       "      <td>175</td>\n",
       "      <td>94</td>\n",
       "      <td>100</td>\n",
       "      <td>202</td>\n",
       "      <td>380</td>\n",
       "      <td>179</td>\n",
       "      <td>143</td>\n",
       "      <td>28</td>\n",
       "      <td>11.0</td>\n",
       "      <td>-5.0</td>\n",
       "      <td>20.0</td>\n",
       "      <td>71.0</td>\n",
       "      <td>1</td>\n",
       "      <td>0</td>\n",
       "    </tr>\n",
       "    <tr>\n",
       "      <th>4</th>\n",
       "      <td>13</td>\n",
       "      <td>0</td>\n",
       "      <td>169</td>\n",
       "      <td>51</td>\n",
       "      <td>100</td>\n",
       "      <td>167</td>\n",
       "      <td>321</td>\n",
       "      <td>174</td>\n",
       "      <td>91</td>\n",
       "      <td>107</td>\n",
       "      <td>66.0</td>\n",
       "      <td>52.0</td>\n",
       "      <td>88.0</td>\n",
       "      <td>84.0</td>\n",
       "      <td>14</td>\n",
       "      <td>1</td>\n",
       "    </tr>\n",
       "  </tbody>\n",
       "</table>\n",
       "</div>"
      ],
      "text/plain": [
       "   Age  Sex  Height  Weight  QRS   PR   QT  T_wave  P_wave  QRS_angle  \\\n",
       "0   75    0     190      80   91  193  371     174     121        -16   \n",
       "1   56    1     165      64   81  174  401     149      39         25   \n",
       "2   54    0     172      95  138  163  386     185     102         96   \n",
       "3   55    0     175      94  100  202  380     179     143         28   \n",
       "4   13    0     169      51  100  167  321     174      91        107   \n",
       "\n",
       "   T_angle  P_angle  QRST_angle  Heart_Rate  arrhythmia  dicot  \n",
       "0     13.0     64.0        -2.0        63.0           8      1  \n",
       "1     37.0    -17.0        31.0        53.0           6      1  \n",
       "2     34.0     70.0        66.0        75.0          10      1  \n",
       "3     11.0     -5.0        20.0        71.0           1      0  \n",
       "4     66.0     52.0        88.0        84.0          14      1  "
      ]
     },
     "execution_count": 60,
     "metadata": {},
     "output_type": "execute_result"
    }
   ],
   "source": [
    "part_two.head()"
   ]
  },
  {
   "cell_type": "code",
   "execution_count": 61,
   "id": "021a1302",
   "metadata": {},
   "outputs": [],
   "source": [
    "part_two = pd.concat([part_two, missing_T]).reset_index(drop = True)"
   ]
  },
  {
   "cell_type": "code",
   "execution_count": 62,
   "id": "36e20197",
   "metadata": {},
   "outputs": [
    {
     "data": {
      "text/plain": [
       "dicot\n",
       "0    238\n",
       "1    190\n",
       "Name: count, dtype: int64"
      ]
     },
     "execution_count": 62,
     "metadata": {},
     "output_type": "execute_result"
    }
   ],
   "source": [
    "part_two['dicot'].value_counts()"
   ]
  },
  {
   "cell_type": "code",
   "execution_count": 63,
   "id": "4b5c66b8",
   "metadata": {},
   "outputs": [
    {
     "data": {
      "text/plain": [
       "Age           0\n",
       "Sex           0\n",
       "Height        0\n",
       "Weight        0\n",
       "QRS           0\n",
       "PR            0\n",
       "QT            0\n",
       "T_wave        0\n",
       "P_wave        0\n",
       "QRS_angle     0\n",
       "T_angle       0\n",
       "P_angle       0\n",
       "QRST_angle    0\n",
       "Heart_Rate    0\n",
       "arrhythmia    0\n",
       "dicot         0\n",
       "dtype: int64"
      ]
     },
     "execution_count": 63,
     "metadata": {},
     "output_type": "execute_result"
    }
   ],
   "source": [
    "part_two.isnull().sum()"
   ]
  },
  {
   "cell_type": "code",
   "execution_count": 64,
   "id": "55220641-468d-4ba9-85a8-48a61069e6dd",
   "metadata": {},
   "outputs": [
    {
     "data": {
      "text/plain": [
       "428"
      ]
     },
     "execution_count": 64,
     "metadata": {},
     "output_type": "execute_result"
    }
   ],
   "source": [
    "part_two.shape[0]"
   ]
  },
  {
   "cell_type": "code",
   "execution_count": 65,
   "id": "81765a5d-93c1-4570-ad19-a4e357776c1b",
   "metadata": {},
   "outputs": [
    {
     "data": {
      "text/html": [
       "<div>\n",
       "<style scoped>\n",
       "    .dataframe tbody tr th:only-of-type {\n",
       "        vertical-align: middle;\n",
       "    }\n",
       "\n",
       "    .dataframe tbody tr th {\n",
       "        vertical-align: top;\n",
       "    }\n",
       "\n",
       "    .dataframe thead th {\n",
       "        text-align: right;\n",
       "    }\n",
       "</style>\n",
       "<table border=\"1\" class=\"dataframe\">\n",
       "  <thead>\n",
       "    <tr style=\"text-align: right;\">\n",
       "      <th></th>\n",
       "      <th>Age</th>\n",
       "      <th>Sex</th>\n",
       "      <th>Height</th>\n",
       "      <th>Weight</th>\n",
       "      <th>QRS</th>\n",
       "      <th>PR</th>\n",
       "      <th>QT</th>\n",
       "      <th>T_wave</th>\n",
       "      <th>P_wave</th>\n",
       "      <th>QRS_angle</th>\n",
       "      <th>T_angle</th>\n",
       "      <th>P_angle</th>\n",
       "      <th>QRST_angle</th>\n",
       "      <th>Heart_Rate</th>\n",
       "      <th>arrhythmia</th>\n",
       "      <th>dicot</th>\n",
       "    </tr>\n",
       "  </thead>\n",
       "  <tbody>\n",
       "    <tr>\n",
       "      <th>63</th>\n",
       "      <td>54</td>\n",
       "      <td>1</td>\n",
       "      <td>160</td>\n",
       "      <td>63</td>\n",
       "      <td>82</td>\n",
       "      <td>158</td>\n",
       "      <td>410</td>\n",
       "      <td>141</td>\n",
       "      <td>87</td>\n",
       "      <td>25</td>\n",
       "      <td>43.626429</td>\n",
       "      <td>62.0</td>\n",
       "      <td>39.0</td>\n",
       "      <td>54.0</td>\n",
       "      <td>2</td>\n",
       "      <td>1</td>\n",
       "    </tr>\n",
       "    <tr>\n",
       "      <th>88</th>\n",
       "      <td>64</td>\n",
       "      <td>1</td>\n",
       "      <td>155</td>\n",
       "      <td>88</td>\n",
       "      <td>82</td>\n",
       "      <td>194</td>\n",
       "      <td>342</td>\n",
       "      <td>138</td>\n",
       "      <td>126</td>\n",
       "      <td>-4</td>\n",
       "      <td>21.531746</td>\n",
       "      <td>64.0</td>\n",
       "      <td>-1.0</td>\n",
       "      <td>85.0</td>\n",
       "      <td>4</td>\n",
       "      <td>1</td>\n",
       "    </tr>\n",
       "    <tr>\n",
       "      <th>190</th>\n",
       "      <td>70</td>\n",
       "      <td>1</td>\n",
       "      <td>160</td>\n",
       "      <td>90</td>\n",
       "      <td>76</td>\n",
       "      <td>187</td>\n",
       "      <td>396</td>\n",
       "      <td>155</td>\n",
       "      <td>121</td>\n",
       "      <td>-1</td>\n",
       "      <td>30.002639</td>\n",
       "      <td>30.0</td>\n",
       "      <td>2.0</td>\n",
       "      <td>89.0</td>\n",
       "      <td>2</td>\n",
       "      <td>1</td>\n",
       "    </tr>\n",
       "    <tr>\n",
       "      <th>201</th>\n",
       "      <td>63</td>\n",
       "      <td>0</td>\n",
       "      <td>174</td>\n",
       "      <td>79</td>\n",
       "      <td>91</td>\n",
       "      <td>151</td>\n",
       "      <td>410</td>\n",
       "      <td>198</td>\n",
       "      <td>86</td>\n",
       "      <td>16</td>\n",
       "      <td>44.209793</td>\n",
       "      <td>2.0</td>\n",
       "      <td>16.0</td>\n",
       "      <td>59.0</td>\n",
       "      <td>2</td>\n",
       "      <td>1</td>\n",
       "    </tr>\n",
       "    <tr>\n",
       "      <th>225</th>\n",
       "      <td>56</td>\n",
       "      <td>0</td>\n",
       "      <td>170</td>\n",
       "      <td>80</td>\n",
       "      <td>81</td>\n",
       "      <td>162</td>\n",
       "      <td>352</td>\n",
       "      <td>154</td>\n",
       "      <td>100</td>\n",
       "      <td>23</td>\n",
       "      <td>36.143012</td>\n",
       "      <td>56.0</td>\n",
       "      <td>20.0</td>\n",
       "      <td>79.0</td>\n",
       "      <td>1</td>\n",
       "      <td>0</td>\n",
       "    </tr>\n",
       "    <tr>\n",
       "      <th>337</th>\n",
       "      <td>62</td>\n",
       "      <td>1</td>\n",
       "      <td>157</td>\n",
       "      <td>65</td>\n",
       "      <td>81</td>\n",
       "      <td>174</td>\n",
       "      <td>452</td>\n",
       "      <td>160</td>\n",
       "      <td>116</td>\n",
       "      <td>53</td>\n",
       "      <td>49.668589</td>\n",
       "      <td>42.0</td>\n",
       "      <td>53.0</td>\n",
       "      <td>87.0</td>\n",
       "      <td>2</td>\n",
       "      <td>1</td>\n",
       "    </tr>\n",
       "    <tr>\n",
       "      <th>349</th>\n",
       "      <td>48</td>\n",
       "      <td>0</td>\n",
       "      <td>182</td>\n",
       "      <td>77</td>\n",
       "      <td>77</td>\n",
       "      <td>196</td>\n",
       "      <td>325</td>\n",
       "      <td>235</td>\n",
       "      <td>104</td>\n",
       "      <td>46</td>\n",
       "      <td>38.387845</td>\n",
       "      <td>56.0</td>\n",
       "      <td>44.0</td>\n",
       "      <td>89.0</td>\n",
       "      <td>2</td>\n",
       "      <td>1</td>\n",
       "    </tr>\n",
       "    <tr>\n",
       "      <th>389</th>\n",
       "      <td>41</td>\n",
       "      <td>0</td>\n",
       "      <td>170</td>\n",
       "      <td>67</td>\n",
       "      <td>96</td>\n",
       "      <td>191</td>\n",
       "      <td>368</td>\n",
       "      <td>202</td>\n",
       "      <td>108</td>\n",
       "      <td>62</td>\n",
       "      <td>49.311131</td>\n",
       "      <td>-52.0</td>\n",
       "      <td>62.0</td>\n",
       "      <td>63.0</td>\n",
       "      <td>16</td>\n",
       "      <td>1</td>\n",
       "    </tr>\n",
       "  </tbody>\n",
       "</table>\n",
       "</div>"
      ],
      "text/plain": [
       "     Age  Sex  Height  Weight  QRS   PR   QT  T_wave  P_wave  QRS_angle  \\\n",
       "63    54    1     160      63   82  158  410     141      87         25   \n",
       "88    64    1     155      88   82  194  342     138     126         -4   \n",
       "190   70    1     160      90   76  187  396     155     121         -1   \n",
       "201   63    0     174      79   91  151  410     198      86         16   \n",
       "225   56    0     170      80   81  162  352     154     100         23   \n",
       "337   62    1     157      65   81  174  452     160     116         53   \n",
       "349   48    0     182      77   77  196  325     235     104         46   \n",
       "389   41    0     170      67   96  191  368     202     108         62   \n",
       "\n",
       "       T_angle  P_angle  QRST_angle  Heart_Rate  arrhythmia  dicot  \n",
       "63   43.626429     62.0        39.0        54.0           2      1  \n",
       "88   21.531746     64.0        -1.0        85.0           4      1  \n",
       "190  30.002639     30.0         2.0        89.0           2      1  \n",
       "201  44.209793      2.0        16.0        59.0           2      1  \n",
       "225  36.143012     56.0        20.0        79.0           1      0  \n",
       "337  49.668589     42.0        53.0        87.0           2      1  \n",
       "349  38.387845     56.0        44.0        89.0           2      1  \n",
       "389  49.311131    -52.0        62.0        63.0          16      1  "
      ]
     },
     "execution_count": 65,
     "metadata": {},
     "output_type": "execute_result"
    }
   ],
   "source": [
    "missing_T"
   ]
  },
  {
   "cell_type": "code",
   "execution_count": 66,
   "id": "dc15d9e4-ad14-440a-b476-0882fae91a86",
   "metadata": {},
   "outputs": [],
   "source": [
    "########################### Q9 ###############################################################\n",
    "# The code to predict the missing values of T_angle and update them in the data frame was given to you. \n",
    "# Based on this code, which of the following statements describes how scaling was performed on the observations \n",
    "# that had missing values?\n"
   ]
  },
  {
   "cell_type": "code",
   "execution_count": 67,
   "id": "8f6e9a3e-fef6-457e-ad13-562b44d494cb",
   "metadata": {},
   "outputs": [],
   "source": [
    "# False # The values in these observations were not scaled"
   ]
  },
  {
   "cell_type": "code",
   "execution_count": 68,
   "id": "00a352ef-58ae-4d1d-baba-1c181c9dc13b",
   "metadata": {},
   "outputs": [],
   "source": [
    "# False # The values in these observations were scaled according their own mean and standard deviation \n",
    "# (i.e. means and standard deviations calculated only from the observations missing T_angle)"
   ]
  },
  {
   "cell_type": "code",
   "execution_count": 69,
   "id": "56bba26f-e38e-4e19-a7e4-c3fefcddf8c0",
   "metadata": {},
   "outputs": [],
   "source": [
    "# False # The values in these observations were scaled according to the mean and standard deviation of the \n",
    "# training data set used in k-fold validation"
   ]
  },
  {
   "cell_type": "code",
   "execution_count": 70,
   "id": "86f463fb-520c-4ead-9dad-c0fff6d32f11",
   "metadata": {},
   "outputs": [],
   "source": [
    "# True # The values in these observations were scaled according to the mean and standard deviation of the \n",
    "# full data set that had no missing values for T_angle\n",
    "\n",
    "## You scaled, fitting X, and y, which make up the full data set without missing values (part_one_new), \n",
    "# then transform the missing predictions"
   ]
  },
  {
   "cell_type": "code",
   "execution_count": null,
   "id": "0c51a29d-21ed-4663-ae15-97096b024191",
   "metadata": {},
   "outputs": [],
   "source": []
  },
  {
   "cell_type": "code",
   "execution_count": null,
   "id": "9247815d-20c8-4f3a-ae0f-842954d016d6",
   "metadata": {},
   "outputs": [],
   "source": []
  },
  {
   "cell_type": "markdown",
   "id": "44117773",
   "metadata": {},
   "source": [
    "### PCA and tSNE\n",
    "\n",
    "First, we will do PCA and tSNE just to look at the data.<br>\n",
    "\n",
    "<span style = \"color:blue;font-weight:bold;font-size:large;\">You will answer Question 10 based on this section</span>"
   ]
  },
  {
   "cell_type": "markdown",
   "id": "5fec1b33",
   "metadata": {},
   "source": [
    "<span style=\"color:red;font-size:large\">You have to fill something in in the next code cell</span>"
   ]
  },
  {
   "cell_type": "code",
   "execution_count": 71,
   "id": "396af361",
   "metadata": {},
   "outputs": [
    {
     "data": {
      "text/plain": [
       "array([0.18032807, 0.12894799, 0.11715359, 0.10749046, 0.0779777 ,\n",
       "       0.07617244, 0.06814002, 0.05443477, 0.05122788, 0.03998314,\n",
       "       0.0356733 , 0.03042657, 0.01682184, 0.01522224])"
      ]
     },
     "execution_count": 71,
     "metadata": {},
     "output_type": "execute_result"
    }
   ],
   "source": [
    "from sklearn.decomposition import PCA\n",
    "pca = PCA()\n",
    "for_pca = part_two.drop(columns = ['arrhythmia', 'dicot'])\n",
    "#do the PCA, be sure to scale the data\n",
    "ss = SS()\n",
    "\n",
    "pca_X = ss.fit_transform(for_pca)\n",
    "pca.fit(pca_X, y)\n",
    "pca.explained_variance_ratio_"
   ]
  },
  {
   "cell_type": "code",
   "execution_count": 72,
   "id": "9dd2b3fb",
   "metadata": {},
   "outputs": [
    {
     "data": {
      "image/png": "[encoded data removed]",
      "text/plain": [
       "<Figure size 640x480 with 1 Axes>"
      ]
     },
     "metadata": {},
     "output_type": "display_data"
    }
   ],
   "source": [
    "#plot PCA results\n",
    "pca_df = pd.DataFrame(pca_X[:,:2], columns  = ['PC1','PC2'])\n",
    "pca_df['target'] = part_two['dicot']\n",
    "ax = sns.scatterplot(data = pca_df, x = 'PC1', y = 'PC2', hue = 'target', palette = ['slategrey','crimson'])\n",
    "plt.legend(ax.get_legend_handles_labels()[0], ['No arrhythmia', 'Arrhythmia'])\n",
    "plt.show()"
   ]
  },
  {
   "cell_type": "markdown",
   "id": "b9aa42d5",
   "metadata": {},
   "source": [
    "<span style=\"color:red;font-size:large\">You have to fill something in in the next code cell</span>"
   ]
  },
  {
   "cell_type": "code",
   "execution_count": 73,
   "id": "dab0abd6",
   "metadata": {},
   "outputs": [
    {
     "data": {
      "text/html": [
       "<style>#sk-container-id-1 {\n",
       "  /* Definition of color scheme common for light and dark mode */\n",
       "  --sklearn-color-text: black;\n",
       "  --sklearn-color-line: gray;\n",
       "  /* Definition of color scheme for unfitted estimators */\n",
       "  --sklearn-color-unfitted-level-0: #fff5e6;\n",
       "  --sklearn-color-unfitted-level-1: #f6e4d2;\n",
       "  --sklearn-color-unfitted-level-2: #ffe0b3;\n",
       "  --sklearn-color-unfitted-level-3: chocolate;\n",
       "  /* Definition of color scheme for fitted estimators */\n",
       "  --sklearn-color-fitted-level-0: #f0f8ff;\n",
       "  --sklearn-color-fitted-level-1: #d4ebff;\n",
       "  --sklearn-color-fitted-level-2: #b3dbfd;\n",
       "  --sklearn-color-fitted-level-3: cornflowerblue;\n",
       "\n",
       "  /* Specific color for light theme */\n",
       "  --sklearn-color-text-on-default-background: var(--sg-text-color, var(--theme-code-foreground, var(--jp-content-font-color1, black)));\n",
       "  --sklearn-color-background: var(--sg-background-color, var(--theme-background, var(--jp-layout-color0, white)));\n",
       "  --sklearn-color-border-box: var(--sg-text-color, var(--theme-code-foreground, var(--jp-content-font-color1, black)));\n",
       "  --sklearn-color-icon: #696969;\n",
       "\n",
       "  @media (prefers-color-scheme: dark) {\n",
       "    /* Redefinition of color scheme for dark theme */\n",
       "    --sklearn-color-text-on-default-background: var(--sg-text-color, var(--theme-code-foreground, var(--jp-content-font-color1, white)));\n",
       "    --sklearn-color-background: var(--sg-background-color, var(--theme-background, var(--jp-layout-color0, #111)));\n",
       "    --sklearn-color-border-box: var(--sg-text-color, var(--theme-code-foreground, var(--jp-content-font-color1, white)));\n",
       "    --sklearn-color-icon: #878787;\n",
       "  }\n",
       "}\n",
       "\n",
       "#sk-container-id-1 {\n",
       "  color: var(--sklearn-color-text);\n",
       "}\n",
       "\n",
       "#sk-container-id-1 pre {\n",
       "  padding: 0;\n",
       "}\n",
       "\n",
       "#sk-container-id-1 input.sk-hidden--visually {\n",
       "  border: 0;\n",
       "  clip: rect(1px 1px 1px 1px);\n",
       "  clip: rect(1px, 1px, 1px, 1px);\n",
       "  height: 1px;\n",
       "  margin: -1px;\n",
       "  overflow: hidden;\n",
       "  padding: 0;\n",
       "  position: absolute;\n",
       "  width: 1px;\n",
       "}\n",
       "\n",
       "#sk-container-id-1 div.sk-dashed-wrapped {\n",
       "  border: 1px dashed var(--sklearn-color-line);\n",
       "  margin: 0 0.4em 0.5em 0.4em;\n",
       "  box-sizing: border-box;\n",
       "  padding-bottom: 0.4em;\n",
       "  background-color: var(--sklearn-color-background);\n",
       "}\n",
       "\n",
       "#sk-container-id-1 div.sk-container {\n",
       "  /* jupyter's `normalize.less` sets `[hidden] { display: none; }`\n",
       "     but bootstrap.min.css set `[hidden] { display: none !important; }`\n",
       "     so we also need the `!important` here to be able to override the\n",
       "     default hidden behavior on the sphinx rendered scikit-learn.org.\n",
       "     See: https://github.com/scikit-learn/scikit-learn/issues/21755 */\n",
       "  display: inline-block !important;\n",
       "  position: relative;\n",
       "}\n",
       "\n",
       "#sk-container-id-1 div.sk-text-repr-fallback {\n",
       "  display: none;\n",
       "}\n",
       "\n",
       "div.sk-parallel-item,\n",
       "div.sk-serial,\n",
       "div.sk-item {\n",
       "  /* draw centered vertical line to link estimators */\n",
       "  background-image: linear-gradient(var(--sklearn-color-text-on-default-background), var(--sklearn-color-text-on-default-background));\n",
       "  background-size: 2px 100%;\n",
       "  background-repeat: no-repeat;\n",
       "  background-position: center center;\n",
       "}\n",
       "\n",
       "/* Parallel-specific style estimator block */\n",
       "\n",
       "#sk-container-id-1 div.sk-parallel-item::after {\n",
       "  content: \"\";\n",
       "  width: 100%;\n",
       "  border-bottom: 2px solid var(--sklearn-color-text-on-default-background);\n",
       "  flex-grow: 1;\n",
       "}\n",
       "\n",
       "#sk-container-id-1 div.sk-parallel {\n",
       "  display: flex;\n",
       "  align-items: stretch;\n",
       "  justify-content: center;\n",
       "  background-color: var(--sklearn-color-background);\n",
       "  position: relative;\n",
       "}\n",
       "\n",
       "#sk-container-id-1 div.sk-parallel-item {\n",
       "  display: flex;\n",
       "  flex-direction: column;\n",
       "}\n",
       "\n",
       "#sk-container-id-1 div.sk-parallel-item:first-child::after {\n",
       "  align-self: flex-end;\n",
       "  width: 50%;\n",
       "}\n",
       "\n",
       "#sk-container-id-1 div.sk-parallel-item:last-child::after {\n",
       "  align-self: flex-start;\n",
       "  width: 50%;\n",
       "}\n",
       "\n",
       "#sk-container-id-1 div.sk-parallel-item:only-child::after {\n",
       "  width: 0;\n",
       "}\n",
       "\n",
       "/* Serial-specific style estimator block */\n",
       "\n",
       "#sk-container-id-1 div.sk-serial {\n",
       "  display: flex;\n",
       "  flex-direction: column;\n",
       "  align-items: center;\n",
       "  background-color: var(--sklearn-color-background);\n",
       "  padding-right: 1em;\n",
       "  padding-left: 1em;\n",
       "}\n",
       "\n",
       "\n",
       "/* Toggleable style: style used for estimator/Pipeline/ColumnTransformer box that is\n",
       "clickable and can be expanded/collapsed.\n",
       "- Pipeline and ColumnTransformer use this feature and define the default style\n",
       "- Estimators will overwrite some part of the style using the `sk-estimator` class\n",
       "*/\n",
       "\n",
       "/* Pipeline and ColumnTransformer style (default) */\n",
       "\n",
       "#sk-container-id-1 div.sk-toggleable {\n",
       "  /* Default theme specific background. It is overwritten whether we have a\n",
       "  specific estimator or a Pipeline/ColumnTransformer */\n",
       "  background-color: var(--sklearn-color-background);\n",
       "}\n",
       "\n",
       "/* Toggleable label */\n",
       "#sk-container-id-1 label.sk-toggleable__label {\n",
       "  cursor: pointer;\n",
       "  display: block;\n",
       "  width: 100%;\n",
       "  margin-bottom: 0;\n",
       "  padding: 0.5em;\n",
       "  box-sizing: border-box;\n",
       "  text-align: center;\n",
       "}\n",
       "\n",
       "#sk-container-id-1 label.sk-toggleable__label-arrow:before {\n",
       "  /* Arrow on the left of the label */\n",
       "  content: \"▸\";\n",
       "  float: left;\n",
       "  margin-right: 0.25em;\n",
       "  color: var(--sklearn-color-icon);\n",
       "}\n",
       "\n",
       "#sk-container-id-1 label.sk-toggleable__label-arrow:hover:before {\n",
       "  color: var(--sklearn-color-text);\n",
       "}\n",
       "\n",
       "/* Toggleable content - dropdown */\n",
       "\n",
       "#sk-container-id-1 div.sk-toggleable__content {\n",
       "  max-height: 0;\n",
       "  max-width: 0;\n",
       "  overflow: hidden;\n",
       "  text-align: left;\n",
       "  /* unfitted */\n",
       "  background-color: var(--sklearn-color-unfitted-level-0);\n",
       "}\n",
       "\n",
       "#sk-container-id-1 div.sk-toggleable__content.fitted {\n",
       "  /* fitted */\n",
       "  background-color: var(--sklearn-color-fitted-level-0);\n",
       "}\n",
       "\n",
       "#sk-container-id-1 div.sk-toggleable__content pre {\n",
       "  margin: 0.2em;\n",
       "  border-radius: 0.25em;\n",
       "  color: var(--sklearn-color-text);\n",
       "  /* unfitted */\n",
       "  background-color: var(--sklearn-color-unfitted-level-0);\n",
       "}\n",
       "\n",
       "#sk-container-id-1 div.sk-toggleable__content.fitted pre {\n",
       "  /* unfitted */\n",
       "  background-color: var(--sklearn-color-fitted-level-0);\n",
       "}\n",
       "\n",
       "#sk-container-id-1 input.sk-toggleable__control:checked~div.sk-toggleable__content {\n",
       "  /* Expand drop-down */\n",
       "  max-height: 200px;\n",
       "  max-width: 100%;\n",
       "  overflow: auto;\n",
       "}\n",
       "\n",
       "#sk-container-id-1 input.sk-toggleable__control:checked~label.sk-toggleable__label-arrow:before {\n",
       "  content: \"▾\";\n",
       "}\n",
       "\n",
       "/* Pipeline/ColumnTransformer-specific style */\n",
       "\n",
       "#sk-container-id-1 div.sk-label input.sk-toggleable__control:checked~label.sk-toggleable__label {\n",
       "  color: var(--sklearn-color-text);\n",
       "  background-color: var(--sklearn-color-unfitted-level-2);\n",
       "}\n",
       "\n",
       "#sk-container-id-1 div.sk-label.fitted input.sk-toggleable__control:checked~label.sk-toggleable__label {\n",
       "  background-color: var(--sklearn-color-fitted-level-2);\n",
       "}\n",
       "\n",
       "/* Estimator-specific style */\n",
       "\n",
       "/* Colorize estimator box */\n",
       "#sk-container-id-1 div.sk-estimator input.sk-toggleable__control:checked~label.sk-toggleable__label {\n",
       "  /* unfitted */\n",
       "  background-color: var(--sklearn-color-unfitted-level-2);\n",
       "}\n",
       "\n",
       "#sk-container-id-1 div.sk-estimator.fitted input.sk-toggleable__control:checked~label.sk-toggleable__label {\n",
       "  /* fitted */\n",
       "  background-color: var(--sklearn-color-fitted-level-2);\n",
       "}\n",
       "\n",
       "#sk-container-id-1 div.sk-label label.sk-toggleable__label,\n",
       "#sk-container-id-1 div.sk-label label {\n",
       "  /* The background is the default theme color */\n",
       "  color: var(--sklearn-color-text-on-default-background);\n",
       "}\n",
       "\n",
       "/* On hover, darken the color of the background */\n",
       "#sk-container-id-1 div.sk-label:hover label.sk-toggleable__label {\n",
       "  color: var(--sklearn-color-text);\n",
       "  background-color: var(--sklearn-color-unfitted-level-2);\n",
       "}\n",
       "\n",
       "/* Label box, darken color on hover, fitted */\n",
       "#sk-container-id-1 div.sk-label.fitted:hover label.sk-toggleable__label.fitted {\n",
       "  color: var(--sklearn-color-text);\n",
       "  background-color: var(--sklearn-color-fitted-level-2);\n",
       "}\n",
       "\n",
       "/* Estimator label */\n",
       "\n",
       "#sk-container-id-1 div.sk-label label {\n",
       "  font-family: monospace;\n",
       "  font-weight: bold;\n",
       "  display: inline-block;\n",
       "  line-height: 1.2em;\n",
       "}\n",
       "\n",
       "#sk-container-id-1 div.sk-label-container {\n",
       "  text-align: center;\n",
       "}\n",
       "\n",
       "/* Estimator-specific */\n",
       "#sk-container-id-1 div.sk-estimator {\n",
       "  font-family: monospace;\n",
       "  border: 1px dotted var(--sklearn-color-border-box);\n",
       "  border-radius: 0.25em;\n",
       "  box-sizing: border-box;\n",
       "  margin-bottom: 0.5em;\n",
       "  /* unfitted */\n",
       "  background-color: var(--sklearn-color-unfitted-level-0);\n",
       "}\n",
       "\n",
       "#sk-container-id-1 div.sk-estimator.fitted {\n",
       "  /* fitted */\n",
       "  background-color: var(--sklearn-color-fitted-level-0);\n",
       "}\n",
       "\n",
       "/* on hover */\n",
       "#sk-container-id-1 div.sk-estimator:hover {\n",
       "  /* unfitted */\n",
       "  background-color: var(--sklearn-color-unfitted-level-2);\n",
       "}\n",
       "\n",
       "#sk-container-id-1 div.sk-estimator.fitted:hover {\n",
       "  /* fitted */\n",
       "  background-color: var(--sklearn-color-fitted-level-2);\n",
       "}\n",
       "\n",
       "/* Specification for estimator info (e.g. \"i\" and \"?\") */\n",
       "\n",
       "/* Common style for \"i\" and \"?\" */\n",
       "\n",
       ".sk-estimator-doc-link,\n",
       "a:link.sk-estimator-doc-link,\n",
       "a:visited.sk-estimator-doc-link {\n",
       "  float: right;\n",
       "  font-size: smaller;\n",
       "  line-height: 1em;\n",
       "  font-family: monospace;\n",
       "  background-color: var(--sklearn-color-background);\n",
       "  border-radius: 1em;\n",
       "  height: 1em;\n",
       "  width: 1em;\n",
       "  text-decoration: none !important;\n",
       "  margin-left: 1ex;\n",
       "  /* unfitted */\n",
       "  border: var(--sklearn-color-unfitted-level-1) 1pt solid;\n",
       "  color: var(--sklearn-color-unfitted-level-1);\n",
       "}\n",
       "\n",
       ".sk-estimator-doc-link.fitted,\n",
       "a:link.sk-estimator-doc-link.fitted,\n",
       "a:visited.sk-estimator-doc-link.fitted {\n",
       "  /* fitted */\n",
       "  border: var(--sklearn-color-fitted-level-1) 1pt solid;\n",
       "  color: var(--sklearn-color-fitted-level-1);\n",
       "}\n",
       "\n",
       "/* On hover */\n",
       "div.sk-estimator:hover .sk-estimator-doc-link:hover,\n",
       ".sk-estimator-doc-link:hover,\n",
       "div.sk-label-container:hover .sk-estimator-doc-link:hover,\n",
       ".sk-estimator-doc-link:hover {\n",
       "  /* unfitted */\n",
       "  background-color: var(--sklearn-color-unfitted-level-3);\n",
       "  color: var(--sklearn-color-background);\n",
       "  text-decoration: none;\n",
       "}\n",
       "\n",
       "div.sk-estimator.fitted:hover .sk-estimator-doc-link.fitted:hover,\n",
       ".sk-estimator-doc-link.fitted:hover,\n",
       "div.sk-label-container:hover .sk-estimator-doc-link.fitted:hover,\n",
       ".sk-estimator-doc-link.fitted:hover {\n",
       "  /* fitted */\n",
       "  background-color: var(--sklearn-color-fitted-level-3);\n",
       "  color: var(--sklearn-color-background);\n",
       "  text-decoration: none;\n",
       "}\n",
       "\n",
       "/* Span, style for the box shown on hovering the info icon */\n",
       ".sk-estimator-doc-link span {\n",
       "  display: none;\n",
       "  z-index: 9999;\n",
       "  position: relative;\n",
       "  font-weight: normal;\n",
       "  right: .2ex;\n",
       "  padding: .5ex;\n",
       "  margin: .5ex;\n",
       "  width: min-content;\n",
       "  min-width: 20ex;\n",
       "  max-width: 50ex;\n",
       "  color: var(--sklearn-color-text);\n",
       "  box-shadow: 2pt 2pt 4pt #999;\n",
       "  /* unfitted */\n",
       "  background: var(--sklearn-color-unfitted-level-0);\n",
       "  border: .5pt solid var(--sklearn-color-unfitted-level-3);\n",
       "}\n",
       "\n",
       ".sk-estimator-doc-link.fitted span {\n",
       "  /* fitted */\n",
       "  background: var(--sklearn-color-fitted-level-0);\n",
       "  border: var(--sklearn-color-fitted-level-3);\n",
       "}\n",
       "\n",
       ".sk-estimator-doc-link:hover span {\n",
       "  display: block;\n",
       "}\n",
       "\n",
       "/* \"?\"-specific style due to the `<a>` HTML tag */\n",
       "\n",
       "#sk-container-id-1 a.estimator_doc_link {\n",
       "  float: right;\n",
       "  font-size: 1rem;\n",
       "  line-height: 1em;\n",
       "  font-family: monospace;\n",
       "  background-color: var(--sklearn-color-background);\n",
       "  border-radius: 1rem;\n",
       "  height: 1rem;\n",
       "  width: 1rem;\n",
       "  text-decoration: none;\n",
       "  /* unfitted */\n",
       "  color: var(--sklearn-color-unfitted-level-1);\n",
       "  border: var(--sklearn-color-unfitted-level-1) 1pt solid;\n",
       "}\n",
       "\n",
       "#sk-container-id-1 a.estimator_doc_link.fitted {\n",
       "  /* fitted */\n",
       "  border: var(--sklearn-color-fitted-level-1) 1pt solid;\n",
       "  color: var(--sklearn-color-fitted-level-1);\n",
       "}\n",
       "\n",
       "/* On hover */\n",
       "#sk-container-id-1 a.estimator_doc_link:hover {\n",
       "  /* unfitted */\n",
       "  background-color: var(--sklearn-color-unfitted-level-3);\n",
       "  color: var(--sklearn-color-background);\n",
       "  text-decoration: none;\n",
       "}\n",
       "\n",
       "#sk-container-id-1 a.estimator_doc_link.fitted:hover {\n",
       "  /* fitted */\n",
       "  background-color: var(--sklearn-color-fitted-level-3);\n",
       "}\n",
       "</style><div id=\"sk-container-id-1\" class=\"sk-top-container\"><div class=\"sk-text-repr-fallback\"><pre>TSNE(random_state=42)</pre><b>In a Jupyter environment, please rerun this cell to show the HTML representation or trust the notebook. <br />On GitHub, the HTML representation is unable to render, please try loading this page with nbviewer.org.</b></div><div class=\"sk-container\" hidden><div class=\"sk-item\"><div class=\"sk-estimator fitted sk-toggleable\"><input class=\"sk-toggleable__control sk-hidden--visually\" id=\"sk-estimator-id-1\" type=\"checkbox\" checked><label for=\"sk-estimator-id-1\" class=\"sk-toggleable__label fitted sk-toggleable__label-arrow fitted\">&nbsp;&nbsp;TSNE<a class=\"sk-estimator-doc-link fitted\" rel=\"noreferrer\" target=\"_blank\" href=\"https://scikit-learn.org/1.4/modules/generated/sklearn.manifold.TSNE.html\">?<span>Documentation for TSNE</span></a><span class=\"sk-estimator-doc-link fitted\">i<span>Fitted</span></span></label><div class=\"sk-toggleable__content fitted\"><pre>TSNE(random_state=42)</pre></div> </div></div></div></div>"
      ],
      "text/plain": [
       "TSNE(random_state=42)"
      ]
     },
     "execution_count": 73,
     "metadata": {},
     "output_type": "execute_result"
    }
   ],
   "source": [
    "from sklearn.manifold import TSNE\n",
    "#perform the tSNE with default perplexity and random_state 42\n",
    "\n",
    "tsne = TSNE(random_state = 42)\n",
    "ss = SS()\n",
    "tsne_X = ss.fit_transform(X)\n",
    "tsne.fit(X, y)"
   ]
  },
  {
   "cell_type": "code",
   "execution_count": 74,
   "id": "8a84b8ed",
   "metadata": {},
   "outputs": [
    {
     "data": {
      "image/png": "[encoded data removed]",
      "text/plain": [
       "<Figure size 640x480 with 1 Axes>"
      ]
     },
     "metadata": {},
     "output_type": "display_data"
    }
   ],
   "source": [
    "tsne_df = pd.DataFrame(tsne_X[:,:2], columns  = ['TSNE1','TSNE2'])\n",
    "tsne_df['target'] = part_two['dicot']\n",
    "ax = sns.scatterplot(data = tsne_df, x = 'TSNE1', y = 'TSNE2', hue = 'target', palette = ['slategrey','crimson'])\n",
    "plt.legend(ax.get_legend_handles_labels()[0], ['No arrhythmia', 'Arrhythmia'])\n",
    "plt.xticks([])\n",
    "plt.yticks([])\n",
    "plt.show()"
   ]
  },
  {
   "cell_type": "markdown",
   "id": "955e901a",
   "metadata": {},
   "source": [
    "## Classification\n",
    "\n",
    "We will fit a variety of classifiers on a single tts to see how they perform. For the KNN and RFC, we will optimize hyperparameters."
   ]
  },
  {
   "cell_type": "code",
   "execution_count": 75,
   "id": "0c09f792",
   "metadata": {},
   "outputs": [],
   "source": [
    "X = part_two.drop(columns = ['arrhythmia', 'dicot']).values\n",
    "X_names = part_two.drop(columns = ['arrhythmia', 'dicot']).columns\n",
    "y = part_two['dicot'].values"
   ]
  },
  {
   "cell_type": "code",
   "execution_count": 76,
   "id": "3b7b3d52-37ec-43e8-8d33-527f304ac117",
   "metadata": {},
   "outputs": [],
   "source": [
    "########################### Q10 ###############################################################"
   ]
  },
  {
   "cell_type": "code",
   "execution_count": 77,
   "id": "65ba006b-69c7-4f02-837f-86d303a8217e",
   "metadata": {},
   "outputs": [],
   "source": [
    "# Look at the plots generated by the PCA and the tSNE (and yes, this will still work even if your tSNE plot has a slightly different \n",
    "# orientation). Which statement below best describes what we see?\n",
    "\n",
    "# True # We can plot the tSNE points without shading them in and the positions of the points will not change"
   ]
  },
  {
   "cell_type": "markdown",
   "id": "1a5ed636",
   "metadata": {},
   "source": [
    "### KNN Hyperparameter Optimization"
   ]
  },
  {
   "cell_type": "markdown",
   "id": "2d9cea5c",
   "metadata": {},
   "source": [
    "<span style = \"color:blue;font-weight:bold;font-size:large;\">You will answer Question 11 based on this section</span>"
   ]
  },
  {
   "cell_type": "code",
   "execution_count": 78,
   "id": "a76855ad",
   "metadata": {},
   "outputs": [],
   "source": [
    "from sklearn.neighbors import KNeighborsClassifier as KNN\n",
    "neighbor_range = np.array(range(2,13))\n",
    "\n",
    "train=[]\n",
    "test=[]\n",
    "\n",
    "k = 50\n",
    "\n",
    "for n_neighbors in neighbor_range:\n",
    "    knn = KNN(n_neighbors=n_neighbors, weights = 'distance')\n",
    "    tr,te = do_Kfold(knn,X,y,k, SS())\n",
    "    \n",
    "    train.append(np.mean(tr))\n",
    "    test.append(np.mean(te))\n"
   ]
  },
  {
   "cell_type": "code",
   "execution_count": 79,
   "id": "b324deae",
   "metadata": {},
   "outputs": [
    {
     "data": {
      "image/png": "[encoded data removed]",
      "text/plain": [
       "<Figure size 600x600 with 1 Axes>"
      ]
     },
     "metadata": {},
     "output_type": "display_data"
    }
   ],
   "source": [
    "plt.figure(figsize=(6,6))\n",
    "plt.plot(neighbor_range, train, ':xk', label='Training')\n",
    "plt.plot(neighbor_range, test, ':xr', label='Testing')\n",
    "plt.ylabel('Mean accuracy', fontsize=14)\n",
    "plt.xlabel('$k$',fontsize=14)\n",
    "plt.xticks(neighbor_range)\n",
    "plt.legend()\n",
    "plt.show()"
   ]
  },
  {
   "cell_type": "code",
   "execution_count": 80,
   "id": "d80e9a2b",
   "metadata": {},
   "outputs": [
    {
     "name": "stdout",
     "output_type": "stream",
     "text": [
      "9\n",
      "11\n",
      "0.6788888888888889\n",
      "1.0\n"
     ]
    }
   ],
   "source": [
    "idx = np.argmax(test)\n",
    "print(idx)\n",
    "print(neighbor_range[idx])\n",
    "print(np.max(test))\n",
    "print(np.max(train))"
   ]
  },
  {
   "cell_type": "code",
   "execution_count": 81,
   "id": "59693834-52e1-444e-9679-b5921cb1db47",
   "metadata": {},
   "outputs": [],
   "source": [
    "########################### Q11 ###############################################################"
   ]
  },
  {
   "cell_type": "code",
   "execution_count": 82,
   "id": "b06eecb0-368e-45b9-ade6-c09038c15117",
   "metadata": {},
   "outputs": [],
   "source": [
    "# You have been given the code to optimize the number of neighbors for KNN. Use the code given to do this - do not change any of the \n",
    "# parameters used. Based on your understanding of this code, which of the following statements gives the correct optimized parameters? \n",
    "# You will need to use these moving forward."
   ]
  },
  {
   "cell_type": "markdown",
   "id": "f88577ad",
   "metadata": {},
   "source": [
    "### KNN vs Logistic Regression one tts"
   ]
  },
  {
   "cell_type": "markdown",
   "id": "7bd88697",
   "metadata": {},
   "source": [
    "We will now create a train test split that we will use to compare all of our classifiers. We will start by comparing KNN and Logistic Regression. <br><br>\n",
    "<span style = \"color:blue;font-weight:bold;font-size:large;\">You will answer Question 12 based on this comparison, be sure you are using the single tts created below</span>"
   ]
  },
  {
   "cell_type": "markdown",
   "id": "174f6c57",
   "metadata": {},
   "source": [
    "<span style=\"color:red;font-size:large\">You have to fill something in in the next code cell</span>"
   ]
  },
  {
   "cell_type": "code",
   "execution_count": 83,
   "id": "054056b3",
   "metadata": {},
   "outputs": [],
   "source": [
    "#one tts\n",
    "from sklearn.model_selection import train_test_split as tts\n",
    "Xtrain, Xtest, ytrain, ytest = tts(X,y,random_state = 201, shuffle = True, test_size = 0.2)\n",
    "ss = SS()\n",
    "#scale the testing and training data appropriately\n",
    "XtrainS = ss.fit_transform(Xtrain)\n",
    "XtestS = ss.transform(Xtest)"
   ]
  },
  {
   "cell_type": "markdown",
   "id": "ad3d621c",
   "metadata": {},
   "source": [
    "<span style=\"color:red;font-size:large\">You have to fill something in in the next code cell</span>"
   ]
  },
  {
   "cell_type": "code",
   "execution_count": 84,
   "id": "2027f1f9",
   "metadata": {},
   "outputs": [
    {
     "data": {
      "text/plain": [
       "1.0"
      ]
     },
     "execution_count": 84,
     "metadata": {},
     "output_type": "execute_result"
    }
   ],
   "source": [
    "#Use the number of neighbors determined above and the weighting scheme used for the optimization\n",
    "#fit the KNN classifier and score it on train\n",
    "knn = KNN(n_neighbors = 11, weights = 'distance')\n",
    "knn.fit(XtrainS, ytrain)\n",
    "knn.score(XtrainS, ytrain)"
   ]
  },
  {
   "cell_type": "code",
   "execution_count": 85,
   "id": "7562c3cd-36fb-45c0-b9f6-1b4743ac4118",
   "metadata": {},
   "outputs": [
    {
     "data": {
      "text/plain": [
       "0.6511627906976745"
      ]
     },
     "execution_count": 85,
     "metadata": {},
     "output_type": "execute_result"
    }
   ],
   "source": [
    "knn.score(XtestS, ytest)"
   ]
  },
  {
   "cell_type": "markdown",
   "id": "7af6b3b5",
   "metadata": {},
   "source": [
    "<span style=\"color:red;font-size:large\">You have to fill something in in the next code cell</span>"
   ]
  },
  {
   "cell_type": "code",
   "execution_count": 86,
   "id": "781b9d0e",
   "metadata": {},
   "outputs": [
    {
     "name": "stdout",
     "output_type": "stream",
     "text": [
      "Accuracy = 0.65\n"
     ]
    },
    {
     "data": {
      "text/plain": [
       "(Predicted   0   1\n",
       " Actual           \n",
       " 0          41   6\n",
       " 1          24  15,\n",
       " 0.6511627906976745)"
      ]
     },
     "execution_count": 86,
     "metadata": {},
     "output_type": "execute_result"
    }
   ],
   "source": [
    "#Generate a confusion matrix for the scaled test data\n",
    "compare_classes(ytest, knn.predict(XtestS))"
   ]
  },
  {
   "cell_type": "code",
   "execution_count": null,
   "id": "c028f814-6393-4950-b551-55d07176203d",
   "metadata": {},
   "outputs": [],
   "source": []
  },
  {
   "cell_type": "markdown",
   "id": "c0a641fb",
   "metadata": {},
   "source": [
    "### Logistic regression\n",
    "\n",
    "We won't tune the hyperparameter here."
   ]
  },
  {
   "cell_type": "code",
   "execution_count": 87,
   "id": "87c763fd",
   "metadata": {},
   "outputs": [],
   "source": [
    "#Let's try logistic regression\n",
    "from sklearn.linear_model import LogisticRegression as LogR"
   ]
  },
  {
   "cell_type": "markdown",
   "id": "95784150",
   "metadata": {},
   "source": [
    "<span style=\"color:red;font-size:large\">You have to fill something in in the next code cell</span>"
   ]
  },
  {
   "cell_type": "code",
   "execution_count": 88,
   "id": "ba1fd827",
   "metadata": {},
   "outputs": [
    {
     "name": "stdout",
     "output_type": "stream",
     "text": [
      "The training score is 0.695906432748538\n",
      "The testing score is 0.7093023255813954\n"
     ]
    }
   ],
   "source": [
    "#perform logistic regression on the scaled training data and score on train and test\n",
    "log_reg = LogR()\n",
    "log_reg.fit(XtrainS, ytrain)\n",
    "print(\"The training score is\", log_reg.score(XtrainS, ytrain))\n",
    "print(\"The testing score is\", log_reg.score(XtestS, ytest))"
   ]
  },
  {
   "cell_type": "markdown",
   "id": "c079518a",
   "metadata": {},
   "source": [
    "<span style=\"color:red;font-size:large\">You have to fill something in in the next code cell</span>"
   ]
  },
  {
   "cell_type": "code",
   "execution_count": 89,
   "id": "e6b57420",
   "metadata": {},
   "outputs": [
    {
     "name": "stdout",
     "output_type": "stream",
     "text": [
      "Accuracy = 0.71\n"
     ]
    },
    {
     "data": {
      "text/plain": [
       "(Predicted   0   1\n",
       " Actual           \n",
       " 0          39   8\n",
       " 1          17  22,\n",
       " 0.7093023255813954)"
      ]
     },
     "execution_count": 89,
     "metadata": {},
     "output_type": "execute_result"
    }
   ],
   "source": [
    "#Generate a confusion matrix for the scaled test data\n",
    "compare_classes(ytest, log_reg.predict(XtestS))"
   ]
  },
  {
   "cell_type": "code",
   "execution_count": 90,
   "id": "d4e78126-5ab1-432c-b717-6154e0e3269f",
   "metadata": {},
   "outputs": [],
   "source": [
    "########################### Q12 ###############################################################"
   ]
  },
  {
   "cell_type": "code",
   "execution_count": 91,
   "id": "33f8dd4f-3951-4b36-bd09-d79890a33e2f",
   "metadata": {},
   "outputs": [],
   "source": [
    "# This question refers to the classification task to classify individuals with and without arrhythmias using all predictors. \n",
    "# We are comparing KNN and Logistic Regression on a single train test split. Based on your results, which statement applies?"
   ]
  },
  {
   "cell_type": "code",
   "execution_count": 92,
   "id": "9f66167b-88d2-44b6-8110-ac532602f76d",
   "metadata": {},
   "outputs": [
    {
     "name": "stdout",
     "output_type": "stream",
     "text": [
      "The recall for class 0 for KNN is  0.8723404255319149\n",
      "The recall for class 0 for Logistic Regression is  0.8297872340425532\n"
     ]
    }
   ],
   "source": [
    "# False # The recall for class 0 (no arrhythmia) was higher for Logistic Regression than for KNN\n",
    "\n",
    "print(\"The recall for class 0 for KNN is \", (41)/(41+6))\n",
    "print(\"The recall for class 0 for Logistic Regression is \", (39)/(39+8))\n",
    "\n",
    "## Logistic regression recall is not higher as shown below"
   ]
  },
  {
   "cell_type": "code",
   "execution_count": 93,
   "id": "1e9836f5-e53d-4061-ac5b-45b706b8fb04",
   "metadata": {},
   "outputs": [],
   "source": [
    "# Logistic Regression achieved a higher score (consider out to 4 decimal places) on the testing data but not the training data\n",
    "\n",
    "# True #"
   ]
  },
  {
   "cell_type": "code",
   "execution_count": 94,
   "id": "1a65d511-1a3e-445e-82a6-6c9cc47a8d69",
   "metadata": {},
   "outputs": [],
   "source": [
    "# Based on recall, both classifiers are better at predicting class 1 than class 0 (i.e. each classifier compared to itself for both classes)\n",
    "\n",
    "# False #"
   ]
  },
  {
   "cell_type": "code",
   "execution_count": 95,
   "id": "349936e5-e4d9-415e-a9be-f4239e07bd45",
   "metadata": {},
   "outputs": [],
   "source": [
    "# If we had to pick which classifier to move forward with the same way we did in class based on this data alone, we would choose \n",
    "# the KNN classifier\n",
    "\n",
    "# False #"
   ]
  },
  {
   "cell_type": "markdown",
   "id": "592d24e3",
   "metadata": {},
   "source": [
    "### Random Forest Classifier\n",
    "\n",
    "<span style = \"color:blue;font-weight:bold;font-size:large;\">You will answer Questions 13, 14, and 15 based on this section</span>\n",
    "\n",
    "We will use the grid search to optimize a few hyperparameters for our RFC before we try it out on the train test split. We will look at a hyperparameter we haven't seen before: max_leaf_nodes - this limits the number of leaves each decision tree can have."
   ]
  },
  {
   "cell_type": "code",
   "execution_count": 96,
   "id": "84d3700d",
   "metadata": {},
   "outputs": [],
   "source": [
    "from sklearn.ensemble import RandomForestClassifier as RFC\n",
    "from sklearn.model_selection import KFold, GridSearchCV"
   ]
  },
  {
   "cell_type": "markdown",
   "id": "e930a39d",
   "metadata": {},
   "source": [
    "<span style=\"color:red;font-size:large\">You have to fill something in in the next code cell</span>"
   ]
  },
  {
   "cell_type": "code",
   "execution_count": 97,
   "id": "36cf44cb",
   "metadata": {},
   "outputs": [
    {
     "data": {
      "text/plain": [
       "0.7906976744186046"
      ]
     },
     "execution_count": 97,
     "metadata": {},
     "output_type": "execute_result"
    }
   ],
   "source": [
    "#Create a gridsearchCV to test 100,500,1000 trees and min_samples_split of 20,30,40\n",
    "param_grid = dict(n_estimators=[100,500,1000], min_samples_split = [20,30,40])\n",
    "#use 10 folds\n",
    "cv = KFold(n_splits=10, random_state=201, shuffle = True)\n",
    "grid = GridSearchCV(RFC(random_state=201), param_grid=param_grid, cv=cv, \n",
    "                    scoring='accuracy')\n",
    "#create the gridsearchCV object, score on accuracy\n",
    "#fit the gridsearch\n",
    "grid.fit(XtrainS, ytrain)\n",
    "grid.score(XtestS, ytest)"
   ]
  },
  {
   "cell_type": "markdown",
   "id": "6f1b413d",
   "metadata": {},
   "source": [
    "<span style=\"color:red;font-size:large\">You have to fill something in in the next code cell</span>"
   ]
  },
  {
   "cell_type": "code",
   "execution_count": 98,
   "id": "f6d32803",
   "metadata": {},
   "outputs": [
    {
     "name": "stdout",
     "output_type": "stream",
     "text": [
      "The best parameters are {'min_samples_split': 30, 'n_estimators': 1000} with a score of 0.75\n"
     ]
    }
   ],
   "source": [
    "#Look at the gridsearch results - be sure to look at the parameter values \n",
    "#as well as the mean test scores and their ranks\n",
    "print(f'The best parameters are {grid.best_params_} with a score of {grid.best_score_:.2f}')\n",
    "results = pd.DataFrame(grid.cv_results_)[['param_n_estimators',\n",
    "                                'param_min_samples_split','mean_test_score','rank_test_score']]"
   ]
  },
  {
   "cell_type": "code",
   "execution_count": 99,
   "id": "848cfabd-fb08-4543-879d-5adc8152a50e",
   "metadata": {},
   "outputs": [
    {
     "data": {
      "text/html": [
       "<div>\n",
       "<style scoped>\n",
       "    .dataframe tbody tr th:only-of-type {\n",
       "        vertical-align: middle;\n",
       "    }\n",
       "\n",
       "    .dataframe tbody tr th {\n",
       "        vertical-align: top;\n",
       "    }\n",
       "\n",
       "    .dataframe thead th {\n",
       "        text-align: right;\n",
       "    }\n",
       "</style>\n",
       "<table border=\"1\" class=\"dataframe\">\n",
       "  <thead>\n",
       "    <tr style=\"text-align: right;\">\n",
       "      <th></th>\n",
       "      <th>param_n_estimators</th>\n",
       "      <th>param_min_samples_split</th>\n",
       "      <th>mean_test_score</th>\n",
       "      <th>rank_test_score</th>\n",
       "    </tr>\n",
       "  </thead>\n",
       "  <tbody>\n",
       "    <tr>\n",
       "      <th>0</th>\n",
       "      <td>100</td>\n",
       "      <td>20</td>\n",
       "      <td>0.742689</td>\n",
       "      <td>8</td>\n",
       "    </tr>\n",
       "    <tr>\n",
       "      <th>1</th>\n",
       "      <td>500</td>\n",
       "      <td>20</td>\n",
       "      <td>0.751513</td>\n",
       "      <td>2</td>\n",
       "    </tr>\n",
       "    <tr>\n",
       "      <th>2</th>\n",
       "      <td>1000</td>\n",
       "      <td>20</td>\n",
       "      <td>0.751513</td>\n",
       "      <td>2</td>\n",
       "    </tr>\n",
       "    <tr>\n",
       "      <th>3</th>\n",
       "      <td>100</td>\n",
       "      <td>30</td>\n",
       "      <td>0.742773</td>\n",
       "      <td>7</td>\n",
       "    </tr>\n",
       "    <tr>\n",
       "      <th>4</th>\n",
       "      <td>500</td>\n",
       "      <td>30</td>\n",
       "      <td>0.748487</td>\n",
       "      <td>6</td>\n",
       "    </tr>\n",
       "    <tr>\n",
       "      <th>5</th>\n",
       "      <td>1000</td>\n",
       "      <td>30</td>\n",
       "      <td>0.751597</td>\n",
       "      <td>1</td>\n",
       "    </tr>\n",
       "    <tr>\n",
       "      <th>6</th>\n",
       "      <td>100</td>\n",
       "      <td>40</td>\n",
       "      <td>0.731092</td>\n",
       "      <td>9</td>\n",
       "    </tr>\n",
       "    <tr>\n",
       "      <th>7</th>\n",
       "      <td>500</td>\n",
       "      <td>40</td>\n",
       "      <td>0.748571</td>\n",
       "      <td>5</td>\n",
       "    </tr>\n",
       "    <tr>\n",
       "      <th>8</th>\n",
       "      <td>1000</td>\n",
       "      <td>40</td>\n",
       "      <td>0.748655</td>\n",
       "      <td>4</td>\n",
       "    </tr>\n",
       "  </tbody>\n",
       "</table>\n",
       "</div>"
      ],
      "text/plain": [
       "  param_n_estimators param_min_samples_split  mean_test_score  rank_test_score\n",
       "0                100                      20         0.742689                8\n",
       "1                500                      20         0.751513                2\n",
       "2               1000                      20         0.751513                2\n",
       "3                100                      30         0.742773                7\n",
       "4                500                      30         0.748487                6\n",
       "5               1000                      30         0.751597                1\n",
       "6                100                      40         0.731092                9\n",
       "7                500                      40         0.748571                5\n",
       "8               1000                      40         0.748655                4"
      ]
     },
     "execution_count": 99,
     "metadata": {},
     "output_type": "execute_result"
    }
   ],
   "source": [
    "results"
   ]
  },
  {
   "cell_type": "code",
   "execution_count": 100,
   "id": "e5a21422-b7b3-4d7f-83cb-b920e0539cdb",
   "metadata": {},
   "outputs": [
    {
     "data": {
      "text/html": [
       "<div>\n",
       "<style scoped>\n",
       "    .dataframe tbody tr th:only-of-type {\n",
       "        vertical-align: middle;\n",
       "    }\n",
       "\n",
       "    .dataframe tbody tr th {\n",
       "        vertical-align: top;\n",
       "    }\n",
       "\n",
       "    .dataframe thead th {\n",
       "        text-align: right;\n",
       "    }\n",
       "</style>\n",
       "<table border=\"1\" class=\"dataframe\">\n",
       "  <thead>\n",
       "    <tr style=\"text-align: right;\">\n",
       "      <th></th>\n",
       "      <th>param_n_estimators</th>\n",
       "      <th>param_min_samples_split</th>\n",
       "      <th>mean_test_score</th>\n",
       "      <th>rank_test_score</th>\n",
       "    </tr>\n",
       "  </thead>\n",
       "  <tbody>\n",
       "    <tr>\n",
       "      <th>5</th>\n",
       "      <td>1000</td>\n",
       "      <td>30</td>\n",
       "      <td>0.751597</td>\n",
       "      <td>1</td>\n",
       "    </tr>\n",
       "  </tbody>\n",
       "</table>\n",
       "</div>"
      ],
      "text/plain": [
       "  param_n_estimators param_min_samples_split  mean_test_score  rank_test_score\n",
       "5               1000                      30         0.751597                1"
      ]
     },
     "execution_count": 100,
     "metadata": {},
     "output_type": "execute_result"
    }
   ],
   "source": [
    "results[results['rank_test_score'] == 1]"
   ]
  },
  {
   "cell_type": "markdown",
   "id": "343f4d7e",
   "metadata": {},
   "source": [
    "Select the optimal parameters from the grid search. In the case of ties, use the value that results in a less complex classifier - for example if max_leaf_nodes were tied at 10 and 15, we would use 10 (that prunes the tree more). You should ask for help if you don't understand how the hyperparameters constrain the tree. "
   ]
  },
  {
   "cell_type": "markdown",
   "id": "3577a854",
   "metadata": {},
   "source": [
    "<span style=\"color:red;font-size:large\">You have to fill something in in the next three code cells</span>"
   ]
  },
  {
   "cell_type": "code",
   "execution_count": 101,
   "id": "2ef9aacd",
   "metadata": {},
   "outputs": [],
   "source": [
    "#create the rfc using the optimal parameters defined above and random_state 201\n",
    "rfc = RFC(min_samples_split=30, n_estimators=1000, random_state = 201)"
   ]
  },
  {
   "cell_type": "code",
   "execution_count": 102,
   "id": "d57bae88",
   "metadata": {},
   "outputs": [
    {
     "data": {
      "text/html": [
       "<style>#sk-container-id-2 {\n",
       "  /* Definition of color scheme common for light and dark mode */\n",
       "  --sklearn-color-text: black;\n",
       "  --sklearn-color-line: gray;\n",
       "  /* Definition of color scheme for unfitted estimators */\n",
       "  --sklearn-color-unfitted-level-0: #fff5e6;\n",
       "  --sklearn-color-unfitted-level-1: #f6e4d2;\n",
       "  --sklearn-color-unfitted-level-2: #ffe0b3;\n",
       "  --sklearn-color-unfitted-level-3: chocolate;\n",
       "  /* Definition of color scheme for fitted estimators */\n",
       "  --sklearn-color-fitted-level-0: #f0f8ff;\n",
       "  --sklearn-color-fitted-level-1: #d4ebff;\n",
       "  --sklearn-color-fitted-level-2: #b3dbfd;\n",
       "  --sklearn-color-fitted-level-3: cornflowerblue;\n",
       "\n",
       "  /* Specific color for light theme */\n",
       "  --sklearn-color-text-on-default-background: var(--sg-text-color, var(--theme-code-foreground, var(--jp-content-font-color1, black)));\n",
       "  --sklearn-color-background: var(--sg-background-color, var(--theme-background, var(--jp-layout-color0, white)));\n",
       "  --sklearn-color-border-box: var(--sg-text-color, var(--theme-code-foreground, var(--jp-content-font-color1, black)));\n",
       "  --sklearn-color-icon: #696969;\n",
       "\n",
       "  @media (prefers-color-scheme: dark) {\n",
       "    /* Redefinition of color scheme for dark theme */\n",
       "    --sklearn-color-text-on-default-background: var(--sg-text-color, var(--theme-code-foreground, var(--jp-content-font-color1, white)));\n",
       "    --sklearn-color-background: var(--sg-background-color, var(--theme-background, var(--jp-layout-color0, #111)));\n",
       "    --sklearn-color-border-box: var(--sg-text-color, var(--theme-code-foreground, var(--jp-content-font-color1, white)));\n",
       "    --sklearn-color-icon: #878787;\n",
       "  }\n",
       "}\n",
       "\n",
       "#sk-container-id-2 {\n",
       "  color: var(--sklearn-color-text);\n",
       "}\n",
       "\n",
       "#sk-container-id-2 pre {\n",
       "  padding: 0;\n",
       "}\n",
       "\n",
       "#sk-container-id-2 input.sk-hidden--visually {\n",
       "  border: 0;\n",
       "  clip: rect(1px 1px 1px 1px);\n",
       "  clip: rect(1px, 1px, 1px, 1px);\n",
       "  height: 1px;\n",
       "  margin: -1px;\n",
       "  overflow: hidden;\n",
       "  padding: 0;\n",
       "  position: absolute;\n",
       "  width: 1px;\n",
       "}\n",
       "\n",
       "#sk-container-id-2 div.sk-dashed-wrapped {\n",
       "  border: 1px dashed var(--sklearn-color-line);\n",
       "  margin: 0 0.4em 0.5em 0.4em;\n",
       "  box-sizing: border-box;\n",
       "  padding-bottom: 0.4em;\n",
       "  background-color: var(--sklearn-color-background);\n",
       "}\n",
       "\n",
       "#sk-container-id-2 div.sk-container {\n",
       "  /* jupyter's `normalize.less` sets `[hidden] { display: none; }`\n",
       "     but bootstrap.min.css set `[hidden] { display: none !important; }`\n",
       "     so we also need the `!important` here to be able to override the\n",
       "     default hidden behavior on the sphinx rendered scikit-learn.org.\n",
       "     See: https://github.com/scikit-learn/scikit-learn/issues/21755 */\n",
       "  display: inline-block !important;\n",
       "  position: relative;\n",
       "}\n",
       "\n",
       "#sk-container-id-2 div.sk-text-repr-fallback {\n",
       "  display: none;\n",
       "}\n",
       "\n",
       "div.sk-parallel-item,\n",
       "div.sk-serial,\n",
       "div.sk-item {\n",
       "  /* draw centered vertical line to link estimators */\n",
       "  background-image: linear-gradient(var(--sklearn-color-text-on-default-background), var(--sklearn-color-text-on-default-background));\n",
       "  background-size: 2px 100%;\n",
       "  background-repeat: no-repeat;\n",
       "  background-position: center center;\n",
       "}\n",
       "\n",
       "/* Parallel-specific style estimator block */\n",
       "\n",
       "#sk-container-id-2 div.sk-parallel-item::after {\n",
       "  content: \"\";\n",
       "  width: 100%;\n",
       "  border-bottom: 2px solid var(--sklearn-color-text-on-default-background);\n",
       "  flex-grow: 1;\n",
       "}\n",
       "\n",
       "#sk-container-id-2 div.sk-parallel {\n",
       "  display: flex;\n",
       "  align-items: stretch;\n",
       "  justify-content: center;\n",
       "  background-color: var(--sklearn-color-background);\n",
       "  position: relative;\n",
       "}\n",
       "\n",
       "#sk-container-id-2 div.sk-parallel-item {\n",
       "  display: flex;\n",
       "  flex-direction: column;\n",
       "}\n",
       "\n",
       "#sk-container-id-2 div.sk-parallel-item:first-child::after {\n",
       "  align-self: flex-end;\n",
       "  width: 50%;\n",
       "}\n",
       "\n",
       "#sk-container-id-2 div.sk-parallel-item:last-child::after {\n",
       "  align-self: flex-start;\n",
       "  width: 50%;\n",
       "}\n",
       "\n",
       "#sk-container-id-2 div.sk-parallel-item:only-child::after {\n",
       "  width: 0;\n",
       "}\n",
       "\n",
       "/* Serial-specific style estimator block */\n",
       "\n",
       "#sk-container-id-2 div.sk-serial {\n",
       "  display: flex;\n",
       "  flex-direction: column;\n",
       "  align-items: center;\n",
       "  background-color: var(--sklearn-color-background);\n",
       "  padding-right: 1em;\n",
       "  padding-left: 1em;\n",
       "}\n",
       "\n",
       "\n",
       "/* Toggleable style: style used for estimator/Pipeline/ColumnTransformer box that is\n",
       "clickable and can be expanded/collapsed.\n",
       "- Pipeline and ColumnTransformer use this feature and define the default style\n",
       "- Estimators will overwrite some part of the style using the `sk-estimator` class\n",
       "*/\n",
       "\n",
       "/* Pipeline and ColumnTransformer style (default) */\n",
       "\n",
       "#sk-container-id-2 div.sk-toggleable {\n",
       "  /* Default theme specific background. It is overwritten whether we have a\n",
       "  specific estimator or a Pipeline/ColumnTransformer */\n",
       "  background-color: var(--sklearn-color-background);\n",
       "}\n",
       "\n",
       "/* Toggleable label */\n",
       "#sk-container-id-2 label.sk-toggleable__label {\n",
       "  cursor: pointer;\n",
       "  display: block;\n",
       "  width: 100%;\n",
       "  margin-bottom: 0;\n",
       "  padding: 0.5em;\n",
       "  box-sizing: border-box;\n",
       "  text-align: center;\n",
       "}\n",
       "\n",
       "#sk-container-id-2 label.sk-toggleable__label-arrow:before {\n",
       "  /* Arrow on the left of the label */\n",
       "  content: \"▸\";\n",
       "  float: left;\n",
       "  margin-right: 0.25em;\n",
       "  color: var(--sklearn-color-icon);\n",
       "}\n",
       "\n",
       "#sk-container-id-2 label.sk-toggleable__label-arrow:hover:before {\n",
       "  color: var(--sklearn-color-text);\n",
       "}\n",
       "\n",
       "/* Toggleable content - dropdown */\n",
       "\n",
       "#sk-container-id-2 div.sk-toggleable__content {\n",
       "  max-height: 0;\n",
       "  max-width: 0;\n",
       "  overflow: hidden;\n",
       "  text-align: left;\n",
       "  /* unfitted */\n",
       "  background-color: var(--sklearn-color-unfitted-level-0);\n",
       "}\n",
       "\n",
       "#sk-container-id-2 div.sk-toggleable__content.fitted {\n",
       "  /* fitted */\n",
       "  background-color: var(--sklearn-color-fitted-level-0);\n",
       "}\n",
       "\n",
       "#sk-container-id-2 div.sk-toggleable__content pre {\n",
       "  margin: 0.2em;\n",
       "  border-radius: 0.25em;\n",
       "  color: var(--sklearn-color-text);\n",
       "  /* unfitted */\n",
       "  background-color: var(--sklearn-color-unfitted-level-0);\n",
       "}\n",
       "\n",
       "#sk-container-id-2 div.sk-toggleable__content.fitted pre {\n",
       "  /* unfitted */\n",
       "  background-color: var(--sklearn-color-fitted-level-0);\n",
       "}\n",
       "\n",
       "#sk-container-id-2 input.sk-toggleable__control:checked~div.sk-toggleable__content {\n",
       "  /* Expand drop-down */\n",
       "  max-height: 200px;\n",
       "  max-width: 100%;\n",
       "  overflow: auto;\n",
       "}\n",
       "\n",
       "#sk-container-id-2 input.sk-toggleable__control:checked~label.sk-toggleable__label-arrow:before {\n",
       "  content: \"▾\";\n",
       "}\n",
       "\n",
       "/* Pipeline/ColumnTransformer-specific style */\n",
       "\n",
       "#sk-container-id-2 div.sk-label input.sk-toggleable__control:checked~label.sk-toggleable__label {\n",
       "  color: var(--sklearn-color-text);\n",
       "  background-color: var(--sklearn-color-unfitted-level-2);\n",
       "}\n",
       "\n",
       "#sk-container-id-2 div.sk-label.fitted input.sk-toggleable__control:checked~label.sk-toggleable__label {\n",
       "  background-color: var(--sklearn-color-fitted-level-2);\n",
       "}\n",
       "\n",
       "/* Estimator-specific style */\n",
       "\n",
       "/* Colorize estimator box */\n",
       "#sk-container-id-2 div.sk-estimator input.sk-toggleable__control:checked~label.sk-toggleable__label {\n",
       "  /* unfitted */\n",
       "  background-color: var(--sklearn-color-unfitted-level-2);\n",
       "}\n",
       "\n",
       "#sk-container-id-2 div.sk-estimator.fitted input.sk-toggleable__control:checked~label.sk-toggleable__label {\n",
       "  /* fitted */\n",
       "  background-color: var(--sklearn-color-fitted-level-2);\n",
       "}\n",
       "\n",
       "#sk-container-id-2 div.sk-label label.sk-toggleable__label,\n",
       "#sk-container-id-2 div.sk-label label {\n",
       "  /* The background is the default theme color */\n",
       "  color: var(--sklearn-color-text-on-default-background);\n",
       "}\n",
       "\n",
       "/* On hover, darken the color of the background */\n",
       "#sk-container-id-2 div.sk-label:hover label.sk-toggleable__label {\n",
       "  color: var(--sklearn-color-text);\n",
       "  background-color: var(--sklearn-color-unfitted-level-2);\n",
       "}\n",
       "\n",
       "/* Label box, darken color on hover, fitted */\n",
       "#sk-container-id-2 div.sk-label.fitted:hover label.sk-toggleable__label.fitted {\n",
       "  color: var(--sklearn-color-text);\n",
       "  background-color: var(--sklearn-color-fitted-level-2);\n",
       "}\n",
       "\n",
       "/* Estimator label */\n",
       "\n",
       "#sk-container-id-2 div.sk-label label {\n",
       "  font-family: monospace;\n",
       "  font-weight: bold;\n",
       "  display: inline-block;\n",
       "  line-height: 1.2em;\n",
       "}\n",
       "\n",
       "#sk-container-id-2 div.sk-label-container {\n",
       "  text-align: center;\n",
       "}\n",
       "\n",
       "/* Estimator-specific */\n",
       "#sk-container-id-2 div.sk-estimator {\n",
       "  font-family: monospace;\n",
       "  border: 1px dotted var(--sklearn-color-border-box);\n",
       "  border-radius: 0.25em;\n",
       "  box-sizing: border-box;\n",
       "  margin-bottom: 0.5em;\n",
       "  /* unfitted */\n",
       "  background-color: var(--sklearn-color-unfitted-level-0);\n",
       "}\n",
       "\n",
       "#sk-container-id-2 div.sk-estimator.fitted {\n",
       "  /* fitted */\n",
       "  background-color: var(--sklearn-color-fitted-level-0);\n",
       "}\n",
       "\n",
       "/* on hover */\n",
       "#sk-container-id-2 div.sk-estimator:hover {\n",
       "  /* unfitted */\n",
       "  background-color: var(--sklearn-color-unfitted-level-2);\n",
       "}\n",
       "\n",
       "#sk-container-id-2 div.sk-estimator.fitted:hover {\n",
       "  /* fitted */\n",
       "  background-color: var(--sklearn-color-fitted-level-2);\n",
       "}\n",
       "\n",
       "/* Specification for estimator info (e.g. \"i\" and \"?\") */\n",
       "\n",
       "/* Common style for \"i\" and \"?\" */\n",
       "\n",
       ".sk-estimator-doc-link,\n",
       "a:link.sk-estimator-doc-link,\n",
       "a:visited.sk-estimator-doc-link {\n",
       "  float: right;\n",
       "  font-size: smaller;\n",
       "  line-height: 1em;\n",
       "  font-family: monospace;\n",
       "  background-color: var(--sklearn-color-background);\n",
       "  border-radius: 1em;\n",
       "  height: 1em;\n",
       "  width: 1em;\n",
       "  text-decoration: none !important;\n",
       "  margin-left: 1ex;\n",
       "  /* unfitted */\n",
       "  border: var(--sklearn-color-unfitted-level-1) 1pt solid;\n",
       "  color: var(--sklearn-color-unfitted-level-1);\n",
       "}\n",
       "\n",
       ".sk-estimator-doc-link.fitted,\n",
       "a:link.sk-estimator-doc-link.fitted,\n",
       "a:visited.sk-estimator-doc-link.fitted {\n",
       "  /* fitted */\n",
       "  border: var(--sklearn-color-fitted-level-1) 1pt solid;\n",
       "  color: var(--sklearn-color-fitted-level-1);\n",
       "}\n",
       "\n",
       "/* On hover */\n",
       "div.sk-estimator:hover .sk-estimator-doc-link:hover,\n",
       ".sk-estimator-doc-link:hover,\n",
       "div.sk-label-container:hover .sk-estimator-doc-link:hover,\n",
       ".sk-estimator-doc-link:hover {\n",
       "  /* unfitted */\n",
       "  background-color: var(--sklearn-color-unfitted-level-3);\n",
       "  color: var(--sklearn-color-background);\n",
       "  text-decoration: none;\n",
       "}\n",
       "\n",
       "div.sk-estimator.fitted:hover .sk-estimator-doc-link.fitted:hover,\n",
       ".sk-estimator-doc-link.fitted:hover,\n",
       "div.sk-label-container:hover .sk-estimator-doc-link.fitted:hover,\n",
       ".sk-estimator-doc-link.fitted:hover {\n",
       "  /* fitted */\n",
       "  background-color: var(--sklearn-color-fitted-level-3);\n",
       "  color: var(--sklearn-color-background);\n",
       "  text-decoration: none;\n",
       "}\n",
       "\n",
       "/* Span, style for the box shown on hovering the info icon */\n",
       ".sk-estimator-doc-link span {\n",
       "  display: none;\n",
       "  z-index: 9999;\n",
       "  position: relative;\n",
       "  font-weight: normal;\n",
       "  right: .2ex;\n",
       "  padding: .5ex;\n",
       "  margin: .5ex;\n",
       "  width: min-content;\n",
       "  min-width: 20ex;\n",
       "  max-width: 50ex;\n",
       "  color: var(--sklearn-color-text);\n",
       "  box-shadow: 2pt 2pt 4pt #999;\n",
       "  /* unfitted */\n",
       "  background: var(--sklearn-color-unfitted-level-0);\n",
       "  border: .5pt solid var(--sklearn-color-unfitted-level-3);\n",
       "}\n",
       "\n",
       ".sk-estimator-doc-link.fitted span {\n",
       "  /* fitted */\n",
       "  background: var(--sklearn-color-fitted-level-0);\n",
       "  border: var(--sklearn-color-fitted-level-3);\n",
       "}\n",
       "\n",
       ".sk-estimator-doc-link:hover span {\n",
       "  display: block;\n",
       "}\n",
       "\n",
       "/* \"?\"-specific style due to the `<a>` HTML tag */\n",
       "\n",
       "#sk-container-id-2 a.estimator_doc_link {\n",
       "  float: right;\n",
       "  font-size: 1rem;\n",
       "  line-height: 1em;\n",
       "  font-family: monospace;\n",
       "  background-color: var(--sklearn-color-background);\n",
       "  border-radius: 1rem;\n",
       "  height: 1rem;\n",
       "  width: 1rem;\n",
       "  text-decoration: none;\n",
       "  /* unfitted */\n",
       "  color: var(--sklearn-color-unfitted-level-1);\n",
       "  border: var(--sklearn-color-unfitted-level-1) 1pt solid;\n",
       "}\n",
       "\n",
       "#sk-container-id-2 a.estimator_doc_link.fitted {\n",
       "  /* fitted */\n",
       "  border: var(--sklearn-color-fitted-level-1) 1pt solid;\n",
       "  color: var(--sklearn-color-fitted-level-1);\n",
       "}\n",
       "\n",
       "/* On hover */\n",
       "#sk-container-id-2 a.estimator_doc_link:hover {\n",
       "  /* unfitted */\n",
       "  background-color: var(--sklearn-color-unfitted-level-3);\n",
       "  color: var(--sklearn-color-background);\n",
       "  text-decoration: none;\n",
       "}\n",
       "\n",
       "#sk-container-id-2 a.estimator_doc_link.fitted:hover {\n",
       "  /* fitted */\n",
       "  background-color: var(--sklearn-color-fitted-level-3);\n",
       "}\n",
       "</style><div id=\"sk-container-id-2\" class=\"sk-top-container\"><div class=\"sk-text-repr-fallback\"><pre>RandomForestClassifier(min_samples_split=30, n_estimators=1000,\n",
       "                       random_state=201)</pre><b>In a Jupyter environment, please rerun this cell to show the HTML representation or trust the notebook. <br />On GitHub, the HTML representation is unable to render, please try loading this page with nbviewer.org.</b></div><div class=\"sk-container\" hidden><div class=\"sk-item\"><div class=\"sk-estimator fitted sk-toggleable\"><input class=\"sk-toggleable__control sk-hidden--visually\" id=\"sk-estimator-id-2\" type=\"checkbox\" checked><label for=\"sk-estimator-id-2\" class=\"sk-toggleable__label fitted sk-toggleable__label-arrow fitted\">&nbsp;&nbsp;RandomForestClassifier<a class=\"sk-estimator-doc-link fitted\" rel=\"noreferrer\" target=\"_blank\" href=\"https://scikit-learn.org/1.4/modules/generated/sklearn.ensemble.RandomForestClassifier.html\">?<span>Documentation for RandomForestClassifier</span></a><span class=\"sk-estimator-doc-link fitted\">i<span>Fitted</span></span></label><div class=\"sk-toggleable__content fitted\"><pre>RandomForestClassifier(min_samples_split=30, n_estimators=1000,\n",
       "                       random_state=201)</pre></div> </div></div></div></div>"
      ],
      "text/plain": [
       "RandomForestClassifier(min_samples_split=30, n_estimators=1000,\n",
       "                       random_state=201)"
      ]
     },
     "execution_count": 102,
     "metadata": {},
     "output_type": "execute_result"
    }
   ],
   "source": [
    "#fit the rfc\n",
    "rfc.fit(XtrainS, ytrain)"
   ]
  },
  {
   "cell_type": "code",
   "execution_count": 103,
   "id": "0c4caead",
   "metadata": {},
   "outputs": [
    {
     "name": "stdout",
     "output_type": "stream",
     "text": [
      "0.8742690058479532\n",
      "0.7906976744186046\n"
     ]
    }
   ],
   "source": [
    "#score on the training and testing data from the single tts we made above\n",
    "print(rfc.score(XtrainS, ytrain))\n",
    "print(rfc.score(XtestS, ytest))"
   ]
  },
  {
   "cell_type": "code",
   "execution_count": 104,
   "id": "cc8c78dd-dae5-4b1a-bc08-ffa03c9055dc",
   "metadata": {},
   "outputs": [],
   "source": [
    "# Dont need to scale"
   ]
  },
  {
   "cell_type": "markdown",
   "id": "b0a8e0ed",
   "metadata": {},
   "source": [
    "<span style=\"color:red;font-size:large\">You have to fill something in in the next two code cells</span>"
   ]
  },
  {
   "cell_type": "code",
   "execution_count": 105,
   "id": "a48f4f12",
   "metadata": {},
   "outputs": [
    {
     "name": "stdout",
     "output_type": "stream",
     "text": [
      "Accuracy = 0.87\n"
     ]
    },
    {
     "data": {
      "text/plain": [
       "(Predicted    0    1\n",
       " Actual             \n",
       " 0          176   15\n",
       " 1           28  123,\n",
       " 0.8742690058479532)"
      ]
     },
     "execution_count": 105,
     "metadata": {},
     "output_type": "execute_result"
    }
   ],
   "source": [
    "#Generate the confusion matrix for the training data\n",
    "compare_classes(ytrain, rfc.predict(XtrainS))"
   ]
  },
  {
   "cell_type": "code",
   "execution_count": 106,
   "id": "11e401db",
   "metadata": {},
   "outputs": [
    {
     "name": "stdout",
     "output_type": "stream",
     "text": [
      "Accuracy = 0.79\n"
     ]
    },
    {
     "data": {
      "text/plain": [
       "(Predicted   0   1\n",
       " Actual           \n",
       " 0          39   8\n",
       " 1          10  29,\n",
       " 0.7906976744186046)"
      ]
     },
     "execution_count": 106,
     "metadata": {},
     "output_type": "execute_result"
    }
   ],
   "source": [
    "#Generate the confusion matrix for the test data\n",
    "compare_classes(ytest, rfc.predict(XtestS))"
   ]
  },
  {
   "cell_type": "code",
   "execution_count": 107,
   "id": "b75438af",
   "metadata": {},
   "outputs": [],
   "source": [
    "########################### Q13 ###############################################################\n",
    "\n",
    "# Use only the hyperparameters tested, and use computational complexity to break a tie for the number of trees, i.e. \n",
    "# we want less complexity and what constrains individual trees more for tree hyperparameters - pick what constrains more. \n",
    "# Use random_state 201 wherever a random state can be used.\n",
    "\n",
    "# The grid search for the optimal hyperparameters for the RFC gives the following results:\n",
    "\n",
    "\n",
    "## Simply looked at the optimal values"
   ]
  },
  {
   "cell_type": "code",
   "execution_count": 108,
   "id": "58510edd-e47f-4da8-896e-bfe4d1e72624",
   "metadata": {},
   "outputs": [],
   "source": [
    "# Number of estimators: \n",
    "\n",
    "# 1000 #\n",
    "\n",
    "## Look above"
   ]
  },
  {
   "cell_type": "code",
   "execution_count": 109,
   "id": "f5b9a768-34ad-4ae6-b6fd-41779c2f29fd",
   "metadata": {},
   "outputs": [],
   "source": [
    "# Minimum number of samples to split a node: \n",
    "                                               \n",
    "# 30 #\n",
    "\n",
    "## Look above too"
   ]
  },
  {
   "cell_type": "code",
   "execution_count": 110,
   "id": "439a35a6-f226-4aad-a0e7-b64e1256f5ed",
   "metadata": {},
   "outputs": [
    {
     "data": {
      "text/plain": [
       "0.7515966386554622"
      ]
     },
     "execution_count": 110,
     "metadata": {},
     "output_type": "execute_result"
    }
   ],
   "source": [
    "# This gives an average testing score (rounded to three decimal places) of: \n",
    "                                               \n",
    "results['mean_test_score'][5]\n",
    "\n",
    "## The mean_test_score with the rank_test_score = 1"
   ]
  },
  {
   "cell_type": "code",
   "execution_count": 111,
   "id": "3feeaf54-d1eb-480c-9693-dc4869bb03a3",
   "metadata": {},
   "outputs": [],
   "source": [
    "# There were \n",
    "\n",
    "# 1 #\n",
    "\n",
    "# sets of results with the same average testing score given above for the last answer"
   ]
  },
  {
   "cell_type": "code",
   "execution_count": null,
   "id": "643a51f4-d0fc-467a-a5d7-fb4f93e39fd1",
   "metadata": {},
   "outputs": [],
   "source": []
  },
  {
   "cell_type": "code",
   "execution_count": 112,
   "id": "a0d727c7-e153-4152-816e-e5a2bb442b6b",
   "metadata": {},
   "outputs": [],
   "source": [
    "########################### Q14 ###############################################################"
   ]
  },
  {
   "cell_type": "code",
   "execution_count": 113,
   "id": "7f5ba77d-0c27-4626-953f-9c840f8b9b64",
   "metadata": {},
   "outputs": [
    {
     "name": "stdout",
     "output_type": "stream",
     "text": [
      "The precision for class 0 for rfc is  0.7959183673469388\n"
     ]
    }
   ],
   "source": [
    "# Use the RFC with optimized parameters for this question and random state 201\n",
    "\n",
    "# For the testing data, the precision for those without arrhythmias is:\n",
    "\n",
    "print(\"The precision for class 0 for rfc is \", (39)/(39+10))\n",
    "\n"
   ]
  },
  {
   "cell_type": "code",
   "execution_count": null,
   "id": "50811487-4b90-4a5d-8e4c-53dbc59bafa0",
   "metadata": {},
   "outputs": [],
   "source": []
  },
  {
   "cell_type": "code",
   "execution_count": null,
   "id": "118f3aee-b51e-4f5b-ad60-2ee377938439",
   "metadata": {},
   "outputs": [],
   "source": []
  },
  {
   "cell_type": "code",
   "execution_count": 114,
   "id": "739e9288-f5c3-405a-875d-9773f5fbfa6a",
   "metadata": {},
   "outputs": [],
   "source": [
    "########################### Q15 ###############################################################"
   ]
  },
  {
   "cell_type": "code",
   "execution_count": 115,
   "id": "c3707715-cf36-4827-806e-a4f7370b3b7e",
   "metadata": {},
   "outputs": [],
   "source": [
    "# Based on the results from the RFC with the optimized parameters (random_state 201), we can determine the following:"
   ]
  },
  {
   "cell_type": "code",
   "execution_count": 116,
   "id": "87323d48-5e63-4ad0-8815-6c2044cfd901",
   "metadata": {},
   "outputs": [],
   "source": [
    "# True # On the training data, based on overall accuracy, the RFC performs better than our Logistic Regression but worse than our KNN\n"
   ]
  },
  {
   "cell_type": "code",
   "execution_count": 117,
   "id": "c536f8c5-39c2-442b-8be5-d918bd4e5983",
   "metadata": {},
   "outputs": [],
   "source": [
    "# True # Between the 3 classifiers we tested on the single tts, we would choose the RFC based on the way we selected models in class\n",
    "\n",
    "## Testing scores are higher for both and training is higher than log_reg. The model is also not overfit\n"
   ]
  },
  {
   "cell_type": "code",
   "execution_count": 118,
   "id": "beec92b5-42bf-4d1f-a36a-e4f0d5e7bfdc",
   "metadata": {},
   "outputs": [],
   "source": [
    "# False # The Logistic Regression has a higher testing accuracy than the RFC\n",
    "\n",
    "## Like found in the last answer above, RFC had the higher testing accuracy\n"
   ]
  },
  {
   "cell_type": "code",
   "execution_count": 119,
   "id": "40f5cd32-15d5-4f5b-ac28-7c61800de7e2",
   "metadata": {},
   "outputs": [],
   "source": [
    "# True # There are more individuals without arrhythmias in the test data for the RFC\n",
    "\n",
    "## Look at the actuals in the confusion matrix above"
   ]
  },
  {
   "cell_type": "code",
   "execution_count": 120,
   "id": "78c9f666-c922-4726-a7e8-8166b37c962c",
   "metadata": {},
   "outputs": [],
   "source": [
    "# False # The RFC has a higher training accuracy than both the KNN and the Logistic Regression\n",
    "\n",
    "## As seen above, the training score for KNN is 1.0, and that is the highest, so this is False"
   ]
  },
  {
   "cell_type": "code",
   "execution_count": null,
   "id": "9d22a1e7-1f79-4924-92e4-4219b7a19c43",
   "metadata": {},
   "outputs": [],
   "source": []
  },
  {
   "cell_type": "code",
   "execution_count": null,
   "id": "f7d678f4-4b34-429a-8d31-8c7e2fd1ef08",
   "metadata": {},
   "outputs": [],
   "source": []
  },
  {
   "cell_type": "code",
   "execution_count": null,
   "id": "69baa3e5-2ade-43e9-a20b-5ceed9421a06",
   "metadata": {},
   "outputs": [],
   "source": []
  },
  {
   "cell_type": "code",
   "execution_count": null,
   "id": "51b6b771-fab5-4b78-bbfe-432ba4795a45",
   "metadata": {},
   "outputs": [],
   "source": []
  }
 ],
 "metadata": {
  "kernelspec": {
   "display_name": "Python 3 (ipykernel)",
   "language": "python",
   "name": "python3"
  },
  "language_info": {
   "codemirror_mode": {
    "name": "ipython",
    "version": 3
   },
   "file_extension": ".py",
   "mimetype": "text/x-python",
   "name": "python",
   "nbconvert_exporter": "python",
   "pygments_lexer": "ipython3",
   "version": "3.11.6"
  }
 },
 "nbformat": 4,
 "nbformat_minor": 5
}
